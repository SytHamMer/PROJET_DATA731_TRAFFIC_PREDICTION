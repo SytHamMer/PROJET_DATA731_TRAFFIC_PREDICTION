{
 "cells": [
  {
   "cell_type": "markdown",
   "metadata": {},
   "source": [
    "# Trafic prediction"
   ]
  },
  {
   "cell_type": "markdown",
   "metadata": {},
   "source": [
    "## Let's discover data first"
   ]
  },
  {
   "cell_type": "markdown",
   "metadata": {},
   "source": [
    "imports"
   ]
  },
  {
   "cell_type": "code",
   "execution_count": 33,
   "metadata": {},
   "outputs": [],
   "source": [
    "import pandas as pd\n",
    "import plotly.express as px\n",
    "import plotly.graph_objs as go\n",
    "import numpy as np\n",
    "import tensorflow as tf\n",
    "from sklearn.preprocessing import StandardScaler\n",
    "from sklearn.preprocessing import LabelEncoder"
   ]
  },
  {
   "cell_type": "code",
   "execution_count": 34,
   "metadata": {},
   "outputs": [],
   "source": [
    "traffic_conversion_v2 = {'low':1,\n",
    "                      \"normal\":2, \n",
    "                      \"high\": 3,\n",
    "                      \"heavy\": 4}"
   ]
  },
  {
   "cell_type": "code",
   "execution_count": 35,
   "metadata": {},
   "outputs": [
    {
     "data": {
      "text/html": [
       "<div>\n",
       "<style scoped>\n",
       "    .dataframe tbody tr th:only-of-type {\n",
       "        vertical-align: middle;\n",
       "    }\n",
       "\n",
       "    .dataframe tbody tr th {\n",
       "        vertical-align: top;\n",
       "    }\n",
       "\n",
       "    .dataframe thead th {\n",
       "        text-align: right;\n",
       "    }\n",
       "</style>\n",
       "<table border=\"1\" class=\"dataframe\">\n",
       "  <thead>\n",
       "    <tr style=\"text-align: right;\">\n",
       "      <th></th>\n",
       "      <th>Time</th>\n",
       "      <th>Day of the week</th>\n",
       "      <th>Traffic Situation</th>\n",
       "    </tr>\n",
       "  </thead>\n",
       "  <tbody>\n",
       "    <tr>\n",
       "      <th>count</th>\n",
       "      <td>2976</td>\n",
       "      <td>2976</td>\n",
       "      <td>2976</td>\n",
       "    </tr>\n",
       "    <tr>\n",
       "      <th>unique</th>\n",
       "      <td>96</td>\n",
       "      <td>7</td>\n",
       "      <td>4</td>\n",
       "    </tr>\n",
       "    <tr>\n",
       "      <th>top</th>\n",
       "      <td>12:00:00 AM</td>\n",
       "      <td>Tuesday</td>\n",
       "      <td>normal</td>\n",
       "    </tr>\n",
       "    <tr>\n",
       "      <th>freq</th>\n",
       "      <td>31</td>\n",
       "      <td>480</td>\n",
       "      <td>1669</td>\n",
       "    </tr>\n",
       "  </tbody>\n",
       "</table>\n",
       "</div>"
      ],
      "text/plain": [
       "               Time Day of the week Traffic Situation\n",
       "count          2976            2976              2976\n",
       "unique           96               7                 4\n",
       "top     12:00:00 AM         Tuesday            normal\n",
       "freq             31             480              1669"
      ]
     },
     "execution_count": 35,
     "metadata": {},
     "output_type": "execute_result"
    }
   ],
   "source": [
    "df = pd.read_csv(\"sources/Traffic.csv\")\n",
    "df.describe(include='object')\n"
   ]
  },
  {
   "cell_type": "code",
   "execution_count": 36,
   "metadata": {},
   "outputs": [
    {
     "data": {
      "text/html": [
       "<div>\n",
       "<style scoped>\n",
       "    .dataframe tbody tr th:only-of-type {\n",
       "        vertical-align: middle;\n",
       "    }\n",
       "\n",
       "    .dataframe tbody tr th {\n",
       "        vertical-align: top;\n",
       "    }\n",
       "\n",
       "    .dataframe thead th {\n",
       "        text-align: right;\n",
       "    }\n",
       "</style>\n",
       "<table border=\"1\" class=\"dataframe\">\n",
       "  <thead>\n",
       "    <tr style=\"text-align: right;\">\n",
       "      <th></th>\n",
       "      <th>Time</th>\n",
       "      <th>Date</th>\n",
       "      <th>Day of the week</th>\n",
       "      <th>CarCount</th>\n",
       "      <th>BikeCount</th>\n",
       "      <th>BusCount</th>\n",
       "      <th>TruckCount</th>\n",
       "      <th>Total</th>\n",
       "      <th>Traffic Situation</th>\n",
       "    </tr>\n",
       "  </thead>\n",
       "  <tbody>\n",
       "    <tr>\n",
       "      <th>0</th>\n",
       "      <td>12:00:00 AM</td>\n",
       "      <td>10</td>\n",
       "      <td>Tuesday</td>\n",
       "      <td>31</td>\n",
       "      <td>0</td>\n",
       "      <td>4</td>\n",
       "      <td>4</td>\n",
       "      <td>39</td>\n",
       "      <td>low</td>\n",
       "    </tr>\n",
       "    <tr>\n",
       "      <th>1</th>\n",
       "      <td>12:15:00 AM</td>\n",
       "      <td>10</td>\n",
       "      <td>Tuesday</td>\n",
       "      <td>49</td>\n",
       "      <td>0</td>\n",
       "      <td>3</td>\n",
       "      <td>3</td>\n",
       "      <td>55</td>\n",
       "      <td>low</td>\n",
       "    </tr>\n",
       "    <tr>\n",
       "      <th>2</th>\n",
       "      <td>12:30:00 AM</td>\n",
       "      <td>10</td>\n",
       "      <td>Tuesday</td>\n",
       "      <td>46</td>\n",
       "      <td>0</td>\n",
       "      <td>3</td>\n",
       "      <td>6</td>\n",
       "      <td>55</td>\n",
       "      <td>low</td>\n",
       "    </tr>\n",
       "    <tr>\n",
       "      <th>3</th>\n",
       "      <td>12:45:00 AM</td>\n",
       "      <td>10</td>\n",
       "      <td>Tuesday</td>\n",
       "      <td>51</td>\n",
       "      <td>0</td>\n",
       "      <td>2</td>\n",
       "      <td>5</td>\n",
       "      <td>58</td>\n",
       "      <td>low</td>\n",
       "    </tr>\n",
       "    <tr>\n",
       "      <th>4</th>\n",
       "      <td>1:00:00 AM</td>\n",
       "      <td>10</td>\n",
       "      <td>Tuesday</td>\n",
       "      <td>57</td>\n",
       "      <td>6</td>\n",
       "      <td>15</td>\n",
       "      <td>16</td>\n",
       "      <td>94</td>\n",
       "      <td>normal</td>\n",
       "    </tr>\n",
       "  </tbody>\n",
       "</table>\n",
       "</div>"
      ],
      "text/plain": [
       "          Time  Date Day of the week  CarCount  BikeCount  BusCount  \\\n",
       "0  12:00:00 AM    10         Tuesday        31          0         4   \n",
       "1  12:15:00 AM    10         Tuesday        49          0         3   \n",
       "2  12:30:00 AM    10         Tuesday        46          0         3   \n",
       "3  12:45:00 AM    10         Tuesday        51          0         2   \n",
       "4   1:00:00 AM    10         Tuesday        57          6        15   \n",
       "\n",
       "   TruckCount  Total Traffic Situation  \n",
       "0           4     39               low  \n",
       "1           3     55               low  \n",
       "2           6     55               low  \n",
       "3           5     58               low  \n",
       "4          16     94            normal  "
      ]
     },
     "execution_count": 36,
     "metadata": {},
     "output_type": "execute_result"
    }
   ],
   "source": [
    "df.head()"
   ]
  },
  {
   "cell_type": "markdown",
   "metadata": {},
   "source": [
    "### HeatMap"
   ]
  },
  {
   "cell_type": "code",
   "execution_count": 37,
   "metadata": {},
   "outputs": [
    {
     "data": {
      "application/vnd.plotly.v1+json": {
       "config": {
        "plotlyServerURL": "https://plot.ly"
       },
       "data": [
        {
         "coloraxis": "coloraxis",
         "hovertemplate": "Day of the week: %{x}<br>Traffic Situation: %{y}<br>Count: %{z}<extra></extra>",
         "name": "0",
         "type": "heatmap",
         "x": [
          "Monday",
          "Tuesday",
          "Wednesday",
          "Thursday",
          "Friday",
          "Saturday",
          "Sunday"
         ],
         "xaxis": "x",
         "y": [
          "low",
          "normal",
          "high",
          "heavy"
         ],
         "yaxis": "y",
         "z": [
          [
           36,
           37,
           30,
           32,
           118,
           23,
           28
          ],
          [
           214,
           276,
           280,
           282,
           170,
           234,
           213
          ],
          [
           48,
           55,
           59,
           58,
           0,
           39,
           62
          ],
          [
           86,
           112,
           111,
           108,
           96,
           88,
           81
          ]
         ]
        }
       ],
       "layout": {
        "coloraxis": {
         "colorbar": {
          "title": {
           "text": "Count"
          }
         },
         "colorscale": [
          [
           0,
           "#440154"
          ],
          [
           0.1111111111111111,
           "#482878"
          ],
          [
           0.2222222222222222,
           "#3e4989"
          ],
          [
           0.3333333333333333,
           "#31688e"
          ],
          [
           0.4444444444444444,
           "#26828e"
          ],
          [
           0.5555555555555556,
           "#1f9e89"
          ],
          [
           0.6666666666666666,
           "#35b779"
          ],
          [
           0.7777777777777778,
           "#6ece58"
          ],
          [
           0.8888888888888888,
           "#b5de2b"
          ],
          [
           1,
           "#fde725"
          ]
         ]
        },
        "margin": {
         "t": 60
        },
        "template": {
         "data": {
          "bar": [
           {
            "error_x": {
             "color": "#2a3f5f"
            },
            "error_y": {
             "color": "#2a3f5f"
            },
            "marker": {
             "line": {
              "color": "#E5ECF6",
              "width": 0.5
             },
             "pattern": {
              "fillmode": "overlay",
              "size": 10,
              "solidity": 0.2
             }
            },
            "type": "bar"
           }
          ],
          "barpolar": [
           {
            "marker": {
             "line": {
              "color": "#E5ECF6",
              "width": 0.5
             },
             "pattern": {
              "fillmode": "overlay",
              "size": 10,
              "solidity": 0.2
             }
            },
            "type": "barpolar"
           }
          ],
          "carpet": [
           {
            "aaxis": {
             "endlinecolor": "#2a3f5f",
             "gridcolor": "white",
             "linecolor": "white",
             "minorgridcolor": "white",
             "startlinecolor": "#2a3f5f"
            },
            "baxis": {
             "endlinecolor": "#2a3f5f",
             "gridcolor": "white",
             "linecolor": "white",
             "minorgridcolor": "white",
             "startlinecolor": "#2a3f5f"
            },
            "type": "carpet"
           }
          ],
          "choropleth": [
           {
            "colorbar": {
             "outlinewidth": 0,
             "ticks": ""
            },
            "type": "choropleth"
           }
          ],
          "contour": [
           {
            "colorbar": {
             "outlinewidth": 0,
             "ticks": ""
            },
            "colorscale": [
             [
              0,
              "#0d0887"
             ],
             [
              0.1111111111111111,
              "#46039f"
             ],
             [
              0.2222222222222222,
              "#7201a8"
             ],
             [
              0.3333333333333333,
              "#9c179e"
             ],
             [
              0.4444444444444444,
              "#bd3786"
             ],
             [
              0.5555555555555556,
              "#d8576b"
             ],
             [
              0.6666666666666666,
              "#ed7953"
             ],
             [
              0.7777777777777778,
              "#fb9f3a"
             ],
             [
              0.8888888888888888,
              "#fdca26"
             ],
             [
              1,
              "#f0f921"
             ]
            ],
            "type": "contour"
           }
          ],
          "contourcarpet": [
           {
            "colorbar": {
             "outlinewidth": 0,
             "ticks": ""
            },
            "type": "contourcarpet"
           }
          ],
          "heatmap": [
           {
            "colorbar": {
             "outlinewidth": 0,
             "ticks": ""
            },
            "colorscale": [
             [
              0,
              "#0d0887"
             ],
             [
              0.1111111111111111,
              "#46039f"
             ],
             [
              0.2222222222222222,
              "#7201a8"
             ],
             [
              0.3333333333333333,
              "#9c179e"
             ],
             [
              0.4444444444444444,
              "#bd3786"
             ],
             [
              0.5555555555555556,
              "#d8576b"
             ],
             [
              0.6666666666666666,
              "#ed7953"
             ],
             [
              0.7777777777777778,
              "#fb9f3a"
             ],
             [
              0.8888888888888888,
              "#fdca26"
             ],
             [
              1,
              "#f0f921"
             ]
            ],
            "type": "heatmap"
           }
          ],
          "heatmapgl": [
           {
            "colorbar": {
             "outlinewidth": 0,
             "ticks": ""
            },
            "colorscale": [
             [
              0,
              "#0d0887"
             ],
             [
              0.1111111111111111,
              "#46039f"
             ],
             [
              0.2222222222222222,
              "#7201a8"
             ],
             [
              0.3333333333333333,
              "#9c179e"
             ],
             [
              0.4444444444444444,
              "#bd3786"
             ],
             [
              0.5555555555555556,
              "#d8576b"
             ],
             [
              0.6666666666666666,
              "#ed7953"
             ],
             [
              0.7777777777777778,
              "#fb9f3a"
             ],
             [
              0.8888888888888888,
              "#fdca26"
             ],
             [
              1,
              "#f0f921"
             ]
            ],
            "type": "heatmapgl"
           }
          ],
          "histogram": [
           {
            "marker": {
             "pattern": {
              "fillmode": "overlay",
              "size": 10,
              "solidity": 0.2
             }
            },
            "type": "histogram"
           }
          ],
          "histogram2d": [
           {
            "colorbar": {
             "outlinewidth": 0,
             "ticks": ""
            },
            "colorscale": [
             [
              0,
              "#0d0887"
             ],
             [
              0.1111111111111111,
              "#46039f"
             ],
             [
              0.2222222222222222,
              "#7201a8"
             ],
             [
              0.3333333333333333,
              "#9c179e"
             ],
             [
              0.4444444444444444,
              "#bd3786"
             ],
             [
              0.5555555555555556,
              "#d8576b"
             ],
             [
              0.6666666666666666,
              "#ed7953"
             ],
             [
              0.7777777777777778,
              "#fb9f3a"
             ],
             [
              0.8888888888888888,
              "#fdca26"
             ],
             [
              1,
              "#f0f921"
             ]
            ],
            "type": "histogram2d"
           }
          ],
          "histogram2dcontour": [
           {
            "colorbar": {
             "outlinewidth": 0,
             "ticks": ""
            },
            "colorscale": [
             [
              0,
              "#0d0887"
             ],
             [
              0.1111111111111111,
              "#46039f"
             ],
             [
              0.2222222222222222,
              "#7201a8"
             ],
             [
              0.3333333333333333,
              "#9c179e"
             ],
             [
              0.4444444444444444,
              "#bd3786"
             ],
             [
              0.5555555555555556,
              "#d8576b"
             ],
             [
              0.6666666666666666,
              "#ed7953"
             ],
             [
              0.7777777777777778,
              "#fb9f3a"
             ],
             [
              0.8888888888888888,
              "#fdca26"
             ],
             [
              1,
              "#f0f921"
             ]
            ],
            "type": "histogram2dcontour"
           }
          ],
          "mesh3d": [
           {
            "colorbar": {
             "outlinewidth": 0,
             "ticks": ""
            },
            "type": "mesh3d"
           }
          ],
          "parcoords": [
           {
            "line": {
             "colorbar": {
              "outlinewidth": 0,
              "ticks": ""
             }
            },
            "type": "parcoords"
           }
          ],
          "pie": [
           {
            "automargin": true,
            "type": "pie"
           }
          ],
          "scatter": [
           {
            "fillpattern": {
             "fillmode": "overlay",
             "size": 10,
             "solidity": 0.2
            },
            "type": "scatter"
           }
          ],
          "scatter3d": [
           {
            "line": {
             "colorbar": {
              "outlinewidth": 0,
              "ticks": ""
             }
            },
            "marker": {
             "colorbar": {
              "outlinewidth": 0,
              "ticks": ""
             }
            },
            "type": "scatter3d"
           }
          ],
          "scattercarpet": [
           {
            "marker": {
             "colorbar": {
              "outlinewidth": 0,
              "ticks": ""
             }
            },
            "type": "scattercarpet"
           }
          ],
          "scattergeo": [
           {
            "marker": {
             "colorbar": {
              "outlinewidth": 0,
              "ticks": ""
             }
            },
            "type": "scattergeo"
           }
          ],
          "scattergl": [
           {
            "marker": {
             "colorbar": {
              "outlinewidth": 0,
              "ticks": ""
             }
            },
            "type": "scattergl"
           }
          ],
          "scattermapbox": [
           {
            "marker": {
             "colorbar": {
              "outlinewidth": 0,
              "ticks": ""
             }
            },
            "type": "scattermapbox"
           }
          ],
          "scatterpolar": [
           {
            "marker": {
             "colorbar": {
              "outlinewidth": 0,
              "ticks": ""
             }
            },
            "type": "scatterpolar"
           }
          ],
          "scatterpolargl": [
           {
            "marker": {
             "colorbar": {
              "outlinewidth": 0,
              "ticks": ""
             }
            },
            "type": "scatterpolargl"
           }
          ],
          "scatterternary": [
           {
            "marker": {
             "colorbar": {
              "outlinewidth": 0,
              "ticks": ""
             }
            },
            "type": "scatterternary"
           }
          ],
          "surface": [
           {
            "colorbar": {
             "outlinewidth": 0,
             "ticks": ""
            },
            "colorscale": [
             [
              0,
              "#0d0887"
             ],
             [
              0.1111111111111111,
              "#46039f"
             ],
             [
              0.2222222222222222,
              "#7201a8"
             ],
             [
              0.3333333333333333,
              "#9c179e"
             ],
             [
              0.4444444444444444,
              "#bd3786"
             ],
             [
              0.5555555555555556,
              "#d8576b"
             ],
             [
              0.6666666666666666,
              "#ed7953"
             ],
             [
              0.7777777777777778,
              "#fb9f3a"
             ],
             [
              0.8888888888888888,
              "#fdca26"
             ],
             [
              1,
              "#f0f921"
             ]
            ],
            "type": "surface"
           }
          ],
          "table": [
           {
            "cells": {
             "fill": {
              "color": "#EBF0F8"
             },
             "line": {
              "color": "white"
             }
            },
            "header": {
             "fill": {
              "color": "#C8D4E3"
             },
             "line": {
              "color": "white"
             }
            },
            "type": "table"
           }
          ]
         },
         "layout": {
          "annotationdefaults": {
           "arrowcolor": "#2a3f5f",
           "arrowhead": 0,
           "arrowwidth": 1
          },
          "autotypenumbers": "strict",
          "coloraxis": {
           "colorbar": {
            "outlinewidth": 0,
            "ticks": ""
           }
          },
          "colorscale": {
           "diverging": [
            [
             0,
             "#8e0152"
            ],
            [
             0.1,
             "#c51b7d"
            ],
            [
             0.2,
             "#de77ae"
            ],
            [
             0.3,
             "#f1b6da"
            ],
            [
             0.4,
             "#fde0ef"
            ],
            [
             0.5,
             "#f7f7f7"
            ],
            [
             0.6,
             "#e6f5d0"
            ],
            [
             0.7,
             "#b8e186"
            ],
            [
             0.8,
             "#7fbc41"
            ],
            [
             0.9,
             "#4d9221"
            ],
            [
             1,
             "#276419"
            ]
           ],
           "sequential": [
            [
             0,
             "#0d0887"
            ],
            [
             0.1111111111111111,
             "#46039f"
            ],
            [
             0.2222222222222222,
             "#7201a8"
            ],
            [
             0.3333333333333333,
             "#9c179e"
            ],
            [
             0.4444444444444444,
             "#bd3786"
            ],
            [
             0.5555555555555556,
             "#d8576b"
            ],
            [
             0.6666666666666666,
             "#ed7953"
            ],
            [
             0.7777777777777778,
             "#fb9f3a"
            ],
            [
             0.8888888888888888,
             "#fdca26"
            ],
            [
             1,
             "#f0f921"
            ]
           ],
           "sequentialminus": [
            [
             0,
             "#0d0887"
            ],
            [
             0.1111111111111111,
             "#46039f"
            ],
            [
             0.2222222222222222,
             "#7201a8"
            ],
            [
             0.3333333333333333,
             "#9c179e"
            ],
            [
             0.4444444444444444,
             "#bd3786"
            ],
            [
             0.5555555555555556,
             "#d8576b"
            ],
            [
             0.6666666666666666,
             "#ed7953"
            ],
            [
             0.7777777777777778,
             "#fb9f3a"
            ],
            [
             0.8888888888888888,
             "#fdca26"
            ],
            [
             1,
             "#f0f921"
            ]
           ]
          },
          "colorway": [
           "#636efa",
           "#EF553B",
           "#00cc96",
           "#ab63fa",
           "#FFA15A",
           "#19d3f3",
           "#FF6692",
           "#B6E880",
           "#FF97FF",
           "#FECB52"
          ],
          "font": {
           "color": "#2a3f5f"
          },
          "geo": {
           "bgcolor": "white",
           "lakecolor": "white",
           "landcolor": "#E5ECF6",
           "showlakes": true,
           "showland": true,
           "subunitcolor": "white"
          },
          "hoverlabel": {
           "align": "left"
          },
          "hovermode": "closest",
          "mapbox": {
           "style": "light"
          },
          "paper_bgcolor": "white",
          "plot_bgcolor": "#E5ECF6",
          "polar": {
           "angularaxis": {
            "gridcolor": "white",
            "linecolor": "white",
            "ticks": ""
           },
           "bgcolor": "#E5ECF6",
           "radialaxis": {
            "gridcolor": "white",
            "linecolor": "white",
            "ticks": ""
           }
          },
          "scene": {
           "xaxis": {
            "backgroundcolor": "#E5ECF6",
            "gridcolor": "white",
            "gridwidth": 2,
            "linecolor": "white",
            "showbackground": true,
            "ticks": "",
            "zerolinecolor": "white"
           },
           "yaxis": {
            "backgroundcolor": "#E5ECF6",
            "gridcolor": "white",
            "gridwidth": 2,
            "linecolor": "white",
            "showbackground": true,
            "ticks": "",
            "zerolinecolor": "white"
           },
           "zaxis": {
            "backgroundcolor": "#E5ECF6",
            "gridcolor": "white",
            "gridwidth": 2,
            "linecolor": "white",
            "showbackground": true,
            "ticks": "",
            "zerolinecolor": "white"
           }
          },
          "shapedefaults": {
           "line": {
            "color": "#2a3f5f"
           }
          },
          "ternary": {
           "aaxis": {
            "gridcolor": "white",
            "linecolor": "white",
            "ticks": ""
           },
           "baxis": {
            "gridcolor": "white",
            "linecolor": "white",
            "ticks": ""
           },
           "bgcolor": "#E5ECF6",
           "caxis": {
            "gridcolor": "white",
            "linecolor": "white",
            "ticks": ""
           }
          },
          "title": {
           "x": 0.05
          },
          "xaxis": {
           "automargin": true,
           "gridcolor": "white",
           "linecolor": "white",
           "ticks": "",
           "title": {
            "standoff": 15
           },
           "zerolinecolor": "white",
           "zerolinewidth": 2
          },
          "yaxis": {
           "automargin": true,
           "gridcolor": "white",
           "linecolor": "white",
           "ticks": "",
           "title": {
            "standoff": 15
           },
           "zerolinecolor": "white",
           "zerolinewidth": 2
          }
         }
        },
        "xaxis": {
         "anchor": "y",
         "constrain": "domain",
         "domain": [
          0,
          1
         ],
         "scaleanchor": "y",
         "title": {
          "text": "Day of the week"
         }
        },
        "yaxis": {
         "anchor": "x",
         "autorange": "reversed",
         "constrain": "domain",
         "domain": [
          0,
          1
         ],
         "title": {
          "text": "Traffic Situation"
         }
        }
       }
      }
     },
     "metadata": {},
     "output_type": "display_data"
    }
   ],
   "source": [
    "\n",
    "traffic_order = ['low', 'normal',\"high\",\"heavy\"]  \n",
    "day_order = [\"Monday\",\"Tuesday\",\"Wednesday\",\"Thursday\",\"Friday\",\"Saturday\",\"Sunday\"]\n",
    "heatmap_df = df.copy()\n",
    "\n",
    "heatmap_df['Day of the week'] = pd.Categorical(heatmap_df['Day of the week'], categories=day_order, ordered=True)\n",
    "heatmap_df['Traffic Situation'] = pd.Categorical(heatmap_df['Traffic Situation'], categories=traffic_order, ordered=True)\n",
    "heatmap_df = heatmap_df.sort_values(['Day of the week', 'Traffic Situation'])\n",
    "\n",
    "grouped = heatmap_df.groupby(['Traffic Situation', 'Day of the week']).size().unstack(fill_value=0)\n",
    "\n",
    "fig = px.imshow(grouped,\n",
    "                labels=dict(x=\"Day of the week\", y=\"Traffic Situation\", color=\"Count\"),\n",
    "                x=grouped.columns,\n",
    "                y=grouped.index,\n",
    "                color_continuous_scale='Viridis')\n",
    "\n",
    "fig.show()"
   ]
  },
  {
   "cell_type": "markdown",
   "metadata": {},
   "source": [
    "### Time evolution "
   ]
  },
  {
   "cell_type": "markdown",
   "metadata": {},
   "source": [
    "#### Month scope"
   ]
  },
  {
   "cell_type": "code",
   "execution_count": 38,
   "metadata": {},
   "outputs": [
    {
     "data": {
      "application/vnd.plotly.v1+json": {
       "config": {
        "plotlyServerURL": "https://plot.ly"
       },
       "data": [
        {
         "alignmentgroup": "True",
         "hovertemplate": "Date=%{x}<br>Traffic Situation=%{y}<extra></extra>",
         "legendgroup": "",
         "marker": {
          "color": "#636efa",
          "pattern": {
           "shape": ""
          }
         },
         "name": "",
         "offsetgroup": "",
         "orientation": "v",
         "showlegend": false,
         "textposition": "auto",
         "type": "bar",
         "x": [
          1,
          2,
          3,
          4,
          5,
          6,
          7,
          8,
          9,
          10,
          11,
          12,
          13,
          14,
          15,
          16,
          17,
          18,
          19,
          20,
          21,
          22,
          23,
          24,
          25,
          26,
          27,
          28,
          29,
          30,
          31
         ],
         "xaxis": "x",
         "y": [
          2.5625,
          2.4375,
          2.1979166666666665,
          2.59375,
          2.5625,
          2.53125,
          2.5729166666666665,
          2.5208333333333335,
          2.53125,
          2.40625,
          2.5104166666666665,
          2.5104166666666665,
          2.15625,
          2.3958333333333335,
          2.4895833333333335,
          2.4375,
          2.5416666666666665,
          2.5833333333333335,
          2.4791666666666665,
          2.1875,
          2.4479166666666665,
          2.53125,
          2.4479166666666665,
          2.53125,
          2.4375,
          2.5625,
          2.2291666666666665,
          2.4791666666666665,
          2.5416666666666665,
          2.5,
          2.46875
         ],
         "yaxis": "y"
        }
       ],
       "layout": {
        "barmode": "relative",
        "legend": {
         "tracegroupgap": 0
        },
        "template": {
         "data": {
          "bar": [
           {
            "error_x": {
             "color": "#2a3f5f"
            },
            "error_y": {
             "color": "#2a3f5f"
            },
            "marker": {
             "line": {
              "color": "#E5ECF6",
              "width": 0.5
             },
             "pattern": {
              "fillmode": "overlay",
              "size": 10,
              "solidity": 0.2
             }
            },
            "type": "bar"
           }
          ],
          "barpolar": [
           {
            "marker": {
             "line": {
              "color": "#E5ECF6",
              "width": 0.5
             },
             "pattern": {
              "fillmode": "overlay",
              "size": 10,
              "solidity": 0.2
             }
            },
            "type": "barpolar"
           }
          ],
          "carpet": [
           {
            "aaxis": {
             "endlinecolor": "#2a3f5f",
             "gridcolor": "white",
             "linecolor": "white",
             "minorgridcolor": "white",
             "startlinecolor": "#2a3f5f"
            },
            "baxis": {
             "endlinecolor": "#2a3f5f",
             "gridcolor": "white",
             "linecolor": "white",
             "minorgridcolor": "white",
             "startlinecolor": "#2a3f5f"
            },
            "type": "carpet"
           }
          ],
          "choropleth": [
           {
            "colorbar": {
             "outlinewidth": 0,
             "ticks": ""
            },
            "type": "choropleth"
           }
          ],
          "contour": [
           {
            "colorbar": {
             "outlinewidth": 0,
             "ticks": ""
            },
            "colorscale": [
             [
              0,
              "#0d0887"
             ],
             [
              0.1111111111111111,
              "#46039f"
             ],
             [
              0.2222222222222222,
              "#7201a8"
             ],
             [
              0.3333333333333333,
              "#9c179e"
             ],
             [
              0.4444444444444444,
              "#bd3786"
             ],
             [
              0.5555555555555556,
              "#d8576b"
             ],
             [
              0.6666666666666666,
              "#ed7953"
             ],
             [
              0.7777777777777778,
              "#fb9f3a"
             ],
             [
              0.8888888888888888,
              "#fdca26"
             ],
             [
              1,
              "#f0f921"
             ]
            ],
            "type": "contour"
           }
          ],
          "contourcarpet": [
           {
            "colorbar": {
             "outlinewidth": 0,
             "ticks": ""
            },
            "type": "contourcarpet"
           }
          ],
          "heatmap": [
           {
            "colorbar": {
             "outlinewidth": 0,
             "ticks": ""
            },
            "colorscale": [
             [
              0,
              "#0d0887"
             ],
             [
              0.1111111111111111,
              "#46039f"
             ],
             [
              0.2222222222222222,
              "#7201a8"
             ],
             [
              0.3333333333333333,
              "#9c179e"
             ],
             [
              0.4444444444444444,
              "#bd3786"
             ],
             [
              0.5555555555555556,
              "#d8576b"
             ],
             [
              0.6666666666666666,
              "#ed7953"
             ],
             [
              0.7777777777777778,
              "#fb9f3a"
             ],
             [
              0.8888888888888888,
              "#fdca26"
             ],
             [
              1,
              "#f0f921"
             ]
            ],
            "type": "heatmap"
           }
          ],
          "heatmapgl": [
           {
            "colorbar": {
             "outlinewidth": 0,
             "ticks": ""
            },
            "colorscale": [
             [
              0,
              "#0d0887"
             ],
             [
              0.1111111111111111,
              "#46039f"
             ],
             [
              0.2222222222222222,
              "#7201a8"
             ],
             [
              0.3333333333333333,
              "#9c179e"
             ],
             [
              0.4444444444444444,
              "#bd3786"
             ],
             [
              0.5555555555555556,
              "#d8576b"
             ],
             [
              0.6666666666666666,
              "#ed7953"
             ],
             [
              0.7777777777777778,
              "#fb9f3a"
             ],
             [
              0.8888888888888888,
              "#fdca26"
             ],
             [
              1,
              "#f0f921"
             ]
            ],
            "type": "heatmapgl"
           }
          ],
          "histogram": [
           {
            "marker": {
             "pattern": {
              "fillmode": "overlay",
              "size": 10,
              "solidity": 0.2
             }
            },
            "type": "histogram"
           }
          ],
          "histogram2d": [
           {
            "colorbar": {
             "outlinewidth": 0,
             "ticks": ""
            },
            "colorscale": [
             [
              0,
              "#0d0887"
             ],
             [
              0.1111111111111111,
              "#46039f"
             ],
             [
              0.2222222222222222,
              "#7201a8"
             ],
             [
              0.3333333333333333,
              "#9c179e"
             ],
             [
              0.4444444444444444,
              "#bd3786"
             ],
             [
              0.5555555555555556,
              "#d8576b"
             ],
             [
              0.6666666666666666,
              "#ed7953"
             ],
             [
              0.7777777777777778,
              "#fb9f3a"
             ],
             [
              0.8888888888888888,
              "#fdca26"
             ],
             [
              1,
              "#f0f921"
             ]
            ],
            "type": "histogram2d"
           }
          ],
          "histogram2dcontour": [
           {
            "colorbar": {
             "outlinewidth": 0,
             "ticks": ""
            },
            "colorscale": [
             [
              0,
              "#0d0887"
             ],
             [
              0.1111111111111111,
              "#46039f"
             ],
             [
              0.2222222222222222,
              "#7201a8"
             ],
             [
              0.3333333333333333,
              "#9c179e"
             ],
             [
              0.4444444444444444,
              "#bd3786"
             ],
             [
              0.5555555555555556,
              "#d8576b"
             ],
             [
              0.6666666666666666,
              "#ed7953"
             ],
             [
              0.7777777777777778,
              "#fb9f3a"
             ],
             [
              0.8888888888888888,
              "#fdca26"
             ],
             [
              1,
              "#f0f921"
             ]
            ],
            "type": "histogram2dcontour"
           }
          ],
          "mesh3d": [
           {
            "colorbar": {
             "outlinewidth": 0,
             "ticks": ""
            },
            "type": "mesh3d"
           }
          ],
          "parcoords": [
           {
            "line": {
             "colorbar": {
              "outlinewidth": 0,
              "ticks": ""
             }
            },
            "type": "parcoords"
           }
          ],
          "pie": [
           {
            "automargin": true,
            "type": "pie"
           }
          ],
          "scatter": [
           {
            "fillpattern": {
             "fillmode": "overlay",
             "size": 10,
             "solidity": 0.2
            },
            "type": "scatter"
           }
          ],
          "scatter3d": [
           {
            "line": {
             "colorbar": {
              "outlinewidth": 0,
              "ticks": ""
             }
            },
            "marker": {
             "colorbar": {
              "outlinewidth": 0,
              "ticks": ""
             }
            },
            "type": "scatter3d"
           }
          ],
          "scattercarpet": [
           {
            "marker": {
             "colorbar": {
              "outlinewidth": 0,
              "ticks": ""
             }
            },
            "type": "scattercarpet"
           }
          ],
          "scattergeo": [
           {
            "marker": {
             "colorbar": {
              "outlinewidth": 0,
              "ticks": ""
             }
            },
            "type": "scattergeo"
           }
          ],
          "scattergl": [
           {
            "marker": {
             "colorbar": {
              "outlinewidth": 0,
              "ticks": ""
             }
            },
            "type": "scattergl"
           }
          ],
          "scattermapbox": [
           {
            "marker": {
             "colorbar": {
              "outlinewidth": 0,
              "ticks": ""
             }
            },
            "type": "scattermapbox"
           }
          ],
          "scatterpolar": [
           {
            "marker": {
             "colorbar": {
              "outlinewidth": 0,
              "ticks": ""
             }
            },
            "type": "scatterpolar"
           }
          ],
          "scatterpolargl": [
           {
            "marker": {
             "colorbar": {
              "outlinewidth": 0,
              "ticks": ""
             }
            },
            "type": "scatterpolargl"
           }
          ],
          "scatterternary": [
           {
            "marker": {
             "colorbar": {
              "outlinewidth": 0,
              "ticks": ""
             }
            },
            "type": "scatterternary"
           }
          ],
          "surface": [
           {
            "colorbar": {
             "outlinewidth": 0,
             "ticks": ""
            },
            "colorscale": [
             [
              0,
              "#0d0887"
             ],
             [
              0.1111111111111111,
              "#46039f"
             ],
             [
              0.2222222222222222,
              "#7201a8"
             ],
             [
              0.3333333333333333,
              "#9c179e"
             ],
             [
              0.4444444444444444,
              "#bd3786"
             ],
             [
              0.5555555555555556,
              "#d8576b"
             ],
             [
              0.6666666666666666,
              "#ed7953"
             ],
             [
              0.7777777777777778,
              "#fb9f3a"
             ],
             [
              0.8888888888888888,
              "#fdca26"
             ],
             [
              1,
              "#f0f921"
             ]
            ],
            "type": "surface"
           }
          ],
          "table": [
           {
            "cells": {
             "fill": {
              "color": "#EBF0F8"
             },
             "line": {
              "color": "white"
             }
            },
            "header": {
             "fill": {
              "color": "#C8D4E3"
             },
             "line": {
              "color": "white"
             }
            },
            "type": "table"
           }
          ]
         },
         "layout": {
          "annotationdefaults": {
           "arrowcolor": "#2a3f5f",
           "arrowhead": 0,
           "arrowwidth": 1
          },
          "autotypenumbers": "strict",
          "coloraxis": {
           "colorbar": {
            "outlinewidth": 0,
            "ticks": ""
           }
          },
          "colorscale": {
           "diverging": [
            [
             0,
             "#8e0152"
            ],
            [
             0.1,
             "#c51b7d"
            ],
            [
             0.2,
             "#de77ae"
            ],
            [
             0.3,
             "#f1b6da"
            ],
            [
             0.4,
             "#fde0ef"
            ],
            [
             0.5,
             "#f7f7f7"
            ],
            [
             0.6,
             "#e6f5d0"
            ],
            [
             0.7,
             "#b8e186"
            ],
            [
             0.8,
             "#7fbc41"
            ],
            [
             0.9,
             "#4d9221"
            ],
            [
             1,
             "#276419"
            ]
           ],
           "sequential": [
            [
             0,
             "#0d0887"
            ],
            [
             0.1111111111111111,
             "#46039f"
            ],
            [
             0.2222222222222222,
             "#7201a8"
            ],
            [
             0.3333333333333333,
             "#9c179e"
            ],
            [
             0.4444444444444444,
             "#bd3786"
            ],
            [
             0.5555555555555556,
             "#d8576b"
            ],
            [
             0.6666666666666666,
             "#ed7953"
            ],
            [
             0.7777777777777778,
             "#fb9f3a"
            ],
            [
             0.8888888888888888,
             "#fdca26"
            ],
            [
             1,
             "#f0f921"
            ]
           ],
           "sequentialminus": [
            [
             0,
             "#0d0887"
            ],
            [
             0.1111111111111111,
             "#46039f"
            ],
            [
             0.2222222222222222,
             "#7201a8"
            ],
            [
             0.3333333333333333,
             "#9c179e"
            ],
            [
             0.4444444444444444,
             "#bd3786"
            ],
            [
             0.5555555555555556,
             "#d8576b"
            ],
            [
             0.6666666666666666,
             "#ed7953"
            ],
            [
             0.7777777777777778,
             "#fb9f3a"
            ],
            [
             0.8888888888888888,
             "#fdca26"
            ],
            [
             1,
             "#f0f921"
            ]
           ]
          },
          "colorway": [
           "#636efa",
           "#EF553B",
           "#00cc96",
           "#ab63fa",
           "#FFA15A",
           "#19d3f3",
           "#FF6692",
           "#B6E880",
           "#FF97FF",
           "#FECB52"
          ],
          "font": {
           "color": "#2a3f5f"
          },
          "geo": {
           "bgcolor": "white",
           "lakecolor": "white",
           "landcolor": "#E5ECF6",
           "showlakes": true,
           "showland": true,
           "subunitcolor": "white"
          },
          "hoverlabel": {
           "align": "left"
          },
          "hovermode": "closest",
          "mapbox": {
           "style": "light"
          },
          "paper_bgcolor": "white",
          "plot_bgcolor": "#E5ECF6",
          "polar": {
           "angularaxis": {
            "gridcolor": "white",
            "linecolor": "white",
            "ticks": ""
           },
           "bgcolor": "#E5ECF6",
           "radialaxis": {
            "gridcolor": "white",
            "linecolor": "white",
            "ticks": ""
           }
          },
          "scene": {
           "xaxis": {
            "backgroundcolor": "#E5ECF6",
            "gridcolor": "white",
            "gridwidth": 2,
            "linecolor": "white",
            "showbackground": true,
            "ticks": "",
            "zerolinecolor": "white"
           },
           "yaxis": {
            "backgroundcolor": "#E5ECF6",
            "gridcolor": "white",
            "gridwidth": 2,
            "linecolor": "white",
            "showbackground": true,
            "ticks": "",
            "zerolinecolor": "white"
           },
           "zaxis": {
            "backgroundcolor": "#E5ECF6",
            "gridcolor": "white",
            "gridwidth": 2,
            "linecolor": "white",
            "showbackground": true,
            "ticks": "",
            "zerolinecolor": "white"
           }
          },
          "shapedefaults": {
           "line": {
            "color": "#2a3f5f"
           }
          },
          "ternary": {
           "aaxis": {
            "gridcolor": "white",
            "linecolor": "white",
            "ticks": ""
           },
           "baxis": {
            "gridcolor": "white",
            "linecolor": "white",
            "ticks": ""
           },
           "bgcolor": "#E5ECF6",
           "caxis": {
            "gridcolor": "white",
            "linecolor": "white",
            "ticks": ""
           }
          },
          "title": {
           "x": 0.05
          },
          "xaxis": {
           "automargin": true,
           "gridcolor": "white",
           "linecolor": "white",
           "ticks": "",
           "title": {
            "standoff": 15
           },
           "zerolinecolor": "white",
           "zerolinewidth": 2
          },
          "yaxis": {
           "automargin": true,
           "gridcolor": "white",
           "linecolor": "white",
           "ticks": "",
           "title": {
            "standoff": 15
           },
           "zerolinecolor": "white",
           "zerolinewidth": 2
          }
         }
        },
        "title": {
         "text": "Average traffic daily"
        },
        "xaxis": {
         "anchor": "y",
         "domain": [
          0,
          1
         ],
         "title": {
          "text": "Date"
         }
        },
        "yaxis": {
         "anchor": "x",
         "domain": [
          0,
          1
         ],
         "title": {
          "text": "Traffic Situation"
         }
        }
       }
      }
     },
     "metadata": {},
     "output_type": "display_data"
    }
   ],
   "source": [
    "month_df_v2 = df.copy()\n",
    "\n",
    "month_df_v2['Traffic Situation'] = month_df_v2['Traffic Situation'].map(traffic_conversion_v2)\n",
    "\n",
    "month_df_v2['Traffic Situation'] = pd.to_numeric(month_df_v2['Traffic Situation'], errors='coerce')\n",
    "\n",
    "month_df_v2['Time'] = pd.to_datetime(month_df_v2['Time'])\n",
    "\n",
    "month_grouped_v2 = month_df_v2.groupby('Date')['Traffic Situation'].mean().reset_index()\n",
    "\n",
    "fig2 = px.bar(month_grouped_v2, x='Date', y='Traffic Situation', title='Average traffic daily')\n",
    "fig2.show()"
   ]
  },
  {
   "cell_type": "markdown",
   "metadata": {},
   "source": [
    "#### Average traffic by hour"
   ]
  },
  {
   "cell_type": "code",
   "execution_count": 39,
   "metadata": {},
   "outputs": [
    {
     "data": {
      "application/vnd.plotly.v1+json": {
       "config": {
        "plotlyServerURL": "https://plot.ly"
       },
       "data": [
        {
         "alignmentgroup": "True",
         "hovertemplate": "Time=%{x}<br>Traffic Situation=%{y}<extra></extra>",
         "legendgroup": "",
         "marker": {
          "color": "#636efa",
          "pattern": {
           "shape": ""
          }
         },
         "name": "",
         "offsetgroup": "",
         "orientation": "v",
         "showlegend": false,
         "textposition": "auto",
         "type": "bar",
         "x": [
          "2024-01-15T00:00:00",
          "2024-01-15T00:15:00",
          "2024-01-15T00:30:00",
          "2024-01-15T00:45:00",
          "2024-01-15T01:00:00",
          "2024-01-15T01:15:00",
          "2024-01-15T01:30:00",
          "2024-01-15T01:45:00",
          "2024-01-15T02:00:00",
          "2024-01-15T02:15:00",
          "2024-01-15T02:30:00",
          "2024-01-15T02:45:00",
          "2024-01-15T03:00:00",
          "2024-01-15T03:15:00",
          "2024-01-15T03:30:00",
          "2024-01-15T03:45:00",
          "2024-01-15T04:00:00",
          "2024-01-15T04:15:00",
          "2024-01-15T04:30:00",
          "2024-01-15T04:45:00",
          "2024-01-15T05:00:00",
          "2024-01-15T05:15:00",
          "2024-01-15T05:30:00",
          "2024-01-15T05:45:00",
          "2024-01-15T06:00:00",
          "2024-01-15T06:15:00",
          "2024-01-15T06:30:00",
          "2024-01-15T06:45:00",
          "2024-01-15T07:00:00",
          "2024-01-15T07:15:00",
          "2024-01-15T07:30:00",
          "2024-01-15T07:45:00",
          "2024-01-15T08:00:00",
          "2024-01-15T08:15:00",
          "2024-01-15T08:30:00",
          "2024-01-15T08:45:00",
          "2024-01-15T09:00:00",
          "2024-01-15T09:15:00",
          "2024-01-15T09:30:00",
          "2024-01-15T09:45:00",
          "2024-01-15T10:00:00",
          "2024-01-15T10:15:00",
          "2024-01-15T10:30:00",
          "2024-01-15T10:45:00",
          "2024-01-15T11:00:00",
          "2024-01-15T11:15:00",
          "2024-01-15T11:30:00",
          "2024-01-15T11:45:00",
          "2024-01-15T12:00:00",
          "2024-01-15T12:15:00",
          "2024-01-15T12:30:00",
          "2024-01-15T12:45:00",
          "2024-01-15T13:00:00",
          "2024-01-15T13:15:00",
          "2024-01-15T13:30:00",
          "2024-01-15T13:45:00",
          "2024-01-15T14:00:00",
          "2024-01-15T14:15:00",
          "2024-01-15T14:30:00",
          "2024-01-15T14:45:00",
          "2024-01-15T15:00:00",
          "2024-01-15T15:15:00",
          "2024-01-15T15:30:00",
          "2024-01-15T15:45:00",
          "2024-01-15T16:00:00",
          "2024-01-15T16:15:00",
          "2024-01-15T16:30:00",
          "2024-01-15T16:45:00",
          "2024-01-15T17:00:00",
          "2024-01-15T17:15:00",
          "2024-01-15T17:30:00",
          "2024-01-15T17:45:00",
          "2024-01-15T18:00:00",
          "2024-01-15T18:15:00",
          "2024-01-15T18:30:00",
          "2024-01-15T18:45:00",
          "2024-01-15T19:00:00",
          "2024-01-15T19:15:00",
          "2024-01-15T19:30:00",
          "2024-01-15T19:45:00",
          "2024-01-15T20:00:00",
          "2024-01-15T20:15:00",
          "2024-01-15T20:30:00",
          "2024-01-15T20:45:00",
          "2024-01-15T21:00:00",
          "2024-01-15T21:15:00",
          "2024-01-15T21:30:00",
          "2024-01-15T21:45:00",
          "2024-01-15T22:00:00",
          "2024-01-15T22:15:00",
          "2024-01-15T22:30:00",
          "2024-01-15T22:45:00",
          "2024-01-15T23:00:00",
          "2024-01-15T23:15:00",
          "2024-01-15T23:30:00",
          "2024-01-15T23:45:00"
         ],
         "xaxis": "x",
         "y": [
          1.903225806451613,
          1.8709677419354838,
          1.8064516129032258,
          1.903225806451613,
          1.7741935483870968,
          1.8709677419354838,
          1.8709677419354838,
          1.8064516129032258,
          1.8709677419354838,
          1.8709677419354838,
          1.903225806451613,
          1.7741935483870968,
          1.935483870967742,
          1.8709677419354838,
          1.967741935483871,
          2.032258064516129,
          1.903225806451613,
          1.7741935483870968,
          1.6129032258064515,
          1.903225806451613,
          1.7419354838709677,
          1.6774193548387097,
          1.7741935483870968,
          1.7419354838709677,
          3.3870967741935485,
          3.6129032258064515,
          3.5483870967741935,
          3.3548387096774195,
          3.3225806451612905,
          3.5806451612903225,
          3.3225806451612905,
          3.3225806451612905,
          3.4516129032258065,
          3.5161290322580645,
          3.2903225806451615,
          3.3870967741935485,
          3.5161290322580645,
          2.6774193548387095,
          2.3548387096774195,
          2.3870967741935485,
          2.4838709677419355,
          2.6129032258064515,
          2.5161290322580645,
          2.5161290322580645,
          2.2580645161290325,
          2.2580645161290325,
          2.2580645161290325,
          2.2580645161290325,
          2.2580645161290325,
          2.3225806451612905,
          2.2903225806451615,
          2.3548387096774195,
          2.2903225806451615,
          2.3548387096774195,
          2.6451612903225805,
          2.774193548387097,
          2.4838709677419355,
          2.3225806451612905,
          2.6451612903225805,
          2.5806451612903225,
          2.4838709677419355,
          2.3225806451612905,
          2.129032258064516,
          2.096774193548387,
          3.4516129032258065,
          3.4838709677419355,
          3.5483870967741935,
          3.4838709677419355,
          3.4516129032258065,
          3.4838709677419355,
          3.5161290322580645,
          3.5483870967741935,
          3.4838709677419355,
          3.5483870967741935,
          3.5483870967741935,
          2.4193548387096775,
          2.3225806451612905,
          2.225806451612903,
          2.161290322580645,
          2.2580645161290325,
          2.3225806451612905,
          1.935483870967742,
          2.225806451612903,
          2.096774193548387,
          2.2580645161290325,
          2.064516129032258,
          2.4838709677419355,
          2.4516129032258065,
          1.8709677419354838,
          1.8387096774193548,
          1.903225806451613,
          1.935483870967742,
          1.903225806451613,
          1.8387096774193548,
          1.903225806451613,
          1.8709677419354838
         ],
         "yaxis": "y"
        }
       ],
       "layout": {
        "barmode": "relative",
        "legend": {
         "tracegroupgap": 0
        },
        "template": {
         "data": {
          "bar": [
           {
            "error_x": {
             "color": "#2a3f5f"
            },
            "error_y": {
             "color": "#2a3f5f"
            },
            "marker": {
             "line": {
              "color": "#E5ECF6",
              "width": 0.5
             },
             "pattern": {
              "fillmode": "overlay",
              "size": 10,
              "solidity": 0.2
             }
            },
            "type": "bar"
           }
          ],
          "barpolar": [
           {
            "marker": {
             "line": {
              "color": "#E5ECF6",
              "width": 0.5
             },
             "pattern": {
              "fillmode": "overlay",
              "size": 10,
              "solidity": 0.2
             }
            },
            "type": "barpolar"
           }
          ],
          "carpet": [
           {
            "aaxis": {
             "endlinecolor": "#2a3f5f",
             "gridcolor": "white",
             "linecolor": "white",
             "minorgridcolor": "white",
             "startlinecolor": "#2a3f5f"
            },
            "baxis": {
             "endlinecolor": "#2a3f5f",
             "gridcolor": "white",
             "linecolor": "white",
             "minorgridcolor": "white",
             "startlinecolor": "#2a3f5f"
            },
            "type": "carpet"
           }
          ],
          "choropleth": [
           {
            "colorbar": {
             "outlinewidth": 0,
             "ticks": ""
            },
            "type": "choropleth"
           }
          ],
          "contour": [
           {
            "colorbar": {
             "outlinewidth": 0,
             "ticks": ""
            },
            "colorscale": [
             [
              0,
              "#0d0887"
             ],
             [
              0.1111111111111111,
              "#46039f"
             ],
             [
              0.2222222222222222,
              "#7201a8"
             ],
             [
              0.3333333333333333,
              "#9c179e"
             ],
             [
              0.4444444444444444,
              "#bd3786"
             ],
             [
              0.5555555555555556,
              "#d8576b"
             ],
             [
              0.6666666666666666,
              "#ed7953"
             ],
             [
              0.7777777777777778,
              "#fb9f3a"
             ],
             [
              0.8888888888888888,
              "#fdca26"
             ],
             [
              1,
              "#f0f921"
             ]
            ],
            "type": "contour"
           }
          ],
          "contourcarpet": [
           {
            "colorbar": {
             "outlinewidth": 0,
             "ticks": ""
            },
            "type": "contourcarpet"
           }
          ],
          "heatmap": [
           {
            "colorbar": {
             "outlinewidth": 0,
             "ticks": ""
            },
            "colorscale": [
             [
              0,
              "#0d0887"
             ],
             [
              0.1111111111111111,
              "#46039f"
             ],
             [
              0.2222222222222222,
              "#7201a8"
             ],
             [
              0.3333333333333333,
              "#9c179e"
             ],
             [
              0.4444444444444444,
              "#bd3786"
             ],
             [
              0.5555555555555556,
              "#d8576b"
             ],
             [
              0.6666666666666666,
              "#ed7953"
             ],
             [
              0.7777777777777778,
              "#fb9f3a"
             ],
             [
              0.8888888888888888,
              "#fdca26"
             ],
             [
              1,
              "#f0f921"
             ]
            ],
            "type": "heatmap"
           }
          ],
          "heatmapgl": [
           {
            "colorbar": {
             "outlinewidth": 0,
             "ticks": ""
            },
            "colorscale": [
             [
              0,
              "#0d0887"
             ],
             [
              0.1111111111111111,
              "#46039f"
             ],
             [
              0.2222222222222222,
              "#7201a8"
             ],
             [
              0.3333333333333333,
              "#9c179e"
             ],
             [
              0.4444444444444444,
              "#bd3786"
             ],
             [
              0.5555555555555556,
              "#d8576b"
             ],
             [
              0.6666666666666666,
              "#ed7953"
             ],
             [
              0.7777777777777778,
              "#fb9f3a"
             ],
             [
              0.8888888888888888,
              "#fdca26"
             ],
             [
              1,
              "#f0f921"
             ]
            ],
            "type": "heatmapgl"
           }
          ],
          "histogram": [
           {
            "marker": {
             "pattern": {
              "fillmode": "overlay",
              "size": 10,
              "solidity": 0.2
             }
            },
            "type": "histogram"
           }
          ],
          "histogram2d": [
           {
            "colorbar": {
             "outlinewidth": 0,
             "ticks": ""
            },
            "colorscale": [
             [
              0,
              "#0d0887"
             ],
             [
              0.1111111111111111,
              "#46039f"
             ],
             [
              0.2222222222222222,
              "#7201a8"
             ],
             [
              0.3333333333333333,
              "#9c179e"
             ],
             [
              0.4444444444444444,
              "#bd3786"
             ],
             [
              0.5555555555555556,
              "#d8576b"
             ],
             [
              0.6666666666666666,
              "#ed7953"
             ],
             [
              0.7777777777777778,
              "#fb9f3a"
             ],
             [
              0.8888888888888888,
              "#fdca26"
             ],
             [
              1,
              "#f0f921"
             ]
            ],
            "type": "histogram2d"
           }
          ],
          "histogram2dcontour": [
           {
            "colorbar": {
             "outlinewidth": 0,
             "ticks": ""
            },
            "colorscale": [
             [
              0,
              "#0d0887"
             ],
             [
              0.1111111111111111,
              "#46039f"
             ],
             [
              0.2222222222222222,
              "#7201a8"
             ],
             [
              0.3333333333333333,
              "#9c179e"
             ],
             [
              0.4444444444444444,
              "#bd3786"
             ],
             [
              0.5555555555555556,
              "#d8576b"
             ],
             [
              0.6666666666666666,
              "#ed7953"
             ],
             [
              0.7777777777777778,
              "#fb9f3a"
             ],
             [
              0.8888888888888888,
              "#fdca26"
             ],
             [
              1,
              "#f0f921"
             ]
            ],
            "type": "histogram2dcontour"
           }
          ],
          "mesh3d": [
           {
            "colorbar": {
             "outlinewidth": 0,
             "ticks": ""
            },
            "type": "mesh3d"
           }
          ],
          "parcoords": [
           {
            "line": {
             "colorbar": {
              "outlinewidth": 0,
              "ticks": ""
             }
            },
            "type": "parcoords"
           }
          ],
          "pie": [
           {
            "automargin": true,
            "type": "pie"
           }
          ],
          "scatter": [
           {
            "fillpattern": {
             "fillmode": "overlay",
             "size": 10,
             "solidity": 0.2
            },
            "type": "scatter"
           }
          ],
          "scatter3d": [
           {
            "line": {
             "colorbar": {
              "outlinewidth": 0,
              "ticks": ""
             }
            },
            "marker": {
             "colorbar": {
              "outlinewidth": 0,
              "ticks": ""
             }
            },
            "type": "scatter3d"
           }
          ],
          "scattercarpet": [
           {
            "marker": {
             "colorbar": {
              "outlinewidth": 0,
              "ticks": ""
             }
            },
            "type": "scattercarpet"
           }
          ],
          "scattergeo": [
           {
            "marker": {
             "colorbar": {
              "outlinewidth": 0,
              "ticks": ""
             }
            },
            "type": "scattergeo"
           }
          ],
          "scattergl": [
           {
            "marker": {
             "colorbar": {
              "outlinewidth": 0,
              "ticks": ""
             }
            },
            "type": "scattergl"
           }
          ],
          "scattermapbox": [
           {
            "marker": {
             "colorbar": {
              "outlinewidth": 0,
              "ticks": ""
             }
            },
            "type": "scattermapbox"
           }
          ],
          "scatterpolar": [
           {
            "marker": {
             "colorbar": {
              "outlinewidth": 0,
              "ticks": ""
             }
            },
            "type": "scatterpolar"
           }
          ],
          "scatterpolargl": [
           {
            "marker": {
             "colorbar": {
              "outlinewidth": 0,
              "ticks": ""
             }
            },
            "type": "scatterpolargl"
           }
          ],
          "scatterternary": [
           {
            "marker": {
             "colorbar": {
              "outlinewidth": 0,
              "ticks": ""
             }
            },
            "type": "scatterternary"
           }
          ],
          "surface": [
           {
            "colorbar": {
             "outlinewidth": 0,
             "ticks": ""
            },
            "colorscale": [
             [
              0,
              "#0d0887"
             ],
             [
              0.1111111111111111,
              "#46039f"
             ],
             [
              0.2222222222222222,
              "#7201a8"
             ],
             [
              0.3333333333333333,
              "#9c179e"
             ],
             [
              0.4444444444444444,
              "#bd3786"
             ],
             [
              0.5555555555555556,
              "#d8576b"
             ],
             [
              0.6666666666666666,
              "#ed7953"
             ],
             [
              0.7777777777777778,
              "#fb9f3a"
             ],
             [
              0.8888888888888888,
              "#fdca26"
             ],
             [
              1,
              "#f0f921"
             ]
            ],
            "type": "surface"
           }
          ],
          "table": [
           {
            "cells": {
             "fill": {
              "color": "#EBF0F8"
             },
             "line": {
              "color": "white"
             }
            },
            "header": {
             "fill": {
              "color": "#C8D4E3"
             },
             "line": {
              "color": "white"
             }
            },
            "type": "table"
           }
          ]
         },
         "layout": {
          "annotationdefaults": {
           "arrowcolor": "#2a3f5f",
           "arrowhead": 0,
           "arrowwidth": 1
          },
          "autotypenumbers": "strict",
          "coloraxis": {
           "colorbar": {
            "outlinewidth": 0,
            "ticks": ""
           }
          },
          "colorscale": {
           "diverging": [
            [
             0,
             "#8e0152"
            ],
            [
             0.1,
             "#c51b7d"
            ],
            [
             0.2,
             "#de77ae"
            ],
            [
             0.3,
             "#f1b6da"
            ],
            [
             0.4,
             "#fde0ef"
            ],
            [
             0.5,
             "#f7f7f7"
            ],
            [
             0.6,
             "#e6f5d0"
            ],
            [
             0.7,
             "#b8e186"
            ],
            [
             0.8,
             "#7fbc41"
            ],
            [
             0.9,
             "#4d9221"
            ],
            [
             1,
             "#276419"
            ]
           ],
           "sequential": [
            [
             0,
             "#0d0887"
            ],
            [
             0.1111111111111111,
             "#46039f"
            ],
            [
             0.2222222222222222,
             "#7201a8"
            ],
            [
             0.3333333333333333,
             "#9c179e"
            ],
            [
             0.4444444444444444,
             "#bd3786"
            ],
            [
             0.5555555555555556,
             "#d8576b"
            ],
            [
             0.6666666666666666,
             "#ed7953"
            ],
            [
             0.7777777777777778,
             "#fb9f3a"
            ],
            [
             0.8888888888888888,
             "#fdca26"
            ],
            [
             1,
             "#f0f921"
            ]
           ],
           "sequentialminus": [
            [
             0,
             "#0d0887"
            ],
            [
             0.1111111111111111,
             "#46039f"
            ],
            [
             0.2222222222222222,
             "#7201a8"
            ],
            [
             0.3333333333333333,
             "#9c179e"
            ],
            [
             0.4444444444444444,
             "#bd3786"
            ],
            [
             0.5555555555555556,
             "#d8576b"
            ],
            [
             0.6666666666666666,
             "#ed7953"
            ],
            [
             0.7777777777777778,
             "#fb9f3a"
            ],
            [
             0.8888888888888888,
             "#fdca26"
            ],
            [
             1,
             "#f0f921"
            ]
           ]
          },
          "colorway": [
           "#636efa",
           "#EF553B",
           "#00cc96",
           "#ab63fa",
           "#FFA15A",
           "#19d3f3",
           "#FF6692",
           "#B6E880",
           "#FF97FF",
           "#FECB52"
          ],
          "font": {
           "color": "#2a3f5f"
          },
          "geo": {
           "bgcolor": "white",
           "lakecolor": "white",
           "landcolor": "#E5ECF6",
           "showlakes": true,
           "showland": true,
           "subunitcolor": "white"
          },
          "hoverlabel": {
           "align": "left"
          },
          "hovermode": "closest",
          "mapbox": {
           "style": "light"
          },
          "paper_bgcolor": "white",
          "plot_bgcolor": "#E5ECF6",
          "polar": {
           "angularaxis": {
            "gridcolor": "white",
            "linecolor": "white",
            "ticks": ""
           },
           "bgcolor": "#E5ECF6",
           "radialaxis": {
            "gridcolor": "white",
            "linecolor": "white",
            "ticks": ""
           }
          },
          "scene": {
           "xaxis": {
            "backgroundcolor": "#E5ECF6",
            "gridcolor": "white",
            "gridwidth": 2,
            "linecolor": "white",
            "showbackground": true,
            "ticks": "",
            "zerolinecolor": "white"
           },
           "yaxis": {
            "backgroundcolor": "#E5ECF6",
            "gridcolor": "white",
            "gridwidth": 2,
            "linecolor": "white",
            "showbackground": true,
            "ticks": "",
            "zerolinecolor": "white"
           },
           "zaxis": {
            "backgroundcolor": "#E5ECF6",
            "gridcolor": "white",
            "gridwidth": 2,
            "linecolor": "white",
            "showbackground": true,
            "ticks": "",
            "zerolinecolor": "white"
           }
          },
          "shapedefaults": {
           "line": {
            "color": "#2a3f5f"
           }
          },
          "ternary": {
           "aaxis": {
            "gridcolor": "white",
            "linecolor": "white",
            "ticks": ""
           },
           "baxis": {
            "gridcolor": "white",
            "linecolor": "white",
            "ticks": ""
           },
           "bgcolor": "#E5ECF6",
           "caxis": {
            "gridcolor": "white",
            "linecolor": "white",
            "ticks": ""
           }
          },
          "title": {
           "x": 0.05
          },
          "xaxis": {
           "automargin": true,
           "gridcolor": "white",
           "linecolor": "white",
           "ticks": "",
           "title": {
            "standoff": 15
           },
           "zerolinecolor": "white",
           "zerolinewidth": 2
          },
          "yaxis": {
           "automargin": true,
           "gridcolor": "white",
           "linecolor": "white",
           "ticks": "",
           "title": {
            "standoff": 15
           },
           "zerolinecolor": "white",
           "zerolinewidth": 2
          }
         }
        },
        "title": {
         "text": "Average traffic hourly"
        },
        "xaxis": {
         "anchor": "y",
         "domain": [
          0,
          1
         ],
         "title": {
          "text": "Time"
         }
        },
        "yaxis": {
         "anchor": "x",
         "domain": [
          0,
          1
         ],
         "title": {
          "text": "Traffic Situation"
         }
        }
       }
      }
     },
     "metadata": {},
     "output_type": "display_data"
    }
   ],
   "source": [
    "hourly_df = df.copy()\n",
    "hourly_df['Traffic Situation'] = hourly_df['Traffic Situation'].map(traffic_conversion_v2)\n",
    "hourly_df['Time'] = pd.to_datetime(hourly_df['Time'])\n",
    "hourly_df = hourly_df.groupby('Time')['Traffic Situation'].mean().reset_index()\n",
    "fig = px.bar(hourly_df, x='Time', y='Traffic Situation', title='Average traffic hourly')\n",
    "fig.show()"
   ]
  },
  {
   "cell_type": "markdown",
   "metadata": {},
   "source": [
    "#### Average traffic by day"
   ]
  },
  {
   "cell_type": "code",
   "execution_count": 40,
   "metadata": {},
   "outputs": [
    {
     "data": {
      "application/vnd.plotly.v1+json": {
       "config": {
        "plotlyServerURL": "https://plot.ly"
       },
       "data": [
        {
         "hovertemplate": "variable=CarCount<br>Day of the week=%{x}<br>value=%{y}<extra></extra>",
         "legendgroup": "CarCount",
         "line": {
          "color": "#636efa",
          "dash": "solid"
         },
         "marker": {
          "symbol": "circle"
         },
         "mode": "lines",
         "name": "CarCount",
         "orientation": "v",
         "showlegend": true,
         "type": "scatter",
         "x": [
          "Monday",
          "Tuesday",
          "Wednesday",
          "Thursday",
          "Friday",
          "Saturday",
          "Sunday"
         ],
         "xaxis": "x",
         "y": [
          67.4296875,
          69.6375,
          69.63333333333334,
          68.13333333333334,
          68.953125,
          68.86979166666667,
          67.890625
         ],
         "yaxis": "y"
        },
        {
         "hovertemplate": "variable=BikeCount<br>Day of the week=%{x}<br>value=%{y}<extra></extra>",
         "legendgroup": "BikeCount",
         "line": {
          "color": "#EF553B",
          "dash": "solid"
         },
         "marker": {
          "symbol": "circle"
         },
         "mode": "lines",
         "name": "BikeCount",
         "orientation": "v",
         "showlegend": true,
         "type": "scatter",
         "x": [
          "Monday",
          "Tuesday",
          "Wednesday",
          "Thursday",
          "Friday",
          "Saturday",
          "Sunday"
         ],
         "xaxis": "x",
         "y": [
          13.1875,
          13.80625,
          13.966666666666667,
          13.81875,
          22.010416666666668,
          14.645833333333334,
          13.776041666666666
         ],
         "yaxis": "y"
        },
        {
         "hovertemplate": "variable=BusCount<br>Day of the week=%{x}<br>value=%{y}<extra></extra>",
         "legendgroup": "BusCount",
         "line": {
          "color": "#00cc96",
          "dash": "solid"
         },
         "marker": {
          "symbol": "circle"
         },
         "mode": "lines",
         "name": "BusCount",
         "orientation": "v",
         "showlegend": true,
         "type": "scatter",
         "x": [
          "Monday",
          "Tuesday",
          "Wednesday",
          "Thursday",
          "Friday",
          "Saturday",
          "Sunday"
         ],
         "xaxis": "x",
         "y": [
          16.161458333333332,
          16.283333333333335,
          16.547916666666666,
          16.722916666666666,
          8.213541666666666,
          16.018229166666668,
          16.080729166666668
         ],
         "yaxis": "y"
        },
        {
         "hovertemplate": "variable=TruckCount<br>Day of the week=%{x}<br>value=%{y}<extra></extra>",
         "legendgroup": "TruckCount",
         "line": {
          "color": "#ab63fa",
          "dash": "solid"
         },
         "marker": {
          "symbol": "circle"
         },
         "mode": "lines",
         "name": "TruckCount",
         "orientation": "v",
         "showlegend": true,
         "type": "scatter",
         "x": [
          "Monday",
          "Tuesday",
          "Wednesday",
          "Thursday",
          "Friday",
          "Saturday",
          "Sunday"
         ],
         "xaxis": "x",
         "y": [
          16.1796875,
          15.5125,
          16.214583333333334,
          15.8875,
          10.145833333333334,
          16.315104166666668,
          16.609375
         ],
         "yaxis": "y"
        }
       ],
       "layout": {
        "legend": {
         "title": {
          "text": "variable"
         },
         "tracegroupgap": 0
        },
        "template": {
         "data": {
          "bar": [
           {
            "error_x": {
             "color": "#2a3f5f"
            },
            "error_y": {
             "color": "#2a3f5f"
            },
            "marker": {
             "line": {
              "color": "#E5ECF6",
              "width": 0.5
             },
             "pattern": {
              "fillmode": "overlay",
              "size": 10,
              "solidity": 0.2
             }
            },
            "type": "bar"
           }
          ],
          "barpolar": [
           {
            "marker": {
             "line": {
              "color": "#E5ECF6",
              "width": 0.5
             },
             "pattern": {
              "fillmode": "overlay",
              "size": 10,
              "solidity": 0.2
             }
            },
            "type": "barpolar"
           }
          ],
          "carpet": [
           {
            "aaxis": {
             "endlinecolor": "#2a3f5f",
             "gridcolor": "white",
             "linecolor": "white",
             "minorgridcolor": "white",
             "startlinecolor": "#2a3f5f"
            },
            "baxis": {
             "endlinecolor": "#2a3f5f",
             "gridcolor": "white",
             "linecolor": "white",
             "minorgridcolor": "white",
             "startlinecolor": "#2a3f5f"
            },
            "type": "carpet"
           }
          ],
          "choropleth": [
           {
            "colorbar": {
             "outlinewidth": 0,
             "ticks": ""
            },
            "type": "choropleth"
           }
          ],
          "contour": [
           {
            "colorbar": {
             "outlinewidth": 0,
             "ticks": ""
            },
            "colorscale": [
             [
              0,
              "#0d0887"
             ],
             [
              0.1111111111111111,
              "#46039f"
             ],
             [
              0.2222222222222222,
              "#7201a8"
             ],
             [
              0.3333333333333333,
              "#9c179e"
             ],
             [
              0.4444444444444444,
              "#bd3786"
             ],
             [
              0.5555555555555556,
              "#d8576b"
             ],
             [
              0.6666666666666666,
              "#ed7953"
             ],
             [
              0.7777777777777778,
              "#fb9f3a"
             ],
             [
              0.8888888888888888,
              "#fdca26"
             ],
             [
              1,
              "#f0f921"
             ]
            ],
            "type": "contour"
           }
          ],
          "contourcarpet": [
           {
            "colorbar": {
             "outlinewidth": 0,
             "ticks": ""
            },
            "type": "contourcarpet"
           }
          ],
          "heatmap": [
           {
            "colorbar": {
             "outlinewidth": 0,
             "ticks": ""
            },
            "colorscale": [
             [
              0,
              "#0d0887"
             ],
             [
              0.1111111111111111,
              "#46039f"
             ],
             [
              0.2222222222222222,
              "#7201a8"
             ],
             [
              0.3333333333333333,
              "#9c179e"
             ],
             [
              0.4444444444444444,
              "#bd3786"
             ],
             [
              0.5555555555555556,
              "#d8576b"
             ],
             [
              0.6666666666666666,
              "#ed7953"
             ],
             [
              0.7777777777777778,
              "#fb9f3a"
             ],
             [
              0.8888888888888888,
              "#fdca26"
             ],
             [
              1,
              "#f0f921"
             ]
            ],
            "type": "heatmap"
           }
          ],
          "heatmapgl": [
           {
            "colorbar": {
             "outlinewidth": 0,
             "ticks": ""
            },
            "colorscale": [
             [
              0,
              "#0d0887"
             ],
             [
              0.1111111111111111,
              "#46039f"
             ],
             [
              0.2222222222222222,
              "#7201a8"
             ],
             [
              0.3333333333333333,
              "#9c179e"
             ],
             [
              0.4444444444444444,
              "#bd3786"
             ],
             [
              0.5555555555555556,
              "#d8576b"
             ],
             [
              0.6666666666666666,
              "#ed7953"
             ],
             [
              0.7777777777777778,
              "#fb9f3a"
             ],
             [
              0.8888888888888888,
              "#fdca26"
             ],
             [
              1,
              "#f0f921"
             ]
            ],
            "type": "heatmapgl"
           }
          ],
          "histogram": [
           {
            "marker": {
             "pattern": {
              "fillmode": "overlay",
              "size": 10,
              "solidity": 0.2
             }
            },
            "type": "histogram"
           }
          ],
          "histogram2d": [
           {
            "colorbar": {
             "outlinewidth": 0,
             "ticks": ""
            },
            "colorscale": [
             [
              0,
              "#0d0887"
             ],
             [
              0.1111111111111111,
              "#46039f"
             ],
             [
              0.2222222222222222,
              "#7201a8"
             ],
             [
              0.3333333333333333,
              "#9c179e"
             ],
             [
              0.4444444444444444,
              "#bd3786"
             ],
             [
              0.5555555555555556,
              "#d8576b"
             ],
             [
              0.6666666666666666,
              "#ed7953"
             ],
             [
              0.7777777777777778,
              "#fb9f3a"
             ],
             [
              0.8888888888888888,
              "#fdca26"
             ],
             [
              1,
              "#f0f921"
             ]
            ],
            "type": "histogram2d"
           }
          ],
          "histogram2dcontour": [
           {
            "colorbar": {
             "outlinewidth": 0,
             "ticks": ""
            },
            "colorscale": [
             [
              0,
              "#0d0887"
             ],
             [
              0.1111111111111111,
              "#46039f"
             ],
             [
              0.2222222222222222,
              "#7201a8"
             ],
             [
              0.3333333333333333,
              "#9c179e"
             ],
             [
              0.4444444444444444,
              "#bd3786"
             ],
             [
              0.5555555555555556,
              "#d8576b"
             ],
             [
              0.6666666666666666,
              "#ed7953"
             ],
             [
              0.7777777777777778,
              "#fb9f3a"
             ],
             [
              0.8888888888888888,
              "#fdca26"
             ],
             [
              1,
              "#f0f921"
             ]
            ],
            "type": "histogram2dcontour"
           }
          ],
          "mesh3d": [
           {
            "colorbar": {
             "outlinewidth": 0,
             "ticks": ""
            },
            "type": "mesh3d"
           }
          ],
          "parcoords": [
           {
            "line": {
             "colorbar": {
              "outlinewidth": 0,
              "ticks": ""
             }
            },
            "type": "parcoords"
           }
          ],
          "pie": [
           {
            "automargin": true,
            "type": "pie"
           }
          ],
          "scatter": [
           {
            "fillpattern": {
             "fillmode": "overlay",
             "size": 10,
             "solidity": 0.2
            },
            "type": "scatter"
           }
          ],
          "scatter3d": [
           {
            "line": {
             "colorbar": {
              "outlinewidth": 0,
              "ticks": ""
             }
            },
            "marker": {
             "colorbar": {
              "outlinewidth": 0,
              "ticks": ""
             }
            },
            "type": "scatter3d"
           }
          ],
          "scattercarpet": [
           {
            "marker": {
             "colorbar": {
              "outlinewidth": 0,
              "ticks": ""
             }
            },
            "type": "scattercarpet"
           }
          ],
          "scattergeo": [
           {
            "marker": {
             "colorbar": {
              "outlinewidth": 0,
              "ticks": ""
             }
            },
            "type": "scattergeo"
           }
          ],
          "scattergl": [
           {
            "marker": {
             "colorbar": {
              "outlinewidth": 0,
              "ticks": ""
             }
            },
            "type": "scattergl"
           }
          ],
          "scattermapbox": [
           {
            "marker": {
             "colorbar": {
              "outlinewidth": 0,
              "ticks": ""
             }
            },
            "type": "scattermapbox"
           }
          ],
          "scatterpolar": [
           {
            "marker": {
             "colorbar": {
              "outlinewidth": 0,
              "ticks": ""
             }
            },
            "type": "scatterpolar"
           }
          ],
          "scatterpolargl": [
           {
            "marker": {
             "colorbar": {
              "outlinewidth": 0,
              "ticks": ""
             }
            },
            "type": "scatterpolargl"
           }
          ],
          "scatterternary": [
           {
            "marker": {
             "colorbar": {
              "outlinewidth": 0,
              "ticks": ""
             }
            },
            "type": "scatterternary"
           }
          ],
          "surface": [
           {
            "colorbar": {
             "outlinewidth": 0,
             "ticks": ""
            },
            "colorscale": [
             [
              0,
              "#0d0887"
             ],
             [
              0.1111111111111111,
              "#46039f"
             ],
             [
              0.2222222222222222,
              "#7201a8"
             ],
             [
              0.3333333333333333,
              "#9c179e"
             ],
             [
              0.4444444444444444,
              "#bd3786"
             ],
             [
              0.5555555555555556,
              "#d8576b"
             ],
             [
              0.6666666666666666,
              "#ed7953"
             ],
             [
              0.7777777777777778,
              "#fb9f3a"
             ],
             [
              0.8888888888888888,
              "#fdca26"
             ],
             [
              1,
              "#f0f921"
             ]
            ],
            "type": "surface"
           }
          ],
          "table": [
           {
            "cells": {
             "fill": {
              "color": "#EBF0F8"
             },
             "line": {
              "color": "white"
             }
            },
            "header": {
             "fill": {
              "color": "#C8D4E3"
             },
             "line": {
              "color": "white"
             }
            },
            "type": "table"
           }
          ]
         },
         "layout": {
          "annotationdefaults": {
           "arrowcolor": "#2a3f5f",
           "arrowhead": 0,
           "arrowwidth": 1
          },
          "autotypenumbers": "strict",
          "coloraxis": {
           "colorbar": {
            "outlinewidth": 0,
            "ticks": ""
           }
          },
          "colorscale": {
           "diverging": [
            [
             0,
             "#8e0152"
            ],
            [
             0.1,
             "#c51b7d"
            ],
            [
             0.2,
             "#de77ae"
            ],
            [
             0.3,
             "#f1b6da"
            ],
            [
             0.4,
             "#fde0ef"
            ],
            [
             0.5,
             "#f7f7f7"
            ],
            [
             0.6,
             "#e6f5d0"
            ],
            [
             0.7,
             "#b8e186"
            ],
            [
             0.8,
             "#7fbc41"
            ],
            [
             0.9,
             "#4d9221"
            ],
            [
             1,
             "#276419"
            ]
           ],
           "sequential": [
            [
             0,
             "#0d0887"
            ],
            [
             0.1111111111111111,
             "#46039f"
            ],
            [
             0.2222222222222222,
             "#7201a8"
            ],
            [
             0.3333333333333333,
             "#9c179e"
            ],
            [
             0.4444444444444444,
             "#bd3786"
            ],
            [
             0.5555555555555556,
             "#d8576b"
            ],
            [
             0.6666666666666666,
             "#ed7953"
            ],
            [
             0.7777777777777778,
             "#fb9f3a"
            ],
            [
             0.8888888888888888,
             "#fdca26"
            ],
            [
             1,
             "#f0f921"
            ]
           ],
           "sequentialminus": [
            [
             0,
             "#0d0887"
            ],
            [
             0.1111111111111111,
             "#46039f"
            ],
            [
             0.2222222222222222,
             "#7201a8"
            ],
            [
             0.3333333333333333,
             "#9c179e"
            ],
            [
             0.4444444444444444,
             "#bd3786"
            ],
            [
             0.5555555555555556,
             "#d8576b"
            ],
            [
             0.6666666666666666,
             "#ed7953"
            ],
            [
             0.7777777777777778,
             "#fb9f3a"
            ],
            [
             0.8888888888888888,
             "#fdca26"
            ],
            [
             1,
             "#f0f921"
            ]
           ]
          },
          "colorway": [
           "#636efa",
           "#EF553B",
           "#00cc96",
           "#ab63fa",
           "#FFA15A",
           "#19d3f3",
           "#FF6692",
           "#B6E880",
           "#FF97FF",
           "#FECB52"
          ],
          "font": {
           "color": "#2a3f5f"
          },
          "geo": {
           "bgcolor": "white",
           "lakecolor": "white",
           "landcolor": "#E5ECF6",
           "showlakes": true,
           "showland": true,
           "subunitcolor": "white"
          },
          "hoverlabel": {
           "align": "left"
          },
          "hovermode": "closest",
          "mapbox": {
           "style": "light"
          },
          "paper_bgcolor": "white",
          "plot_bgcolor": "#E5ECF6",
          "polar": {
           "angularaxis": {
            "gridcolor": "white",
            "linecolor": "white",
            "ticks": ""
           },
           "bgcolor": "#E5ECF6",
           "radialaxis": {
            "gridcolor": "white",
            "linecolor": "white",
            "ticks": ""
           }
          },
          "scene": {
           "xaxis": {
            "backgroundcolor": "#E5ECF6",
            "gridcolor": "white",
            "gridwidth": 2,
            "linecolor": "white",
            "showbackground": true,
            "ticks": "",
            "zerolinecolor": "white"
           },
           "yaxis": {
            "backgroundcolor": "#E5ECF6",
            "gridcolor": "white",
            "gridwidth": 2,
            "linecolor": "white",
            "showbackground": true,
            "ticks": "",
            "zerolinecolor": "white"
           },
           "zaxis": {
            "backgroundcolor": "#E5ECF6",
            "gridcolor": "white",
            "gridwidth": 2,
            "linecolor": "white",
            "showbackground": true,
            "ticks": "",
            "zerolinecolor": "white"
           }
          },
          "shapedefaults": {
           "line": {
            "color": "#2a3f5f"
           }
          },
          "ternary": {
           "aaxis": {
            "gridcolor": "white",
            "linecolor": "white",
            "ticks": ""
           },
           "baxis": {
            "gridcolor": "white",
            "linecolor": "white",
            "ticks": ""
           },
           "bgcolor": "#E5ECF6",
           "caxis": {
            "gridcolor": "white",
            "linecolor": "white",
            "ticks": ""
           }
          },
          "title": {
           "x": 0.05
          },
          "xaxis": {
           "automargin": true,
           "gridcolor": "white",
           "linecolor": "white",
           "ticks": "",
           "title": {
            "standoff": 15
           },
           "zerolinecolor": "white",
           "zerolinewidth": 2
          },
          "yaxis": {
           "automargin": true,
           "gridcolor": "white",
           "linecolor": "white",
           "ticks": "",
           "title": {
            "standoff": 15
           },
           "zerolinecolor": "white",
           "zerolinewidth": 2
          }
         }
        },
        "title": {
         "text": "Moyenne de véhicule dans la semaine"
        },
        "xaxis": {
         "anchor": "y",
         "domain": [
          0,
          1
         ],
         "title": {
          "text": "Day of the week"
         }
        },
        "yaxis": {
         "anchor": "x",
         "domain": [
          0,
          1
         ],
         "title": {
          "text": "value"
         }
        }
       }
      }
     },
     "metadata": {},
     "output_type": "display_data"
    }
   ],
   "source": [
    "weekly_df = df.copy()\n",
    "day_order = [\"Monday\",\"Tuesday\",\"Wednesday\",\"Thursday\",\"Friday\",\"Saturday\",\"Sunday\"]\n",
    "list_vehicles = ['CarCount','BikeCount','BusCount','TruckCount']\n",
    "weekly_df = weekly_df.groupby(\"Day of the week\")[list_vehicles].mean().reset_index()\n",
    "weekly_df['Day of the week'] = pd.Categorical(weekly_df['Day of the week'], categories=day_order, ordered=True)\n",
    "weekly_df = weekly_df.sort_values(['Day of the week'])\n",
    "fig = px.line(weekly_df, x='Day of the week', y=list_vehicles, title='Moyenne de véhicule dans la semaine')\n",
    "fig.show()"
   ]
  },
  {
   "cell_type": "markdown",
   "metadata": {},
   "source": [
    "### Vehicles impacts"
   ]
  },
  {
   "cell_type": "code",
   "execution_count": 41,
   "metadata": {},
   "outputs": [
    {
     "name": "stderr",
     "output_type": "stream",
     "text": [
      "C:\\Users\\mathy\\AppData\\Local\\Temp\\ipykernel_17232\\1453629159.py:4: FutureWarning:\n",
      "\n",
      "The default value of numeric_only in DataFrameGroupBy.mean is deprecated. In a future version, numeric_only will default to False. Either specify numeric_only or select only columns which should be valid for the function.\n",
      "\n"
     ]
    },
    {
     "data": {
      "application/vnd.plotly.v1+json": {
       "config": {
        "plotlyServerURL": "https://plot.ly"
       },
       "data": [
        {
         "alignmentgroup": "True",
         "hovertemplate": "Vehicule Type=CarCount<br>Date=%{x}<br>Mean=%{y}<extra></extra>",
         "legendgroup": "CarCount",
         "marker": {
          "color": "#636efa",
          "pattern": {
           "shape": ""
          }
         },
         "name": "CarCount",
         "offsetgroup": "CarCount",
         "orientation": "v",
         "showlegend": true,
         "textposition": "auto",
         "type": "bar",
         "x": [
          1,
          2,
          3,
          4,
          5,
          6,
          7,
          8,
          9,
          10,
          11,
          12,
          13,
          14,
          15,
          16,
          17,
          18,
          19,
          20,
          21,
          22,
          23,
          24,
          25,
          26,
          27,
          28,
          29,
          30,
          31
         ],
         "xaxis": "x",
         "y": [
          69.35416666666667,
          67.8125,
          67.70833333333333,
          69.91666666666667,
          72.75,
          68.28125,
          69.375,
          70.11458333333333,
          69.53125,
          75.15625,
          71.02083333333333,
          66.125,
          69.89583333333333,
          67.03125,
          66.48958333333333,
          66.5,
          66.54166666666667,
          69.25,
          68.32291666666667,
          70.07291666666667,
          67.0625,
          71.13541666666667,
          67.01041666666667,
          66.66666666666667,
          68.42708333333333,
          68.875,
          68.13541666666667,
          67.39583333333333,
          65.26041666666667,
          67.92708333333333,
          70.44791666666667
         ],
         "yaxis": "y"
        },
        {
         "alignmentgroup": "True",
         "hovertemplate": "Vehicule Type=BikeCount<br>Date=%{x}<br>Mean=%{y}<extra></extra>",
         "legendgroup": "BikeCount",
         "marker": {
          "color": "#EF553B",
          "pattern": {
           "shape": ""
          }
         },
         "name": "BikeCount",
         "offsetgroup": "BikeCount",
         "orientation": "v",
         "showlegend": true,
         "textposition": "auto",
         "type": "bar",
         "x": [
          1,
          2,
          3,
          4,
          5,
          6,
          7,
          8,
          9,
          10,
          11,
          12,
          13,
          14,
          15,
          16,
          17,
          18,
          19,
          20,
          21,
          22,
          23,
          24,
          25,
          26,
          27,
          28,
          29,
          30,
          31
         ],
         "xaxis": "x",
         "y": [
          13.958333333333334,
          13.895833333333334,
          22.03125,
          14.6875,
          13.53125,
          13.197916666666666,
          13.239583333333334,
          14.447916666666666,
          13.916666666666666,
          14.979166666666666,
          14.697916666666666,
          14.260416666666666,
          21.197916666666668,
          13.9375,
          13.958333333333334,
          12.9375,
          12.90625,
          13.895833333333334,
          13.78125,
          22.197916666666668,
          13.447916666666666,
          15.604166666666666,
          12.885416666666666,
          14.072916666666666,
          12.833333333333334,
          13.239583333333334,
          22.614583333333332,
          14.354166666666666,
          14.166666666666666,
          13.729166666666666,
          13.833333333333334
         ],
         "yaxis": "y"
        },
        {
         "alignmentgroup": "True",
         "hovertemplate": "Vehicule Type=BusCount<br>Date=%{x}<br>Mean=%{y}<extra></extra>",
         "legendgroup": "BusCount",
         "marker": {
          "color": "#00cc96",
          "pattern": {
           "shape": ""
          }
         },
         "name": "BusCount",
         "offsetgroup": "BusCount",
         "orientation": "v",
         "showlegend": true,
         "textposition": "auto",
         "type": "bar",
         "x": [
          1,
          2,
          3,
          4,
          5,
          6,
          7,
          8,
          9,
          10,
          11,
          12,
          13,
          14,
          15,
          16,
          17,
          18,
          19,
          20,
          21,
          22,
          23,
          24,
          25,
          26,
          27,
          28,
          29,
          30,
          31
         ],
         "xaxis": "x",
         "y": [
          16.5,
          16.395833333333332,
          8.197916666666666,
          17.229166666666668,
          15.28125,
          17.0625,
          17.0625,
          16.3125,
          16.5,
          17.635416666666668,
          16.78125,
          16.625,
          8.541666666666666,
          15.489583333333334,
          17.166666666666668,
          15.90625,
          15.677083333333334,
          17.104166666666668,
          17.145833333333332,
          7.708333333333333,
          15.78125,
          16.53125,
          15.5625,
          15.28125,
          16.041666666666668,
          16.947916666666668,
          8.40625,
          14.822916666666666,
          16.09375,
          16.114583333333332,
          15.760416666666666
         ],
         "yaxis": "y"
        },
        {
         "alignmentgroup": "True",
         "hovertemplate": "Vehicule Type=TruckCount<br>Date=%{x}<br>Mean=%{y}<extra></extra>",
         "legendgroup": "TruckCount",
         "marker": {
          "color": "#ab63fa",
          "pattern": {
           "shape": ""
          }
         },
         "name": "TruckCount",
         "offsetgroup": "TruckCount",
         "orientation": "v",
         "showlegend": true,
         "textposition": "auto",
         "type": "bar",
         "x": [
          1,
          2,
          3,
          4,
          5,
          6,
          7,
          8,
          9,
          10,
          11,
          12,
          13,
          14,
          15,
          16,
          17,
          18,
          19,
          20,
          21,
          22,
          23,
          24,
          25,
          26,
          27,
          28,
          29,
          30,
          31
         ],
         "xaxis": "x",
         "y": [
          15.8125,
          16.302083333333332,
          10.552083333333334,
          15.75,
          16.479166666666668,
          16.322916666666668,
          16.46875,
          15.458333333333334,
          15.854166666666666,
          12.635416666666666,
          15.666666666666666,
          15.697916666666666,
          9.520833333333334,
          15.729166666666666,
          16.302083333333332,
          16.25,
          16.145833333333332,
          17.40625,
          14.854166666666666,
          10.1875,
          16.666666666666668,
          16.677083333333332,
          15.75,
          16.677083333333332,
          16.729166666666668,
          16.729166666666668,
          10.322916666666666,
          17.104166666666668,
          16.989583333333332,
          16.395833333333332,
          15.635416666666666
         ],
         "yaxis": "y"
        }
       ],
       "layout": {
        "barmode": "relative",
        "legend": {
         "title": {
          "text": "Vehicule Type"
         },
         "tracegroupgap": 0
        },
        "template": {
         "data": {
          "bar": [
           {
            "error_x": {
             "color": "#2a3f5f"
            },
            "error_y": {
             "color": "#2a3f5f"
            },
            "marker": {
             "line": {
              "color": "#E5ECF6",
              "width": 0.5
             },
             "pattern": {
              "fillmode": "overlay",
              "size": 10,
              "solidity": 0.2
             }
            },
            "type": "bar"
           }
          ],
          "barpolar": [
           {
            "marker": {
             "line": {
              "color": "#E5ECF6",
              "width": 0.5
             },
             "pattern": {
              "fillmode": "overlay",
              "size": 10,
              "solidity": 0.2
             }
            },
            "type": "barpolar"
           }
          ],
          "carpet": [
           {
            "aaxis": {
             "endlinecolor": "#2a3f5f",
             "gridcolor": "white",
             "linecolor": "white",
             "minorgridcolor": "white",
             "startlinecolor": "#2a3f5f"
            },
            "baxis": {
             "endlinecolor": "#2a3f5f",
             "gridcolor": "white",
             "linecolor": "white",
             "minorgridcolor": "white",
             "startlinecolor": "#2a3f5f"
            },
            "type": "carpet"
           }
          ],
          "choropleth": [
           {
            "colorbar": {
             "outlinewidth": 0,
             "ticks": ""
            },
            "type": "choropleth"
           }
          ],
          "contour": [
           {
            "colorbar": {
             "outlinewidth": 0,
             "ticks": ""
            },
            "colorscale": [
             [
              0,
              "#0d0887"
             ],
             [
              0.1111111111111111,
              "#46039f"
             ],
             [
              0.2222222222222222,
              "#7201a8"
             ],
             [
              0.3333333333333333,
              "#9c179e"
             ],
             [
              0.4444444444444444,
              "#bd3786"
             ],
             [
              0.5555555555555556,
              "#d8576b"
             ],
             [
              0.6666666666666666,
              "#ed7953"
             ],
             [
              0.7777777777777778,
              "#fb9f3a"
             ],
             [
              0.8888888888888888,
              "#fdca26"
             ],
             [
              1,
              "#f0f921"
             ]
            ],
            "type": "contour"
           }
          ],
          "contourcarpet": [
           {
            "colorbar": {
             "outlinewidth": 0,
             "ticks": ""
            },
            "type": "contourcarpet"
           }
          ],
          "heatmap": [
           {
            "colorbar": {
             "outlinewidth": 0,
             "ticks": ""
            },
            "colorscale": [
             [
              0,
              "#0d0887"
             ],
             [
              0.1111111111111111,
              "#46039f"
             ],
             [
              0.2222222222222222,
              "#7201a8"
             ],
             [
              0.3333333333333333,
              "#9c179e"
             ],
             [
              0.4444444444444444,
              "#bd3786"
             ],
             [
              0.5555555555555556,
              "#d8576b"
             ],
             [
              0.6666666666666666,
              "#ed7953"
             ],
             [
              0.7777777777777778,
              "#fb9f3a"
             ],
             [
              0.8888888888888888,
              "#fdca26"
             ],
             [
              1,
              "#f0f921"
             ]
            ],
            "type": "heatmap"
           }
          ],
          "heatmapgl": [
           {
            "colorbar": {
             "outlinewidth": 0,
             "ticks": ""
            },
            "colorscale": [
             [
              0,
              "#0d0887"
             ],
             [
              0.1111111111111111,
              "#46039f"
             ],
             [
              0.2222222222222222,
              "#7201a8"
             ],
             [
              0.3333333333333333,
              "#9c179e"
             ],
             [
              0.4444444444444444,
              "#bd3786"
             ],
             [
              0.5555555555555556,
              "#d8576b"
             ],
             [
              0.6666666666666666,
              "#ed7953"
             ],
             [
              0.7777777777777778,
              "#fb9f3a"
             ],
             [
              0.8888888888888888,
              "#fdca26"
             ],
             [
              1,
              "#f0f921"
             ]
            ],
            "type": "heatmapgl"
           }
          ],
          "histogram": [
           {
            "marker": {
             "pattern": {
              "fillmode": "overlay",
              "size": 10,
              "solidity": 0.2
             }
            },
            "type": "histogram"
           }
          ],
          "histogram2d": [
           {
            "colorbar": {
             "outlinewidth": 0,
             "ticks": ""
            },
            "colorscale": [
             [
              0,
              "#0d0887"
             ],
             [
              0.1111111111111111,
              "#46039f"
             ],
             [
              0.2222222222222222,
              "#7201a8"
             ],
             [
              0.3333333333333333,
              "#9c179e"
             ],
             [
              0.4444444444444444,
              "#bd3786"
             ],
             [
              0.5555555555555556,
              "#d8576b"
             ],
             [
              0.6666666666666666,
              "#ed7953"
             ],
             [
              0.7777777777777778,
              "#fb9f3a"
             ],
             [
              0.8888888888888888,
              "#fdca26"
             ],
             [
              1,
              "#f0f921"
             ]
            ],
            "type": "histogram2d"
           }
          ],
          "histogram2dcontour": [
           {
            "colorbar": {
             "outlinewidth": 0,
             "ticks": ""
            },
            "colorscale": [
             [
              0,
              "#0d0887"
             ],
             [
              0.1111111111111111,
              "#46039f"
             ],
             [
              0.2222222222222222,
              "#7201a8"
             ],
             [
              0.3333333333333333,
              "#9c179e"
             ],
             [
              0.4444444444444444,
              "#bd3786"
             ],
             [
              0.5555555555555556,
              "#d8576b"
             ],
             [
              0.6666666666666666,
              "#ed7953"
             ],
             [
              0.7777777777777778,
              "#fb9f3a"
             ],
             [
              0.8888888888888888,
              "#fdca26"
             ],
             [
              1,
              "#f0f921"
             ]
            ],
            "type": "histogram2dcontour"
           }
          ],
          "mesh3d": [
           {
            "colorbar": {
             "outlinewidth": 0,
             "ticks": ""
            },
            "type": "mesh3d"
           }
          ],
          "parcoords": [
           {
            "line": {
             "colorbar": {
              "outlinewidth": 0,
              "ticks": ""
             }
            },
            "type": "parcoords"
           }
          ],
          "pie": [
           {
            "automargin": true,
            "type": "pie"
           }
          ],
          "scatter": [
           {
            "fillpattern": {
             "fillmode": "overlay",
             "size": 10,
             "solidity": 0.2
            },
            "type": "scatter"
           }
          ],
          "scatter3d": [
           {
            "line": {
             "colorbar": {
              "outlinewidth": 0,
              "ticks": ""
             }
            },
            "marker": {
             "colorbar": {
              "outlinewidth": 0,
              "ticks": ""
             }
            },
            "type": "scatter3d"
           }
          ],
          "scattercarpet": [
           {
            "marker": {
             "colorbar": {
              "outlinewidth": 0,
              "ticks": ""
             }
            },
            "type": "scattercarpet"
           }
          ],
          "scattergeo": [
           {
            "marker": {
             "colorbar": {
              "outlinewidth": 0,
              "ticks": ""
             }
            },
            "type": "scattergeo"
           }
          ],
          "scattergl": [
           {
            "marker": {
             "colorbar": {
              "outlinewidth": 0,
              "ticks": ""
             }
            },
            "type": "scattergl"
           }
          ],
          "scattermapbox": [
           {
            "marker": {
             "colorbar": {
              "outlinewidth": 0,
              "ticks": ""
             }
            },
            "type": "scattermapbox"
           }
          ],
          "scatterpolar": [
           {
            "marker": {
             "colorbar": {
              "outlinewidth": 0,
              "ticks": ""
             }
            },
            "type": "scatterpolar"
           }
          ],
          "scatterpolargl": [
           {
            "marker": {
             "colorbar": {
              "outlinewidth": 0,
              "ticks": ""
             }
            },
            "type": "scatterpolargl"
           }
          ],
          "scatterternary": [
           {
            "marker": {
             "colorbar": {
              "outlinewidth": 0,
              "ticks": ""
             }
            },
            "type": "scatterternary"
           }
          ],
          "surface": [
           {
            "colorbar": {
             "outlinewidth": 0,
             "ticks": ""
            },
            "colorscale": [
             [
              0,
              "#0d0887"
             ],
             [
              0.1111111111111111,
              "#46039f"
             ],
             [
              0.2222222222222222,
              "#7201a8"
             ],
             [
              0.3333333333333333,
              "#9c179e"
             ],
             [
              0.4444444444444444,
              "#bd3786"
             ],
             [
              0.5555555555555556,
              "#d8576b"
             ],
             [
              0.6666666666666666,
              "#ed7953"
             ],
             [
              0.7777777777777778,
              "#fb9f3a"
             ],
             [
              0.8888888888888888,
              "#fdca26"
             ],
             [
              1,
              "#f0f921"
             ]
            ],
            "type": "surface"
           }
          ],
          "table": [
           {
            "cells": {
             "fill": {
              "color": "#EBF0F8"
             },
             "line": {
              "color": "white"
             }
            },
            "header": {
             "fill": {
              "color": "#C8D4E3"
             },
             "line": {
              "color": "white"
             }
            },
            "type": "table"
           }
          ]
         },
         "layout": {
          "annotationdefaults": {
           "arrowcolor": "#2a3f5f",
           "arrowhead": 0,
           "arrowwidth": 1
          },
          "autotypenumbers": "strict",
          "coloraxis": {
           "colorbar": {
            "outlinewidth": 0,
            "ticks": ""
           }
          },
          "colorscale": {
           "diverging": [
            [
             0,
             "#8e0152"
            ],
            [
             0.1,
             "#c51b7d"
            ],
            [
             0.2,
             "#de77ae"
            ],
            [
             0.3,
             "#f1b6da"
            ],
            [
             0.4,
             "#fde0ef"
            ],
            [
             0.5,
             "#f7f7f7"
            ],
            [
             0.6,
             "#e6f5d0"
            ],
            [
             0.7,
             "#b8e186"
            ],
            [
             0.8,
             "#7fbc41"
            ],
            [
             0.9,
             "#4d9221"
            ],
            [
             1,
             "#276419"
            ]
           ],
           "sequential": [
            [
             0,
             "#0d0887"
            ],
            [
             0.1111111111111111,
             "#46039f"
            ],
            [
             0.2222222222222222,
             "#7201a8"
            ],
            [
             0.3333333333333333,
             "#9c179e"
            ],
            [
             0.4444444444444444,
             "#bd3786"
            ],
            [
             0.5555555555555556,
             "#d8576b"
            ],
            [
             0.6666666666666666,
             "#ed7953"
            ],
            [
             0.7777777777777778,
             "#fb9f3a"
            ],
            [
             0.8888888888888888,
             "#fdca26"
            ],
            [
             1,
             "#f0f921"
            ]
           ],
           "sequentialminus": [
            [
             0,
             "#0d0887"
            ],
            [
             0.1111111111111111,
             "#46039f"
            ],
            [
             0.2222222222222222,
             "#7201a8"
            ],
            [
             0.3333333333333333,
             "#9c179e"
            ],
            [
             0.4444444444444444,
             "#bd3786"
            ],
            [
             0.5555555555555556,
             "#d8576b"
            ],
            [
             0.6666666666666666,
             "#ed7953"
            ],
            [
             0.7777777777777778,
             "#fb9f3a"
            ],
            [
             0.8888888888888888,
             "#fdca26"
            ],
            [
             1,
             "#f0f921"
            ]
           ]
          },
          "colorway": [
           "#636efa",
           "#EF553B",
           "#00cc96",
           "#ab63fa",
           "#FFA15A",
           "#19d3f3",
           "#FF6692",
           "#B6E880",
           "#FF97FF",
           "#FECB52"
          ],
          "font": {
           "color": "#2a3f5f"
          },
          "geo": {
           "bgcolor": "white",
           "lakecolor": "white",
           "landcolor": "#E5ECF6",
           "showlakes": true,
           "showland": true,
           "subunitcolor": "white"
          },
          "hoverlabel": {
           "align": "left"
          },
          "hovermode": "closest",
          "mapbox": {
           "style": "light"
          },
          "paper_bgcolor": "white",
          "plot_bgcolor": "#E5ECF6",
          "polar": {
           "angularaxis": {
            "gridcolor": "white",
            "linecolor": "white",
            "ticks": ""
           },
           "bgcolor": "#E5ECF6",
           "radialaxis": {
            "gridcolor": "white",
            "linecolor": "white",
            "ticks": ""
           }
          },
          "scene": {
           "xaxis": {
            "backgroundcolor": "#E5ECF6",
            "gridcolor": "white",
            "gridwidth": 2,
            "linecolor": "white",
            "showbackground": true,
            "ticks": "",
            "zerolinecolor": "white"
           },
           "yaxis": {
            "backgroundcolor": "#E5ECF6",
            "gridcolor": "white",
            "gridwidth": 2,
            "linecolor": "white",
            "showbackground": true,
            "ticks": "",
            "zerolinecolor": "white"
           },
           "zaxis": {
            "backgroundcolor": "#E5ECF6",
            "gridcolor": "white",
            "gridwidth": 2,
            "linecolor": "white",
            "showbackground": true,
            "ticks": "",
            "zerolinecolor": "white"
           }
          },
          "shapedefaults": {
           "line": {
            "color": "#2a3f5f"
           }
          },
          "ternary": {
           "aaxis": {
            "gridcolor": "white",
            "linecolor": "white",
            "ticks": ""
           },
           "baxis": {
            "gridcolor": "white",
            "linecolor": "white",
            "ticks": ""
           },
           "bgcolor": "#E5ECF6",
           "caxis": {
            "gridcolor": "white",
            "linecolor": "white",
            "ticks": ""
           }
          },
          "title": {
           "x": 0.05
          },
          "xaxis": {
           "automargin": true,
           "gridcolor": "white",
           "linecolor": "white",
           "ticks": "",
           "title": {
            "standoff": 15
           },
           "zerolinecolor": "white",
           "zerolinewidth": 2
          },
          "yaxis": {
           "automargin": true,
           "gridcolor": "white",
           "linecolor": "white",
           "ticks": "",
           "title": {
            "standoff": 15
           },
           "zerolinecolor": "white",
           "zerolinewidth": 2
          }
         }
        },
        "title": {
         "text": "Average daily vehicle count"
        },
        "xaxis": {
         "anchor": "y",
         "domain": [
          0,
          1
         ],
         "title": {
          "text": "Date"
         }
        },
        "yaxis": {
         "anchor": "x",
         "domain": [
          0,
          1
         ],
         "title": {
          "text": "Mean"
         }
        }
       }
      }
     },
     "metadata": {},
     "output_type": "display_data"
    },
    {
     "data": {
      "application/vnd.plotly.v1+json": {
       "config": {
        "plotlyServerURL": "https://plot.ly"
       },
       "data": [
        {
         "hovertemplate": "Date=%{x}<br>Traffic Situation=%{y}<extra></extra>",
         "legendgroup": "",
         "line": {
          "color": "#636efa",
          "dash": "solid"
         },
         "marker": {
          "symbol": "circle"
         },
         "mode": "lines",
         "name": "",
         "orientation": "v",
         "showlegend": false,
         "type": "scatter",
         "x": [
          1,
          2,
          3,
          4,
          5,
          6,
          7,
          8,
          9,
          10,
          11,
          12,
          13,
          14,
          15,
          16,
          17,
          18,
          19,
          20,
          21,
          22,
          23,
          24,
          25,
          26,
          27,
          28,
          29,
          30,
          31
         ],
         "xaxis": "x",
         "y": [
          2.5625,
          2.4375,
          2.1979166666666665,
          2.59375,
          2.5625,
          2.53125,
          2.5729166666666665,
          2.5208333333333335,
          2.53125,
          2.40625,
          2.5104166666666665,
          2.5104166666666665,
          2.15625,
          2.3958333333333335,
          2.4895833333333335,
          2.4375,
          2.5416666666666665,
          2.5833333333333335,
          2.4791666666666665,
          2.1875,
          2.4479166666666665,
          2.53125,
          2.4479166666666665,
          2.53125,
          2.4375,
          2.5625,
          2.2291666666666665,
          2.4791666666666665,
          2.5416666666666665,
          2.5,
          2.46875
         ],
         "yaxis": "y"
        }
       ],
       "layout": {
        "legend": {
         "tracegroupgap": 0
        },
        "margin": {
         "t": 60
        },
        "template": {
         "data": {
          "bar": [
           {
            "error_x": {
             "color": "#2a3f5f"
            },
            "error_y": {
             "color": "#2a3f5f"
            },
            "marker": {
             "line": {
              "color": "#E5ECF6",
              "width": 0.5
             },
             "pattern": {
              "fillmode": "overlay",
              "size": 10,
              "solidity": 0.2
             }
            },
            "type": "bar"
           }
          ],
          "barpolar": [
           {
            "marker": {
             "line": {
              "color": "#E5ECF6",
              "width": 0.5
             },
             "pattern": {
              "fillmode": "overlay",
              "size": 10,
              "solidity": 0.2
             }
            },
            "type": "barpolar"
           }
          ],
          "carpet": [
           {
            "aaxis": {
             "endlinecolor": "#2a3f5f",
             "gridcolor": "white",
             "linecolor": "white",
             "minorgridcolor": "white",
             "startlinecolor": "#2a3f5f"
            },
            "baxis": {
             "endlinecolor": "#2a3f5f",
             "gridcolor": "white",
             "linecolor": "white",
             "minorgridcolor": "white",
             "startlinecolor": "#2a3f5f"
            },
            "type": "carpet"
           }
          ],
          "choropleth": [
           {
            "colorbar": {
             "outlinewidth": 0,
             "ticks": ""
            },
            "type": "choropleth"
           }
          ],
          "contour": [
           {
            "colorbar": {
             "outlinewidth": 0,
             "ticks": ""
            },
            "colorscale": [
             [
              0,
              "#0d0887"
             ],
             [
              0.1111111111111111,
              "#46039f"
             ],
             [
              0.2222222222222222,
              "#7201a8"
             ],
             [
              0.3333333333333333,
              "#9c179e"
             ],
             [
              0.4444444444444444,
              "#bd3786"
             ],
             [
              0.5555555555555556,
              "#d8576b"
             ],
             [
              0.6666666666666666,
              "#ed7953"
             ],
             [
              0.7777777777777778,
              "#fb9f3a"
             ],
             [
              0.8888888888888888,
              "#fdca26"
             ],
             [
              1,
              "#f0f921"
             ]
            ],
            "type": "contour"
           }
          ],
          "contourcarpet": [
           {
            "colorbar": {
             "outlinewidth": 0,
             "ticks": ""
            },
            "type": "contourcarpet"
           }
          ],
          "heatmap": [
           {
            "colorbar": {
             "outlinewidth": 0,
             "ticks": ""
            },
            "colorscale": [
             [
              0,
              "#0d0887"
             ],
             [
              0.1111111111111111,
              "#46039f"
             ],
             [
              0.2222222222222222,
              "#7201a8"
             ],
             [
              0.3333333333333333,
              "#9c179e"
             ],
             [
              0.4444444444444444,
              "#bd3786"
             ],
             [
              0.5555555555555556,
              "#d8576b"
             ],
             [
              0.6666666666666666,
              "#ed7953"
             ],
             [
              0.7777777777777778,
              "#fb9f3a"
             ],
             [
              0.8888888888888888,
              "#fdca26"
             ],
             [
              1,
              "#f0f921"
             ]
            ],
            "type": "heatmap"
           }
          ],
          "heatmapgl": [
           {
            "colorbar": {
             "outlinewidth": 0,
             "ticks": ""
            },
            "colorscale": [
             [
              0,
              "#0d0887"
             ],
             [
              0.1111111111111111,
              "#46039f"
             ],
             [
              0.2222222222222222,
              "#7201a8"
             ],
             [
              0.3333333333333333,
              "#9c179e"
             ],
             [
              0.4444444444444444,
              "#bd3786"
             ],
             [
              0.5555555555555556,
              "#d8576b"
             ],
             [
              0.6666666666666666,
              "#ed7953"
             ],
             [
              0.7777777777777778,
              "#fb9f3a"
             ],
             [
              0.8888888888888888,
              "#fdca26"
             ],
             [
              1,
              "#f0f921"
             ]
            ],
            "type": "heatmapgl"
           }
          ],
          "histogram": [
           {
            "marker": {
             "pattern": {
              "fillmode": "overlay",
              "size": 10,
              "solidity": 0.2
             }
            },
            "type": "histogram"
           }
          ],
          "histogram2d": [
           {
            "colorbar": {
             "outlinewidth": 0,
             "ticks": ""
            },
            "colorscale": [
             [
              0,
              "#0d0887"
             ],
             [
              0.1111111111111111,
              "#46039f"
             ],
             [
              0.2222222222222222,
              "#7201a8"
             ],
             [
              0.3333333333333333,
              "#9c179e"
             ],
             [
              0.4444444444444444,
              "#bd3786"
             ],
             [
              0.5555555555555556,
              "#d8576b"
             ],
             [
              0.6666666666666666,
              "#ed7953"
             ],
             [
              0.7777777777777778,
              "#fb9f3a"
             ],
             [
              0.8888888888888888,
              "#fdca26"
             ],
             [
              1,
              "#f0f921"
             ]
            ],
            "type": "histogram2d"
           }
          ],
          "histogram2dcontour": [
           {
            "colorbar": {
             "outlinewidth": 0,
             "ticks": ""
            },
            "colorscale": [
             [
              0,
              "#0d0887"
             ],
             [
              0.1111111111111111,
              "#46039f"
             ],
             [
              0.2222222222222222,
              "#7201a8"
             ],
             [
              0.3333333333333333,
              "#9c179e"
             ],
             [
              0.4444444444444444,
              "#bd3786"
             ],
             [
              0.5555555555555556,
              "#d8576b"
             ],
             [
              0.6666666666666666,
              "#ed7953"
             ],
             [
              0.7777777777777778,
              "#fb9f3a"
             ],
             [
              0.8888888888888888,
              "#fdca26"
             ],
             [
              1,
              "#f0f921"
             ]
            ],
            "type": "histogram2dcontour"
           }
          ],
          "mesh3d": [
           {
            "colorbar": {
             "outlinewidth": 0,
             "ticks": ""
            },
            "type": "mesh3d"
           }
          ],
          "parcoords": [
           {
            "line": {
             "colorbar": {
              "outlinewidth": 0,
              "ticks": ""
             }
            },
            "type": "parcoords"
           }
          ],
          "pie": [
           {
            "automargin": true,
            "type": "pie"
           }
          ],
          "scatter": [
           {
            "fillpattern": {
             "fillmode": "overlay",
             "size": 10,
             "solidity": 0.2
            },
            "type": "scatter"
           }
          ],
          "scatter3d": [
           {
            "line": {
             "colorbar": {
              "outlinewidth": 0,
              "ticks": ""
             }
            },
            "marker": {
             "colorbar": {
              "outlinewidth": 0,
              "ticks": ""
             }
            },
            "type": "scatter3d"
           }
          ],
          "scattercarpet": [
           {
            "marker": {
             "colorbar": {
              "outlinewidth": 0,
              "ticks": ""
             }
            },
            "type": "scattercarpet"
           }
          ],
          "scattergeo": [
           {
            "marker": {
             "colorbar": {
              "outlinewidth": 0,
              "ticks": ""
             }
            },
            "type": "scattergeo"
           }
          ],
          "scattergl": [
           {
            "marker": {
             "colorbar": {
              "outlinewidth": 0,
              "ticks": ""
             }
            },
            "type": "scattergl"
           }
          ],
          "scattermapbox": [
           {
            "marker": {
             "colorbar": {
              "outlinewidth": 0,
              "ticks": ""
             }
            },
            "type": "scattermapbox"
           }
          ],
          "scatterpolar": [
           {
            "marker": {
             "colorbar": {
              "outlinewidth": 0,
              "ticks": ""
             }
            },
            "type": "scatterpolar"
           }
          ],
          "scatterpolargl": [
           {
            "marker": {
             "colorbar": {
              "outlinewidth": 0,
              "ticks": ""
             }
            },
            "type": "scatterpolargl"
           }
          ],
          "scatterternary": [
           {
            "marker": {
             "colorbar": {
              "outlinewidth": 0,
              "ticks": ""
             }
            },
            "type": "scatterternary"
           }
          ],
          "surface": [
           {
            "colorbar": {
             "outlinewidth": 0,
             "ticks": ""
            },
            "colorscale": [
             [
              0,
              "#0d0887"
             ],
             [
              0.1111111111111111,
              "#46039f"
             ],
             [
              0.2222222222222222,
              "#7201a8"
             ],
             [
              0.3333333333333333,
              "#9c179e"
             ],
             [
              0.4444444444444444,
              "#bd3786"
             ],
             [
              0.5555555555555556,
              "#d8576b"
             ],
             [
              0.6666666666666666,
              "#ed7953"
             ],
             [
              0.7777777777777778,
              "#fb9f3a"
             ],
             [
              0.8888888888888888,
              "#fdca26"
             ],
             [
              1,
              "#f0f921"
             ]
            ],
            "type": "surface"
           }
          ],
          "table": [
           {
            "cells": {
             "fill": {
              "color": "#EBF0F8"
             },
             "line": {
              "color": "white"
             }
            },
            "header": {
             "fill": {
              "color": "#C8D4E3"
             },
             "line": {
              "color": "white"
             }
            },
            "type": "table"
           }
          ]
         },
         "layout": {
          "annotationdefaults": {
           "arrowcolor": "#2a3f5f",
           "arrowhead": 0,
           "arrowwidth": 1
          },
          "autotypenumbers": "strict",
          "coloraxis": {
           "colorbar": {
            "outlinewidth": 0,
            "ticks": ""
           }
          },
          "colorscale": {
           "diverging": [
            [
             0,
             "#8e0152"
            ],
            [
             0.1,
             "#c51b7d"
            ],
            [
             0.2,
             "#de77ae"
            ],
            [
             0.3,
             "#f1b6da"
            ],
            [
             0.4,
             "#fde0ef"
            ],
            [
             0.5,
             "#f7f7f7"
            ],
            [
             0.6,
             "#e6f5d0"
            ],
            [
             0.7,
             "#b8e186"
            ],
            [
             0.8,
             "#7fbc41"
            ],
            [
             0.9,
             "#4d9221"
            ],
            [
             1,
             "#276419"
            ]
           ],
           "sequential": [
            [
             0,
             "#0d0887"
            ],
            [
             0.1111111111111111,
             "#46039f"
            ],
            [
             0.2222222222222222,
             "#7201a8"
            ],
            [
             0.3333333333333333,
             "#9c179e"
            ],
            [
             0.4444444444444444,
             "#bd3786"
            ],
            [
             0.5555555555555556,
             "#d8576b"
            ],
            [
             0.6666666666666666,
             "#ed7953"
            ],
            [
             0.7777777777777778,
             "#fb9f3a"
            ],
            [
             0.8888888888888888,
             "#fdca26"
            ],
            [
             1,
             "#f0f921"
            ]
           ],
           "sequentialminus": [
            [
             0,
             "#0d0887"
            ],
            [
             0.1111111111111111,
             "#46039f"
            ],
            [
             0.2222222222222222,
             "#7201a8"
            ],
            [
             0.3333333333333333,
             "#9c179e"
            ],
            [
             0.4444444444444444,
             "#bd3786"
            ],
            [
             0.5555555555555556,
             "#d8576b"
            ],
            [
             0.6666666666666666,
             "#ed7953"
            ],
            [
             0.7777777777777778,
             "#fb9f3a"
            ],
            [
             0.8888888888888888,
             "#fdca26"
            ],
            [
             1,
             "#f0f921"
            ]
           ]
          },
          "colorway": [
           "#636efa",
           "#EF553B",
           "#00cc96",
           "#ab63fa",
           "#FFA15A",
           "#19d3f3",
           "#FF6692",
           "#B6E880",
           "#FF97FF",
           "#FECB52"
          ],
          "font": {
           "color": "#2a3f5f"
          },
          "geo": {
           "bgcolor": "white",
           "lakecolor": "white",
           "landcolor": "#E5ECF6",
           "showlakes": true,
           "showland": true,
           "subunitcolor": "white"
          },
          "hoverlabel": {
           "align": "left"
          },
          "hovermode": "closest",
          "mapbox": {
           "style": "light"
          },
          "paper_bgcolor": "white",
          "plot_bgcolor": "#E5ECF6",
          "polar": {
           "angularaxis": {
            "gridcolor": "white",
            "linecolor": "white",
            "ticks": ""
           },
           "bgcolor": "#E5ECF6",
           "radialaxis": {
            "gridcolor": "white",
            "linecolor": "white",
            "ticks": ""
           }
          },
          "scene": {
           "xaxis": {
            "backgroundcolor": "#E5ECF6",
            "gridcolor": "white",
            "gridwidth": 2,
            "linecolor": "white",
            "showbackground": true,
            "ticks": "",
            "zerolinecolor": "white"
           },
           "yaxis": {
            "backgroundcolor": "#E5ECF6",
            "gridcolor": "white",
            "gridwidth": 2,
            "linecolor": "white",
            "showbackground": true,
            "ticks": "",
            "zerolinecolor": "white"
           },
           "zaxis": {
            "backgroundcolor": "#E5ECF6",
            "gridcolor": "white",
            "gridwidth": 2,
            "linecolor": "white",
            "showbackground": true,
            "ticks": "",
            "zerolinecolor": "white"
           }
          },
          "shapedefaults": {
           "line": {
            "color": "#2a3f5f"
           }
          },
          "ternary": {
           "aaxis": {
            "gridcolor": "white",
            "linecolor": "white",
            "ticks": ""
           },
           "baxis": {
            "gridcolor": "white",
            "linecolor": "white",
            "ticks": ""
           },
           "bgcolor": "#E5ECF6",
           "caxis": {
            "gridcolor": "white",
            "linecolor": "white",
            "ticks": ""
           }
          },
          "title": {
           "x": 0.05
          },
          "xaxis": {
           "automargin": true,
           "gridcolor": "white",
           "linecolor": "white",
           "ticks": "",
           "title": {
            "standoff": 15
           },
           "zerolinecolor": "white",
           "zerolinewidth": 2
          },
          "yaxis": {
           "automargin": true,
           "gridcolor": "white",
           "linecolor": "white",
           "ticks": "",
           "title": {
            "standoff": 15
           },
           "zerolinecolor": "white",
           "zerolinewidth": 2
          }
         }
        },
        "xaxis": {
         "anchor": "y",
         "domain": [
          0,
          1
         ],
         "title": {
          "text": "Date"
         }
        },
        "yaxis": {
         "anchor": "x",
         "domain": [
          0,
          1
         ],
         "title": {
          "text": "Traffic Situation"
         }
        }
       }
      }
     },
     "metadata": {},
     "output_type": "display_data"
    }
   ],
   "source": [
    "vehicle_df = df.copy()\n",
    "\n",
    "\n",
    "daily_average = vehicle_df.groupby('Date').mean().reset_index()\n",
    "vehicle_df[\"Traffic Situation\"] = vehicle_df['Traffic Situation'].map(traffic_conversion_v2)\n",
    "columns_to_average = ['CarCount', 'BikeCount', 'BusCount', 'TruckCount', 'Total','Traffic Situation']\n",
    "daily_average_values = vehicle_df.groupby('Date')[columns_to_average].mean().reset_index()\n",
    "\n",
    "fig = px.bar(daily_average_values, x='Date', y=['CarCount', 'BikeCount', 'BusCount', 'TruckCount'],\n",
    "              title='Average daily vehicle count',\n",
    "              labels={'value': 'Mean', 'Date': 'Date', 'variable': 'Vehicule Type'},\n",
    "              )\n",
    "\n",
    "\n",
    "fig.show()\n",
    "\n",
    "fig2 = px.line(daily_average_values, x='Date', y=\"Traffic Situation\")\n",
    "fig2.show()"
   ]
  },
  {
   "cell_type": "markdown",
   "metadata": {},
   "source": [
    "##### Focus on Trucks "
   ]
  },
  {
   "cell_type": "code",
   "execution_count": 42,
   "metadata": {},
   "outputs": [
    {
     "data": {
      "application/vnd.plotly.v1+json": {
       "config": {
        "plotlyServerURL": "https://plot.ly"
       },
       "data": [
        {
         "alignmentgroup": "True",
         "hovertemplate": "Time=%{x}<br>TruckCount=%{y}<extra></extra>",
         "legendgroup": "",
         "marker": {
          "color": "#636efa",
          "pattern": {
           "shape": ""
          }
         },
         "name": "",
         "offsetgroup": "",
         "orientation": "v",
         "showlegend": false,
         "textposition": "auto",
         "type": "bar",
         "x": [
          "2024-01-15T00:00:00",
          "2024-01-15T00:15:00",
          "2024-01-15T00:30:00",
          "2024-01-15T00:45:00",
          "2024-01-15T01:00:00",
          "2024-01-15T01:15:00",
          "2024-01-15T01:30:00",
          "2024-01-15T01:45:00",
          "2024-01-15T02:00:00",
          "2024-01-15T02:15:00",
          "2024-01-15T02:30:00",
          "2024-01-15T02:45:00",
          "2024-01-15T03:00:00",
          "2024-01-15T03:15:00",
          "2024-01-15T03:30:00",
          "2024-01-15T03:45:00",
          "2024-01-15T04:00:00",
          "2024-01-15T04:15:00",
          "2024-01-15T04:30:00",
          "2024-01-15T04:45:00",
          "2024-01-15T05:00:00",
          "2024-01-15T05:15:00",
          "2024-01-15T05:30:00",
          "2024-01-15T05:45:00",
          "2024-01-15T06:00:00",
          "2024-01-15T06:15:00",
          "2024-01-15T06:30:00",
          "2024-01-15T06:45:00",
          "2024-01-15T07:00:00",
          "2024-01-15T07:15:00",
          "2024-01-15T07:30:00",
          "2024-01-15T07:45:00",
          "2024-01-15T08:00:00",
          "2024-01-15T08:15:00",
          "2024-01-15T08:30:00",
          "2024-01-15T08:45:00",
          "2024-01-15T09:00:00",
          "2024-01-15T09:15:00",
          "2024-01-15T09:30:00",
          "2024-01-15T09:45:00",
          "2024-01-15T10:00:00",
          "2024-01-15T10:15:00",
          "2024-01-15T10:30:00",
          "2024-01-15T10:45:00",
          "2024-01-15T11:00:00",
          "2024-01-15T11:15:00",
          "2024-01-15T11:30:00",
          "2024-01-15T11:45:00",
          "2024-01-15T12:00:00",
          "2024-01-15T12:15:00",
          "2024-01-15T12:30:00",
          "2024-01-15T12:45:00",
          "2024-01-15T13:00:00",
          "2024-01-15T13:15:00",
          "2024-01-15T13:30:00",
          "2024-01-15T13:45:00",
          "2024-01-15T14:00:00",
          "2024-01-15T14:15:00",
          "2024-01-15T14:30:00",
          "2024-01-15T14:45:00",
          "2024-01-15T15:00:00",
          "2024-01-15T15:15:00",
          "2024-01-15T15:30:00",
          "2024-01-15T15:45:00",
          "2024-01-15T16:00:00",
          "2024-01-15T16:15:00",
          "2024-01-15T16:30:00",
          "2024-01-15T16:45:00",
          "2024-01-15T17:00:00",
          "2024-01-15T17:15:00",
          "2024-01-15T17:30:00",
          "2024-01-15T17:45:00",
          "2024-01-15T18:00:00",
          "2024-01-15T18:15:00",
          "2024-01-15T18:30:00",
          "2024-01-15T18:45:00",
          "2024-01-15T19:00:00",
          "2024-01-15T19:15:00",
          "2024-01-15T19:30:00",
          "2024-01-15T19:45:00",
          "2024-01-15T20:00:00",
          "2024-01-15T20:15:00",
          "2024-01-15T20:30:00",
          "2024-01-15T20:45:00",
          "2024-01-15T21:00:00",
          "2024-01-15T21:15:00",
          "2024-01-15T21:30:00",
          "2024-01-15T21:45:00",
          "2024-01-15T22:00:00",
          "2024-01-15T22:15:00",
          "2024-01-15T22:30:00",
          "2024-01-15T22:45:00",
          "2024-01-15T23:00:00",
          "2024-01-15T23:15:00",
          "2024-01-15T23:30:00",
          "2024-01-15T23:45:00"
         ],
         "xaxis": "x",
         "y": [
          25.93548387096774,
          24.096774193548388,
          21.677419354838708,
          23.129032258064516,
          20.870967741935484,
          26,
          22.258064516129032,
          22.032258064516128,
          26.258064516129032,
          24.193548387096776,
          22.29032258064516,
          22.806451612903224,
          24.806451612903224,
          24.032258064516128,
          26.451612903225808,
          25.548387096774192,
          25.741935483870968,
          10.225806451612904,
          11.129032258064516,
          13.35483870967742,
          11.258064516129032,
          11.290322580645162,
          12.193548387096774,
          12.03225806451613,
          3.903225806451613,
          3.2903225806451615,
          4,
          3.4193548387096775,
          3.4838709677419355,
          3.5483870967741935,
          3.838709677419355,
          3.6129032258064515,
          4.032258064516129,
          3.2903225806451615,
          3.5161290322580645,
          3.6129032258064515,
          3.3548387096774195,
          16.967741935483872,
          16.225806451612904,
          15.419354838709678,
          15.258064516129032,
          17.129032258064516,
          16.29032258064516,
          15.03225806451613,
          21.93548387096774,
          21.838709677419356,
          22.096774193548388,
          20.838709677419356,
          20.838709677419356,
          22.838709677419356,
          21.516129032258064,
          22.322580645161292,
          21.838709677419356,
          11.838709677419354,
          11.516129032258064,
          12.161290322580646,
          10.67741935483871,
          11.193548387096774,
          11.935483870967742,
          10.064516129032258,
          10.67741935483871,
          9.67741935483871,
          10.838709677419354,
          10.838709677419354,
          6.741935483870968,
          6.064516129032258,
          6.580645161290323,
          6.67741935483871,
          6.548387096774194,
          6.870967741935484,
          6.32258064516129,
          6.645161290322581,
          6.870967741935484,
          6.354838709677419,
          6.580645161290323,
          18.70967741935484,
          17.580645161290324,
          17.93548387096774,
          15.483870967741936,
          19.548387096774192,
          20.387096774193548,
          14.67741935483871,
          18.419354838709676,
          16.096774193548388,
          18.258064516129032,
          16.741935483870968,
          20.129032258064516,
          21.161290322580644,
          23.29032258064516,
          26.677419354838708,
          23.774193548387096,
          26.35483870967742,
          26.129032258064516,
          21.870967741935484,
          25.677419354838708,
          23.70967741935484
         ],
         "yaxis": "y"
        }
       ],
       "layout": {
        "barmode": "relative",
        "legend": {
         "tracegroupgap": 0
        },
        "template": {
         "data": {
          "bar": [
           {
            "error_x": {
             "color": "#2a3f5f"
            },
            "error_y": {
             "color": "#2a3f5f"
            },
            "marker": {
             "line": {
              "color": "#E5ECF6",
              "width": 0.5
             },
             "pattern": {
              "fillmode": "overlay",
              "size": 10,
              "solidity": 0.2
             }
            },
            "type": "bar"
           }
          ],
          "barpolar": [
           {
            "marker": {
             "line": {
              "color": "#E5ECF6",
              "width": 0.5
             },
             "pattern": {
              "fillmode": "overlay",
              "size": 10,
              "solidity": 0.2
             }
            },
            "type": "barpolar"
           }
          ],
          "carpet": [
           {
            "aaxis": {
             "endlinecolor": "#2a3f5f",
             "gridcolor": "white",
             "linecolor": "white",
             "minorgridcolor": "white",
             "startlinecolor": "#2a3f5f"
            },
            "baxis": {
             "endlinecolor": "#2a3f5f",
             "gridcolor": "white",
             "linecolor": "white",
             "minorgridcolor": "white",
             "startlinecolor": "#2a3f5f"
            },
            "type": "carpet"
           }
          ],
          "choropleth": [
           {
            "colorbar": {
             "outlinewidth": 0,
             "ticks": ""
            },
            "type": "choropleth"
           }
          ],
          "contour": [
           {
            "colorbar": {
             "outlinewidth": 0,
             "ticks": ""
            },
            "colorscale": [
             [
              0,
              "#0d0887"
             ],
             [
              0.1111111111111111,
              "#46039f"
             ],
             [
              0.2222222222222222,
              "#7201a8"
             ],
             [
              0.3333333333333333,
              "#9c179e"
             ],
             [
              0.4444444444444444,
              "#bd3786"
             ],
             [
              0.5555555555555556,
              "#d8576b"
             ],
             [
              0.6666666666666666,
              "#ed7953"
             ],
             [
              0.7777777777777778,
              "#fb9f3a"
             ],
             [
              0.8888888888888888,
              "#fdca26"
             ],
             [
              1,
              "#f0f921"
             ]
            ],
            "type": "contour"
           }
          ],
          "contourcarpet": [
           {
            "colorbar": {
             "outlinewidth": 0,
             "ticks": ""
            },
            "type": "contourcarpet"
           }
          ],
          "heatmap": [
           {
            "colorbar": {
             "outlinewidth": 0,
             "ticks": ""
            },
            "colorscale": [
             [
              0,
              "#0d0887"
             ],
             [
              0.1111111111111111,
              "#46039f"
             ],
             [
              0.2222222222222222,
              "#7201a8"
             ],
             [
              0.3333333333333333,
              "#9c179e"
             ],
             [
              0.4444444444444444,
              "#bd3786"
             ],
             [
              0.5555555555555556,
              "#d8576b"
             ],
             [
              0.6666666666666666,
              "#ed7953"
             ],
             [
              0.7777777777777778,
              "#fb9f3a"
             ],
             [
              0.8888888888888888,
              "#fdca26"
             ],
             [
              1,
              "#f0f921"
             ]
            ],
            "type": "heatmap"
           }
          ],
          "heatmapgl": [
           {
            "colorbar": {
             "outlinewidth": 0,
             "ticks": ""
            },
            "colorscale": [
             [
              0,
              "#0d0887"
             ],
             [
              0.1111111111111111,
              "#46039f"
             ],
             [
              0.2222222222222222,
              "#7201a8"
             ],
             [
              0.3333333333333333,
              "#9c179e"
             ],
             [
              0.4444444444444444,
              "#bd3786"
             ],
             [
              0.5555555555555556,
              "#d8576b"
             ],
             [
              0.6666666666666666,
              "#ed7953"
             ],
             [
              0.7777777777777778,
              "#fb9f3a"
             ],
             [
              0.8888888888888888,
              "#fdca26"
             ],
             [
              1,
              "#f0f921"
             ]
            ],
            "type": "heatmapgl"
           }
          ],
          "histogram": [
           {
            "marker": {
             "pattern": {
              "fillmode": "overlay",
              "size": 10,
              "solidity": 0.2
             }
            },
            "type": "histogram"
           }
          ],
          "histogram2d": [
           {
            "colorbar": {
             "outlinewidth": 0,
             "ticks": ""
            },
            "colorscale": [
             [
              0,
              "#0d0887"
             ],
             [
              0.1111111111111111,
              "#46039f"
             ],
             [
              0.2222222222222222,
              "#7201a8"
             ],
             [
              0.3333333333333333,
              "#9c179e"
             ],
             [
              0.4444444444444444,
              "#bd3786"
             ],
             [
              0.5555555555555556,
              "#d8576b"
             ],
             [
              0.6666666666666666,
              "#ed7953"
             ],
             [
              0.7777777777777778,
              "#fb9f3a"
             ],
             [
              0.8888888888888888,
              "#fdca26"
             ],
             [
              1,
              "#f0f921"
             ]
            ],
            "type": "histogram2d"
           }
          ],
          "histogram2dcontour": [
           {
            "colorbar": {
             "outlinewidth": 0,
             "ticks": ""
            },
            "colorscale": [
             [
              0,
              "#0d0887"
             ],
             [
              0.1111111111111111,
              "#46039f"
             ],
             [
              0.2222222222222222,
              "#7201a8"
             ],
             [
              0.3333333333333333,
              "#9c179e"
             ],
             [
              0.4444444444444444,
              "#bd3786"
             ],
             [
              0.5555555555555556,
              "#d8576b"
             ],
             [
              0.6666666666666666,
              "#ed7953"
             ],
             [
              0.7777777777777778,
              "#fb9f3a"
             ],
             [
              0.8888888888888888,
              "#fdca26"
             ],
             [
              1,
              "#f0f921"
             ]
            ],
            "type": "histogram2dcontour"
           }
          ],
          "mesh3d": [
           {
            "colorbar": {
             "outlinewidth": 0,
             "ticks": ""
            },
            "type": "mesh3d"
           }
          ],
          "parcoords": [
           {
            "line": {
             "colorbar": {
              "outlinewidth": 0,
              "ticks": ""
             }
            },
            "type": "parcoords"
           }
          ],
          "pie": [
           {
            "automargin": true,
            "type": "pie"
           }
          ],
          "scatter": [
           {
            "fillpattern": {
             "fillmode": "overlay",
             "size": 10,
             "solidity": 0.2
            },
            "type": "scatter"
           }
          ],
          "scatter3d": [
           {
            "line": {
             "colorbar": {
              "outlinewidth": 0,
              "ticks": ""
             }
            },
            "marker": {
             "colorbar": {
              "outlinewidth": 0,
              "ticks": ""
             }
            },
            "type": "scatter3d"
           }
          ],
          "scattercarpet": [
           {
            "marker": {
             "colorbar": {
              "outlinewidth": 0,
              "ticks": ""
             }
            },
            "type": "scattercarpet"
           }
          ],
          "scattergeo": [
           {
            "marker": {
             "colorbar": {
              "outlinewidth": 0,
              "ticks": ""
             }
            },
            "type": "scattergeo"
           }
          ],
          "scattergl": [
           {
            "marker": {
             "colorbar": {
              "outlinewidth": 0,
              "ticks": ""
             }
            },
            "type": "scattergl"
           }
          ],
          "scattermapbox": [
           {
            "marker": {
             "colorbar": {
              "outlinewidth": 0,
              "ticks": ""
             }
            },
            "type": "scattermapbox"
           }
          ],
          "scatterpolar": [
           {
            "marker": {
             "colorbar": {
              "outlinewidth": 0,
              "ticks": ""
             }
            },
            "type": "scatterpolar"
           }
          ],
          "scatterpolargl": [
           {
            "marker": {
             "colorbar": {
              "outlinewidth": 0,
              "ticks": ""
             }
            },
            "type": "scatterpolargl"
           }
          ],
          "scatterternary": [
           {
            "marker": {
             "colorbar": {
              "outlinewidth": 0,
              "ticks": ""
             }
            },
            "type": "scatterternary"
           }
          ],
          "surface": [
           {
            "colorbar": {
             "outlinewidth": 0,
             "ticks": ""
            },
            "colorscale": [
             [
              0,
              "#0d0887"
             ],
             [
              0.1111111111111111,
              "#46039f"
             ],
             [
              0.2222222222222222,
              "#7201a8"
             ],
             [
              0.3333333333333333,
              "#9c179e"
             ],
             [
              0.4444444444444444,
              "#bd3786"
             ],
             [
              0.5555555555555556,
              "#d8576b"
             ],
             [
              0.6666666666666666,
              "#ed7953"
             ],
             [
              0.7777777777777778,
              "#fb9f3a"
             ],
             [
              0.8888888888888888,
              "#fdca26"
             ],
             [
              1,
              "#f0f921"
             ]
            ],
            "type": "surface"
           }
          ],
          "table": [
           {
            "cells": {
             "fill": {
              "color": "#EBF0F8"
             },
             "line": {
              "color": "white"
             }
            },
            "header": {
             "fill": {
              "color": "#C8D4E3"
             },
             "line": {
              "color": "white"
             }
            },
            "type": "table"
           }
          ]
         },
         "layout": {
          "annotationdefaults": {
           "arrowcolor": "#2a3f5f",
           "arrowhead": 0,
           "arrowwidth": 1
          },
          "autotypenumbers": "strict",
          "coloraxis": {
           "colorbar": {
            "outlinewidth": 0,
            "ticks": ""
           }
          },
          "colorscale": {
           "diverging": [
            [
             0,
             "#8e0152"
            ],
            [
             0.1,
             "#c51b7d"
            ],
            [
             0.2,
             "#de77ae"
            ],
            [
             0.3,
             "#f1b6da"
            ],
            [
             0.4,
             "#fde0ef"
            ],
            [
             0.5,
             "#f7f7f7"
            ],
            [
             0.6,
             "#e6f5d0"
            ],
            [
             0.7,
             "#b8e186"
            ],
            [
             0.8,
             "#7fbc41"
            ],
            [
             0.9,
             "#4d9221"
            ],
            [
             1,
             "#276419"
            ]
           ],
           "sequential": [
            [
             0,
             "#0d0887"
            ],
            [
             0.1111111111111111,
             "#46039f"
            ],
            [
             0.2222222222222222,
             "#7201a8"
            ],
            [
             0.3333333333333333,
             "#9c179e"
            ],
            [
             0.4444444444444444,
             "#bd3786"
            ],
            [
             0.5555555555555556,
             "#d8576b"
            ],
            [
             0.6666666666666666,
             "#ed7953"
            ],
            [
             0.7777777777777778,
             "#fb9f3a"
            ],
            [
             0.8888888888888888,
             "#fdca26"
            ],
            [
             1,
             "#f0f921"
            ]
           ],
           "sequentialminus": [
            [
             0,
             "#0d0887"
            ],
            [
             0.1111111111111111,
             "#46039f"
            ],
            [
             0.2222222222222222,
             "#7201a8"
            ],
            [
             0.3333333333333333,
             "#9c179e"
            ],
            [
             0.4444444444444444,
             "#bd3786"
            ],
            [
             0.5555555555555556,
             "#d8576b"
            ],
            [
             0.6666666666666666,
             "#ed7953"
            ],
            [
             0.7777777777777778,
             "#fb9f3a"
            ],
            [
             0.8888888888888888,
             "#fdca26"
            ],
            [
             1,
             "#f0f921"
            ]
           ]
          },
          "colorway": [
           "#636efa",
           "#EF553B",
           "#00cc96",
           "#ab63fa",
           "#FFA15A",
           "#19d3f3",
           "#FF6692",
           "#B6E880",
           "#FF97FF",
           "#FECB52"
          ],
          "font": {
           "color": "#2a3f5f"
          },
          "geo": {
           "bgcolor": "white",
           "lakecolor": "white",
           "landcolor": "#E5ECF6",
           "showlakes": true,
           "showland": true,
           "subunitcolor": "white"
          },
          "hoverlabel": {
           "align": "left"
          },
          "hovermode": "closest",
          "mapbox": {
           "style": "light"
          },
          "paper_bgcolor": "white",
          "plot_bgcolor": "#E5ECF6",
          "polar": {
           "angularaxis": {
            "gridcolor": "white",
            "linecolor": "white",
            "ticks": ""
           },
           "bgcolor": "#E5ECF6",
           "radialaxis": {
            "gridcolor": "white",
            "linecolor": "white",
            "ticks": ""
           }
          },
          "scene": {
           "xaxis": {
            "backgroundcolor": "#E5ECF6",
            "gridcolor": "white",
            "gridwidth": 2,
            "linecolor": "white",
            "showbackground": true,
            "ticks": "",
            "zerolinecolor": "white"
           },
           "yaxis": {
            "backgroundcolor": "#E5ECF6",
            "gridcolor": "white",
            "gridwidth": 2,
            "linecolor": "white",
            "showbackground": true,
            "ticks": "",
            "zerolinecolor": "white"
           },
           "zaxis": {
            "backgroundcolor": "#E5ECF6",
            "gridcolor": "white",
            "gridwidth": 2,
            "linecolor": "white",
            "showbackground": true,
            "ticks": "",
            "zerolinecolor": "white"
           }
          },
          "shapedefaults": {
           "line": {
            "color": "#2a3f5f"
           }
          },
          "ternary": {
           "aaxis": {
            "gridcolor": "white",
            "linecolor": "white",
            "ticks": ""
           },
           "baxis": {
            "gridcolor": "white",
            "linecolor": "white",
            "ticks": ""
           },
           "bgcolor": "#E5ECF6",
           "caxis": {
            "gridcolor": "white",
            "linecolor": "white",
            "ticks": ""
           }
          },
          "title": {
           "x": 0.05
          },
          "xaxis": {
           "automargin": true,
           "gridcolor": "white",
           "linecolor": "white",
           "ticks": "",
           "title": {
            "standoff": 15
           },
           "zerolinecolor": "white",
           "zerolinewidth": 2
          },
          "yaxis": {
           "automargin": true,
           "gridcolor": "white",
           "linecolor": "white",
           "ticks": "",
           "title": {
            "standoff": 15
           },
           "zerolinecolor": "white",
           "zerolinewidth": 2
          }
         }
        },
        "title": {
         "text": "Trucks means per hour"
        },
        "xaxis": {
         "anchor": "y",
         "domain": [
          0,
          1
         ],
         "title": {
          "text": "Time"
         }
        },
        "yaxis": {
         "anchor": "x",
         "domain": [
          0,
          1
         ],
         "title": {
          "text": "TruckCount"
         }
        }
       }
      }
     },
     "metadata": {},
     "output_type": "display_data"
    }
   ],
   "source": [
    "trucks_df = df.copy()\n",
    "trucks_df['Time'] = pd.to_datetime(trucks_df['Time'])\n",
    "trucks_df = trucks_df.groupby('Time')['TruckCount'].mean().reset_index()\n",
    "\n",
    "fig = px.bar(trucks_df, x='Time', y='TruckCount', title='Trucks means per hour')\n",
    "fig.show()"
   ]
  },
  {
   "cell_type": "code",
   "execution_count": 43,
   "metadata": {},
   "outputs": [
    {
     "data": {
      "application/vnd.plotly.v1+json": {
       "config": {
        "plotlyServerURL": "https://plot.ly"
       },
       "data": [
        {
         "hovertemplate": "variable=CarCount<br>Time=%{x}<br>value=%{y}<extra></extra>",
         "legendgroup": "CarCount",
         "line": {
          "color": "#636efa",
          "dash": "solid"
         },
         "marker": {
          "symbol": "circle"
         },
         "mode": "lines",
         "name": "CarCount",
         "orientation": "v",
         "showlegend": true,
         "type": "scatter",
         "x": [
          "2024-01-15T00:00:00",
          "2024-01-15T00:15:00",
          "2024-01-15T00:30:00",
          "2024-01-15T00:45:00",
          "2024-01-15T01:00:00",
          "2024-01-15T01:15:00",
          "2024-01-15T01:30:00",
          "2024-01-15T01:45:00",
          "2024-01-15T02:00:00",
          "2024-01-15T02:15:00",
          "2024-01-15T02:30:00",
          "2024-01-15T02:45:00",
          "2024-01-15T03:00:00",
          "2024-01-15T03:15:00",
          "2024-01-15T03:30:00",
          "2024-01-15T03:45:00",
          "2024-01-15T04:00:00",
          "2024-01-15T04:15:00",
          "2024-01-15T04:30:00",
          "2024-01-15T04:45:00",
          "2024-01-15T05:00:00",
          "2024-01-15T05:15:00",
          "2024-01-15T05:30:00",
          "2024-01-15T05:45:00",
          "2024-01-15T06:00:00",
          "2024-01-15T06:15:00",
          "2024-01-15T06:30:00",
          "2024-01-15T06:45:00",
          "2024-01-15T07:00:00",
          "2024-01-15T07:15:00",
          "2024-01-15T07:30:00",
          "2024-01-15T07:45:00",
          "2024-01-15T08:00:00",
          "2024-01-15T08:15:00",
          "2024-01-15T08:30:00",
          "2024-01-15T08:45:00",
          "2024-01-15T09:00:00",
          "2024-01-15T09:15:00",
          "2024-01-15T09:30:00",
          "2024-01-15T09:45:00",
          "2024-01-15T10:00:00",
          "2024-01-15T10:15:00",
          "2024-01-15T10:30:00",
          "2024-01-15T10:45:00",
          "2024-01-15T11:00:00",
          "2024-01-15T11:15:00",
          "2024-01-15T11:30:00",
          "2024-01-15T11:45:00",
          "2024-01-15T12:00:00",
          "2024-01-15T12:15:00",
          "2024-01-15T12:30:00",
          "2024-01-15T12:45:00",
          "2024-01-15T13:00:00",
          "2024-01-15T13:15:00",
          "2024-01-15T13:30:00",
          "2024-01-15T13:45:00",
          "2024-01-15T14:00:00",
          "2024-01-15T14:15:00",
          "2024-01-15T14:30:00",
          "2024-01-15T14:45:00",
          "2024-01-15T15:00:00",
          "2024-01-15T15:15:00",
          "2024-01-15T15:30:00",
          "2024-01-15T15:45:00",
          "2024-01-15T16:00:00",
          "2024-01-15T16:15:00",
          "2024-01-15T16:30:00",
          "2024-01-15T16:45:00",
          "2024-01-15T17:00:00",
          "2024-01-15T17:15:00",
          "2024-01-15T17:30:00",
          "2024-01-15T17:45:00",
          "2024-01-15T18:00:00",
          "2024-01-15T18:15:00",
          "2024-01-15T18:30:00",
          "2024-01-15T18:45:00",
          "2024-01-15T19:00:00",
          "2024-01-15T19:15:00",
          "2024-01-15T19:30:00",
          "2024-01-15T19:45:00",
          "2024-01-15T20:00:00",
          "2024-01-15T20:15:00",
          "2024-01-15T20:30:00",
          "2024-01-15T20:45:00",
          "2024-01-15T21:00:00",
          "2024-01-15T21:15:00",
          "2024-01-15T21:30:00",
          "2024-01-15T21:45:00",
          "2024-01-15T22:00:00",
          "2024-01-15T22:15:00",
          "2024-01-15T22:30:00",
          "2024-01-15T22:45:00",
          "2024-01-15T23:00:00",
          "2024-01-15T23:15:00",
          "2024-01-15T23:30:00",
          "2024-01-15T23:45:00"
         ],
         "xaxis": "x",
         "y": [
          0.22539510176530148,
          0.24183016126902138,
          0.23196912556678942,
          0.23854314936827736,
          0.24136058814034367,
          0.24136058814034367,
          0.22868211366604543,
          0.2432388806550545,
          0.24887375819918703,
          0.206612176618193,
          0.2408910150116659,
          0.22915168679472314,
          0.23619528372488882,
          0.24183016126902138,
          0.28503088910737084,
          0.28643960849340394,
          0.2629609520595184,
          1.1725241023082453,
          1.1330799594993177,
          1.2988392739225496,
          1.2251162927201489,
          1.1978810512568419,
          1.1983506243855195,
          1.2777084831320527,
          1.6571235711036436,
          1.7256812478905892,
          1.6439755235006677,
          1.7299074060486888,
          1.6533669860742217,
          1.7233333822472008,
          1.6636975949051316,
          1.6744977768647187,
          1.7087766152581918,
          1.6266013177395922,
          1.70502003022877,
          1.697037287041249,
          1.7115940540302579,
          1.0058256416276576,
          0.9358592454546789,
          0.9499464393150102,
          0.9461898542855884,
          1.039634906892453,
          0.9898601552526156,
          0.8522752285500461,
          0.8621362642522781,
          0.868710288053766,
          0.8217529751859949,
          0.8842062013001305,
          0.8940672370023625,
          0.9231807709803806,
          0.8710581536971546,
          0.8194051095426064,
          0.831144437759549,
          1.0340000293483205,
          1.199289770642875,
          1.2119682451171732,
          1.1100708761941098,
          0.9889210089952601,
          1.218542268918661,
          1.0438610650505522,
          1.098331547977167,
          1.1138274612235315,
          0.9100327233774046,
          0.9659119256900524,
          1.7463424655524087,
          1.74399459990902,
          1.690463263239761,
          1.7543252087399297,
          1.6942198482691826,
          1.6834196663095953,
          1.7477511849384417,
          1.7097157615155472,
          1.7167593584457128,
          1.6829500931809176,
          1.7054896033574476,
          1.1805068454957663,
          1.2049246481870075,
          1.0964532554624562,
          1.1424714220728718,
          1.0236694205174108,
          1.0546612470101397,
          1.0678092946131157,
          1.0386957606350977,
          1.124158070054441,
          1.153741177161137,
          1.1006794136205553,
          1.0692180139991487,
          1.159845627833947,
          0.2221080898645575,
          0.22116894360720205,
          0.2192906510924912,
          0.20942961539025928,
          0.2263342480226569,
          0.21976022422116895,
          0.2188210779638135,
          0.2263342480226569
         ],
         "yaxis": "y"
        },
        {
         "hovertemplate": "variable=BikeCount<br>Time=%{x}<br>value=%{y}<extra></extra>",
         "legendgroup": "BikeCount",
         "line": {
          "color": "#EF553B",
          "dash": "solid"
         },
         "marker": {
          "symbol": "circle"
         },
         "mode": "lines",
         "name": "BikeCount",
         "orientation": "v",
         "showlegend": true,
         "type": "scatter",
         "x": [
          "2024-01-15T00:00:00",
          "2024-01-15T00:15:00",
          "2024-01-15T00:30:00",
          "2024-01-15T00:45:00",
          "2024-01-15T01:00:00",
          "2024-01-15T01:15:00",
          "2024-01-15T01:30:00",
          "2024-01-15T01:45:00",
          "2024-01-15T02:00:00",
          "2024-01-15T02:15:00",
          "2024-01-15T02:30:00",
          "2024-01-15T02:45:00",
          "2024-01-15T03:00:00",
          "2024-01-15T03:15:00",
          "2024-01-15T03:30:00",
          "2024-01-15T03:45:00",
          "2024-01-15T04:00:00",
          "2024-01-15T04:15:00",
          "2024-01-15T04:30:00",
          "2024-01-15T04:45:00",
          "2024-01-15T05:00:00",
          "2024-01-15T05:15:00",
          "2024-01-15T05:30:00",
          "2024-01-15T05:45:00",
          "2024-01-15T06:00:00",
          "2024-01-15T06:15:00",
          "2024-01-15T06:30:00",
          "2024-01-15T06:45:00",
          "2024-01-15T07:00:00",
          "2024-01-15T07:15:00",
          "2024-01-15T07:30:00",
          "2024-01-15T07:45:00",
          "2024-01-15T08:00:00",
          "2024-01-15T08:15:00",
          "2024-01-15T08:30:00",
          "2024-01-15T08:45:00",
          "2024-01-15T09:00:00",
          "2024-01-15T09:15:00",
          "2024-01-15T09:30:00",
          "2024-01-15T09:45:00",
          "2024-01-15T10:00:00",
          "2024-01-15T10:15:00",
          "2024-01-15T10:30:00",
          "2024-01-15T10:45:00",
          "2024-01-15T11:00:00",
          "2024-01-15T11:15:00",
          "2024-01-15T11:30:00",
          "2024-01-15T11:45:00",
          "2024-01-15T12:00:00",
          "2024-01-15T12:15:00",
          "2024-01-15T12:30:00",
          "2024-01-15T12:45:00",
          "2024-01-15T13:00:00",
          "2024-01-15T13:15:00",
          "2024-01-15T13:30:00",
          "2024-01-15T13:45:00",
          "2024-01-15T14:00:00",
          "2024-01-15T14:15:00",
          "2024-01-15T14:30:00",
          "2024-01-15T14:45:00",
          "2024-01-15T15:00:00",
          "2024-01-15T15:15:00",
          "2024-01-15T15:30:00",
          "2024-01-15T15:45:00",
          "2024-01-15T16:00:00",
          "2024-01-15T16:15:00",
          "2024-01-15T16:30:00",
          "2024-01-15T16:45:00",
          "2024-01-15T17:00:00",
          "2024-01-15T17:15:00",
          "2024-01-15T17:30:00",
          "2024-01-15T17:45:00",
          "2024-01-15T18:00:00",
          "2024-01-15T18:15:00",
          "2024-01-15T18:30:00",
          "2024-01-15T18:45:00",
          "2024-01-15T19:00:00",
          "2024-01-15T19:15:00",
          "2024-01-15T19:30:00",
          "2024-01-15T19:45:00",
          "2024-01-15T20:00:00",
          "2024-01-15T20:15:00",
          "2024-01-15T20:30:00",
          "2024-01-15T20:45:00",
          "2024-01-15T21:00:00",
          "2024-01-15T21:15:00",
          "2024-01-15T21:30:00",
          "2024-01-15T21:45:00",
          "2024-01-15T22:00:00",
          "2024-01-15T22:15:00",
          "2024-01-15T22:30:00",
          "2024-01-15T22:45:00",
          "2024-01-15T23:00:00",
          "2024-01-15T23:15:00",
          "2024-01-15T23:30:00",
          "2024-01-15T23:45:00"
         ],
         "xaxis": "x",
         "y": [
          0.1881335315583187,
          0.17515880524395186,
          0.16867144208676849,
          0.16434653331531288,
          0.16650898770104067,
          0.19678334910122988,
          0.13623462630085145,
          0.15785917015812947,
          0.14488444384376264,
          0.16002162454385727,
          0.17515880524395186,
          0.16218407892958508,
          0.18164616840113526,
          0.14704689822949046,
          0.20327071225841328,
          0.2011082578726855,
          0.21624543857278009,
          0.9579672928774159,
          1.0250033788349777,
          1.0401405595350723,
          0.9493174753345047,
          0.9622922016488715,
          0.836869847276659,
          0.8628192999053926,
          1.6348155156102175,
          1.7105014191106906,
          1.5699418840383834,
          1.4423570752804433,
          1.5137180700094608,
          1.574266792809839,
          1.6326530612244898,
          1.4704689822949046,
          1.7256385998107853,
          1.6153534261386673,
          1.358021354237059,
          1.6131909717529396,
          1.4401946208947154,
          1.2434112717934855,
          1.3299094472225976,
          1.0790647384781726,
          1.1590755507501012,
          1.2607109068793079,
          1.2477361805649412,
          1.2866603595080417,
          0.966617110420327,
          0.8520070279767535,
          0.9536423841059603,
          0.93418029463441,
          0.9385052034058656,
          0.9190431139343154,
          0.9428301121773213,
          0.93418029463441,
          0.9406676577915934,
          1.6369779699959452,
          1.7905122313826194,
          1.6564400594674957,
          1.5785917015812947,
          1.595891336667117,
          1.673739694553318,
          1.6240032436815786,
          1.697526692796324,
          1.4812812542235436,
          1.3623462630085148,
          1.3320719016083253,
          1.608866062981484,
          1.5721043384241113,
          1.5677794296526557,
          1.541829977023922,
          1.7191512366536017,
          1.595891336667117,
          1.6694147857818622,
          1.7429382348966076,
          1.7451006892823353,
          1.595891336667117,
          1.6304906068387621,
          1.0596026490066224,
          1.033653196377889,
          1.0401405595350723,
          1.0141911069063387,
          1.053115285849439,
          0.9601297472631436,
          0.9060683876199486,
          0.9103932963914042,
          0.8347073928909311,
          0.9601297472631436,
          0.8844438437626706,
          0.9276929314772265,
          0.8174077578051088,
          0.20975807541559668,
          0.14920935261521825,
          0.17299635085822407,
          0.17299635085822407,
          0.15137180700094607,
          0.14488444384376264,
          0.1924584403297743,
          0.11677253682930125
         ],
         "yaxis": "y"
        },
        {
         "hovertemplate": "variable=BusCount<br>Time=%{x}<br>value=%{y}<extra></extra>",
         "legendgroup": "BusCount",
         "line": {
          "color": "#00cc96",
          "dash": "solid"
         },
         "marker": {
          "symbol": "circle"
         },
         "mode": "lines",
         "name": "BusCount",
         "orientation": "v",
         "showlegend": true,
         "type": "scatter",
         "x": [
          "2024-01-15T00:00:00",
          "2024-01-15T00:15:00",
          "2024-01-15T00:30:00",
          "2024-01-15T00:45:00",
          "2024-01-15T01:00:00",
          "2024-01-15T01:15:00",
          "2024-01-15T01:30:00",
          "2024-01-15T01:45:00",
          "2024-01-15T02:00:00",
          "2024-01-15T02:15:00",
          "2024-01-15T02:30:00",
          "2024-01-15T02:45:00",
          "2024-01-15T03:00:00",
          "2024-01-15T03:15:00",
          "2024-01-15T03:30:00",
          "2024-01-15T03:45:00",
          "2024-01-15T04:00:00",
          "2024-01-15T04:15:00",
          "2024-01-15T04:30:00",
          "2024-01-15T04:45:00",
          "2024-01-15T05:00:00",
          "2024-01-15T05:15:00",
          "2024-01-15T05:30:00",
          "2024-01-15T05:45:00",
          "2024-01-15T06:00:00",
          "2024-01-15T06:15:00",
          "2024-01-15T06:30:00",
          "2024-01-15T06:45:00",
          "2024-01-15T07:00:00",
          "2024-01-15T07:15:00",
          "2024-01-15T07:30:00",
          "2024-01-15T07:45:00",
          "2024-01-15T08:00:00",
          "2024-01-15T08:15:00",
          "2024-01-15T08:30:00",
          "2024-01-15T08:45:00",
          "2024-01-15T09:00:00",
          "2024-01-15T09:15:00",
          "2024-01-15T09:30:00",
          "2024-01-15T09:45:00",
          "2024-01-15T10:00:00",
          "2024-01-15T10:15:00",
          "2024-01-15T10:30:00",
          "2024-01-15T10:45:00",
          "2024-01-15T11:00:00",
          "2024-01-15T11:15:00",
          "2024-01-15T11:30:00",
          "2024-01-15T11:45:00",
          "2024-01-15T12:00:00",
          "2024-01-15T12:15:00",
          "2024-01-15T12:30:00",
          "2024-01-15T12:45:00",
          "2024-01-15T13:00:00",
          "2024-01-15T13:15:00",
          "2024-01-15T13:30:00",
          "2024-01-15T13:45:00",
          "2024-01-15T14:00:00",
          "2024-01-15T14:15:00",
          "2024-01-15T14:30:00",
          "2024-01-15T14:45:00",
          "2024-01-15T15:00:00",
          "2024-01-15T15:15:00",
          "2024-01-15T15:30:00",
          "2024-01-15T15:45:00",
          "2024-01-15T16:00:00",
          "2024-01-15T16:15:00",
          "2024-01-15T16:30:00",
          "2024-01-15T16:45:00",
          "2024-01-15T17:00:00",
          "2024-01-15T17:15:00",
          "2024-01-15T17:30:00",
          "2024-01-15T17:45:00",
          "2024-01-15T18:00:00",
          "2024-01-15T18:15:00",
          "2024-01-15T18:30:00",
          "2024-01-15T18:45:00",
          "2024-01-15T19:00:00",
          "2024-01-15T19:15:00",
          "2024-01-15T19:30:00",
          "2024-01-15T19:45:00",
          "2024-01-15T20:00:00",
          "2024-01-15T20:15:00",
          "2024-01-15T20:30:00",
          "2024-01-15T20:45:00",
          "2024-01-15T21:00:00",
          "2024-01-15T21:15:00",
          "2024-01-15T21:30:00",
          "2024-01-15T21:45:00",
          "2024-01-15T22:00:00",
          "2024-01-15T22:15:00",
          "2024-01-15T22:30:00",
          "2024-01-15T22:45:00",
          "2024-01-15T23:00:00",
          "2024-01-15T23:15:00",
          "2024-01-15T23:30:00",
          "2024-01-15T23:45:00"
         ],
         "xaxis": "x",
         "y": [
          0.03377902885292048,
          0.029556650246305417,
          0.03377902885292048,
          0.035890218156228004,
          0.0633356790992259,
          0.04011259676284307,
          0.0422237860661506,
          0.03166783954961295,
          0.05277973258268825,
          0.04433497536945812,
          0.02322308233638283,
          0.035890218156228004,
          0.04433497536945812,
          0.03166783954961295,
          0.12878254750175933,
          0.13511611541168192,
          0.061224489795918366,
          0.31456720619282197,
          0.3314567206192822,
          0.3947923997185081,
          0.34412385643912735,
          0.4074595355383533,
          0.3019000703729768,
          0.32934553131597466,
          2.0267417311752287,
          2.1893033075299084,
          2.043631245601689,
          1.8156228008444757,
          2.052076002814919,
          2.083743842364532,
          1.988740323715693,
          1.8261787473610134,
          2.016185784658691,
          2.12807881773399,
          2.039408866995074,
          2.0584095707248418,
          1.9296270232230823,
          1.6382828993666432,
          1.2878254750175933,
          1.406052076002815,
          1.5031667839549614,
          1.5981703026038,
          1.3870513722730473,
          1.577058409570725,
          0.6396903589021815,
          0.7156931738212526,
          0.6713581984517945,
          0.6396903589021815,
          0.6460239268121042,
          0.6291344123856439,
          0.6608022519352569,
          0.6734693877551021,
          0.7072484166080225,
          1.4039408866995076,
          1.4250527797325827,
          1.6741731175228713,
          1.5073891625615763,
          1.3406052076002815,
          1.4609429978888109,
          1.5643912737508796,
          1.2498240675580579,
          1.3596059113300492,
          1.2582688247712879,
          1.289936664320901,
          2.174524982406756,
          2.0584095707248418,
          2.064743138634764,
          1.967628430682618,
          2.153413089373681,
          2.0330752990851515,
          1.8874032371569318,
          2.2969739619985923,
          2.1259676284306828,
          2.1090781140042223,
          2.1618578465869107,
          0.9014778325123153,
          0.9711470795214637,
          0.8761435608726249,
          0.8909218859957777,
          0.8655876143560873,
          0.8402533427163968,
          0.8318085855031667,
          0.8698099929627023,
          0.8930330752990852,
          0.88881069669247,
          0.844475721323012,
          0.8402533427163968,
          0.8191414496833216,
          0.02322308233638283,
          0.03377902885292048,
          0.025334271639690358,
          0.03377902885292048,
          0.025334271639690358,
          0.02744546094299789,
          0.025334271639690358,
          0.035890218156228004
         ],
         "yaxis": "y"
        },
        {
         "hovertemplate": "variable=TruckCount<br>Time=%{x}<br>value=%{y}<extra></extra>",
         "legendgroup": "TruckCount",
         "line": {
          "color": "#ab63fa",
          "dash": "solid"
         },
         "marker": {
          "symbol": "circle"
         },
         "mode": "lines",
         "name": "TruckCount",
         "orientation": "v",
         "showlegend": true,
         "type": "scatter",
         "x": [
          "2024-01-15T00:00:00",
          "2024-01-15T00:15:00",
          "2024-01-15T00:30:00",
          "2024-01-15T00:45:00",
          "2024-01-15T01:00:00",
          "2024-01-15T01:15:00",
          "2024-01-15T01:30:00",
          "2024-01-15T01:45:00",
          "2024-01-15T02:00:00",
          "2024-01-15T02:15:00",
          "2024-01-15T02:30:00",
          "2024-01-15T02:45:00",
          "2024-01-15T03:00:00",
          "2024-01-15T03:15:00",
          "2024-01-15T03:30:00",
          "2024-01-15T03:45:00",
          "2024-01-15T04:00:00",
          "2024-01-15T04:15:00",
          "2024-01-15T04:30:00",
          "2024-01-15T04:45:00",
          "2024-01-15T05:00:00",
          "2024-01-15T05:15:00",
          "2024-01-15T05:30:00",
          "2024-01-15T05:45:00",
          "2024-01-15T06:00:00",
          "2024-01-15T06:15:00",
          "2024-01-15T06:30:00",
          "2024-01-15T06:45:00",
          "2024-01-15T07:00:00",
          "2024-01-15T07:15:00",
          "2024-01-15T07:30:00",
          "2024-01-15T07:45:00",
          "2024-01-15T08:00:00",
          "2024-01-15T08:15:00",
          "2024-01-15T08:30:00",
          "2024-01-15T08:45:00",
          "2024-01-15T09:00:00",
          "2024-01-15T09:15:00",
          "2024-01-15T09:30:00",
          "2024-01-15T09:45:00",
          "2024-01-15T10:00:00",
          "2024-01-15T10:15:00",
          "2024-01-15T10:30:00",
          "2024-01-15T10:45:00",
          "2024-01-15T11:00:00",
          "2024-01-15T11:15:00",
          "2024-01-15T11:30:00",
          "2024-01-15T11:45:00",
          "2024-01-15T12:00:00",
          "2024-01-15T12:15:00",
          "2024-01-15T12:30:00",
          "2024-01-15T12:45:00",
          "2024-01-15T13:00:00",
          "2024-01-15T13:15:00",
          "2024-01-15T13:30:00",
          "2024-01-15T13:45:00",
          "2024-01-15T14:00:00",
          "2024-01-15T14:15:00",
          "2024-01-15T14:30:00",
          "2024-01-15T14:45:00",
          "2024-01-15T15:00:00",
          "2024-01-15T15:15:00",
          "2024-01-15T15:30:00",
          "2024-01-15T15:45:00",
          "2024-01-15T16:00:00",
          "2024-01-15T16:15:00",
          "2024-01-15T16:30:00",
          "2024-01-15T16:45:00",
          "2024-01-15T17:00:00",
          "2024-01-15T17:15:00",
          "2024-01-15T17:30:00",
          "2024-01-15T17:45:00",
          "2024-01-15T18:00:00",
          "2024-01-15T18:15:00",
          "2024-01-15T18:30:00",
          "2024-01-15T18:45:00",
          "2024-01-15T19:00:00",
          "2024-01-15T19:15:00",
          "2024-01-15T19:30:00",
          "2024-01-15T19:45:00",
          "2024-01-15T20:00:00",
          "2024-01-15T20:15:00",
          "2024-01-15T20:30:00",
          "2024-01-15T20:45:00",
          "2024-01-15T21:00:00",
          "2024-01-15T21:15:00",
          "2024-01-15T21:30:00",
          "2024-01-15T21:45:00",
          "2024-01-15T22:00:00",
          "2024-01-15T22:15:00",
          "2024-01-15T22:30:00",
          "2024-01-15T22:45:00",
          "2024-01-15T23:00:00",
          "2024-01-15T23:15:00",
          "2024-01-15T23:30:00",
          "2024-01-15T23:45:00"
         ],
         "xaxis": "x",
         "y": [
          1.6923717850329993,
          1.572390203258272,
          1.4145197009231039,
          1.5092420023242046,
          1.3618962001447148,
          1.6965816650952705,
          1.4524086214835443,
          1.4376740412655953,
          1.713421185344355,
          1.5787050233516786,
          1.4545135615146798,
          1.4881926020128489,
          1.6186988839432543,
          1.5681803231960005,
          1.7260508255311686,
          1.6671125046593724,
          1.679742144846186,
          0.6672659898699762,
          0.7262043107417722,
          0.8714451728901266,
          0.7346240708663144,
          0.73672901089745,
          0.795667331769246,
          0.7851426316135682,
          0.2546977437674041,
          0.21470388317582828,
          0.26101256386081084,
          0.22312364330037057,
          0.2273335233626417,
          0.23154340342491284,
          0.250487863705133,
          0.235753283487184,
          0.26311750389194644,
          0.21470388317582828,
          0.22943846339377727,
          0.235753283487184,
          0.21891376323809944,
          1.1071984563773105,
          1.0587848356611924,
          1.0061613348828031,
          0.9956366347271253,
          1.1177231565329884,
          1.0629947157234634,
          0.9809020545091763,
          1.4313592211721884,
          1.425044401078782,
          1.4418839213278665,
          1.359791260113579,
          1.359791260113579,
          1.4902975420439846,
          1.403995000767426,
          1.4566185015458155,
          1.425044401078782,
          0.7725129914267547,
          0.751463591115399,
          0.7935623917381105,
          0.6967351503058742,
          0.7304141908040432,
          0.7788278115201615,
          0.6567412897142982,
          0.6967351503058742,
          0.6314820093406714,
          0.7072598504615519,
          0.7072598504615519,
          0.4399324665073344,
          0.3957287258534874,
          0.42940776635165656,
          0.4357225864450633,
          0.427302826320521,
          0.44835222663187674,
          0.412568246102572,
          0.43361764641392775,
          0.44835222663187674,
          0.4146731861337075,
          0.42940776635165656,
          1.2208652180586315,
          1.1471923169688865,
          1.1703466573113777,
          1.0103712149450743,
          1.2755936588681562,
          1.330322099677681,
          0.957747714166685,
          1.2019207577784112,
          1.0503650755366503,
          1.1913960576227334,
          1.0924638761593615,
          1.3134825794285965,
          1.3808406604249348,
          1.5197667024798824,
          1.7407854057491174,
          1.551340802946916,
          1.719736005437762,
          1.705001425219813,
          1.4271493411099174,
          1.6755322647839148,
          1.547130922884645
         ],
         "yaxis": "y"
        }
       ],
       "layout": {
        "legend": {
         "title": {
          "text": "variable"
         },
         "tracegroupgap": 0
        },
        "template": {
         "data": {
          "bar": [
           {
            "error_x": {
             "color": "#2a3f5f"
            },
            "error_y": {
             "color": "#2a3f5f"
            },
            "marker": {
             "line": {
              "color": "#E5ECF6",
              "width": 0.5
             },
             "pattern": {
              "fillmode": "overlay",
              "size": 10,
              "solidity": 0.2
             }
            },
            "type": "bar"
           }
          ],
          "barpolar": [
           {
            "marker": {
             "line": {
              "color": "#E5ECF6",
              "width": 0.5
             },
             "pattern": {
              "fillmode": "overlay",
              "size": 10,
              "solidity": 0.2
             }
            },
            "type": "barpolar"
           }
          ],
          "carpet": [
           {
            "aaxis": {
             "endlinecolor": "#2a3f5f",
             "gridcolor": "white",
             "linecolor": "white",
             "minorgridcolor": "white",
             "startlinecolor": "#2a3f5f"
            },
            "baxis": {
             "endlinecolor": "#2a3f5f",
             "gridcolor": "white",
             "linecolor": "white",
             "minorgridcolor": "white",
             "startlinecolor": "#2a3f5f"
            },
            "type": "carpet"
           }
          ],
          "choropleth": [
           {
            "colorbar": {
             "outlinewidth": 0,
             "ticks": ""
            },
            "type": "choropleth"
           }
          ],
          "contour": [
           {
            "colorbar": {
             "outlinewidth": 0,
             "ticks": ""
            },
            "colorscale": [
             [
              0,
              "#0d0887"
             ],
             [
              0.1111111111111111,
              "#46039f"
             ],
             [
              0.2222222222222222,
              "#7201a8"
             ],
             [
              0.3333333333333333,
              "#9c179e"
             ],
             [
              0.4444444444444444,
              "#bd3786"
             ],
             [
              0.5555555555555556,
              "#d8576b"
             ],
             [
              0.6666666666666666,
              "#ed7953"
             ],
             [
              0.7777777777777778,
              "#fb9f3a"
             ],
             [
              0.8888888888888888,
              "#fdca26"
             ],
             [
              1,
              "#f0f921"
             ]
            ],
            "type": "contour"
           }
          ],
          "contourcarpet": [
           {
            "colorbar": {
             "outlinewidth": 0,
             "ticks": ""
            },
            "type": "contourcarpet"
           }
          ],
          "heatmap": [
           {
            "colorbar": {
             "outlinewidth": 0,
             "ticks": ""
            },
            "colorscale": [
             [
              0,
              "#0d0887"
             ],
             [
              0.1111111111111111,
              "#46039f"
             ],
             [
              0.2222222222222222,
              "#7201a8"
             ],
             [
              0.3333333333333333,
              "#9c179e"
             ],
             [
              0.4444444444444444,
              "#bd3786"
             ],
             [
              0.5555555555555556,
              "#d8576b"
             ],
             [
              0.6666666666666666,
              "#ed7953"
             ],
             [
              0.7777777777777778,
              "#fb9f3a"
             ],
             [
              0.8888888888888888,
              "#fdca26"
             ],
             [
              1,
              "#f0f921"
             ]
            ],
            "type": "heatmap"
           }
          ],
          "heatmapgl": [
           {
            "colorbar": {
             "outlinewidth": 0,
             "ticks": ""
            },
            "colorscale": [
             [
              0,
              "#0d0887"
             ],
             [
              0.1111111111111111,
              "#46039f"
             ],
             [
              0.2222222222222222,
              "#7201a8"
             ],
             [
              0.3333333333333333,
              "#9c179e"
             ],
             [
              0.4444444444444444,
              "#bd3786"
             ],
             [
              0.5555555555555556,
              "#d8576b"
             ],
             [
              0.6666666666666666,
              "#ed7953"
             ],
             [
              0.7777777777777778,
              "#fb9f3a"
             ],
             [
              0.8888888888888888,
              "#fdca26"
             ],
             [
              1,
              "#f0f921"
             ]
            ],
            "type": "heatmapgl"
           }
          ],
          "histogram": [
           {
            "marker": {
             "pattern": {
              "fillmode": "overlay",
              "size": 10,
              "solidity": 0.2
             }
            },
            "type": "histogram"
           }
          ],
          "histogram2d": [
           {
            "colorbar": {
             "outlinewidth": 0,
             "ticks": ""
            },
            "colorscale": [
             [
              0,
              "#0d0887"
             ],
             [
              0.1111111111111111,
              "#46039f"
             ],
             [
              0.2222222222222222,
              "#7201a8"
             ],
             [
              0.3333333333333333,
              "#9c179e"
             ],
             [
              0.4444444444444444,
              "#bd3786"
             ],
             [
              0.5555555555555556,
              "#d8576b"
             ],
             [
              0.6666666666666666,
              "#ed7953"
             ],
             [
              0.7777777777777778,
              "#fb9f3a"
             ],
             [
              0.8888888888888888,
              "#fdca26"
             ],
             [
              1,
              "#f0f921"
             ]
            ],
            "type": "histogram2d"
           }
          ],
          "histogram2dcontour": [
           {
            "colorbar": {
             "outlinewidth": 0,
             "ticks": ""
            },
            "colorscale": [
             [
              0,
              "#0d0887"
             ],
             [
              0.1111111111111111,
              "#46039f"
             ],
             [
              0.2222222222222222,
              "#7201a8"
             ],
             [
              0.3333333333333333,
              "#9c179e"
             ],
             [
              0.4444444444444444,
              "#bd3786"
             ],
             [
              0.5555555555555556,
              "#d8576b"
             ],
             [
              0.6666666666666666,
              "#ed7953"
             ],
             [
              0.7777777777777778,
              "#fb9f3a"
             ],
             [
              0.8888888888888888,
              "#fdca26"
             ],
             [
              1,
              "#f0f921"
             ]
            ],
            "type": "histogram2dcontour"
           }
          ],
          "mesh3d": [
           {
            "colorbar": {
             "outlinewidth": 0,
             "ticks": ""
            },
            "type": "mesh3d"
           }
          ],
          "parcoords": [
           {
            "line": {
             "colorbar": {
              "outlinewidth": 0,
              "ticks": ""
             }
            },
            "type": "parcoords"
           }
          ],
          "pie": [
           {
            "automargin": true,
            "type": "pie"
           }
          ],
          "scatter": [
           {
            "fillpattern": {
             "fillmode": "overlay",
             "size": 10,
             "solidity": 0.2
            },
            "type": "scatter"
           }
          ],
          "scatter3d": [
           {
            "line": {
             "colorbar": {
              "outlinewidth": 0,
              "ticks": ""
             }
            },
            "marker": {
             "colorbar": {
              "outlinewidth": 0,
              "ticks": ""
             }
            },
            "type": "scatter3d"
           }
          ],
          "scattercarpet": [
           {
            "marker": {
             "colorbar": {
              "outlinewidth": 0,
              "ticks": ""
             }
            },
            "type": "scattercarpet"
           }
          ],
          "scattergeo": [
           {
            "marker": {
             "colorbar": {
              "outlinewidth": 0,
              "ticks": ""
             }
            },
            "type": "scattergeo"
           }
          ],
          "scattergl": [
           {
            "marker": {
             "colorbar": {
              "outlinewidth": 0,
              "ticks": ""
             }
            },
            "type": "scattergl"
           }
          ],
          "scattermapbox": [
           {
            "marker": {
             "colorbar": {
              "outlinewidth": 0,
              "ticks": ""
             }
            },
            "type": "scattermapbox"
           }
          ],
          "scatterpolar": [
           {
            "marker": {
             "colorbar": {
              "outlinewidth": 0,
              "ticks": ""
             }
            },
            "type": "scatterpolar"
           }
          ],
          "scatterpolargl": [
           {
            "marker": {
             "colorbar": {
              "outlinewidth": 0,
              "ticks": ""
             }
            },
            "type": "scatterpolargl"
           }
          ],
          "scatterternary": [
           {
            "marker": {
             "colorbar": {
              "outlinewidth": 0,
              "ticks": ""
             }
            },
            "type": "scatterternary"
           }
          ],
          "surface": [
           {
            "colorbar": {
             "outlinewidth": 0,
             "ticks": ""
            },
            "colorscale": [
             [
              0,
              "#0d0887"
             ],
             [
              0.1111111111111111,
              "#46039f"
             ],
             [
              0.2222222222222222,
              "#7201a8"
             ],
             [
              0.3333333333333333,
              "#9c179e"
             ],
             [
              0.4444444444444444,
              "#bd3786"
             ],
             [
              0.5555555555555556,
              "#d8576b"
             ],
             [
              0.6666666666666666,
              "#ed7953"
             ],
             [
              0.7777777777777778,
              "#fb9f3a"
             ],
             [
              0.8888888888888888,
              "#fdca26"
             ],
             [
              1,
              "#f0f921"
             ]
            ],
            "type": "surface"
           }
          ],
          "table": [
           {
            "cells": {
             "fill": {
              "color": "#EBF0F8"
             },
             "line": {
              "color": "white"
             }
            },
            "header": {
             "fill": {
              "color": "#C8D4E3"
             },
             "line": {
              "color": "white"
             }
            },
            "type": "table"
           }
          ]
         },
         "layout": {
          "annotationdefaults": {
           "arrowcolor": "#2a3f5f",
           "arrowhead": 0,
           "arrowwidth": 1
          },
          "autotypenumbers": "strict",
          "coloraxis": {
           "colorbar": {
            "outlinewidth": 0,
            "ticks": ""
           }
          },
          "colorscale": {
           "diverging": [
            [
             0,
             "#8e0152"
            ],
            [
             0.1,
             "#c51b7d"
            ],
            [
             0.2,
             "#de77ae"
            ],
            [
             0.3,
             "#f1b6da"
            ],
            [
             0.4,
             "#fde0ef"
            ],
            [
             0.5,
             "#f7f7f7"
            ],
            [
             0.6,
             "#e6f5d0"
            ],
            [
             0.7,
             "#b8e186"
            ],
            [
             0.8,
             "#7fbc41"
            ],
            [
             0.9,
             "#4d9221"
            ],
            [
             1,
             "#276419"
            ]
           ],
           "sequential": [
            [
             0,
             "#0d0887"
            ],
            [
             0.1111111111111111,
             "#46039f"
            ],
            [
             0.2222222222222222,
             "#7201a8"
            ],
            [
             0.3333333333333333,
             "#9c179e"
            ],
            [
             0.4444444444444444,
             "#bd3786"
            ],
            [
             0.5555555555555556,
             "#d8576b"
            ],
            [
             0.6666666666666666,
             "#ed7953"
            ],
            [
             0.7777777777777778,
             "#fb9f3a"
            ],
            [
             0.8888888888888888,
             "#fdca26"
            ],
            [
             1,
             "#f0f921"
            ]
           ],
           "sequentialminus": [
            [
             0,
             "#0d0887"
            ],
            [
             0.1111111111111111,
             "#46039f"
            ],
            [
             0.2222222222222222,
             "#7201a8"
            ],
            [
             0.3333333333333333,
             "#9c179e"
            ],
            [
             0.4444444444444444,
             "#bd3786"
            ],
            [
             0.5555555555555556,
             "#d8576b"
            ],
            [
             0.6666666666666666,
             "#ed7953"
            ],
            [
             0.7777777777777778,
             "#fb9f3a"
            ],
            [
             0.8888888888888888,
             "#fdca26"
            ],
            [
             1,
             "#f0f921"
            ]
           ]
          },
          "colorway": [
           "#636efa",
           "#EF553B",
           "#00cc96",
           "#ab63fa",
           "#FFA15A",
           "#19d3f3",
           "#FF6692",
           "#B6E880",
           "#FF97FF",
           "#FECB52"
          ],
          "font": {
           "color": "#2a3f5f"
          },
          "geo": {
           "bgcolor": "white",
           "lakecolor": "white",
           "landcolor": "#E5ECF6",
           "showlakes": true,
           "showland": true,
           "subunitcolor": "white"
          },
          "hoverlabel": {
           "align": "left"
          },
          "hovermode": "closest",
          "mapbox": {
           "style": "light"
          },
          "paper_bgcolor": "white",
          "plot_bgcolor": "#E5ECF6",
          "polar": {
           "angularaxis": {
            "gridcolor": "white",
            "linecolor": "white",
            "ticks": ""
           },
           "bgcolor": "#E5ECF6",
           "radialaxis": {
            "gridcolor": "white",
            "linecolor": "white",
            "ticks": ""
           }
          },
          "scene": {
           "xaxis": {
            "backgroundcolor": "#E5ECF6",
            "gridcolor": "white",
            "gridwidth": 2,
            "linecolor": "white",
            "showbackground": true,
            "ticks": "",
            "zerolinecolor": "white"
           },
           "yaxis": {
            "backgroundcolor": "#E5ECF6",
            "gridcolor": "white",
            "gridwidth": 2,
            "linecolor": "white",
            "showbackground": true,
            "ticks": "",
            "zerolinecolor": "white"
           },
           "zaxis": {
            "backgroundcolor": "#E5ECF6",
            "gridcolor": "white",
            "gridwidth": 2,
            "linecolor": "white",
            "showbackground": true,
            "ticks": "",
            "zerolinecolor": "white"
           }
          },
          "shapedefaults": {
           "line": {
            "color": "#2a3f5f"
           }
          },
          "ternary": {
           "aaxis": {
            "gridcolor": "white",
            "linecolor": "white",
            "ticks": ""
           },
           "baxis": {
            "gridcolor": "white",
            "linecolor": "white",
            "ticks": ""
           },
           "bgcolor": "#E5ECF6",
           "caxis": {
            "gridcolor": "white",
            "linecolor": "white",
            "ticks": ""
           }
          },
          "title": {
           "x": 0.05
          },
          "xaxis": {
           "automargin": true,
           "gridcolor": "white",
           "linecolor": "white",
           "ticks": "",
           "title": {
            "standoff": 15
           },
           "zerolinecolor": "white",
           "zerolinewidth": 2
          },
          "yaxis": {
           "automargin": true,
           "gridcolor": "white",
           "linecolor": "white",
           "ticks": "",
           "title": {
            "standoff": 15
           },
           "zerolinecolor": "white",
           "zerolinewidth": 2
          }
         }
        },
        "title": {
         "text": "Moyenne des véhicules par heure"
        },
        "xaxis": {
         "anchor": "y",
         "domain": [
          0,
          1
         ],
         "title": {
          "text": "Time"
         }
        },
        "yaxis": {
         "anchor": "x",
         "domain": [
          0,
          1
         ],
         "title": {
          "text": "value"
         }
        }
       }
      }
     },
     "metadata": {},
     "output_type": "display_data"
    }
   ],
   "source": [
    "hourly_df = df.copy()\n",
    "list_vehicles = ['CarCount','BikeCount','BusCount','TruckCount']\n",
    "vehicle_means = hourly_df[list_vehicles].mean().reset_index()\n",
    "vehicle_means = vehicle_means.rename(columns={'index' : 'Vehicle', 0 : 'Average'})\n",
    "\n",
    "hourly_df['Time'] = pd.to_datetime(hourly_df['Time'])\n",
    "hourly_df = hourly_df.groupby('Time')[list_vehicles].mean().reset_index()\n",
    "\n",
    "for v in list_vehicles:\n",
    "    v_average = vehicle_means.loc[vehicle_means['Vehicle'] == v, 'Average'].values[0]\n",
    "    hourly_df[v] = hourly_df[v] / v_average\n",
    "\n",
    "fig = px.line(hourly_df, x='Time', y=list_vehicles, title='Moyenne des véhicules par heure')\n",
    "fig.show()"
   ]
  },
  {
   "cell_type": "markdown",
   "metadata": {},
   "source": [
    "## Some correlations with the output"
   ]
  },
  {
   "cell_type": "code",
   "execution_count": 44,
   "metadata": {},
   "outputs": [
    {
     "name": "stdout",
     "output_type": "stream",
     "text": [
      "La corrélation entre le traffic et CarCount  avec la méthode kendall est de 0.5539955223221965 \n",
      "La corrélation entre le traffic et CarCount  avec la méthode pearson est de 0.7462804547623046 \n",
      "La corrélation entre le traffic et CarCount  avec la méthode spearman est de 0.6911675414283132 \n",
      "La corrélation entre le traffic et BikeCount  avec la méthode kendall est de 0.4496208394590606 \n",
      "La corrélation entre le traffic et BikeCount  avec la méthode pearson est de 0.6092848399666767 \n",
      "La corrélation entre le traffic et BikeCount  avec la méthode spearman est de 0.5609309081145483 \n",
      "La corrélation entre le traffic et BusCount  avec la méthode kendall est de 0.5555610761332743 \n",
      "La corrélation entre le traffic et BusCount  avec la méthode pearson est de 0.7339146242435511 \n",
      "La corrélation entre le traffic et BusCount  avec la méthode spearman est de 0.6887718292772953 \n",
      "La corrélation entre le traffic et TruckCount  avec la méthode kendall est de -0.20817539711711971 \n",
      "La corrélation entre le traffic et TruckCount  avec la méthode pearson est de -0.32730875454080527 \n",
      "La corrélation entre le traffic et TruckCount  avec la méthode spearman est de -0.29670407326696446 \n",
      "La corrélation entre le traffic et Total  avec la méthode kendall est de 0.6430143694543629 \n",
      "La corrélation entre le traffic et Total  avec la méthode pearson est de 0.8157472713449615 \n",
      "La corrélation entre le traffic et Total  avec la méthode spearman est de 0.7769694636000531 \n",
      "=====================\n",
      "The correlation between traffic and Time  using the  kendall method is -0.2936143006829269 \n",
      "Method : pearson impossible\n",
      "The correlation between traffic and Time  using the  spearman method is -0.39147422693725825 \n",
      "The correlation between traffic and Date  using the  kendall method is 0.006761225510172983 \n",
      "Method : pearson impossible\n",
      "The correlation between traffic and Date  using the  spearman method is 0.008762254158185705 \n",
      "The correlation between traffic and Day of the week  using the  kendall method is 0.02419108356080775 \n",
      "Method : pearson impossible\n",
      "The correlation between traffic and Day of the week  using the  spearman method is 0.029536756446568994 \n"
     ]
    },
    {
     "name": "stderr",
     "output_type": "stream",
     "text": [
      "c:\\Users\\mathy\\AppData\\Local\\Programs\\Python\\Python310\\lib\\site-packages\\scipy\\stats\\_stats_py.py:110: RuntimeWarning:\n",
      "\n",
      "The input array could not be properly checked for nan values. nan values will be ignored.\n",
      "\n"
     ]
    }
   ],
   "source": [
    "corr_df = df.copy()\n",
    "corr_df[\"Traffic Situation\"] = corr_df['Traffic Situation'].map(traffic_conversion_v2)\n",
    "methods = [\"kendall\",\"pearson\",\"spearman\"]\n",
    "for column in corr_df.columns:\n",
    "    for method in methods:\n",
    "        if column not in [\"Unnamed: 0\",\"Time\",\"Traffic Situation\",\"Date\",\"Day of the week\"]:\n",
    "            new_df =corr_df[[column,\"Traffic Situation\"]]\n",
    "            value = corr_df[\"Traffic Situation\"].corr(corr_df[column],method=method)\n",
    "            print(f\"La corrélation entre le traffic et {column}  avec la méthode {method} est de {value} \")\n",
    "            \n",
    "        \n",
    "   \n",
    "print(\"=====================\")     \n",
    "corr_df_2 = df.copy()\n",
    "corr_df_2['Day of the week'] = pd.Categorical(df['Day of the week'], ordered=True)\n",
    "corr_df_2['Traffic Situation'] = pd.Categorical(df['Traffic Situation'], ordered=True)\n",
    "corr_df_2['Date'] = pd.Categorical(corr_df_2['Date'],ordered=True)\n",
    "corr_df_2['Time'] = pd.Categorical(corr_df_2['Time'],ordered=True)\n",
    "columns = [\"Time\",\"Date\",\"Day of the week\"]\n",
    "for column in columns:\n",
    "    for method in methods:\n",
    "        try:\n",
    "            value = corr_df_2[\"Traffic Situation\"].corr(corr_df_2[column],method=method)\n",
    "            print(f\"The correlation between traffic and {column}  using the  {method} method is {value} \")\n",
    "        except:\n",
    "            print(f\"Method : {method} impossible\")\n"
   ]
  },
  {
   "cell_type": "markdown",
   "metadata": {},
   "source": [
    "## Correlation with input (with eachother)"
   ]
  },
  {
   "cell_type": "code",
   "execution_count": 45,
   "metadata": {},
   "outputs": [],
   "source": [
    "matrice_df = df.copy()\n",
    "\n",
    "liste_input = [\"Time\",\"Date\",\"Day of the week\",\"CarCount\",\"BikeCount\",\"BusCount\",\"TruckCount\",\"Total\"]\n",
    "methods = [\"kendall\",\"pearson\",\"spearman\"]\n",
    "dict_matrice = {}\n",
    "\n",
    "for method in methods:\n",
    "    dict_matrice[method] = np.zeros((8,8))\n",
    "    for i,input_i in enumerate(liste_input):\n",
    "        for j,input_j in enumerate(liste_input):\n",
    "            try:\n",
    "                dict_matrice[method][i][j] = matrice_df[input_i].corr(matrice_df[input_j],method=method)\n",
    "            except:\n",
    "                dict_matrice[method][i][j] = 0\n",
    "for method,matrice in dict_matrice.items():\n",
    "    fig = px.imshow(matrice,title=f\"Correlation matrix for inputs with method: {method}\",\n",
    "                    labels=dict(x=\"Inputs\", y=\"Inputs\", color=\"Correlation\"),\n",
    "                    x=liste_input,\n",
    "                    y=liste_input)\n",
    "    fig.show()\n",
    "    "
   ]
  },
  {
   "cell_type": "markdown",
   "metadata": {},
   "source": [
    "## Prediction"
   ]
  },
  {
   "cell_type": "markdown",
   "metadata": {},
   "source": [
    "##### Encoded data"
   ]
  },
  {
   "cell_type": "code",
   "execution_count": null,
   "metadata": {},
   "outputs": [
    {
     "name": "stdout",
     "output_type": "stream",
     "text": [
      "      CarCount  BikeCount  BusCount  TruckCount  Total  \\\n",
      "0           31          0         4           4     39   \n",
      "1           49          0         3           3     55   \n",
      "2           46          0         3           6     55   \n",
      "3           51          0         2           5     58   \n",
      "4           57          6        15          16     94   \n",
      "...        ...        ...       ...         ...    ...   \n",
      "2971        16          3         1          36     56   \n",
      "2972        11          0         1          30     42   \n",
      "2973        15          4         1          25     45   \n",
      "2974        16          5         0          27     48   \n",
      "2975        14          3         1          15     33   \n",
      "\n",
      "      Day of the week_encoded  Hour  Minute  AM_PM  Date Traffic Situation  \n",
      "0                           5     0       0      0    10               low  \n",
      "1                           5     0      15      0    10               low  \n",
      "2                           5     0      30      0    10               low  \n",
      "3                           5     0      45      0    10               low  \n",
      "4                           5     1       0      0    10            normal  \n",
      "...                       ...   ...     ...    ...   ...               ...  \n",
      "2971                        4    22      45      1     9            normal  \n",
      "2972                        4    23       0      1     9            normal  \n",
      "2973                        4    23      15      1     9            normal  \n",
      "2974                        4    23      30      1     9            normal  \n",
      "2975                        4    23      45      1     9            normal  \n",
      "\n",
      "[2976 rows x 11 columns]\n"
     ]
    }
   ],
   "source": [
    "\n",
    "\n",
    "predict_df = pd.read_csv(\"sources/Traffic.csv\")\n",
    "\n",
    "# Colonne to change in numeric format\n",
    "categorical_columns = [\"Time\", \"Day of the week\"]\n",
    "\n",
    "# Encoded \n",
    "label_encoder = LabelEncoder()\n",
    "predict_df_encoded = predict_df.copy()  \n",
    "\n",
    "\n",
    "predict_df_encoded['Time'] = pd.to_datetime(predict_df['Time'])\n",
    "\n",
    "predict_df_encoded['Hour'] = predict_df_encoded['Time'].dt.hour  # extract hour\n",
    "predict_df_encoded['Minute'] = predict_df_encoded['Time'].dt.minute  # Extract minute\n",
    "\n",
    "# AM_PO\n",
    "predict_df_encoded['AM_PM'] = predict_df_encoded['Time'].dt.strftime('%p')\n",
    "predict_df_encoded['AM_PM'] = predict_df_encoded['AM_PM'].map({'AM': 0, 'PM': 1})\n",
    "\n",
    "\n",
    "predict_df_encoded[\"Day of the week\" + '_encoded'] = label_encoder.fit_transform(predict_df[\"Day of the week\"])\n",
    "\n",
    "\n",
    "selected_features = [\"CarCount\", \"BikeCount\", \"BusCount\", \"TruckCount\", \"Total\", \"Day of the week_encoded\",\"Hour\", \"Minute\", \"AM_PM\",\"Date\",\"Traffic Situation\"]\n",
    "# selected_features = [\"CarCount\", \"BikeCount\", \"BusCount\", \"TruckCount\", \"Total\", \"Day of the week_encoded\",\"Date\",\"Traffic Situation\"]\n",
    "# selected_features = [\"CarCount\", \"BikeCount\", \"BusCount\", \"TruckCount\", \"Total\",\"Traffic Situation\"]\n",
    "\n",
    "X = predict_df_encoded[selected_features]\n",
    "print(X)\n",
    "#Now, X add numeric caracteristic and encoded one for training"
   ]
  },
  {
   "cell_type": "markdown",
   "metadata": {},
   "source": [
    "#### Model (softmax cross  entropy)"
   ]
  },
  {
   "cell_type": "code",
   "execution_count": null,
   "metadata": {},
   "outputs": [
    {
     "name": "stdout",
     "output_type": "stream",
     "text": [
      "Epoch 1/100\n",
      "149/149 - 1s - loss: 1.8781 - accuracy: 0.2025 - val_loss: 1.8214 - val_accuracy: 0.2550 - 1s/epoch - 8ms/step\n",
      "Epoch 2/100\n",
      "149/149 - 0s - loss: 1.3156 - accuracy: 0.3979 - val_loss: 1.3164 - val_accuracy: 0.3803 - 262ms/epoch - 2ms/step\n",
      "Epoch 3/100\n",
      "149/149 - 0s - loss: 1.0039 - accuracy: 0.6042 - val_loss: 1.0260 - val_accuracy: 0.5727 - 196ms/epoch - 1ms/step\n",
      "Epoch 4/100\n",
      "149/149 - 0s - loss: 0.8452 - accuracy: 0.7059 - val_loss: 0.8627 - val_accuracy: 0.6689 - 172ms/epoch - 1ms/step\n",
      "Epoch 5/100\n",
      "149/149 - 0s - loss: 0.7554 - accuracy: 0.7349 - val_loss: 0.7650 - val_accuracy: 0.7204 - 195ms/epoch - 1ms/step\n",
      "Epoch 6/100\n",
      "149/149 - 1s - loss: 0.6967 - accuracy: 0.7466 - val_loss: 0.6997 - val_accuracy: 0.7517 - 637ms/epoch - 4ms/step\n",
      "Epoch 7/100\n",
      "149/149 - 1s - loss: 0.6535 - accuracy: 0.7563 - val_loss: 0.6521 - val_accuracy: 0.7740 - 704ms/epoch - 5ms/step\n",
      "Epoch 8/100\n",
      "149/149 - 0s - loss: 0.6196 - accuracy: 0.7630 - val_loss: 0.6141 - val_accuracy: 0.7875 - 311ms/epoch - 2ms/step\n",
      "Epoch 9/100\n",
      "149/149 - 0s - loss: 0.5916 - accuracy: 0.7702 - val_loss: 0.5847 - val_accuracy: 0.7852 - 179ms/epoch - 1ms/step\n",
      "Epoch 10/100\n",
      "149/149 - 0s - loss: 0.5678 - accuracy: 0.7756 - val_loss: 0.5596 - val_accuracy: 0.7942 - 149ms/epoch - 1ms/step\n",
      "Epoch 11/100\n",
      "149/149 - 0s - loss: 0.5474 - accuracy: 0.7845 - val_loss: 0.5392 - val_accuracy: 0.7987 - 166ms/epoch - 1ms/step\n",
      "Epoch 12/100\n",
      "149/149 - 0s - loss: 0.5294 - accuracy: 0.7929 - val_loss: 0.5212 - val_accuracy: 0.8098 - 147ms/epoch - 984us/step\n",
      "Epoch 13/100\n",
      "149/149 - 0s - loss: 0.5134 - accuracy: 0.8004 - val_loss: 0.5052 - val_accuracy: 0.8121 - 223ms/epoch - 1ms/step\n",
      "Epoch 14/100\n",
      "149/149 - 0s - loss: 0.4994 - accuracy: 0.8008 - val_loss: 0.4914 - val_accuracy: 0.8233 - 200ms/epoch - 1ms/step\n",
      "Epoch 15/100\n",
      "149/149 - 0s - loss: 0.4868 - accuracy: 0.8088 - val_loss: 0.4800 - val_accuracy: 0.8322 - 195ms/epoch - 1ms/step\n",
      "Epoch 16/100\n",
      "149/149 - 0s - loss: 0.4754 - accuracy: 0.8126 - val_loss: 0.4683 - val_accuracy: 0.8322 - 185ms/epoch - 1ms/step\n",
      "Epoch 17/100\n",
      "149/149 - 0s - loss: 0.4652 - accuracy: 0.8214 - val_loss: 0.4595 - val_accuracy: 0.8345 - 235ms/epoch - 2ms/step\n",
      "Epoch 18/100\n",
      "149/149 - 0s - loss: 0.4562 - accuracy: 0.8248 - val_loss: 0.4504 - val_accuracy: 0.8389 - 408ms/epoch - 3ms/step\n",
      "Epoch 19/100\n",
      "149/149 - 0s - loss: 0.4475 - accuracy: 0.8345 - val_loss: 0.4416 - val_accuracy: 0.8434 - 168ms/epoch - 1ms/step\n",
      "Epoch 20/100\n",
      "149/149 - 0s - loss: 0.4398 - accuracy: 0.8366 - val_loss: 0.4348 - val_accuracy: 0.8434 - 390ms/epoch - 3ms/step\n",
      "Epoch 21/100\n",
      "149/149 - 1s - loss: 0.4327 - accuracy: 0.8391 - val_loss: 0.4282 - val_accuracy: 0.8501 - 715ms/epoch - 5ms/step\n",
      "Epoch 22/100\n",
      "149/149 - 0s - loss: 0.4262 - accuracy: 0.8437 - val_loss: 0.4216 - val_accuracy: 0.8546 - 262ms/epoch - 2ms/step\n",
      "Epoch 23/100\n",
      "149/149 - 0s - loss: 0.4202 - accuracy: 0.8437 - val_loss: 0.4152 - val_accuracy: 0.8591 - 139ms/epoch - 935us/step\n",
      "Epoch 24/100\n",
      "149/149 - 0s - loss: 0.4146 - accuracy: 0.8429 - val_loss: 0.4099 - val_accuracy: 0.8613 - 149ms/epoch - 1ms/step\n",
      "Epoch 25/100\n",
      "149/149 - 0s - loss: 0.4092 - accuracy: 0.8466 - val_loss: 0.4050 - val_accuracy: 0.8702 - 139ms/epoch - 936us/step\n",
      "Epoch 26/100\n",
      "149/149 - 0s - loss: 0.4047 - accuracy: 0.8479 - val_loss: 0.4006 - val_accuracy: 0.8747 - 139ms/epoch - 936us/step\n",
      "Epoch 27/100\n",
      "149/149 - 0s - loss: 0.3999 - accuracy: 0.8475 - val_loss: 0.3955 - val_accuracy: 0.8725 - 161ms/epoch - 1ms/step\n",
      "Epoch 28/100\n",
      "149/149 - 0s - loss: 0.3957 - accuracy: 0.8504 - val_loss: 0.3916 - val_accuracy: 0.8770 - 153ms/epoch - 1ms/step\n",
      "Epoch 29/100\n",
      "149/149 - 0s - loss: 0.3919 - accuracy: 0.8521 - val_loss: 0.3880 - val_accuracy: 0.8814 - 139ms/epoch - 934us/step\n",
      "Epoch 30/100\n",
      "149/149 - 0s - loss: 0.3881 - accuracy: 0.8538 - val_loss: 0.3838 - val_accuracy: 0.8881 - 152ms/epoch - 1ms/step\n",
      "Epoch 31/100\n",
      "149/149 - 0s - loss: 0.3843 - accuracy: 0.8580 - val_loss: 0.3801 - val_accuracy: 0.8904 - 159ms/epoch - 1ms/step\n",
      "Epoch 32/100\n",
      "149/149 - 0s - loss: 0.3812 - accuracy: 0.8571 - val_loss: 0.3762 - val_accuracy: 0.8904 - 148ms/epoch - 996us/step\n",
      "Epoch 33/100\n",
      "149/149 - 0s - loss: 0.3779 - accuracy: 0.8601 - val_loss: 0.3727 - val_accuracy: 0.8881 - 146ms/epoch - 977us/step\n",
      "Epoch 34/100\n",
      "149/149 - 0s - loss: 0.3750 - accuracy: 0.8576 - val_loss: 0.3699 - val_accuracy: 0.8926 - 153ms/epoch - 1ms/step\n",
      "Epoch 35/100\n",
      "149/149 - 0s - loss: 0.3724 - accuracy: 0.8613 - val_loss: 0.3672 - val_accuracy: 0.8926 - 160ms/epoch - 1ms/step\n",
      "Epoch 36/100\n",
      "149/149 - 0s - loss: 0.3698 - accuracy: 0.8634 - val_loss: 0.3638 - val_accuracy: 0.8949 - 151ms/epoch - 1ms/step\n",
      "Epoch 37/100\n",
      "149/149 - 0s - loss: 0.3673 - accuracy: 0.8609 - val_loss: 0.3616 - val_accuracy: 0.8971 - 148ms/epoch - 994us/step\n",
      "Epoch 38/100\n",
      "149/149 - 0s - loss: 0.3648 - accuracy: 0.8651 - val_loss: 0.3590 - val_accuracy: 0.8971 - 160ms/epoch - 1ms/step\n",
      "Epoch 39/100\n",
      "149/149 - 0s - loss: 0.3624 - accuracy: 0.8693 - val_loss: 0.3566 - val_accuracy: 0.8971 - 153ms/epoch - 1ms/step\n",
      "Epoch 40/100\n",
      "149/149 - 0s - loss: 0.3605 - accuracy: 0.8668 - val_loss: 0.3547 - val_accuracy: 0.8971 - 149ms/epoch - 1ms/step\n",
      "Epoch 41/100\n",
      "149/149 - 0s - loss: 0.3584 - accuracy: 0.8660 - val_loss: 0.3527 - val_accuracy: 0.8971 - 164ms/epoch - 1ms/step\n",
      "Epoch 42/100\n",
      "149/149 - 0s - loss: 0.3564 - accuracy: 0.8681 - val_loss: 0.3505 - val_accuracy: 0.8971 - 161ms/epoch - 1ms/step\n",
      "Epoch 43/100\n",
      "149/149 - 0s - loss: 0.3545 - accuracy: 0.8702 - val_loss: 0.3487 - val_accuracy: 0.8971 - 163ms/epoch - 1ms/step\n",
      "Epoch 44/100\n",
      "149/149 - 0s - loss: 0.3529 - accuracy: 0.8706 - val_loss: 0.3466 - val_accuracy: 0.8971 - 143ms/epoch - 963us/step\n",
      "Epoch 45/100\n",
      "149/149 - 0s - loss: 0.3512 - accuracy: 0.8718 - val_loss: 0.3448 - val_accuracy: 0.8971 - 141ms/epoch - 949us/step\n",
      "Epoch 46/100\n",
      "149/149 - 0s - loss: 0.3495 - accuracy: 0.8731 - val_loss: 0.3430 - val_accuracy: 0.8993 - 141ms/epoch - 946us/step\n",
      "Epoch 47/100\n",
      "149/149 - 0s - loss: 0.3480 - accuracy: 0.8723 - val_loss: 0.3416 - val_accuracy: 0.9016 - 140ms/epoch - 937us/step\n",
      "Epoch 48/100\n",
      "149/149 - 0s - loss: 0.3466 - accuracy: 0.8723 - val_loss: 0.3398 - val_accuracy: 0.9016 - 184ms/epoch - 1ms/step\n",
      "Epoch 49/100\n",
      "149/149 - 0s - loss: 0.3450 - accuracy: 0.8752 - val_loss: 0.3376 - val_accuracy: 0.8993 - 188ms/epoch - 1ms/step\n",
      "Epoch 50/100\n",
      "149/149 - 0s - loss: 0.3436 - accuracy: 0.8744 - val_loss: 0.3364 - val_accuracy: 0.9016 - 182ms/epoch - 1ms/step\n",
      "Epoch 51/100\n",
      "149/149 - 0s - loss: 0.3425 - accuracy: 0.8752 - val_loss: 0.3353 - val_accuracy: 0.9016 - 167ms/epoch - 1ms/step\n",
      "Epoch 52/100\n",
      "149/149 - 0s - loss: 0.3413 - accuracy: 0.8744 - val_loss: 0.3340 - val_accuracy: 0.9016 - 152ms/epoch - 1ms/step\n",
      "Epoch 53/100\n",
      "149/149 - 0s - loss: 0.3400 - accuracy: 0.8735 - val_loss: 0.3327 - val_accuracy: 0.9016 - 142ms/epoch - 952us/step\n",
      "Epoch 54/100\n",
      "149/149 - 0s - loss: 0.3388 - accuracy: 0.8777 - val_loss: 0.3310 - val_accuracy: 0.9016 - 156ms/epoch - 1ms/step\n",
      "Epoch 55/100\n",
      "149/149 - 0s - loss: 0.3376 - accuracy: 0.8765 - val_loss: 0.3305 - val_accuracy: 0.9016 - 148ms/epoch - 991us/step\n",
      "Epoch 56/100\n",
      "149/149 - 0s - loss: 0.3365 - accuracy: 0.8777 - val_loss: 0.3296 - val_accuracy: 0.8971 - 148ms/epoch - 993us/step\n",
      "Epoch 57/100\n",
      "149/149 - 0s - loss: 0.3356 - accuracy: 0.8773 - val_loss: 0.3278 - val_accuracy: 0.8971 - 139ms/epoch - 933us/step\n",
      "Epoch 58/100\n",
      "149/149 - 0s - loss: 0.3346 - accuracy: 0.8803 - val_loss: 0.3266 - val_accuracy: 0.8971 - 140ms/epoch - 941us/step\n",
      "Epoch 59/100\n",
      "149/149 - 0s - loss: 0.3337 - accuracy: 0.8794 - val_loss: 0.3261 - val_accuracy: 0.8971 - 149ms/epoch - 997us/step\n",
      "Epoch 60/100\n",
      "149/149 - 0s - loss: 0.3327 - accuracy: 0.8803 - val_loss: 0.3243 - val_accuracy: 0.8993 - 155ms/epoch - 1ms/step\n",
      "Epoch 61/100\n",
      "149/149 - 0s - loss: 0.3319 - accuracy: 0.8798 - val_loss: 0.3235 - val_accuracy: 0.8993 - 388ms/epoch - 3ms/step\n",
      "Epoch 62/100\n",
      "149/149 - 0s - loss: 0.3310 - accuracy: 0.8790 - val_loss: 0.3225 - val_accuracy: 0.8993 - 159ms/epoch - 1ms/step\n",
      "Epoch 63/100\n",
      "149/149 - 0s - loss: 0.3302 - accuracy: 0.8786 - val_loss: 0.3217 - val_accuracy: 0.8993 - 182ms/epoch - 1ms/step\n",
      "Epoch 64/100\n",
      "149/149 - 0s - loss: 0.3293 - accuracy: 0.8782 - val_loss: 0.3207 - val_accuracy: 0.8993 - 265ms/epoch - 2ms/step\n",
      "Epoch 65/100\n",
      "149/149 - 0s - loss: 0.3286 - accuracy: 0.8790 - val_loss: 0.3207 - val_accuracy: 0.8993 - 246ms/epoch - 2ms/step\n",
      "Epoch 66/100\n",
      "149/149 - 0s - loss: 0.3279 - accuracy: 0.8798 - val_loss: 0.3188 - val_accuracy: 0.8993 - 265ms/epoch - 2ms/step\n",
      "Epoch 67/100\n",
      "149/149 - 0s - loss: 0.3270 - accuracy: 0.8803 - val_loss: 0.3184 - val_accuracy: 0.8993 - 224ms/epoch - 2ms/step\n",
      "Epoch 68/100\n",
      "149/149 - 0s - loss: 0.3264 - accuracy: 0.8798 - val_loss: 0.3179 - val_accuracy: 0.8993 - 251ms/epoch - 2ms/step\n",
      "Epoch 69/100\n",
      "149/149 - 0s - loss: 0.3256 - accuracy: 0.8798 - val_loss: 0.3169 - val_accuracy: 0.8993 - 305ms/epoch - 2ms/step\n",
      "Epoch 70/100\n",
      "149/149 - 0s - loss: 0.3249 - accuracy: 0.8815 - val_loss: 0.3162 - val_accuracy: 0.8993 - 197ms/epoch - 1ms/step\n",
      "Epoch 71/100\n",
      "149/149 - 0s - loss: 0.3241 - accuracy: 0.8811 - val_loss: 0.3150 - val_accuracy: 0.8993 - 217ms/epoch - 1ms/step\n",
      "Epoch 72/100\n",
      "149/149 - 0s - loss: 0.3236 - accuracy: 0.8815 - val_loss: 0.3143 - val_accuracy: 0.8993 - 261ms/epoch - 2ms/step\n",
      "Epoch 73/100\n",
      "149/149 - 0s - loss: 0.3229 - accuracy: 0.8819 - val_loss: 0.3142 - val_accuracy: 0.8993 - 247ms/epoch - 2ms/step\n",
      "Epoch 74/100\n",
      "149/149 - 0s - loss: 0.3223 - accuracy: 0.8815 - val_loss: 0.3130 - val_accuracy: 0.8993 - 257ms/epoch - 2ms/step\n",
      "Epoch 75/100\n",
      "149/149 - 0s - loss: 0.3218 - accuracy: 0.8832 - val_loss: 0.3126 - val_accuracy: 0.8993 - 185ms/epoch - 1ms/step\n",
      "Epoch 76/100\n",
      "149/149 - 0s - loss: 0.3213 - accuracy: 0.8807 - val_loss: 0.3120 - val_accuracy: 0.8993 - 151ms/epoch - 1ms/step\n",
      "Epoch 77/100\n",
      "149/149 - 0s - loss: 0.3206 - accuracy: 0.8815 - val_loss: 0.3112 - val_accuracy: 0.8993 - 209ms/epoch - 1ms/step\n",
      "Epoch 78/100\n",
      "149/149 - 0s - loss: 0.3201 - accuracy: 0.8824 - val_loss: 0.3110 - val_accuracy: 0.9016 - 252ms/epoch - 2ms/step\n",
      "Epoch 79/100\n",
      "149/149 - 0s - loss: 0.3196 - accuracy: 0.8815 - val_loss: 0.3102 - val_accuracy: 0.9016 - 216ms/epoch - 1ms/step\n",
      "Epoch 80/100\n",
      "149/149 - 0s - loss: 0.3191 - accuracy: 0.8811 - val_loss: 0.3098 - val_accuracy: 0.9016 - 239ms/epoch - 2ms/step\n",
      "Epoch 81/100\n",
      "149/149 - 0s - loss: 0.3186 - accuracy: 0.8811 - val_loss: 0.3086 - val_accuracy: 0.9038 - 225ms/epoch - 2ms/step\n",
      "Epoch 82/100\n",
      "149/149 - 0s - loss: 0.3180 - accuracy: 0.8819 - val_loss: 0.3083 - val_accuracy: 0.9038 - 158ms/epoch - 1ms/step\n",
      "Epoch 83/100\n",
      "149/149 - 0s - loss: 0.3175 - accuracy: 0.8815 - val_loss: 0.3075 - val_accuracy: 0.9060 - 192ms/epoch - 1ms/step\n",
      "Epoch 84/100\n",
      "149/149 - 0s - loss: 0.3171 - accuracy: 0.8824 - val_loss: 0.3072 - val_accuracy: 0.9038 - 180ms/epoch - 1ms/step\n",
      "Epoch 85/100\n",
      "149/149 - 0s - loss: 0.3166 - accuracy: 0.8828 - val_loss: 0.3066 - val_accuracy: 0.9060 - 175ms/epoch - 1ms/step\n",
      "Epoch 86/100\n",
      "149/149 - 0s - loss: 0.3162 - accuracy: 0.8828 - val_loss: 0.3063 - val_accuracy: 0.9060 - 264ms/epoch - 2ms/step\n",
      "Epoch 87/100\n",
      "149/149 - 0s - loss: 0.3157 - accuracy: 0.8819 - val_loss: 0.3057 - val_accuracy: 0.9060 - 220ms/epoch - 1ms/step\n",
      "Epoch 88/100\n",
      "149/149 - 0s - loss: 0.3153 - accuracy: 0.8824 - val_loss: 0.3051 - val_accuracy: 0.9060 - 230ms/epoch - 2ms/step\n",
      "Epoch 89/100\n",
      "149/149 - 0s - loss: 0.3149 - accuracy: 0.8828 - val_loss: 0.3047 - val_accuracy: 0.9060 - 235ms/epoch - 2ms/step\n",
      "Epoch 90/100\n",
      "149/149 - 0s - loss: 0.3145 - accuracy: 0.8845 - val_loss: 0.3042 - val_accuracy: 0.9060 - 239ms/epoch - 2ms/step\n",
      "Epoch 91/100\n",
      "149/149 - 0s - loss: 0.3141 - accuracy: 0.8836 - val_loss: 0.3030 - val_accuracy: 0.9083 - 251ms/epoch - 2ms/step\n",
      "Epoch 92/100\n",
      "149/149 - 0s - loss: 0.3137 - accuracy: 0.8832 - val_loss: 0.3035 - val_accuracy: 0.9060 - 244ms/epoch - 2ms/step\n",
      "Epoch 93/100\n",
      "149/149 - 0s - loss: 0.3132 - accuracy: 0.8832 - val_loss: 0.3027 - val_accuracy: 0.9038 - 224ms/epoch - 2ms/step\n",
      "Epoch 94/100\n",
      "149/149 - 0s - loss: 0.3129 - accuracy: 0.8832 - val_loss: 0.3020 - val_accuracy: 0.9060 - 204ms/epoch - 1ms/step\n",
      "Epoch 95/100\n",
      "149/149 - 0s - loss: 0.3127 - accuracy: 0.8840 - val_loss: 0.3023 - val_accuracy: 0.9060 - 282ms/epoch - 2ms/step\n",
      "Epoch 96/100\n",
      "149/149 - 0s - loss: 0.3122 - accuracy: 0.8845 - val_loss: 0.3011 - val_accuracy: 0.9083 - 235ms/epoch - 2ms/step\n",
      "Epoch 97/100\n",
      "149/149 - 0s - loss: 0.3117 - accuracy: 0.8849 - val_loss: 0.3009 - val_accuracy: 0.9083 - 259ms/epoch - 2ms/step\n",
      "Epoch 98/100\n",
      "149/149 - 0s - loss: 0.3116 - accuracy: 0.8840 - val_loss: 0.3000 - val_accuracy: 0.9083 - 242ms/epoch - 2ms/step\n",
      "Epoch 99/100\n",
      "149/149 - 0s - loss: 0.3113 - accuracy: 0.8832 - val_loss: 0.3001 - val_accuracy: 0.9083 - 222ms/epoch - 1ms/step\n",
      "Epoch 100/100\n",
      "149/149 - 0s - loss: 0.3108 - accuracy: 0.8849 - val_loss: 0.2993 - val_accuracy: 0.9060 - 146ms/epoch - 983us/step\n",
      "14/14 [==============================] - 0s 2ms/step\n"
     ]
    },
    {
     "data": {
      "application/vnd.plotly.v1+json": {
       "config": {
        "plotlyServerURL": "https://plot.ly"
       },
       "data": [
        {
         "hovertemplate": "Epochs=%{x}<br>Loss=%{y}<extra></extra>",
         "legendgroup": "",
         "line": {
          "color": "#636efa",
          "dash": "solid"
         },
         "marker": {
          "symbol": "circle"
         },
         "mode": "lines",
         "name": "",
         "orientation": "v",
         "showlegend": false,
         "type": "scatter",
         "x": [
          1,
          2,
          3,
          4,
          5,
          6,
          7,
          8,
          9,
          10,
          11,
          12,
          13,
          14,
          15,
          16,
          17,
          18,
          19,
          20,
          21,
          22,
          23,
          24,
          25,
          26,
          27,
          28,
          29,
          30,
          31,
          32,
          33,
          34,
          35,
          36,
          37,
          38,
          39,
          40,
          41,
          42,
          43,
          44,
          45,
          46,
          47,
          48,
          49,
          50,
          51,
          52,
          53,
          54,
          55,
          56,
          57,
          58,
          59,
          60,
          61,
          62,
          63,
          64,
          65,
          66,
          67,
          68,
          69,
          70,
          71,
          72,
          73,
          74,
          75,
          76,
          77,
          78,
          79,
          80,
          81,
          82,
          83,
          84,
          85,
          86,
          87,
          88,
          89,
          90,
          91,
          92,
          93,
          94,
          95,
          96,
          97,
          98,
          99,
          100
         ],
         "xaxis": "x",
         "y": [
          1.8781262636184692,
          1.3156380653381348,
          1.0039016008377075,
          0.8451954126358032,
          0.755403995513916,
          0.6966769695281982,
          0.6535435914993286,
          0.6196441650390625,
          0.5916043519973755,
          0.5677735805511475,
          0.5473710298538208,
          0.529373288154602,
          0.5134178400039673,
          0.4994262158870697,
          0.48683810234069824,
          0.47541543841362,
          0.4652433395385742,
          0.45618748664855957,
          0.44753217697143555,
          0.4397655427455902,
          0.4327473044395447,
          0.426195353269577,
          0.42023178935050964,
          0.41456079483032227,
          0.4092489778995514,
          0.40466922521591187,
          0.39994317293167114,
          0.3956868052482605,
          0.3918745815753937,
          0.38807210326194763,
          0.38431689143180847,
          0.38116174936294556,
          0.37788236141204834,
          0.3750079274177551,
          0.3724370300769806,
          0.3697938323020935,
          0.3672647476196289,
          0.36480051279067993,
          0.36244311928749084,
          0.36054420471191406,
          0.35842224955558777,
          0.3564295172691345,
          0.3545117676258087,
          0.3529227375984192,
          0.3512015640735626,
          0.34947678446769714,
          0.3480350375175476,
          0.34660932421684265,
          0.344966858625412,
          0.3435881435871124,
          0.34245723485946655,
          0.34131234884262085,
          0.34004083275794983,
          0.33882594108581543,
          0.3376238942146301,
          0.3365158140659332,
          0.3356269598007202,
          0.33456024527549744,
          0.33371105790138245,
          0.3327108323574066,
          0.331857293844223,
          0.33103787899017334,
          0.3302290141582489,
          0.3293435573577881,
          0.3285520076751709,
          0.3279266655445099,
          0.32704243063926697,
          0.3263702988624573,
          0.32556337118148804,
          0.3248710632324219,
          0.324129581451416,
          0.3236446976661682,
          0.3229372501373291,
          0.3223128020763397,
          0.32175150513648987,
          0.3213018476963043,
          0.32056012749671936,
          0.3200502395629883,
          0.31961435079574585,
          0.319110631942749,
          0.31859326362609863,
          0.31796109676361084,
          0.31752610206604004,
          0.31714779138565063,
          0.3166012167930603,
          0.3161989450454712,
          0.315743625164032,
          0.3153448700904846,
          0.31494763493537903,
          0.3145188093185425,
          0.3141119182109833,
          0.31370511651039124,
          0.3131977617740631,
          0.3128756284713745,
          0.31270724534988403,
          0.3122311532497406,
          0.31172165274620056,
          0.31158095598220825,
          0.311257541179657,
          0.3107641041278839
         ],
         "yaxis": "y"
        }
       ],
       "layout": {
        "legend": {
         "tracegroupgap": 0
        },
        "template": {
         "data": {
          "bar": [
           {
            "error_x": {
             "color": "#2a3f5f"
            },
            "error_y": {
             "color": "#2a3f5f"
            },
            "marker": {
             "line": {
              "color": "#E5ECF6",
              "width": 0.5
             },
             "pattern": {
              "fillmode": "overlay",
              "size": 10,
              "solidity": 0.2
             }
            },
            "type": "bar"
           }
          ],
          "barpolar": [
           {
            "marker": {
             "line": {
              "color": "#E5ECF6",
              "width": 0.5
             },
             "pattern": {
              "fillmode": "overlay",
              "size": 10,
              "solidity": 0.2
             }
            },
            "type": "barpolar"
           }
          ],
          "carpet": [
           {
            "aaxis": {
             "endlinecolor": "#2a3f5f",
             "gridcolor": "white",
             "linecolor": "white",
             "minorgridcolor": "white",
             "startlinecolor": "#2a3f5f"
            },
            "baxis": {
             "endlinecolor": "#2a3f5f",
             "gridcolor": "white",
             "linecolor": "white",
             "minorgridcolor": "white",
             "startlinecolor": "#2a3f5f"
            },
            "type": "carpet"
           }
          ],
          "choropleth": [
           {
            "colorbar": {
             "outlinewidth": 0,
             "ticks": ""
            },
            "type": "choropleth"
           }
          ],
          "contour": [
           {
            "colorbar": {
             "outlinewidth": 0,
             "ticks": ""
            },
            "colorscale": [
             [
              0,
              "#0d0887"
             ],
             [
              0.1111111111111111,
              "#46039f"
             ],
             [
              0.2222222222222222,
              "#7201a8"
             ],
             [
              0.3333333333333333,
              "#9c179e"
             ],
             [
              0.4444444444444444,
              "#bd3786"
             ],
             [
              0.5555555555555556,
              "#d8576b"
             ],
             [
              0.6666666666666666,
              "#ed7953"
             ],
             [
              0.7777777777777778,
              "#fb9f3a"
             ],
             [
              0.8888888888888888,
              "#fdca26"
             ],
             [
              1,
              "#f0f921"
             ]
            ],
            "type": "contour"
           }
          ],
          "contourcarpet": [
           {
            "colorbar": {
             "outlinewidth": 0,
             "ticks": ""
            },
            "type": "contourcarpet"
           }
          ],
          "heatmap": [
           {
            "colorbar": {
             "outlinewidth": 0,
             "ticks": ""
            },
            "colorscale": [
             [
              0,
              "#0d0887"
             ],
             [
              0.1111111111111111,
              "#46039f"
             ],
             [
              0.2222222222222222,
              "#7201a8"
             ],
             [
              0.3333333333333333,
              "#9c179e"
             ],
             [
              0.4444444444444444,
              "#bd3786"
             ],
             [
              0.5555555555555556,
              "#d8576b"
             ],
             [
              0.6666666666666666,
              "#ed7953"
             ],
             [
              0.7777777777777778,
              "#fb9f3a"
             ],
             [
              0.8888888888888888,
              "#fdca26"
             ],
             [
              1,
              "#f0f921"
             ]
            ],
            "type": "heatmap"
           }
          ],
          "heatmapgl": [
           {
            "colorbar": {
             "outlinewidth": 0,
             "ticks": ""
            },
            "colorscale": [
             [
              0,
              "#0d0887"
             ],
             [
              0.1111111111111111,
              "#46039f"
             ],
             [
              0.2222222222222222,
              "#7201a8"
             ],
             [
              0.3333333333333333,
              "#9c179e"
             ],
             [
              0.4444444444444444,
              "#bd3786"
             ],
             [
              0.5555555555555556,
              "#d8576b"
             ],
             [
              0.6666666666666666,
              "#ed7953"
             ],
             [
              0.7777777777777778,
              "#fb9f3a"
             ],
             [
              0.8888888888888888,
              "#fdca26"
             ],
             [
              1,
              "#f0f921"
             ]
            ],
            "type": "heatmapgl"
           }
          ],
          "histogram": [
           {
            "marker": {
             "pattern": {
              "fillmode": "overlay",
              "size": 10,
              "solidity": 0.2
             }
            },
            "type": "histogram"
           }
          ],
          "histogram2d": [
           {
            "colorbar": {
             "outlinewidth": 0,
             "ticks": ""
            },
            "colorscale": [
             [
              0,
              "#0d0887"
             ],
             [
              0.1111111111111111,
              "#46039f"
             ],
             [
              0.2222222222222222,
              "#7201a8"
             ],
             [
              0.3333333333333333,
              "#9c179e"
             ],
             [
              0.4444444444444444,
              "#bd3786"
             ],
             [
              0.5555555555555556,
              "#d8576b"
             ],
             [
              0.6666666666666666,
              "#ed7953"
             ],
             [
              0.7777777777777778,
              "#fb9f3a"
             ],
             [
              0.8888888888888888,
              "#fdca26"
             ],
             [
              1,
              "#f0f921"
             ]
            ],
            "type": "histogram2d"
           }
          ],
          "histogram2dcontour": [
           {
            "colorbar": {
             "outlinewidth": 0,
             "ticks": ""
            },
            "colorscale": [
             [
              0,
              "#0d0887"
             ],
             [
              0.1111111111111111,
              "#46039f"
             ],
             [
              0.2222222222222222,
              "#7201a8"
             ],
             [
              0.3333333333333333,
              "#9c179e"
             ],
             [
              0.4444444444444444,
              "#bd3786"
             ],
             [
              0.5555555555555556,
              "#d8576b"
             ],
             [
              0.6666666666666666,
              "#ed7953"
             ],
             [
              0.7777777777777778,
              "#fb9f3a"
             ],
             [
              0.8888888888888888,
              "#fdca26"
             ],
             [
              1,
              "#f0f921"
             ]
            ],
            "type": "histogram2dcontour"
           }
          ],
          "mesh3d": [
           {
            "colorbar": {
             "outlinewidth": 0,
             "ticks": ""
            },
            "type": "mesh3d"
           }
          ],
          "parcoords": [
           {
            "line": {
             "colorbar": {
              "outlinewidth": 0,
              "ticks": ""
             }
            },
            "type": "parcoords"
           }
          ],
          "pie": [
           {
            "automargin": true,
            "type": "pie"
           }
          ],
          "scatter": [
           {
            "fillpattern": {
             "fillmode": "overlay",
             "size": 10,
             "solidity": 0.2
            },
            "type": "scatter"
           }
          ],
          "scatter3d": [
           {
            "line": {
             "colorbar": {
              "outlinewidth": 0,
              "ticks": ""
             }
            },
            "marker": {
             "colorbar": {
              "outlinewidth": 0,
              "ticks": ""
             }
            },
            "type": "scatter3d"
           }
          ],
          "scattercarpet": [
           {
            "marker": {
             "colorbar": {
              "outlinewidth": 0,
              "ticks": ""
             }
            },
            "type": "scattercarpet"
           }
          ],
          "scattergeo": [
           {
            "marker": {
             "colorbar": {
              "outlinewidth": 0,
              "ticks": ""
             }
            },
            "type": "scattergeo"
           }
          ],
          "scattergl": [
           {
            "marker": {
             "colorbar": {
              "outlinewidth": 0,
              "ticks": ""
             }
            },
            "type": "scattergl"
           }
          ],
          "scattermapbox": [
           {
            "marker": {
             "colorbar": {
              "outlinewidth": 0,
              "ticks": ""
             }
            },
            "type": "scattermapbox"
           }
          ],
          "scatterpolar": [
           {
            "marker": {
             "colorbar": {
              "outlinewidth": 0,
              "ticks": ""
             }
            },
            "type": "scatterpolar"
           }
          ],
          "scatterpolargl": [
           {
            "marker": {
             "colorbar": {
              "outlinewidth": 0,
              "ticks": ""
             }
            },
            "type": "scatterpolargl"
           }
          ],
          "scatterternary": [
           {
            "marker": {
             "colorbar": {
              "outlinewidth": 0,
              "ticks": ""
             }
            },
            "type": "scatterternary"
           }
          ],
          "surface": [
           {
            "colorbar": {
             "outlinewidth": 0,
             "ticks": ""
            },
            "colorscale": [
             [
              0,
              "#0d0887"
             ],
             [
              0.1111111111111111,
              "#46039f"
             ],
             [
              0.2222222222222222,
              "#7201a8"
             ],
             [
              0.3333333333333333,
              "#9c179e"
             ],
             [
              0.4444444444444444,
              "#bd3786"
             ],
             [
              0.5555555555555556,
              "#d8576b"
             ],
             [
              0.6666666666666666,
              "#ed7953"
             ],
             [
              0.7777777777777778,
              "#fb9f3a"
             ],
             [
              0.8888888888888888,
              "#fdca26"
             ],
             [
              1,
              "#f0f921"
             ]
            ],
            "type": "surface"
           }
          ],
          "table": [
           {
            "cells": {
             "fill": {
              "color": "#EBF0F8"
             },
             "line": {
              "color": "white"
             }
            },
            "header": {
             "fill": {
              "color": "#C8D4E3"
             },
             "line": {
              "color": "white"
             }
            },
            "type": "table"
           }
          ]
         },
         "layout": {
          "annotationdefaults": {
           "arrowcolor": "#2a3f5f",
           "arrowhead": 0,
           "arrowwidth": 1
          },
          "autotypenumbers": "strict",
          "coloraxis": {
           "colorbar": {
            "outlinewidth": 0,
            "ticks": ""
           }
          },
          "colorscale": {
           "diverging": [
            [
             0,
             "#8e0152"
            ],
            [
             0.1,
             "#c51b7d"
            ],
            [
             0.2,
             "#de77ae"
            ],
            [
             0.3,
             "#f1b6da"
            ],
            [
             0.4,
             "#fde0ef"
            ],
            [
             0.5,
             "#f7f7f7"
            ],
            [
             0.6,
             "#e6f5d0"
            ],
            [
             0.7,
             "#b8e186"
            ],
            [
             0.8,
             "#7fbc41"
            ],
            [
             0.9,
             "#4d9221"
            ],
            [
             1,
             "#276419"
            ]
           ],
           "sequential": [
            [
             0,
             "#0d0887"
            ],
            [
             0.1111111111111111,
             "#46039f"
            ],
            [
             0.2222222222222222,
             "#7201a8"
            ],
            [
             0.3333333333333333,
             "#9c179e"
            ],
            [
             0.4444444444444444,
             "#bd3786"
            ],
            [
             0.5555555555555556,
             "#d8576b"
            ],
            [
             0.6666666666666666,
             "#ed7953"
            ],
            [
             0.7777777777777778,
             "#fb9f3a"
            ],
            [
             0.8888888888888888,
             "#fdca26"
            ],
            [
             1,
             "#f0f921"
            ]
           ],
           "sequentialminus": [
            [
             0,
             "#0d0887"
            ],
            [
             0.1111111111111111,
             "#46039f"
            ],
            [
             0.2222222222222222,
             "#7201a8"
            ],
            [
             0.3333333333333333,
             "#9c179e"
            ],
            [
             0.4444444444444444,
             "#bd3786"
            ],
            [
             0.5555555555555556,
             "#d8576b"
            ],
            [
             0.6666666666666666,
             "#ed7953"
            ],
            [
             0.7777777777777778,
             "#fb9f3a"
            ],
            [
             0.8888888888888888,
             "#fdca26"
            ],
            [
             1,
             "#f0f921"
            ]
           ]
          },
          "colorway": [
           "#636efa",
           "#EF553B",
           "#00cc96",
           "#ab63fa",
           "#FFA15A",
           "#19d3f3",
           "#FF6692",
           "#B6E880",
           "#FF97FF",
           "#FECB52"
          ],
          "font": {
           "color": "#2a3f5f"
          },
          "geo": {
           "bgcolor": "white",
           "lakecolor": "white",
           "landcolor": "#E5ECF6",
           "showlakes": true,
           "showland": true,
           "subunitcolor": "white"
          },
          "hoverlabel": {
           "align": "left"
          },
          "hovermode": "closest",
          "mapbox": {
           "style": "light"
          },
          "paper_bgcolor": "white",
          "plot_bgcolor": "#E5ECF6",
          "polar": {
           "angularaxis": {
            "gridcolor": "white",
            "linecolor": "white",
            "ticks": ""
           },
           "bgcolor": "#E5ECF6",
           "radialaxis": {
            "gridcolor": "white",
            "linecolor": "white",
            "ticks": ""
           }
          },
          "scene": {
           "xaxis": {
            "backgroundcolor": "#E5ECF6",
            "gridcolor": "white",
            "gridwidth": 2,
            "linecolor": "white",
            "showbackground": true,
            "ticks": "",
            "zerolinecolor": "white"
           },
           "yaxis": {
            "backgroundcolor": "#E5ECF6",
            "gridcolor": "white",
            "gridwidth": 2,
            "linecolor": "white",
            "showbackground": true,
            "ticks": "",
            "zerolinecolor": "white"
           },
           "zaxis": {
            "backgroundcolor": "#E5ECF6",
            "gridcolor": "white",
            "gridwidth": 2,
            "linecolor": "white",
            "showbackground": true,
            "ticks": "",
            "zerolinecolor": "white"
           }
          },
          "shapedefaults": {
           "line": {
            "color": "#2a3f5f"
           }
          },
          "ternary": {
           "aaxis": {
            "gridcolor": "white",
            "linecolor": "white",
            "ticks": ""
           },
           "baxis": {
            "gridcolor": "white",
            "linecolor": "white",
            "ticks": ""
           },
           "bgcolor": "#E5ECF6",
           "caxis": {
            "gridcolor": "white",
            "linecolor": "white",
            "ticks": ""
           }
          },
          "title": {
           "x": 0.05
          },
          "xaxis": {
           "automargin": true,
           "gridcolor": "white",
           "linecolor": "white",
           "ticks": "",
           "title": {
            "standoff": 15
           },
           "zerolinecolor": "white",
           "zerolinewidth": 2
          },
          "yaxis": {
           "automargin": true,
           "gridcolor": "white",
           "linecolor": "white",
           "ticks": "",
           "title": {
            "standoff": 15
           },
           "zerolinecolor": "white",
           "zerolinewidth": 2
          }
         }
        },
        "title": {
         "text": "Loss function over epochs"
        },
        "xaxis": {
         "anchor": "y",
         "domain": [
          0,
          1
         ],
         "title": {
          "text": "Epochs"
         }
        },
        "yaxis": {
         "anchor": "x",
         "domain": [
          0,
          1
         ],
         "title": {
          "text": "Loss"
         }
        }
       }
      }
     },
     "metadata": {},
     "output_type": "display_data"
    },
    {
     "data": {
      "application/vnd.plotly.v1+json": {
       "config": {
        "plotlyServerURL": "https://plot.ly"
       },
       "data": [
        {
         "hovertemplate": "Sample Index=%{x}<br>Difference (Prediction - Real)=%{y}<extra></extra>",
         "legendgroup": "",
         "line": {
          "color": "#636efa",
          "dash": "solid"
         },
         "marker": {
          "symbol": "circle"
         },
         "mode": "lines",
         "name": "",
         "orientation": "v",
         "showlegend": false,
         "type": "scatter",
         "x": [
          0,
          1,
          2,
          3,
          4,
          5,
          6,
          7,
          8,
          9,
          10,
          11,
          12,
          13,
          14,
          15,
          16,
          17,
          18,
          19,
          20,
          21,
          22,
          23,
          24,
          25,
          26,
          27,
          28,
          29,
          30,
          31,
          32,
          33,
          34,
          35,
          36,
          37,
          38,
          39,
          40,
          41,
          42,
          43,
          44,
          45,
          46,
          47,
          48,
          49,
          50,
          51,
          52,
          53,
          54,
          55,
          56,
          57,
          58,
          59,
          60,
          61,
          62,
          63,
          64,
          65,
          66,
          67,
          68,
          69,
          70,
          71,
          72,
          73,
          74,
          75,
          76,
          77,
          78,
          79,
          80,
          81,
          82,
          83,
          84,
          85,
          86,
          87,
          88,
          89,
          90,
          91,
          92,
          93,
          94,
          95,
          96,
          97,
          98,
          99,
          100,
          101,
          102,
          103,
          104,
          105,
          106,
          107,
          108,
          109,
          110,
          111,
          112,
          113,
          114,
          115,
          116,
          117,
          118,
          119,
          120,
          121,
          122,
          123,
          124,
          125,
          126,
          127,
          128,
          129,
          130,
          131,
          132,
          133,
          134,
          135,
          136,
          137,
          138,
          139,
          140,
          141,
          142,
          143,
          144,
          145,
          146,
          147,
          148,
          149,
          150,
          151,
          152,
          153,
          154,
          155,
          156,
          157,
          158,
          159,
          160,
          161,
          162,
          163,
          164,
          165,
          166,
          167,
          168,
          169,
          170,
          171,
          172,
          173,
          174,
          175,
          176,
          177,
          178,
          179,
          180,
          181,
          182,
          183,
          184,
          185,
          186,
          187,
          188,
          189,
          190,
          191,
          192,
          193,
          194,
          195,
          196,
          197,
          198,
          199,
          200,
          201,
          202,
          203,
          204,
          205,
          206,
          207,
          208,
          209,
          210,
          211,
          212,
          213,
          214,
          215,
          216,
          217,
          218,
          219,
          220,
          221,
          222,
          223,
          224,
          225,
          226,
          227,
          228,
          229,
          230,
          231,
          232,
          233,
          234,
          235,
          236,
          237,
          238,
          239,
          240,
          241,
          242,
          243,
          244,
          245,
          246,
          247,
          248,
          249,
          250,
          251,
          252,
          253,
          254,
          255,
          256,
          257,
          258,
          259,
          260,
          261,
          262,
          263,
          264,
          265,
          266,
          267,
          268,
          269,
          270,
          271,
          272,
          273,
          274,
          275,
          276,
          277,
          278,
          279,
          280,
          281,
          282,
          283,
          284,
          285,
          286,
          287,
          288,
          289,
          290,
          291,
          292,
          293,
          294,
          295,
          296,
          297,
          298,
          299,
          300,
          301,
          302,
          303,
          304,
          305,
          306,
          307,
          308,
          309,
          310,
          311,
          312,
          313,
          314,
          315,
          316,
          317,
          318,
          319,
          320,
          321,
          322,
          323,
          324,
          325,
          326,
          327,
          328,
          329,
          330,
          331,
          332,
          333,
          334,
          335,
          336,
          337,
          338,
          339,
          340,
          341,
          342,
          343,
          344,
          345,
          346,
          347,
          348,
          349,
          350,
          351,
          352,
          353,
          354,
          355,
          356,
          357,
          358,
          359,
          360,
          361,
          362,
          363,
          364,
          365,
          366,
          367,
          368,
          369,
          370,
          371,
          372,
          373,
          374,
          375,
          376,
          377,
          378,
          379,
          380,
          381,
          382,
          383,
          384,
          385,
          386,
          387,
          388,
          389,
          390,
          391,
          392,
          393,
          394,
          395,
          396,
          397,
          398,
          399,
          400,
          401,
          402,
          403,
          404,
          405,
          406,
          407,
          408,
          409,
          410,
          411,
          412,
          413,
          414,
          415,
          416,
          417,
          418,
          419,
          420,
          421,
          422,
          423,
          424,
          425,
          426,
          427,
          428,
          429,
          430,
          431,
          432,
          433,
          434,
          435,
          436,
          437,
          438,
          439,
          440,
          441,
          442,
          443,
          444,
          445,
          446
         ],
         "xaxis": "x",
         "y": [
          -1,
          0,
          0,
          0,
          0,
          0,
          0,
          0,
          0,
          0,
          -1,
          0,
          0,
          0,
          0,
          0,
          0,
          0,
          0,
          0,
          0,
          0,
          0,
          0,
          0,
          0,
          0,
          0,
          0,
          0,
          0,
          0,
          0,
          0,
          0,
          0,
          0,
          0,
          0,
          0,
          0,
          0,
          0,
          -1,
          0,
          0,
          0,
          0,
          0,
          0,
          0,
          0,
          0,
          2,
          0,
          0,
          0,
          0,
          2,
          0,
          0,
          0,
          0,
          2,
          0,
          0,
          0,
          0,
          0,
          0,
          0,
          0,
          0,
          2,
          0,
          0,
          0,
          0,
          0,
          0,
          0,
          0,
          0,
          0,
          0,
          0,
          0,
          0,
          0,
          0,
          0,
          0,
          0,
          0,
          0,
          0,
          0,
          0,
          0,
          0,
          0,
          0,
          0,
          0,
          2,
          2,
          2,
          -2,
          0,
          0,
          0,
          0,
          0,
          0,
          0,
          0,
          0,
          0,
          0,
          0,
          0,
          0,
          0,
          0,
          0,
          0,
          0,
          0,
          0,
          0,
          0,
          0,
          0,
          0,
          0,
          0,
          0,
          0,
          0,
          0,
          0,
          0,
          0,
          -3,
          0,
          2,
          0,
          0,
          0,
          0,
          0,
          0,
          0,
          0,
          0,
          0,
          0,
          0,
          2,
          0,
          0,
          0,
          0,
          0,
          0,
          0,
          0,
          0,
          0,
          0,
          -1,
          0,
          0,
          0,
          0,
          0,
          0,
          0,
          2,
          1,
          0,
          0,
          0,
          0,
          0,
          0,
          0,
          -1,
          0,
          0,
          0,
          0,
          0,
          0,
          -3,
          0,
          0,
          0,
          0,
          0,
          0,
          0,
          0,
          0,
          0,
          0,
          0,
          0,
          0,
          0,
          0,
          0,
          0,
          0,
          0,
          0,
          0,
          0,
          0,
          0,
          0,
          0,
          0,
          0,
          0,
          0,
          0,
          0,
          0,
          -1,
          0,
          0,
          0,
          0,
          0,
          1,
          0,
          0,
          0,
          0,
          0,
          0,
          0,
          0,
          0,
          0,
          0,
          0,
          0,
          0,
          2,
          0,
          0,
          1,
          0,
          -2,
          0,
          0,
          0,
          0,
          0,
          0,
          0,
          0,
          0,
          0,
          0,
          0,
          0,
          0,
          0,
          0,
          0,
          0,
          0,
          0,
          0,
          0,
          0,
          0,
          0,
          0,
          0,
          0,
          0,
          0,
          0,
          0,
          0,
          0,
          0,
          1,
          1,
          1,
          0,
          0,
          0,
          0,
          0,
          0,
          0,
          0,
          0,
          0,
          0,
          0,
          0,
          0,
          0,
          0,
          0,
          0,
          0,
          0,
          0,
          0,
          0,
          0,
          0,
          0,
          0,
          0,
          0,
          0,
          0,
          0,
          0,
          0,
          0,
          0,
          0,
          0,
          0,
          0,
          0,
          0,
          0,
          0,
          0,
          0,
          -3,
          0,
          -1,
          -3,
          0,
          0,
          0,
          0,
          2,
          -2,
          0,
          0,
          0,
          0,
          0,
          0,
          0,
          0,
          0,
          0,
          0,
          0,
          0,
          0,
          0,
          2,
          0,
          0,
          0,
          0,
          0,
          0,
          0,
          0,
          0,
          0,
          0,
          0,
          0,
          0,
          0,
          -1,
          0,
          0,
          0,
          0,
          0,
          0,
          0,
          2,
          1,
          0,
          0,
          0,
          0,
          0,
          0,
          0,
          0,
          0,
          0,
          0,
          0,
          0,
          0,
          0,
          0,
          0,
          0,
          0,
          0,
          0,
          0,
          0,
          0,
          0,
          0,
          0,
          0,
          0,
          0,
          0,
          1,
          0,
          0,
          1,
          0,
          0,
          0,
          0,
          -1,
          0,
          0,
          -1,
          0,
          0,
          0,
          0,
          -1,
          0,
          0,
          0,
          0,
          0,
          2,
          0,
          0
         ],
         "yaxis": "y"
        }
       ],
       "layout": {
        "legend": {
         "tracegroupgap": 0
        },
        "template": {
         "data": {
          "bar": [
           {
            "error_x": {
             "color": "#2a3f5f"
            },
            "error_y": {
             "color": "#2a3f5f"
            },
            "marker": {
             "line": {
              "color": "#E5ECF6",
              "width": 0.5
             },
             "pattern": {
              "fillmode": "overlay",
              "size": 10,
              "solidity": 0.2
             }
            },
            "type": "bar"
           }
          ],
          "barpolar": [
           {
            "marker": {
             "line": {
              "color": "#E5ECF6",
              "width": 0.5
             },
             "pattern": {
              "fillmode": "overlay",
              "size": 10,
              "solidity": 0.2
             }
            },
            "type": "barpolar"
           }
          ],
          "carpet": [
           {
            "aaxis": {
             "endlinecolor": "#2a3f5f",
             "gridcolor": "white",
             "linecolor": "white",
             "minorgridcolor": "white",
             "startlinecolor": "#2a3f5f"
            },
            "baxis": {
             "endlinecolor": "#2a3f5f",
             "gridcolor": "white",
             "linecolor": "white",
             "minorgridcolor": "white",
             "startlinecolor": "#2a3f5f"
            },
            "type": "carpet"
           }
          ],
          "choropleth": [
           {
            "colorbar": {
             "outlinewidth": 0,
             "ticks": ""
            },
            "type": "choropleth"
           }
          ],
          "contour": [
           {
            "colorbar": {
             "outlinewidth": 0,
             "ticks": ""
            },
            "colorscale": [
             [
              0,
              "#0d0887"
             ],
             [
              0.1111111111111111,
              "#46039f"
             ],
             [
              0.2222222222222222,
              "#7201a8"
             ],
             [
              0.3333333333333333,
              "#9c179e"
             ],
             [
              0.4444444444444444,
              "#bd3786"
             ],
             [
              0.5555555555555556,
              "#d8576b"
             ],
             [
              0.6666666666666666,
              "#ed7953"
             ],
             [
              0.7777777777777778,
              "#fb9f3a"
             ],
             [
              0.8888888888888888,
              "#fdca26"
             ],
             [
              1,
              "#f0f921"
             ]
            ],
            "type": "contour"
           }
          ],
          "contourcarpet": [
           {
            "colorbar": {
             "outlinewidth": 0,
             "ticks": ""
            },
            "type": "contourcarpet"
           }
          ],
          "heatmap": [
           {
            "colorbar": {
             "outlinewidth": 0,
             "ticks": ""
            },
            "colorscale": [
             [
              0,
              "#0d0887"
             ],
             [
              0.1111111111111111,
              "#46039f"
             ],
             [
              0.2222222222222222,
              "#7201a8"
             ],
             [
              0.3333333333333333,
              "#9c179e"
             ],
             [
              0.4444444444444444,
              "#bd3786"
             ],
             [
              0.5555555555555556,
              "#d8576b"
             ],
             [
              0.6666666666666666,
              "#ed7953"
             ],
             [
              0.7777777777777778,
              "#fb9f3a"
             ],
             [
              0.8888888888888888,
              "#fdca26"
             ],
             [
              1,
              "#f0f921"
             ]
            ],
            "type": "heatmap"
           }
          ],
          "heatmapgl": [
           {
            "colorbar": {
             "outlinewidth": 0,
             "ticks": ""
            },
            "colorscale": [
             [
              0,
              "#0d0887"
             ],
             [
              0.1111111111111111,
              "#46039f"
             ],
             [
              0.2222222222222222,
              "#7201a8"
             ],
             [
              0.3333333333333333,
              "#9c179e"
             ],
             [
              0.4444444444444444,
              "#bd3786"
             ],
             [
              0.5555555555555556,
              "#d8576b"
             ],
             [
              0.6666666666666666,
              "#ed7953"
             ],
             [
              0.7777777777777778,
              "#fb9f3a"
             ],
             [
              0.8888888888888888,
              "#fdca26"
             ],
             [
              1,
              "#f0f921"
             ]
            ],
            "type": "heatmapgl"
           }
          ],
          "histogram": [
           {
            "marker": {
             "pattern": {
              "fillmode": "overlay",
              "size": 10,
              "solidity": 0.2
             }
            },
            "type": "histogram"
           }
          ],
          "histogram2d": [
           {
            "colorbar": {
             "outlinewidth": 0,
             "ticks": ""
            },
            "colorscale": [
             [
              0,
              "#0d0887"
             ],
             [
              0.1111111111111111,
              "#46039f"
             ],
             [
              0.2222222222222222,
              "#7201a8"
             ],
             [
              0.3333333333333333,
              "#9c179e"
             ],
             [
              0.4444444444444444,
              "#bd3786"
             ],
             [
              0.5555555555555556,
              "#d8576b"
             ],
             [
              0.6666666666666666,
              "#ed7953"
             ],
             [
              0.7777777777777778,
              "#fb9f3a"
             ],
             [
              0.8888888888888888,
              "#fdca26"
             ],
             [
              1,
              "#f0f921"
             ]
            ],
            "type": "histogram2d"
           }
          ],
          "histogram2dcontour": [
           {
            "colorbar": {
             "outlinewidth": 0,
             "ticks": ""
            },
            "colorscale": [
             [
              0,
              "#0d0887"
             ],
             [
              0.1111111111111111,
              "#46039f"
             ],
             [
              0.2222222222222222,
              "#7201a8"
             ],
             [
              0.3333333333333333,
              "#9c179e"
             ],
             [
              0.4444444444444444,
              "#bd3786"
             ],
             [
              0.5555555555555556,
              "#d8576b"
             ],
             [
              0.6666666666666666,
              "#ed7953"
             ],
             [
              0.7777777777777778,
              "#fb9f3a"
             ],
             [
              0.8888888888888888,
              "#fdca26"
             ],
             [
              1,
              "#f0f921"
             ]
            ],
            "type": "histogram2dcontour"
           }
          ],
          "mesh3d": [
           {
            "colorbar": {
             "outlinewidth": 0,
             "ticks": ""
            },
            "type": "mesh3d"
           }
          ],
          "parcoords": [
           {
            "line": {
             "colorbar": {
              "outlinewidth": 0,
              "ticks": ""
             }
            },
            "type": "parcoords"
           }
          ],
          "pie": [
           {
            "automargin": true,
            "type": "pie"
           }
          ],
          "scatter": [
           {
            "fillpattern": {
             "fillmode": "overlay",
             "size": 10,
             "solidity": 0.2
            },
            "type": "scatter"
           }
          ],
          "scatter3d": [
           {
            "line": {
             "colorbar": {
              "outlinewidth": 0,
              "ticks": ""
             }
            },
            "marker": {
             "colorbar": {
              "outlinewidth": 0,
              "ticks": ""
             }
            },
            "type": "scatter3d"
           }
          ],
          "scattercarpet": [
           {
            "marker": {
             "colorbar": {
              "outlinewidth": 0,
              "ticks": ""
             }
            },
            "type": "scattercarpet"
           }
          ],
          "scattergeo": [
           {
            "marker": {
             "colorbar": {
              "outlinewidth": 0,
              "ticks": ""
             }
            },
            "type": "scattergeo"
           }
          ],
          "scattergl": [
           {
            "marker": {
             "colorbar": {
              "outlinewidth": 0,
              "ticks": ""
             }
            },
            "type": "scattergl"
           }
          ],
          "scattermapbox": [
           {
            "marker": {
             "colorbar": {
              "outlinewidth": 0,
              "ticks": ""
             }
            },
            "type": "scattermapbox"
           }
          ],
          "scatterpolar": [
           {
            "marker": {
             "colorbar": {
              "outlinewidth": 0,
              "ticks": ""
             }
            },
            "type": "scatterpolar"
           }
          ],
          "scatterpolargl": [
           {
            "marker": {
             "colorbar": {
              "outlinewidth": 0,
              "ticks": ""
             }
            },
            "type": "scatterpolargl"
           }
          ],
          "scatterternary": [
           {
            "marker": {
             "colorbar": {
              "outlinewidth": 0,
              "ticks": ""
             }
            },
            "type": "scatterternary"
           }
          ],
          "surface": [
           {
            "colorbar": {
             "outlinewidth": 0,
             "ticks": ""
            },
            "colorscale": [
             [
              0,
              "#0d0887"
             ],
             [
              0.1111111111111111,
              "#46039f"
             ],
             [
              0.2222222222222222,
              "#7201a8"
             ],
             [
              0.3333333333333333,
              "#9c179e"
             ],
             [
              0.4444444444444444,
              "#bd3786"
             ],
             [
              0.5555555555555556,
              "#d8576b"
             ],
             [
              0.6666666666666666,
              "#ed7953"
             ],
             [
              0.7777777777777778,
              "#fb9f3a"
             ],
             [
              0.8888888888888888,
              "#fdca26"
             ],
             [
              1,
              "#f0f921"
             ]
            ],
            "type": "surface"
           }
          ],
          "table": [
           {
            "cells": {
             "fill": {
              "color": "#EBF0F8"
             },
             "line": {
              "color": "white"
             }
            },
            "header": {
             "fill": {
              "color": "#C8D4E3"
             },
             "line": {
              "color": "white"
             }
            },
            "type": "table"
           }
          ]
         },
         "layout": {
          "annotationdefaults": {
           "arrowcolor": "#2a3f5f",
           "arrowhead": 0,
           "arrowwidth": 1
          },
          "autotypenumbers": "strict",
          "coloraxis": {
           "colorbar": {
            "outlinewidth": 0,
            "ticks": ""
           }
          },
          "colorscale": {
           "diverging": [
            [
             0,
             "#8e0152"
            ],
            [
             0.1,
             "#c51b7d"
            ],
            [
             0.2,
             "#de77ae"
            ],
            [
             0.3,
             "#f1b6da"
            ],
            [
             0.4,
             "#fde0ef"
            ],
            [
             0.5,
             "#f7f7f7"
            ],
            [
             0.6,
             "#e6f5d0"
            ],
            [
             0.7,
             "#b8e186"
            ],
            [
             0.8,
             "#7fbc41"
            ],
            [
             0.9,
             "#4d9221"
            ],
            [
             1,
             "#276419"
            ]
           ],
           "sequential": [
            [
             0,
             "#0d0887"
            ],
            [
             0.1111111111111111,
             "#46039f"
            ],
            [
             0.2222222222222222,
             "#7201a8"
            ],
            [
             0.3333333333333333,
             "#9c179e"
            ],
            [
             0.4444444444444444,
             "#bd3786"
            ],
            [
             0.5555555555555556,
             "#d8576b"
            ],
            [
             0.6666666666666666,
             "#ed7953"
            ],
            [
             0.7777777777777778,
             "#fb9f3a"
            ],
            [
             0.8888888888888888,
             "#fdca26"
            ],
            [
             1,
             "#f0f921"
            ]
           ],
           "sequentialminus": [
            [
             0,
             "#0d0887"
            ],
            [
             0.1111111111111111,
             "#46039f"
            ],
            [
             0.2222222222222222,
             "#7201a8"
            ],
            [
             0.3333333333333333,
             "#9c179e"
            ],
            [
             0.4444444444444444,
             "#bd3786"
            ],
            [
             0.5555555555555556,
             "#d8576b"
            ],
            [
             0.6666666666666666,
             "#ed7953"
            ],
            [
             0.7777777777777778,
             "#fb9f3a"
            ],
            [
             0.8888888888888888,
             "#fdca26"
            ],
            [
             1,
             "#f0f921"
            ]
           ]
          },
          "colorway": [
           "#636efa",
           "#EF553B",
           "#00cc96",
           "#ab63fa",
           "#FFA15A",
           "#19d3f3",
           "#FF6692",
           "#B6E880",
           "#FF97FF",
           "#FECB52"
          ],
          "font": {
           "color": "#2a3f5f"
          },
          "geo": {
           "bgcolor": "white",
           "lakecolor": "white",
           "landcolor": "#E5ECF6",
           "showlakes": true,
           "showland": true,
           "subunitcolor": "white"
          },
          "hoverlabel": {
           "align": "left"
          },
          "hovermode": "closest",
          "mapbox": {
           "style": "light"
          },
          "paper_bgcolor": "white",
          "plot_bgcolor": "#E5ECF6",
          "polar": {
           "angularaxis": {
            "gridcolor": "white",
            "linecolor": "white",
            "ticks": ""
           },
           "bgcolor": "#E5ECF6",
           "radialaxis": {
            "gridcolor": "white",
            "linecolor": "white",
            "ticks": ""
           }
          },
          "scene": {
           "xaxis": {
            "backgroundcolor": "#E5ECF6",
            "gridcolor": "white",
            "gridwidth": 2,
            "linecolor": "white",
            "showbackground": true,
            "ticks": "",
            "zerolinecolor": "white"
           },
           "yaxis": {
            "backgroundcolor": "#E5ECF6",
            "gridcolor": "white",
            "gridwidth": 2,
            "linecolor": "white",
            "showbackground": true,
            "ticks": "",
            "zerolinecolor": "white"
           },
           "zaxis": {
            "backgroundcolor": "#E5ECF6",
            "gridcolor": "white",
            "gridwidth": 2,
            "linecolor": "white",
            "showbackground": true,
            "ticks": "",
            "zerolinecolor": "white"
           }
          },
          "shapedefaults": {
           "line": {
            "color": "#2a3f5f"
           }
          },
          "ternary": {
           "aaxis": {
            "gridcolor": "white",
            "linecolor": "white",
            "ticks": ""
           },
           "baxis": {
            "gridcolor": "white",
            "linecolor": "white",
            "ticks": ""
           },
           "bgcolor": "#E5ECF6",
           "caxis": {
            "gridcolor": "white",
            "linecolor": "white",
            "ticks": ""
           }
          },
          "title": {
           "x": 0.05
          },
          "xaxis": {
           "automargin": true,
           "gridcolor": "white",
           "linecolor": "white",
           "ticks": "",
           "title": {
            "standoff": 15
           },
           "zerolinecolor": "white",
           "zerolinewidth": 2
          },
          "yaxis": {
           "automargin": true,
           "gridcolor": "white",
           "linecolor": "white",
           "ticks": "",
           "title": {
            "standoff": 15
           },
           "zerolinecolor": "white",
           "zerolinewidth": 2
          }
         }
        },
        "title": {
         "text": "Difference between predictions and true values over time"
        },
        "xaxis": {
         "anchor": "y",
         "domain": [
          0,
          1
         ],
         "title": {
          "text": "Sample Index"
         }
        },
        "yaxis": {
         "anchor": "x",
         "domain": [
          0,
          1
         ],
         "title": {
          "text": "Difference (Prediction - Real)"
         }
        }
       }
      }
     },
     "metadata": {},
     "output_type": "display_data"
    },
    {
     "name": "stdout",
     "output_type": "stream",
     "text": [
      "14/14 [==============================] - 0s 3ms/step - loss: 0.2993 - accuracy: 0.9060\n"
     ]
    },
    {
     "data": {
      "application/vnd.plotly.v1+json": {
       "config": {
        "plotlyServerURL": "https://plot.ly"
       },
       "data": [
        {
         "hovertemplate": "Epochs=%{x}<br>Validation Accuracy=%{y}<extra></extra>",
         "legendgroup": "",
         "line": {
          "color": "#636efa",
          "dash": "solid"
         },
         "marker": {
          "symbol": "circle"
         },
         "mode": "lines",
         "name": "",
         "orientation": "v",
         "showlegend": false,
         "type": "scatter",
         "x": [
          1,
          2,
          3,
          4,
          5,
          6,
          7,
          8,
          9,
          10,
          11,
          12,
          13,
          14,
          15,
          16,
          17,
          18,
          19,
          20,
          21,
          22,
          23,
          24,
          25,
          26,
          27,
          28,
          29,
          30,
          31,
          32,
          33,
          34,
          35,
          36,
          37,
          38,
          39,
          40,
          41,
          42,
          43,
          44,
          45,
          46,
          47,
          48,
          49,
          50,
          51,
          52,
          53,
          54,
          55,
          56,
          57,
          58,
          59,
          60,
          61,
          62,
          63,
          64,
          65,
          66,
          67,
          68,
          69,
          70,
          71,
          72,
          73,
          74,
          75,
          76,
          77,
          78,
          79,
          80,
          81,
          82,
          83,
          84,
          85,
          86,
          87,
          88,
          89,
          90,
          91,
          92,
          93,
          94,
          95,
          96,
          97,
          98,
          99,
          100
         ],
         "xaxis": "x",
         "y": [
          0.25503355264663696,
          0.3803131878376007,
          0.572706937789917,
          0.6689038276672363,
          0.7203579545021057,
          0.7516778707504272,
          0.7740492224693298,
          0.7874720096588135,
          0.7852349281311035,
          0.7941834330558777,
          0.7986577153205872,
          0.8098434209823608,
          0.8120805621147156,
          0.8232662081718445,
          0.8322147727012634,
          0.8322147727012634,
          0.8344519138336182,
          0.8389261960983276,
          0.8434004187583923,
          0.8434004187583923,
          0.8501118421554565,
          0.854586124420166,
          0.8590604066848755,
          0.8612975478172302,
          0.8702461123466492,
          0.8747203350067139,
          0.8724831938743591,
          0.8769574761390686,
          0.8814317584037781,
          0.8881431818008423,
          0.890380322933197,
          0.890380322933197,
          0.8881431818008423,
          0.8926174640655518,
          0.8926174640655518,
          0.8948546051979065,
          0.8970917463302612,
          0.8970917463302612,
          0.8970917463302612,
          0.8970917463302612,
          0.8970917463302612,
          0.8970917463302612,
          0.8970917463302612,
          0.8970917463302612,
          0.8970917463302612,
          0.899328887462616,
          0.9015659689903259,
          0.9015659689903259,
          0.899328887462616,
          0.9015659689903259,
          0.9015659689903259,
          0.9015659689903259,
          0.9015659689903259,
          0.9015659689903259,
          0.9015659689903259,
          0.8970917463302612,
          0.8970917463302612,
          0.8970917463302612,
          0.8970917463302612,
          0.899328887462616,
          0.899328887462616,
          0.899328887462616,
          0.899328887462616,
          0.899328887462616,
          0.899328887462616,
          0.899328887462616,
          0.899328887462616,
          0.899328887462616,
          0.899328887462616,
          0.899328887462616,
          0.899328887462616,
          0.899328887462616,
          0.899328887462616,
          0.899328887462616,
          0.899328887462616,
          0.899328887462616,
          0.899328887462616,
          0.9015659689903259,
          0.9015659689903259,
          0.9015659689903259,
          0.9038031101226807,
          0.9038031101226807,
          0.9060402512550354,
          0.9038031101226807,
          0.9060402512550354,
          0.9060402512550354,
          0.9060402512550354,
          0.9060402512550354,
          0.9060402512550354,
          0.9060402512550354,
          0.9082773923873901,
          0.9060402512550354,
          0.9038031101226807,
          0.9060402512550354,
          0.9060402512550354,
          0.9082773923873901,
          0.9082773923873901,
          0.9082773923873901,
          0.9082773923873901,
          0.9060402512550354
         ],
         "yaxis": "y"
        }
       ],
       "layout": {
        "legend": {
         "tracegroupgap": 0
        },
        "template": {
         "data": {
          "bar": [
           {
            "error_x": {
             "color": "#2a3f5f"
            },
            "error_y": {
             "color": "#2a3f5f"
            },
            "marker": {
             "line": {
              "color": "#E5ECF6",
              "width": 0.5
             },
             "pattern": {
              "fillmode": "overlay",
              "size": 10,
              "solidity": 0.2
             }
            },
            "type": "bar"
           }
          ],
          "barpolar": [
           {
            "marker": {
             "line": {
              "color": "#E5ECF6",
              "width": 0.5
             },
             "pattern": {
              "fillmode": "overlay",
              "size": 10,
              "solidity": 0.2
             }
            },
            "type": "barpolar"
           }
          ],
          "carpet": [
           {
            "aaxis": {
             "endlinecolor": "#2a3f5f",
             "gridcolor": "white",
             "linecolor": "white",
             "minorgridcolor": "white",
             "startlinecolor": "#2a3f5f"
            },
            "baxis": {
             "endlinecolor": "#2a3f5f",
             "gridcolor": "white",
             "linecolor": "white",
             "minorgridcolor": "white",
             "startlinecolor": "#2a3f5f"
            },
            "type": "carpet"
           }
          ],
          "choropleth": [
           {
            "colorbar": {
             "outlinewidth": 0,
             "ticks": ""
            },
            "type": "choropleth"
           }
          ],
          "contour": [
           {
            "colorbar": {
             "outlinewidth": 0,
             "ticks": ""
            },
            "colorscale": [
             [
              0,
              "#0d0887"
             ],
             [
              0.1111111111111111,
              "#46039f"
             ],
             [
              0.2222222222222222,
              "#7201a8"
             ],
             [
              0.3333333333333333,
              "#9c179e"
             ],
             [
              0.4444444444444444,
              "#bd3786"
             ],
             [
              0.5555555555555556,
              "#d8576b"
             ],
             [
              0.6666666666666666,
              "#ed7953"
             ],
             [
              0.7777777777777778,
              "#fb9f3a"
             ],
             [
              0.8888888888888888,
              "#fdca26"
             ],
             [
              1,
              "#f0f921"
             ]
            ],
            "type": "contour"
           }
          ],
          "contourcarpet": [
           {
            "colorbar": {
             "outlinewidth": 0,
             "ticks": ""
            },
            "type": "contourcarpet"
           }
          ],
          "heatmap": [
           {
            "colorbar": {
             "outlinewidth": 0,
             "ticks": ""
            },
            "colorscale": [
             [
              0,
              "#0d0887"
             ],
             [
              0.1111111111111111,
              "#46039f"
             ],
             [
              0.2222222222222222,
              "#7201a8"
             ],
             [
              0.3333333333333333,
              "#9c179e"
             ],
             [
              0.4444444444444444,
              "#bd3786"
             ],
             [
              0.5555555555555556,
              "#d8576b"
             ],
             [
              0.6666666666666666,
              "#ed7953"
             ],
             [
              0.7777777777777778,
              "#fb9f3a"
             ],
             [
              0.8888888888888888,
              "#fdca26"
             ],
             [
              1,
              "#f0f921"
             ]
            ],
            "type": "heatmap"
           }
          ],
          "heatmapgl": [
           {
            "colorbar": {
             "outlinewidth": 0,
             "ticks": ""
            },
            "colorscale": [
             [
              0,
              "#0d0887"
             ],
             [
              0.1111111111111111,
              "#46039f"
             ],
             [
              0.2222222222222222,
              "#7201a8"
             ],
             [
              0.3333333333333333,
              "#9c179e"
             ],
             [
              0.4444444444444444,
              "#bd3786"
             ],
             [
              0.5555555555555556,
              "#d8576b"
             ],
             [
              0.6666666666666666,
              "#ed7953"
             ],
             [
              0.7777777777777778,
              "#fb9f3a"
             ],
             [
              0.8888888888888888,
              "#fdca26"
             ],
             [
              1,
              "#f0f921"
             ]
            ],
            "type": "heatmapgl"
           }
          ],
          "histogram": [
           {
            "marker": {
             "pattern": {
              "fillmode": "overlay",
              "size": 10,
              "solidity": 0.2
             }
            },
            "type": "histogram"
           }
          ],
          "histogram2d": [
           {
            "colorbar": {
             "outlinewidth": 0,
             "ticks": ""
            },
            "colorscale": [
             [
              0,
              "#0d0887"
             ],
             [
              0.1111111111111111,
              "#46039f"
             ],
             [
              0.2222222222222222,
              "#7201a8"
             ],
             [
              0.3333333333333333,
              "#9c179e"
             ],
             [
              0.4444444444444444,
              "#bd3786"
             ],
             [
              0.5555555555555556,
              "#d8576b"
             ],
             [
              0.6666666666666666,
              "#ed7953"
             ],
             [
              0.7777777777777778,
              "#fb9f3a"
             ],
             [
              0.8888888888888888,
              "#fdca26"
             ],
             [
              1,
              "#f0f921"
             ]
            ],
            "type": "histogram2d"
           }
          ],
          "histogram2dcontour": [
           {
            "colorbar": {
             "outlinewidth": 0,
             "ticks": ""
            },
            "colorscale": [
             [
              0,
              "#0d0887"
             ],
             [
              0.1111111111111111,
              "#46039f"
             ],
             [
              0.2222222222222222,
              "#7201a8"
             ],
             [
              0.3333333333333333,
              "#9c179e"
             ],
             [
              0.4444444444444444,
              "#bd3786"
             ],
             [
              0.5555555555555556,
              "#d8576b"
             ],
             [
              0.6666666666666666,
              "#ed7953"
             ],
             [
              0.7777777777777778,
              "#fb9f3a"
             ],
             [
              0.8888888888888888,
              "#fdca26"
             ],
             [
              1,
              "#f0f921"
             ]
            ],
            "type": "histogram2dcontour"
           }
          ],
          "mesh3d": [
           {
            "colorbar": {
             "outlinewidth": 0,
             "ticks": ""
            },
            "type": "mesh3d"
           }
          ],
          "parcoords": [
           {
            "line": {
             "colorbar": {
              "outlinewidth": 0,
              "ticks": ""
             }
            },
            "type": "parcoords"
           }
          ],
          "pie": [
           {
            "automargin": true,
            "type": "pie"
           }
          ],
          "scatter": [
           {
            "fillpattern": {
             "fillmode": "overlay",
             "size": 10,
             "solidity": 0.2
            },
            "type": "scatter"
           }
          ],
          "scatter3d": [
           {
            "line": {
             "colorbar": {
              "outlinewidth": 0,
              "ticks": ""
             }
            },
            "marker": {
             "colorbar": {
              "outlinewidth": 0,
              "ticks": ""
             }
            },
            "type": "scatter3d"
           }
          ],
          "scattercarpet": [
           {
            "marker": {
             "colorbar": {
              "outlinewidth": 0,
              "ticks": ""
             }
            },
            "type": "scattercarpet"
           }
          ],
          "scattergeo": [
           {
            "marker": {
             "colorbar": {
              "outlinewidth": 0,
              "ticks": ""
             }
            },
            "type": "scattergeo"
           }
          ],
          "scattergl": [
           {
            "marker": {
             "colorbar": {
              "outlinewidth": 0,
              "ticks": ""
             }
            },
            "type": "scattergl"
           }
          ],
          "scattermapbox": [
           {
            "marker": {
             "colorbar": {
              "outlinewidth": 0,
              "ticks": ""
             }
            },
            "type": "scattermapbox"
           }
          ],
          "scatterpolar": [
           {
            "marker": {
             "colorbar": {
              "outlinewidth": 0,
              "ticks": ""
             }
            },
            "type": "scatterpolar"
           }
          ],
          "scatterpolargl": [
           {
            "marker": {
             "colorbar": {
              "outlinewidth": 0,
              "ticks": ""
             }
            },
            "type": "scatterpolargl"
           }
          ],
          "scatterternary": [
           {
            "marker": {
             "colorbar": {
              "outlinewidth": 0,
              "ticks": ""
             }
            },
            "type": "scatterternary"
           }
          ],
          "surface": [
           {
            "colorbar": {
             "outlinewidth": 0,
             "ticks": ""
            },
            "colorscale": [
             [
              0,
              "#0d0887"
             ],
             [
              0.1111111111111111,
              "#46039f"
             ],
             [
              0.2222222222222222,
              "#7201a8"
             ],
             [
              0.3333333333333333,
              "#9c179e"
             ],
             [
              0.4444444444444444,
              "#bd3786"
             ],
             [
              0.5555555555555556,
              "#d8576b"
             ],
             [
              0.6666666666666666,
              "#ed7953"
             ],
             [
              0.7777777777777778,
              "#fb9f3a"
             ],
             [
              0.8888888888888888,
              "#fdca26"
             ],
             [
              1,
              "#f0f921"
             ]
            ],
            "type": "surface"
           }
          ],
          "table": [
           {
            "cells": {
             "fill": {
              "color": "#EBF0F8"
             },
             "line": {
              "color": "white"
             }
            },
            "header": {
             "fill": {
              "color": "#C8D4E3"
             },
             "line": {
              "color": "white"
             }
            },
            "type": "table"
           }
          ]
         },
         "layout": {
          "annotationdefaults": {
           "arrowcolor": "#2a3f5f",
           "arrowhead": 0,
           "arrowwidth": 1
          },
          "autotypenumbers": "strict",
          "coloraxis": {
           "colorbar": {
            "outlinewidth": 0,
            "ticks": ""
           }
          },
          "colorscale": {
           "diverging": [
            [
             0,
             "#8e0152"
            ],
            [
             0.1,
             "#c51b7d"
            ],
            [
             0.2,
             "#de77ae"
            ],
            [
             0.3,
             "#f1b6da"
            ],
            [
             0.4,
             "#fde0ef"
            ],
            [
             0.5,
             "#f7f7f7"
            ],
            [
             0.6,
             "#e6f5d0"
            ],
            [
             0.7,
             "#b8e186"
            ],
            [
             0.8,
             "#7fbc41"
            ],
            [
             0.9,
             "#4d9221"
            ],
            [
             1,
             "#276419"
            ]
           ],
           "sequential": [
            [
             0,
             "#0d0887"
            ],
            [
             0.1111111111111111,
             "#46039f"
            ],
            [
             0.2222222222222222,
             "#7201a8"
            ],
            [
             0.3333333333333333,
             "#9c179e"
            ],
            [
             0.4444444444444444,
             "#bd3786"
            ],
            [
             0.5555555555555556,
             "#d8576b"
            ],
            [
             0.6666666666666666,
             "#ed7953"
            ],
            [
             0.7777777777777778,
             "#fb9f3a"
            ],
            [
             0.8888888888888888,
             "#fdca26"
            ],
            [
             1,
             "#f0f921"
            ]
           ],
           "sequentialminus": [
            [
             0,
             "#0d0887"
            ],
            [
             0.1111111111111111,
             "#46039f"
            ],
            [
             0.2222222222222222,
             "#7201a8"
            ],
            [
             0.3333333333333333,
             "#9c179e"
            ],
            [
             0.4444444444444444,
             "#bd3786"
            ],
            [
             0.5555555555555556,
             "#d8576b"
            ],
            [
             0.6666666666666666,
             "#ed7953"
            ],
            [
             0.7777777777777778,
             "#fb9f3a"
            ],
            [
             0.8888888888888888,
             "#fdca26"
            ],
            [
             1,
             "#f0f921"
            ]
           ]
          },
          "colorway": [
           "#636efa",
           "#EF553B",
           "#00cc96",
           "#ab63fa",
           "#FFA15A",
           "#19d3f3",
           "#FF6692",
           "#B6E880",
           "#FF97FF",
           "#FECB52"
          ],
          "font": {
           "color": "#2a3f5f"
          },
          "geo": {
           "bgcolor": "white",
           "lakecolor": "white",
           "landcolor": "#E5ECF6",
           "showlakes": true,
           "showland": true,
           "subunitcolor": "white"
          },
          "hoverlabel": {
           "align": "left"
          },
          "hovermode": "closest",
          "mapbox": {
           "style": "light"
          },
          "paper_bgcolor": "white",
          "plot_bgcolor": "#E5ECF6",
          "polar": {
           "angularaxis": {
            "gridcolor": "white",
            "linecolor": "white",
            "ticks": ""
           },
           "bgcolor": "#E5ECF6",
           "radialaxis": {
            "gridcolor": "white",
            "linecolor": "white",
            "ticks": ""
           }
          },
          "scene": {
           "xaxis": {
            "backgroundcolor": "#E5ECF6",
            "gridcolor": "white",
            "gridwidth": 2,
            "linecolor": "white",
            "showbackground": true,
            "ticks": "",
            "zerolinecolor": "white"
           },
           "yaxis": {
            "backgroundcolor": "#E5ECF6",
            "gridcolor": "white",
            "gridwidth": 2,
            "linecolor": "white",
            "showbackground": true,
            "ticks": "",
            "zerolinecolor": "white"
           },
           "zaxis": {
            "backgroundcolor": "#E5ECF6",
            "gridcolor": "white",
            "gridwidth": 2,
            "linecolor": "white",
            "showbackground": true,
            "ticks": "",
            "zerolinecolor": "white"
           }
          },
          "shapedefaults": {
           "line": {
            "color": "#2a3f5f"
           }
          },
          "ternary": {
           "aaxis": {
            "gridcolor": "white",
            "linecolor": "white",
            "ticks": ""
           },
           "baxis": {
            "gridcolor": "white",
            "linecolor": "white",
            "ticks": ""
           },
           "bgcolor": "#E5ECF6",
           "caxis": {
            "gridcolor": "white",
            "linecolor": "white",
            "ticks": ""
           }
          },
          "title": {
           "x": 0.05
          },
          "xaxis": {
           "automargin": true,
           "gridcolor": "white",
           "linecolor": "white",
           "ticks": "",
           "title": {
            "standoff": 15
           },
           "zerolinecolor": "white",
           "zerolinewidth": 2
          },
          "yaxis": {
           "automargin": true,
           "gridcolor": "white",
           "linecolor": "white",
           "ticks": "",
           "title": {
            "standoff": 15
           },
           "zerolinecolor": "white",
           "zerolinewidth": 2
          }
         }
        },
        "title": {
         "text": "Training and Validation Accuracy over Epochs"
        },
        "xaxis": {
         "anchor": "y",
         "domain": [
          0,
          1
         ],
         "title": {
          "text": "Epochs"
         }
        },
        "yaxis": {
         "anchor": "x",
         "domain": [
          0,
          1
         ],
         "title": {
          "text": "Validation Accuracy"
         }
        }
       }
      }
     },
     "metadata": {},
     "output_type": "display_data"
    }
   ],
   "source": [
    "# Splitting the data into training, testing, and evaluation sets\n",
    "\n",
    "train_data = X[:int(0.8 * len(X))] \n",
    "test_data = X[int(0.8 * len(X)):int(0.95 * len(X))]  \n",
    "eval_data = X[int(0.95 * len(X)):]  \n",
    "\n",
    "X_train = train_data.drop('Traffic Situation', axis=1).values\n",
    "y_train_encoded = label_encoder.fit_transform(train_data['Traffic Situation'])\n",
    "\n",
    "X_test = test_data.drop('Traffic Situation', axis=1).values\n",
    "y_test_encoded = label_encoder.transform(test_data['Traffic Situation'])\n",
    "\n",
    "y_train_one_hot = tf.keras.utils.to_categorical(y_train_encoded)\n",
    "y_test_one_hot = tf.keras.utils.to_categorical(y_test_encoded)\n",
    "\n",
    "# Normalize data\n",
    "scaler = StandardScaler()\n",
    "X_train_scaled = scaler.fit_transform(X_train)\n",
    "X_test_scaled = scaler.transform(X_test)\n",
    "\n",
    "# Create a simple perceptron model\n",
    "model = tf.keras.Sequential([\n",
    "    tf.keras.layers.Dense(4, activation='softmax', input_shape=(X_train_scaled.shape[1],)),\n",
    "])\n",
    "\n",
    "# Model compilation\n",
    "model.compile(optimizer='adam', loss='categorical_crossentropy', metrics=['accuracy'])\n",
    "\n",
    "# Model training\n",
    "history = model.fit(X_train_scaled, y_train_one_hot, epochs=100, batch_size=16, validation_data=(X_test_scaled, y_test_one_hot), verbose=2)\n",
    "\n",
    "# Prediction on testing set\n",
    "y_pred = model.predict(X_test_scaled)\n",
    "\n",
    "# Calculate the difference between predictions and true values\n",
    "diff = np.argmax(y_pred, axis=1) - np.argmax(y_test_one_hot, axis=1)\n",
    "\n",
    "# Display the loss function over epochs\n",
    "fig_loss = px.line(\n",
    "    x=np.arange(1, len(history.history['loss']) + 1),\n",
    "    y=history.history['loss'],\n",
    "    labels={'x': 'Epochs', 'y': 'Loss'},\n",
    "    title='Loss function over epochs'\n",
    ")\n",
    "fig_loss.show()\n",
    "\n",
    "# Display the difference between predictions and true values over time\n",
    "fig_diff = px.line(\n",
    "    x=np.arange(len(diff)),\n",
    "    y=diff,\n",
    "    labels={'x': 'Sample Index', 'y': 'Difference (Prediction - Real)'},\n",
    "    title='Difference between predictions and true values over time'\n",
    ")\n",
    "fig_diff.show()\n",
    "loss, accuracy = model.evaluate(X_test_scaled, y_test_one_hot)\n",
    "\n",
    "\n",
    "\n",
    "accuracy = history.history['accuracy']\n",
    "val_accuracy = history.history['val_accuracy']\n",
    "epochs = range(1, len(accuracy) + 1)\n",
    "\n",
    "data = {'Epochs': epochs, 'Training Accuracy': accuracy, 'Validation Accuracy': val_accuracy}\n",
    "df = pd.DataFrame(data)\n",
    "\n",
    "# display accuracy with epochs\n",
    "fig = px.line(df, x='Epochs', y= 'Validation Accuracy', \n",
    "              labels={'value': 'Accuracy', 'Epochs': 'Epochs'},\n",
    "              title='Training and Validation Accuracy over Epochs')\n",
    "fig.show()\n"
   ]
  },
  {
   "cell_type": "code",
   "execution_count": null,
   "metadata": {},
   "outputs": [
    {
     "name": "stdout",
     "output_type": "stream",
     "text": [
      "Evaluation of the model on evaluation data (different from training and test data)"
     ]
    },
    {
     "name": "stdout",
     "output_type": "stream",
     "text": [
      "\n"
     ]
    },
    {
     "name": "stderr",
     "output_type": "stream",
     "text": [
      "c:\\Users\\mathy\\AppData\\Local\\Programs\\Python\\Python310\\lib\\site-packages\\sklearn\\base.py:458: UserWarning:\n",
      "\n",
      "X has feature names, but StandardScaler was fitted without feature names\n",
      "\n",
      "c:\\Users\\mathy\\AppData\\Local\\Programs\\Python\\Python310\\lib\\site-packages\\sklearn\\base.py:458: UserWarning:\n",
      "\n",
      "X has feature names, but StandardScaler was fitted without feature names\n",
      "\n",
      "c:\\Users\\mathy\\AppData\\Local\\Programs\\Python\\Python310\\lib\\site-packages\\sklearn\\base.py:458: UserWarning:\n",
      "\n",
      "X has feature names, but StandardScaler was fitted without feature names\n",
      "\n",
      "c:\\Users\\mathy\\AppData\\Local\\Programs\\Python\\Python310\\lib\\site-packages\\sklearn\\base.py:458: UserWarning:\n",
      "\n",
      "X has feature names, but StandardScaler was fitted without feature names\n",
      "\n",
      "c:\\Users\\mathy\\AppData\\Local\\Programs\\Python\\Python310\\lib\\site-packages\\sklearn\\base.py:458: UserWarning:\n",
      "\n",
      "X has feature names, but StandardScaler was fitted without feature names\n",
      "\n",
      "c:\\Users\\mathy\\AppData\\Local\\Programs\\Python\\Python310\\lib\\site-packages\\sklearn\\base.py:458: UserWarning:\n",
      "\n",
      "X has feature names, but StandardScaler was fitted without feature names\n",
      "\n",
      "c:\\Users\\mathy\\AppData\\Local\\Programs\\Python\\Python310\\lib\\site-packages\\sklearn\\base.py:458: UserWarning:\n",
      "\n",
      "X has feature names, but StandardScaler was fitted without feature names\n",
      "\n",
      "c:\\Users\\mathy\\AppData\\Local\\Programs\\Python\\Python310\\lib\\site-packages\\sklearn\\base.py:458: UserWarning:\n",
      "\n",
      "X has feature names, but StandardScaler was fitted without feature names\n",
      "\n",
      "c:\\Users\\mathy\\AppData\\Local\\Programs\\Python\\Python310\\lib\\site-packages\\sklearn\\base.py:458: UserWarning:\n",
      "\n",
      "X has feature names, but StandardScaler was fitted without feature names\n",
      "\n",
      "c:\\Users\\mathy\\AppData\\Local\\Programs\\Python\\Python310\\lib\\site-packages\\sklearn\\base.py:458: UserWarning:\n",
      "\n",
      "X has feature names, but StandardScaler was fitted without feature names\n",
      "\n",
      "c:\\Users\\mathy\\AppData\\Local\\Programs\\Python\\Python310\\lib\\site-packages\\sklearn\\base.py:458: UserWarning:\n",
      "\n",
      "X has feature names, but StandardScaler was fitted without feature names\n",
      "\n",
      "c:\\Users\\mathy\\AppData\\Local\\Programs\\Python\\Python310\\lib\\site-packages\\sklearn\\base.py:458: UserWarning:\n",
      "\n",
      "X has feature names, but StandardScaler was fitted without feature names\n",
      "\n",
      "c:\\Users\\mathy\\AppData\\Local\\Programs\\Python\\Python310\\lib\\site-packages\\sklearn\\base.py:458: UserWarning:\n",
      "\n",
      "X has feature names, but StandardScaler was fitted without feature names\n",
      "\n",
      "c:\\Users\\mathy\\AppData\\Local\\Programs\\Python\\Python310\\lib\\site-packages\\sklearn\\base.py:458: UserWarning:\n",
      "\n",
      "X has feature names, but StandardScaler was fitted without feature names\n",
      "\n",
      "c:\\Users\\mathy\\AppData\\Local\\Programs\\Python\\Python310\\lib\\site-packages\\sklearn\\base.py:458: UserWarning:\n",
      "\n",
      "X has feature names, but StandardScaler was fitted without feature names\n",
      "\n",
      "c:\\Users\\mathy\\AppData\\Local\\Programs\\Python\\Python310\\lib\\site-packages\\sklearn\\base.py:458: UserWarning:\n",
      "\n",
      "X has feature names, but StandardScaler was fitted without feature names\n",
      "\n",
      "c:\\Users\\mathy\\AppData\\Local\\Programs\\Python\\Python310\\lib\\site-packages\\sklearn\\base.py:458: UserWarning:\n",
      "\n",
      "X has feature names, but StandardScaler was fitted without feature names\n",
      "\n",
      "c:\\Users\\mathy\\AppData\\Local\\Programs\\Python\\Python310\\lib\\site-packages\\sklearn\\base.py:458: UserWarning:\n",
      "\n",
      "X has feature names, but StandardScaler was fitted without feature names\n",
      "\n",
      "c:\\Users\\mathy\\AppData\\Local\\Programs\\Python\\Python310\\lib\\site-packages\\sklearn\\base.py:458: UserWarning:\n",
      "\n",
      "X has feature names, but StandardScaler was fitted without feature names\n",
      "\n",
      "c:\\Users\\mathy\\AppData\\Local\\Programs\\Python\\Python310\\lib\\site-packages\\sklearn\\base.py:458: UserWarning:\n",
      "\n",
      "X has feature names, but StandardScaler was fitted without feature names\n",
      "\n",
      "c:\\Users\\mathy\\AppData\\Local\\Programs\\Python\\Python310\\lib\\site-packages\\sklearn\\base.py:458: UserWarning:\n",
      "\n",
      "X has feature names, but StandardScaler was fitted without feature names\n",
      "\n",
      "c:\\Users\\mathy\\AppData\\Local\\Programs\\Python\\Python310\\lib\\site-packages\\sklearn\\base.py:458: UserWarning:\n",
      "\n",
      "X has feature names, but StandardScaler was fitted without feature names\n",
      "\n",
      "c:\\Users\\mathy\\AppData\\Local\\Programs\\Python\\Python310\\lib\\site-packages\\sklearn\\base.py:458: UserWarning:\n",
      "\n",
      "X has feature names, but StandardScaler was fitted without feature names\n",
      "\n",
      "c:\\Users\\mathy\\AppData\\Local\\Programs\\Python\\Python310\\lib\\site-packages\\sklearn\\base.py:458: UserWarning:\n",
      "\n",
      "X has feature names, but StandardScaler was fitted without feature names\n",
      "\n",
      "c:\\Users\\mathy\\AppData\\Local\\Programs\\Python\\Python310\\lib\\site-packages\\sklearn\\base.py:458: UserWarning:\n",
      "\n",
      "X has feature names, but StandardScaler was fitted without feature names\n",
      "\n",
      "c:\\Users\\mathy\\AppData\\Local\\Programs\\Python\\Python310\\lib\\site-packages\\sklearn\\base.py:458: UserWarning:\n",
      "\n",
      "X has feature names, but StandardScaler was fitted without feature names\n",
      "\n",
      "c:\\Users\\mathy\\AppData\\Local\\Programs\\Python\\Python310\\lib\\site-packages\\sklearn\\base.py:458: UserWarning:\n",
      "\n",
      "X has feature names, but StandardScaler was fitted without feature names\n",
      "\n",
      "c:\\Users\\mathy\\AppData\\Local\\Programs\\Python\\Python310\\lib\\site-packages\\sklearn\\base.py:458: UserWarning:\n",
      "\n",
      "X has feature names, but StandardScaler was fitted without feature names\n",
      "\n",
      "c:\\Users\\mathy\\AppData\\Local\\Programs\\Python\\Python310\\lib\\site-packages\\sklearn\\base.py:458: UserWarning:\n",
      "\n",
      "X has feature names, but StandardScaler was fitted without feature names\n",
      "\n",
      "c:\\Users\\mathy\\AppData\\Local\\Programs\\Python\\Python310\\lib\\site-packages\\sklearn\\base.py:458: UserWarning:\n",
      "\n",
      "X has feature names, but StandardScaler was fitted without feature names\n",
      "\n",
      "c:\\Users\\mathy\\AppData\\Local\\Programs\\Python\\Python310\\lib\\site-packages\\sklearn\\base.py:458: UserWarning:\n",
      "\n",
      "X has feature names, but StandardScaler was fitted without feature names\n",
      "\n",
      "c:\\Users\\mathy\\AppData\\Local\\Programs\\Python\\Python310\\lib\\site-packages\\sklearn\\base.py:458: UserWarning:\n",
      "\n",
      "X has feature names, but StandardScaler was fitted without feature names\n",
      "\n",
      "c:\\Users\\mathy\\AppData\\Local\\Programs\\Python\\Python310\\lib\\site-packages\\sklearn\\base.py:458: UserWarning:\n",
      "\n",
      "X has feature names, but StandardScaler was fitted without feature names\n",
      "\n",
      "c:\\Users\\mathy\\AppData\\Local\\Programs\\Python\\Python310\\lib\\site-packages\\sklearn\\base.py:458: UserWarning:\n",
      "\n",
      "X has feature names, but StandardScaler was fitted without feature names\n",
      "\n",
      "c:\\Users\\mathy\\AppData\\Local\\Programs\\Python\\Python310\\lib\\site-packages\\sklearn\\base.py:458: UserWarning:\n",
      "\n",
      "X has feature names, but StandardScaler was fitted without feature names\n",
      "\n",
      "c:\\Users\\mathy\\AppData\\Local\\Programs\\Python\\Python310\\lib\\site-packages\\sklearn\\base.py:458: UserWarning:\n",
      "\n",
      "X has feature names, but StandardScaler was fitted without feature names\n",
      "\n",
      "c:\\Users\\mathy\\AppData\\Local\\Programs\\Python\\Python310\\lib\\site-packages\\sklearn\\base.py:458: UserWarning:\n",
      "\n",
      "X has feature names, but StandardScaler was fitted without feature names\n",
      "\n",
      "c:\\Users\\mathy\\AppData\\Local\\Programs\\Python\\Python310\\lib\\site-packages\\sklearn\\base.py:458: UserWarning:\n",
      "\n",
      "X has feature names, but StandardScaler was fitted without feature names\n",
      "\n",
      "c:\\Users\\mathy\\AppData\\Local\\Programs\\Python\\Python310\\lib\\site-packages\\sklearn\\base.py:458: UserWarning:\n",
      "\n",
      "X has feature names, but StandardScaler was fitted without feature names\n",
      "\n",
      "c:\\Users\\mathy\\AppData\\Local\\Programs\\Python\\Python310\\lib\\site-packages\\sklearn\\base.py:458: UserWarning:\n",
      "\n",
      "X has feature names, but StandardScaler was fitted without feature names\n",
      "\n",
      "c:\\Users\\mathy\\AppData\\Local\\Programs\\Python\\Python310\\lib\\site-packages\\sklearn\\base.py:458: UserWarning:\n",
      "\n",
      "X has feature names, but StandardScaler was fitted without feature names\n",
      "\n",
      "c:\\Users\\mathy\\AppData\\Local\\Programs\\Python\\Python310\\lib\\site-packages\\sklearn\\base.py:458: UserWarning:\n",
      "\n",
      "X has feature names, but StandardScaler was fitted without feature names\n",
      "\n",
      "c:\\Users\\mathy\\AppData\\Local\\Programs\\Python\\Python310\\lib\\site-packages\\sklearn\\base.py:458: UserWarning:\n",
      "\n",
      "X has feature names, but StandardScaler was fitted without feature names\n",
      "\n",
      "c:\\Users\\mathy\\AppData\\Local\\Programs\\Python\\Python310\\lib\\site-packages\\sklearn\\base.py:458: UserWarning:\n",
      "\n",
      "X has feature names, but StandardScaler was fitted without feature names\n",
      "\n",
      "c:\\Users\\mathy\\AppData\\Local\\Programs\\Python\\Python310\\lib\\site-packages\\sklearn\\base.py:458: UserWarning:\n",
      "\n",
      "X has feature names, but StandardScaler was fitted without feature names\n",
      "\n",
      "c:\\Users\\mathy\\AppData\\Local\\Programs\\Python\\Python310\\lib\\site-packages\\sklearn\\base.py:458: UserWarning:\n",
      "\n",
      "X has feature names, but StandardScaler was fitted without feature names\n",
      "\n",
      "c:\\Users\\mathy\\AppData\\Local\\Programs\\Python\\Python310\\lib\\site-packages\\sklearn\\base.py:458: UserWarning:\n",
      "\n",
      "X has feature names, but StandardScaler was fitted without feature names\n",
      "\n",
      "c:\\Users\\mathy\\AppData\\Local\\Programs\\Python\\Python310\\lib\\site-packages\\sklearn\\base.py:458: UserWarning:\n",
      "\n",
      "X has feature names, but StandardScaler was fitted without feature names\n",
      "\n",
      "c:\\Users\\mathy\\AppData\\Local\\Programs\\Python\\Python310\\lib\\site-packages\\sklearn\\base.py:458: UserWarning:\n",
      "\n",
      "X has feature names, but StandardScaler was fitted without feature names\n",
      "\n",
      "c:\\Users\\mathy\\AppData\\Local\\Programs\\Python\\Python310\\lib\\site-packages\\sklearn\\base.py:458: UserWarning:\n",
      "\n",
      "X has feature names, but StandardScaler was fitted without feature names\n",
      "\n",
      "c:\\Users\\mathy\\AppData\\Local\\Programs\\Python\\Python310\\lib\\site-packages\\sklearn\\base.py:458: UserWarning:\n",
      "\n",
      "X has feature names, but StandardScaler was fitted without feature names\n",
      "\n",
      "c:\\Users\\mathy\\AppData\\Local\\Programs\\Python\\Python310\\lib\\site-packages\\sklearn\\base.py:458: UserWarning:\n",
      "\n",
      "X has feature names, but StandardScaler was fitted without feature names\n",
      "\n",
      "c:\\Users\\mathy\\AppData\\Local\\Programs\\Python\\Python310\\lib\\site-packages\\sklearn\\base.py:458: UserWarning:\n",
      "\n",
      "X has feature names, but StandardScaler was fitted without feature names\n",
      "\n",
      "c:\\Users\\mathy\\AppData\\Local\\Programs\\Python\\Python310\\lib\\site-packages\\sklearn\\base.py:458: UserWarning:\n",
      "\n",
      "X has feature names, but StandardScaler was fitted without feature names\n",
      "\n",
      "c:\\Users\\mathy\\AppData\\Local\\Programs\\Python\\Python310\\lib\\site-packages\\sklearn\\base.py:458: UserWarning:\n",
      "\n",
      "X has feature names, but StandardScaler was fitted without feature names\n",
      "\n",
      "c:\\Users\\mathy\\AppData\\Local\\Programs\\Python\\Python310\\lib\\site-packages\\sklearn\\base.py:458: UserWarning:\n",
      "\n",
      "X has feature names, but StandardScaler was fitted without feature names\n",
      "\n",
      "c:\\Users\\mathy\\AppData\\Local\\Programs\\Python\\Python310\\lib\\site-packages\\sklearn\\base.py:458: UserWarning:\n",
      "\n",
      "X has feature names, but StandardScaler was fitted without feature names\n",
      "\n",
      "c:\\Users\\mathy\\AppData\\Local\\Programs\\Python\\Python310\\lib\\site-packages\\sklearn\\base.py:458: UserWarning:\n",
      "\n",
      "X has feature names, but StandardScaler was fitted without feature names\n",
      "\n",
      "c:\\Users\\mathy\\AppData\\Local\\Programs\\Python\\Python310\\lib\\site-packages\\sklearn\\base.py:458: UserWarning:\n",
      "\n",
      "X has feature names, but StandardScaler was fitted without feature names\n",
      "\n",
      "c:\\Users\\mathy\\AppData\\Local\\Programs\\Python\\Python310\\lib\\site-packages\\sklearn\\base.py:458: UserWarning:\n",
      "\n",
      "X has feature names, but StandardScaler was fitted without feature names\n",
      "\n",
      "c:\\Users\\mathy\\AppData\\Local\\Programs\\Python\\Python310\\lib\\site-packages\\sklearn\\base.py:458: UserWarning:\n",
      "\n",
      "X has feature names, but StandardScaler was fitted without feature names\n",
      "\n",
      "c:\\Users\\mathy\\AppData\\Local\\Programs\\Python\\Python310\\lib\\site-packages\\sklearn\\base.py:458: UserWarning:\n",
      "\n",
      "X has feature names, but StandardScaler was fitted without feature names\n",
      "\n",
      "c:\\Users\\mathy\\AppData\\Local\\Programs\\Python\\Python310\\lib\\site-packages\\sklearn\\base.py:458: UserWarning:\n",
      "\n",
      "X has feature names, but StandardScaler was fitted without feature names\n",
      "\n",
      "c:\\Users\\mathy\\AppData\\Local\\Programs\\Python\\Python310\\lib\\site-packages\\sklearn\\base.py:458: UserWarning:\n",
      "\n",
      "X has feature names, but StandardScaler was fitted without feature names\n",
      "\n",
      "c:\\Users\\mathy\\AppData\\Local\\Programs\\Python\\Python310\\lib\\site-packages\\sklearn\\base.py:458: UserWarning:\n",
      "\n",
      "X has feature names, but StandardScaler was fitted without feature names\n",
      "\n",
      "c:\\Users\\mathy\\AppData\\Local\\Programs\\Python\\Python310\\lib\\site-packages\\sklearn\\base.py:458: UserWarning:\n",
      "\n",
      "X has feature names, but StandardScaler was fitted without feature names\n",
      "\n",
      "c:\\Users\\mathy\\AppData\\Local\\Programs\\Python\\Python310\\lib\\site-packages\\sklearn\\base.py:458: UserWarning:\n",
      "\n",
      "X has feature names, but StandardScaler was fitted without feature names\n",
      "\n",
      "c:\\Users\\mathy\\AppData\\Local\\Programs\\Python\\Python310\\lib\\site-packages\\sklearn\\base.py:458: UserWarning:\n",
      "\n",
      "X has feature names, but StandardScaler was fitted without feature names\n",
      "\n",
      "c:\\Users\\mathy\\AppData\\Local\\Programs\\Python\\Python310\\lib\\site-packages\\sklearn\\base.py:458: UserWarning:\n",
      "\n",
      "X has feature names, but StandardScaler was fitted without feature names\n",
      "\n",
      "c:\\Users\\mathy\\AppData\\Local\\Programs\\Python\\Python310\\lib\\site-packages\\sklearn\\base.py:458: UserWarning:\n",
      "\n",
      "X has feature names, but StandardScaler was fitted without feature names\n",
      "\n",
      "c:\\Users\\mathy\\AppData\\Local\\Programs\\Python\\Python310\\lib\\site-packages\\sklearn\\base.py:458: UserWarning:\n",
      "\n",
      "X has feature names, but StandardScaler was fitted without feature names\n",
      "\n",
      "c:\\Users\\mathy\\AppData\\Local\\Programs\\Python\\Python310\\lib\\site-packages\\sklearn\\base.py:458: UserWarning:\n",
      "\n",
      "X has feature names, but StandardScaler was fitted without feature names\n",
      "\n",
      "c:\\Users\\mathy\\AppData\\Local\\Programs\\Python\\Python310\\lib\\site-packages\\sklearn\\base.py:458: UserWarning:\n",
      "\n",
      "X has feature names, but StandardScaler was fitted without feature names\n",
      "\n",
      "c:\\Users\\mathy\\AppData\\Local\\Programs\\Python\\Python310\\lib\\site-packages\\sklearn\\base.py:458: UserWarning:\n",
      "\n",
      "X has feature names, but StandardScaler was fitted without feature names\n",
      "\n",
      "c:\\Users\\mathy\\AppData\\Local\\Programs\\Python\\Python310\\lib\\site-packages\\sklearn\\base.py:458: UserWarning:\n",
      "\n",
      "X has feature names, but StandardScaler was fitted without feature names\n",
      "\n",
      "c:\\Users\\mathy\\AppData\\Local\\Programs\\Python\\Python310\\lib\\site-packages\\sklearn\\base.py:458: UserWarning:\n",
      "\n",
      "X has feature names, but StandardScaler was fitted without feature names\n",
      "\n",
      "c:\\Users\\mathy\\AppData\\Local\\Programs\\Python\\Python310\\lib\\site-packages\\sklearn\\base.py:458: UserWarning:\n",
      "\n",
      "X has feature names, but StandardScaler was fitted without feature names\n",
      "\n",
      "c:\\Users\\mathy\\AppData\\Local\\Programs\\Python\\Python310\\lib\\site-packages\\sklearn\\base.py:458: UserWarning:\n",
      "\n",
      "X has feature names, but StandardScaler was fitted without feature names\n",
      "\n",
      "c:\\Users\\mathy\\AppData\\Local\\Programs\\Python\\Python310\\lib\\site-packages\\sklearn\\base.py:458: UserWarning:\n",
      "\n",
      "X has feature names, but StandardScaler was fitted without feature names\n",
      "\n",
      "c:\\Users\\mathy\\AppData\\Local\\Programs\\Python\\Python310\\lib\\site-packages\\sklearn\\base.py:458: UserWarning:\n",
      "\n",
      "X has feature names, but StandardScaler was fitted without feature names\n",
      "\n",
      "c:\\Users\\mathy\\AppData\\Local\\Programs\\Python\\Python310\\lib\\site-packages\\sklearn\\base.py:458: UserWarning:\n",
      "\n",
      "X has feature names, but StandardScaler was fitted without feature names\n",
      "\n",
      "c:\\Users\\mathy\\AppData\\Local\\Programs\\Python\\Python310\\lib\\site-packages\\sklearn\\base.py:458: UserWarning:\n",
      "\n",
      "X has feature names, but StandardScaler was fitted without feature names\n",
      "\n",
      "c:\\Users\\mathy\\AppData\\Local\\Programs\\Python\\Python310\\lib\\site-packages\\sklearn\\base.py:458: UserWarning:\n",
      "\n",
      "X has feature names, but StandardScaler was fitted without feature names\n",
      "\n",
      "c:\\Users\\mathy\\AppData\\Local\\Programs\\Python\\Python310\\lib\\site-packages\\sklearn\\base.py:458: UserWarning:\n",
      "\n",
      "X has feature names, but StandardScaler was fitted without feature names\n",
      "\n",
      "c:\\Users\\mathy\\AppData\\Local\\Programs\\Python\\Python310\\lib\\site-packages\\sklearn\\base.py:458: UserWarning:\n",
      "\n",
      "X has feature names, but StandardScaler was fitted without feature names\n",
      "\n",
      "c:\\Users\\mathy\\AppData\\Local\\Programs\\Python\\Python310\\lib\\site-packages\\sklearn\\base.py:458: UserWarning:\n",
      "\n",
      "X has feature names, but StandardScaler was fitted without feature names\n",
      "\n",
      "c:\\Users\\mathy\\AppData\\Local\\Programs\\Python\\Python310\\lib\\site-packages\\sklearn\\base.py:458: UserWarning:\n",
      "\n",
      "X has feature names, but StandardScaler was fitted without feature names\n",
      "\n",
      "c:\\Users\\mathy\\AppData\\Local\\Programs\\Python\\Python310\\lib\\site-packages\\sklearn\\base.py:458: UserWarning:\n",
      "\n",
      "X has feature names, but StandardScaler was fitted without feature names\n",
      "\n",
      "c:\\Users\\mathy\\AppData\\Local\\Programs\\Python\\Python310\\lib\\site-packages\\sklearn\\base.py:458: UserWarning:\n",
      "\n",
      "X has feature names, but StandardScaler was fitted without feature names\n",
      "\n",
      "c:\\Users\\mathy\\AppData\\Local\\Programs\\Python\\Python310\\lib\\site-packages\\sklearn\\base.py:458: UserWarning:\n",
      "\n",
      "X has feature names, but StandardScaler was fitted without feature names\n",
      "\n",
      "c:\\Users\\mathy\\AppData\\Local\\Programs\\Python\\Python310\\lib\\site-packages\\sklearn\\base.py:458: UserWarning:\n",
      "\n",
      "X has feature names, but StandardScaler was fitted without feature names\n",
      "\n",
      "c:\\Users\\mathy\\AppData\\Local\\Programs\\Python\\Python310\\lib\\site-packages\\sklearn\\base.py:458: UserWarning:\n",
      "\n",
      "X has feature names, but StandardScaler was fitted without feature names\n",
      "\n",
      "c:\\Users\\mathy\\AppData\\Local\\Programs\\Python\\Python310\\lib\\site-packages\\sklearn\\base.py:458: UserWarning:\n",
      "\n",
      "X has feature names, but StandardScaler was fitted without feature names\n",
      "\n",
      "c:\\Users\\mathy\\AppData\\Local\\Programs\\Python\\Python310\\lib\\site-packages\\sklearn\\base.py:458: UserWarning:\n",
      "\n",
      "X has feature names, but StandardScaler was fitted without feature names\n",
      "\n",
      "c:\\Users\\mathy\\AppData\\Local\\Programs\\Python\\Python310\\lib\\site-packages\\sklearn\\base.py:458: UserWarning:\n",
      "\n",
      "X has feature names, but StandardScaler was fitted without feature names\n",
      "\n",
      "c:\\Users\\mathy\\AppData\\Local\\Programs\\Python\\Python310\\lib\\site-packages\\sklearn\\base.py:458: UserWarning:\n",
      "\n",
      "X has feature names, but StandardScaler was fitted without feature names\n",
      "\n",
      "c:\\Users\\mathy\\AppData\\Local\\Programs\\Python\\Python310\\lib\\site-packages\\sklearn\\base.py:458: UserWarning:\n",
      "\n",
      "X has feature names, but StandardScaler was fitted without feature names\n",
      "\n",
      "c:\\Users\\mathy\\AppData\\Local\\Programs\\Python\\Python310\\lib\\site-packages\\sklearn\\base.py:458: UserWarning:\n",
      "\n",
      "X has feature names, but StandardScaler was fitted without feature names\n",
      "\n",
      "c:\\Users\\mathy\\AppData\\Local\\Programs\\Python\\Python310\\lib\\site-packages\\sklearn\\base.py:458: UserWarning:\n",
      "\n",
      "X has feature names, but StandardScaler was fitted without feature names\n",
      "\n",
      "c:\\Users\\mathy\\AppData\\Local\\Programs\\Python\\Python310\\lib\\site-packages\\sklearn\\base.py:458: UserWarning:\n",
      "\n",
      "X has feature names, but StandardScaler was fitted without feature names\n",
      "\n",
      "c:\\Users\\mathy\\AppData\\Local\\Programs\\Python\\Python310\\lib\\site-packages\\sklearn\\base.py:458: UserWarning:\n",
      "\n",
      "X has feature names, but StandardScaler was fitted without feature names\n",
      "\n",
      "c:\\Users\\mathy\\AppData\\Local\\Programs\\Python\\Python310\\lib\\site-packages\\sklearn\\base.py:458: UserWarning:\n",
      "\n",
      "X has feature names, but StandardScaler was fitted without feature names\n",
      "\n",
      "c:\\Users\\mathy\\AppData\\Local\\Programs\\Python\\Python310\\lib\\site-packages\\sklearn\\base.py:458: UserWarning:\n",
      "\n",
      "X has feature names, but StandardScaler was fitted without feature names\n",
      "\n",
      "c:\\Users\\mathy\\AppData\\Local\\Programs\\Python\\Python310\\lib\\site-packages\\sklearn\\base.py:458: UserWarning:\n",
      "\n",
      "X has feature names, but StandardScaler was fitted without feature names\n",
      "\n",
      "c:\\Users\\mathy\\AppData\\Local\\Programs\\Python\\Python310\\lib\\site-packages\\sklearn\\base.py:458: UserWarning:\n",
      "\n",
      "X has feature names, but StandardScaler was fitted without feature names\n",
      "\n",
      "c:\\Users\\mathy\\AppData\\Local\\Programs\\Python\\Python310\\lib\\site-packages\\sklearn\\base.py:458: UserWarning:\n",
      "\n",
      "X has feature names, but StandardScaler was fitted without feature names\n",
      "\n",
      "c:\\Users\\mathy\\AppData\\Local\\Programs\\Python\\Python310\\lib\\site-packages\\sklearn\\base.py:458: UserWarning:\n",
      "\n",
      "X has feature names, but StandardScaler was fitted without feature names\n",
      "\n",
      "c:\\Users\\mathy\\AppData\\Local\\Programs\\Python\\Python310\\lib\\site-packages\\sklearn\\base.py:458: UserWarning:\n",
      "\n",
      "X has feature names, but StandardScaler was fitted without feature names\n",
      "\n",
      "c:\\Users\\mathy\\AppData\\Local\\Programs\\Python\\Python310\\lib\\site-packages\\sklearn\\base.py:458: UserWarning:\n",
      "\n",
      "X has feature names, but StandardScaler was fitted without feature names\n",
      "\n",
      "c:\\Users\\mathy\\AppData\\Local\\Programs\\Python\\Python310\\lib\\site-packages\\sklearn\\base.py:458: UserWarning:\n",
      "\n",
      "X has feature names, but StandardScaler was fitted without feature names\n",
      "\n",
      "c:\\Users\\mathy\\AppData\\Local\\Programs\\Python\\Python310\\lib\\site-packages\\sklearn\\base.py:458: UserWarning:\n",
      "\n",
      "X has feature names, but StandardScaler was fitted without feature names\n",
      "\n",
      "c:\\Users\\mathy\\AppData\\Local\\Programs\\Python\\Python310\\lib\\site-packages\\sklearn\\base.py:458: UserWarning:\n",
      "\n",
      "X has feature names, but StandardScaler was fitted without feature names\n",
      "\n",
      "c:\\Users\\mathy\\AppData\\Local\\Programs\\Python\\Python310\\lib\\site-packages\\sklearn\\base.py:458: UserWarning:\n",
      "\n",
      "X has feature names, but StandardScaler was fitted without feature names\n",
      "\n",
      "c:\\Users\\mathy\\AppData\\Local\\Programs\\Python\\Python310\\lib\\site-packages\\sklearn\\base.py:458: UserWarning:\n",
      "\n",
      "X has feature names, but StandardScaler was fitted without feature names\n",
      "\n",
      "c:\\Users\\mathy\\AppData\\Local\\Programs\\Python\\Python310\\lib\\site-packages\\sklearn\\base.py:458: UserWarning:\n",
      "\n",
      "X has feature names, but StandardScaler was fitted without feature names\n",
      "\n",
      "c:\\Users\\mathy\\AppData\\Local\\Programs\\Python\\Python310\\lib\\site-packages\\sklearn\\base.py:458: UserWarning:\n",
      "\n",
      "X has feature names, but StandardScaler was fitted without feature names\n",
      "\n",
      "c:\\Users\\mathy\\AppData\\Local\\Programs\\Python\\Python310\\lib\\site-packages\\sklearn\\base.py:458: UserWarning:\n",
      "\n",
      "X has feature names, but StandardScaler was fitted without feature names\n",
      "\n",
      "c:\\Users\\mathy\\AppData\\Local\\Programs\\Python\\Python310\\lib\\site-packages\\sklearn\\base.py:458: UserWarning:\n",
      "\n",
      "X has feature names, but StandardScaler was fitted without feature names\n",
      "\n",
      "c:\\Users\\mathy\\AppData\\Local\\Programs\\Python\\Python310\\lib\\site-packages\\sklearn\\base.py:458: UserWarning:\n",
      "\n",
      "X has feature names, but StandardScaler was fitted without feature names\n",
      "\n",
      "c:\\Users\\mathy\\AppData\\Local\\Programs\\Python\\Python310\\lib\\site-packages\\sklearn\\base.py:458: UserWarning:\n",
      "\n",
      "X has feature names, but StandardScaler was fitted without feature names\n",
      "\n",
      "c:\\Users\\mathy\\AppData\\Local\\Programs\\Python\\Python310\\lib\\site-packages\\sklearn\\base.py:458: UserWarning:\n",
      "\n",
      "X has feature names, but StandardScaler was fitted without feature names\n",
      "\n",
      "c:\\Users\\mathy\\AppData\\Local\\Programs\\Python\\Python310\\lib\\site-packages\\sklearn\\base.py:458: UserWarning:\n",
      "\n",
      "X has feature names, but StandardScaler was fitted without feature names\n",
      "\n",
      "c:\\Users\\mathy\\AppData\\Local\\Programs\\Python\\Python310\\lib\\site-packages\\sklearn\\base.py:458: UserWarning:\n",
      "\n",
      "X has feature names, but StandardScaler was fitted without feature names\n",
      "\n",
      "c:\\Users\\mathy\\AppData\\Local\\Programs\\Python\\Python310\\lib\\site-packages\\sklearn\\base.py:458: UserWarning:\n",
      "\n",
      "X has feature names, but StandardScaler was fitted without feature names\n",
      "\n",
      "c:\\Users\\mathy\\AppData\\Local\\Programs\\Python\\Python310\\lib\\site-packages\\sklearn\\base.py:458: UserWarning:\n",
      "\n",
      "X has feature names, but StandardScaler was fitted without feature names\n",
      "\n",
      "c:\\Users\\mathy\\AppData\\Local\\Programs\\Python\\Python310\\lib\\site-packages\\sklearn\\base.py:458: UserWarning:\n",
      "\n",
      "X has feature names, but StandardScaler was fitted without feature names\n",
      "\n",
      "c:\\Users\\mathy\\AppData\\Local\\Programs\\Python\\Python310\\lib\\site-packages\\sklearn\\base.py:458: UserWarning:\n",
      "\n",
      "X has feature names, but StandardScaler was fitted without feature names\n",
      "\n",
      "c:\\Users\\mathy\\AppData\\Local\\Programs\\Python\\Python310\\lib\\site-packages\\sklearn\\base.py:458: UserWarning:\n",
      "\n",
      "X has feature names, but StandardScaler was fitted without feature names\n",
      "\n",
      "c:\\Users\\mathy\\AppData\\Local\\Programs\\Python\\Python310\\lib\\site-packages\\sklearn\\base.py:458: UserWarning:\n",
      "\n",
      "X has feature names, but StandardScaler was fitted without feature names\n",
      "\n",
      "c:\\Users\\mathy\\AppData\\Local\\Programs\\Python\\Python310\\lib\\site-packages\\sklearn\\base.py:458: UserWarning:\n",
      "\n",
      "X has feature names, but StandardScaler was fitted without feature names\n",
      "\n",
      "c:\\Users\\mathy\\AppData\\Local\\Programs\\Python\\Python310\\lib\\site-packages\\sklearn\\base.py:458: UserWarning:\n",
      "\n",
      "X has feature names, but StandardScaler was fitted without feature names\n",
      "\n",
      "c:\\Users\\mathy\\AppData\\Local\\Programs\\Python\\Python310\\lib\\site-packages\\sklearn\\base.py:458: UserWarning:\n",
      "\n",
      "X has feature names, but StandardScaler was fitted without feature names\n",
      "\n",
      "c:\\Users\\mathy\\AppData\\Local\\Programs\\Python\\Python310\\lib\\site-packages\\sklearn\\base.py:458: UserWarning:\n",
      "\n",
      "X has feature names, but StandardScaler was fitted without feature names\n",
      "\n",
      "c:\\Users\\mathy\\AppData\\Local\\Programs\\Python\\Python310\\lib\\site-packages\\sklearn\\base.py:458: UserWarning:\n",
      "\n",
      "X has feature names, but StandardScaler was fitted without feature names\n",
      "\n",
      "c:\\Users\\mathy\\AppData\\Local\\Programs\\Python\\Python310\\lib\\site-packages\\sklearn\\base.py:458: UserWarning:\n",
      "\n",
      "X has feature names, but StandardScaler was fitted without feature names\n",
      "\n",
      "c:\\Users\\mathy\\AppData\\Local\\Programs\\Python\\Python310\\lib\\site-packages\\sklearn\\base.py:458: UserWarning:\n",
      "\n",
      "X has feature names, but StandardScaler was fitted without feature names\n",
      "\n",
      "c:\\Users\\mathy\\AppData\\Local\\Programs\\Python\\Python310\\lib\\site-packages\\sklearn\\base.py:458: UserWarning:\n",
      "\n",
      "X has feature names, but StandardScaler was fitted without feature names\n",
      "\n",
      "c:\\Users\\mathy\\AppData\\Local\\Programs\\Python\\Python310\\lib\\site-packages\\sklearn\\base.py:458: UserWarning:\n",
      "\n",
      "X has feature names, but StandardScaler was fitted without feature names\n",
      "\n",
      "c:\\Users\\mathy\\AppData\\Local\\Programs\\Python\\Python310\\lib\\site-packages\\sklearn\\base.py:458: UserWarning:\n",
      "\n",
      "X has feature names, but StandardScaler was fitted without feature names\n",
      "\n",
      "c:\\Users\\mathy\\AppData\\Local\\Programs\\Python\\Python310\\lib\\site-packages\\sklearn\\base.py:458: UserWarning:\n",
      "\n",
      "X has feature names, but StandardScaler was fitted without feature names\n",
      "\n",
      "c:\\Users\\mathy\\AppData\\Local\\Programs\\Python\\Python310\\lib\\site-packages\\sklearn\\base.py:458: UserWarning:\n",
      "\n",
      "X has feature names, but StandardScaler was fitted without feature names\n",
      "\n",
      "c:\\Users\\mathy\\AppData\\Local\\Programs\\Python\\Python310\\lib\\site-packages\\sklearn\\base.py:458: UserWarning:\n",
      "\n",
      "X has feature names, but StandardScaler was fitted without feature names\n",
      "\n",
      "c:\\Users\\mathy\\AppData\\Local\\Programs\\Python\\Python310\\lib\\site-packages\\sklearn\\base.py:458: UserWarning:\n",
      "\n",
      "X has feature names, but StandardScaler was fitted without feature names\n",
      "\n",
      "c:\\Users\\mathy\\AppData\\Local\\Programs\\Python\\Python310\\lib\\site-packages\\sklearn\\base.py:458: UserWarning:\n",
      "\n",
      "X has feature names, but StandardScaler was fitted without feature names\n",
      "\n",
      "c:\\Users\\mathy\\AppData\\Local\\Programs\\Python\\Python310\\lib\\site-packages\\sklearn\\base.py:458: UserWarning:\n",
      "\n",
      "X has feature names, but StandardScaler was fitted without feature names\n",
      "\n",
      "c:\\Users\\mathy\\AppData\\Local\\Programs\\Python\\Python310\\lib\\site-packages\\sklearn\\base.py:458: UserWarning:\n",
      "\n",
      "X has feature names, but StandardScaler was fitted without feature names\n",
      "\n",
      "c:\\Users\\mathy\\AppData\\Local\\Programs\\Python\\Python310\\lib\\site-packages\\sklearn\\base.py:458: UserWarning:\n",
      "\n",
      "X has feature names, but StandardScaler was fitted without feature names\n",
      "\n",
      "c:\\Users\\mathy\\AppData\\Local\\Programs\\Python\\Python310\\lib\\site-packages\\sklearn\\base.py:458: UserWarning:\n",
      "\n",
      "X has feature names, but StandardScaler was fitted without feature names\n",
      "\n",
      "c:\\Users\\mathy\\AppData\\Local\\Programs\\Python\\Python310\\lib\\site-packages\\sklearn\\base.py:458: UserWarning:\n",
      "\n",
      "X has feature names, but StandardScaler was fitted without feature names\n",
      "\n"
     ]
    },
    {
     "name": "stdout",
     "output_type": "stream",
     "text": [
      "The accuracy rate is : 87.91946308724832% with 131 correct results out of 149 tests conducted.\n"
     ]
    }
   ],
   "source": [
    "def test_model(car,bike,bus,truck,total,day,hour,minute,am_pm,date):\n",
    "    manual_test_data = pd.DataFrame({\n",
    "    \"CarCount\": [car],\n",
    "    \"BikeCount\": [bike],\n",
    "    \"BusCount\": [bus],\n",
    "    \"TruckCount\": [truck],\n",
    "    \"Total\": [total],\n",
    "    \"Day of the week_encoded\": [day],  \n",
    "    \"Hour\": [hour],\n",
    "    \"Minute\": [minute],\n",
    "    \"AM_PM\": [am_pm],  \n",
    "    \"Date\": [date]   \n",
    "    })\n",
    "\n",
    "    manual_test_data_scaled = scaler.transform(manual_test_data)\n",
    "\n",
    "    predictions_manual = model.predict(manual_test_data_scaled,verbose=0)\n",
    "    if np.argmax(predictions_manual,axis=1)[0] == 0:\n",
    "        return(\"heavy\")\n",
    "    elif np.argmax(predictions_manual,axis=1)[0] == 1:\n",
    "        return(\"high\")\n",
    "    elif np.argmax(predictions_manual,axis=1)[0] == 2:\n",
    "        return(\"low\")\n",
    "    elif np.argmax(predictions_manual,axis=1)[0] == 3:\n",
    "        return(\"normal\")   \n",
    "\n",
    "cpt = 0\n",
    "correct = 0\n",
    "print(\"Evaluation of the model on evaluation data (different from training and test data)\")\n",
    "\n",
    "for index, row in eval_data.iterrows():\n",
    "    real = row[\"Traffic Situation\"]\n",
    "    theo = test_model(row[\"CarCount\"],row[\"BikeCount\"],row[\"BusCount\"],row[\"TruckCount\"],\n",
    "                      row[\"Total\"],row[\"Day of the week_encoded\"],row[\"Hour\"],row[\"Minute\"],row[\"AM_PM\"],\n",
    "                      row[\"Date\"])\n",
    "    if real == theo:\n",
    "        correct+=1\n",
    "    cpt+=1\n",
    "    pourcentage = correct/cpt*100\n",
    "print(f\"The accuracy rate is : {pourcentage}% with {correct} correct results out of {cpt} tests conducted.\")"
   ]
  }
 ],
 "metadata": {
  "kernelspec": {
   "display_name": "Python 3",
   "language": "python",
   "name": "python3"
  },
  "language_info": {
   "codemirror_mode": {
    "name": "ipython",
    "version": 3
   },
   "file_extension": ".py",
   "mimetype": "text/x-python",
   "name": "python",
   "nbconvert_exporter": "python",
   "pygments_lexer": "ipython3",
   "version": "3.10.9"
  }
 },
 "nbformat": 4,
 "nbformat_minor": 2
}
