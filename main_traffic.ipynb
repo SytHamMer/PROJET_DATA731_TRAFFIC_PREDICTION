{
 "cells": [
  {
   "cell_type": "markdown",
   "metadata": {},
   "source": [
    "# Trafic prediction"
   ]
  },
  {
   "cell_type": "markdown",
   "metadata": {},
   "source": [
    "## Let's discover data first"
   ]
  },
  {
   "cell_type": "markdown",
   "metadata": {},
   "source": [
    "imports"
   ]
  },
  {
   "cell_type": "code",
   "execution_count": 72,
   "metadata": {},
   "outputs": [],
   "source": [
    "import pandas as pd\n",
    "import plotly.express as px\n",
    "import plotly.graph_objs as go\n",
    "import numpy as np\n",
    "import tensorflow as tf\n",
    "from sklearn.preprocessing import StandardScaler\n",
    "from sklearn.preprocessing import LabelEncoder"
   ]
  },
  {
   "cell_type": "code",
   "execution_count": 73,
   "metadata": {},
   "outputs": [],
   "source": [
    "traffic_conversion_v2 = {'low':1,\n",
    "                      \"normal\":2, \n",
    "                      \"high\": 3,\n",
    "                      \"heavy\": 4}"
   ]
  },
  {
   "cell_type": "code",
   "execution_count": 74,
   "metadata": {},
   "outputs": [
    {
     "data": {
      "text/html": [
       "<div>\n",
       "<style scoped>\n",
       "    .dataframe tbody tr th:only-of-type {\n",
       "        vertical-align: middle;\n",
       "    }\n",
       "\n",
       "    .dataframe tbody tr th {\n",
       "        vertical-align: top;\n",
       "    }\n",
       "\n",
       "    .dataframe thead th {\n",
       "        text-align: right;\n",
       "    }\n",
       "</style>\n",
       "<table border=\"1\" class=\"dataframe\">\n",
       "  <thead>\n",
       "    <tr style=\"text-align: right;\">\n",
       "      <th></th>\n",
       "      <th>Time</th>\n",
       "      <th>Day of the week</th>\n",
       "      <th>Traffic Situation</th>\n",
       "    </tr>\n",
       "  </thead>\n",
       "  <tbody>\n",
       "    <tr>\n",
       "      <th>count</th>\n",
       "      <td>2976</td>\n",
       "      <td>2976</td>\n",
       "      <td>2976</td>\n",
       "    </tr>\n",
       "    <tr>\n",
       "      <th>unique</th>\n",
       "      <td>96</td>\n",
       "      <td>7</td>\n",
       "      <td>4</td>\n",
       "    </tr>\n",
       "    <tr>\n",
       "      <th>top</th>\n",
       "      <td>12:00:00 AM</td>\n",
       "      <td>Tuesday</td>\n",
       "      <td>normal</td>\n",
       "    </tr>\n",
       "    <tr>\n",
       "      <th>freq</th>\n",
       "      <td>31</td>\n",
       "      <td>480</td>\n",
       "      <td>1669</td>\n",
       "    </tr>\n",
       "  </tbody>\n",
       "</table>\n",
       "</div>"
      ],
      "text/plain": [
       "               Time Day of the week Traffic Situation\n",
       "count          2976            2976              2976\n",
       "unique           96               7                 4\n",
       "top     12:00:00 AM         Tuesday            normal\n",
       "freq             31             480              1669"
      ]
     },
     "execution_count": 74,
     "metadata": {},
     "output_type": "execute_result"
    }
   ],
   "source": [
    "df = pd.read_csv(\"sources/Traffic.csv\")\n",
    "df.describe(include='object')\n"
   ]
  },
  {
   "cell_type": "code",
   "execution_count": 75,
   "metadata": {},
   "outputs": [
    {
     "data": {
      "text/html": [
       "<div>\n",
       "<style scoped>\n",
       "    .dataframe tbody tr th:only-of-type {\n",
       "        vertical-align: middle;\n",
       "    }\n",
       "\n",
       "    .dataframe tbody tr th {\n",
       "        vertical-align: top;\n",
       "    }\n",
       "\n",
       "    .dataframe thead th {\n",
       "        text-align: right;\n",
       "    }\n",
       "</style>\n",
       "<table border=\"1\" class=\"dataframe\">\n",
       "  <thead>\n",
       "    <tr style=\"text-align: right;\">\n",
       "      <th></th>\n",
       "      <th>Time</th>\n",
       "      <th>Date</th>\n",
       "      <th>Day of the week</th>\n",
       "      <th>CarCount</th>\n",
       "      <th>BikeCount</th>\n",
       "      <th>BusCount</th>\n",
       "      <th>TruckCount</th>\n",
       "      <th>Total</th>\n",
       "      <th>Traffic Situation</th>\n",
       "    </tr>\n",
       "  </thead>\n",
       "  <tbody>\n",
       "    <tr>\n",
       "      <th>0</th>\n",
       "      <td>12:00:00 AM</td>\n",
       "      <td>10</td>\n",
       "      <td>Tuesday</td>\n",
       "      <td>31</td>\n",
       "      <td>0</td>\n",
       "      <td>4</td>\n",
       "      <td>4</td>\n",
       "      <td>39</td>\n",
       "      <td>low</td>\n",
       "    </tr>\n",
       "    <tr>\n",
       "      <th>1</th>\n",
       "      <td>12:15:00 AM</td>\n",
       "      <td>10</td>\n",
       "      <td>Tuesday</td>\n",
       "      <td>49</td>\n",
       "      <td>0</td>\n",
       "      <td>3</td>\n",
       "      <td>3</td>\n",
       "      <td>55</td>\n",
       "      <td>low</td>\n",
       "    </tr>\n",
       "    <tr>\n",
       "      <th>2</th>\n",
       "      <td>12:30:00 AM</td>\n",
       "      <td>10</td>\n",
       "      <td>Tuesday</td>\n",
       "      <td>46</td>\n",
       "      <td>0</td>\n",
       "      <td>3</td>\n",
       "      <td>6</td>\n",
       "      <td>55</td>\n",
       "      <td>low</td>\n",
       "    </tr>\n",
       "    <tr>\n",
       "      <th>3</th>\n",
       "      <td>12:45:00 AM</td>\n",
       "      <td>10</td>\n",
       "      <td>Tuesday</td>\n",
       "      <td>51</td>\n",
       "      <td>0</td>\n",
       "      <td>2</td>\n",
       "      <td>5</td>\n",
       "      <td>58</td>\n",
       "      <td>low</td>\n",
       "    </tr>\n",
       "    <tr>\n",
       "      <th>4</th>\n",
       "      <td>1:00:00 AM</td>\n",
       "      <td>10</td>\n",
       "      <td>Tuesday</td>\n",
       "      <td>57</td>\n",
       "      <td>6</td>\n",
       "      <td>15</td>\n",
       "      <td>16</td>\n",
       "      <td>94</td>\n",
       "      <td>normal</td>\n",
       "    </tr>\n",
       "  </tbody>\n",
       "</table>\n",
       "</div>"
      ],
      "text/plain": [
       "          Time  Date Day of the week  CarCount  BikeCount  BusCount  \\\n",
       "0  12:00:00 AM    10         Tuesday        31          0         4   \n",
       "1  12:15:00 AM    10         Tuesday        49          0         3   \n",
       "2  12:30:00 AM    10         Tuesday        46          0         3   \n",
       "3  12:45:00 AM    10         Tuesday        51          0         2   \n",
       "4   1:00:00 AM    10         Tuesday        57          6        15   \n",
       "\n",
       "   TruckCount  Total Traffic Situation  \n",
       "0           4     39               low  \n",
       "1           3     55               low  \n",
       "2           6     55               low  \n",
       "3           5     58               low  \n",
       "4          16     94            normal  "
      ]
     },
     "execution_count": 75,
     "metadata": {},
     "output_type": "execute_result"
    }
   ],
   "source": [
    "df.head()"
   ]
  },
  {
   "cell_type": "markdown",
   "metadata": {},
   "source": [
    "### HeatMap"
   ]
  },
  {
   "cell_type": "code",
   "execution_count": 76,
   "metadata": {},
   "outputs": [
    {
     "data": {
      "application/vnd.plotly.v1+json": {
       "config": {
        "plotlyServerURL": "https://plot.ly"
       },
       "data": [
        {
         "coloraxis": "coloraxis",
         "hovertemplate": "Day of the week: %{x}<br>Traffic Situation: %{y}<br>Count: %{z}<extra></extra>",
         "name": "0",
         "type": "heatmap",
         "x": [
          "Monday",
          "Tuesday",
          "Wednesday",
          "Thursday",
          "Friday",
          "Saturday",
          "Sunday"
         ],
         "xaxis": "x",
         "y": [
          "low",
          "normal",
          "high",
          "heavy"
         ],
         "yaxis": "y",
         "z": [
          [
           36,
           37,
           30,
           32,
           118,
           23,
           28
          ],
          [
           214,
           276,
           280,
           282,
           170,
           234,
           213
          ],
          [
           48,
           55,
           59,
           58,
           0,
           39,
           62
          ],
          [
           86,
           112,
           111,
           108,
           96,
           88,
           81
          ]
         ]
        }
       ],
       "layout": {
        "coloraxis": {
         "colorbar": {
          "title": {
           "text": "Count"
          }
         },
         "colorscale": [
          [
           0,
           "#440154"
          ],
          [
           0.1111111111111111,
           "#482878"
          ],
          [
           0.2222222222222222,
           "#3e4989"
          ],
          [
           0.3333333333333333,
           "#31688e"
          ],
          [
           0.4444444444444444,
           "#26828e"
          ],
          [
           0.5555555555555556,
           "#1f9e89"
          ],
          [
           0.6666666666666666,
           "#35b779"
          ],
          [
           0.7777777777777778,
           "#6ece58"
          ],
          [
           0.8888888888888888,
           "#b5de2b"
          ],
          [
           1,
           "#fde725"
          ]
         ]
        },
        "margin": {
         "t": 60
        },
        "template": {
         "data": {
          "bar": [
           {
            "error_x": {
             "color": "#2a3f5f"
            },
            "error_y": {
             "color": "#2a3f5f"
            },
            "marker": {
             "line": {
              "color": "#E5ECF6",
              "width": 0.5
             },
             "pattern": {
              "fillmode": "overlay",
              "size": 10,
              "solidity": 0.2
             }
            },
            "type": "bar"
           }
          ],
          "barpolar": [
           {
            "marker": {
             "line": {
              "color": "#E5ECF6",
              "width": 0.5
             },
             "pattern": {
              "fillmode": "overlay",
              "size": 10,
              "solidity": 0.2
             }
            },
            "type": "barpolar"
           }
          ],
          "carpet": [
           {
            "aaxis": {
             "endlinecolor": "#2a3f5f",
             "gridcolor": "white",
             "linecolor": "white",
             "minorgridcolor": "white",
             "startlinecolor": "#2a3f5f"
            },
            "baxis": {
             "endlinecolor": "#2a3f5f",
             "gridcolor": "white",
             "linecolor": "white",
             "minorgridcolor": "white",
             "startlinecolor": "#2a3f5f"
            },
            "type": "carpet"
           }
          ],
          "choropleth": [
           {
            "colorbar": {
             "outlinewidth": 0,
             "ticks": ""
            },
            "type": "choropleth"
           }
          ],
          "contour": [
           {
            "colorbar": {
             "outlinewidth": 0,
             "ticks": ""
            },
            "colorscale": [
             [
              0,
              "#0d0887"
             ],
             [
              0.1111111111111111,
              "#46039f"
             ],
             [
              0.2222222222222222,
              "#7201a8"
             ],
             [
              0.3333333333333333,
              "#9c179e"
             ],
             [
              0.4444444444444444,
              "#bd3786"
             ],
             [
              0.5555555555555556,
              "#d8576b"
             ],
             [
              0.6666666666666666,
              "#ed7953"
             ],
             [
              0.7777777777777778,
              "#fb9f3a"
             ],
             [
              0.8888888888888888,
              "#fdca26"
             ],
             [
              1,
              "#f0f921"
             ]
            ],
            "type": "contour"
           }
          ],
          "contourcarpet": [
           {
            "colorbar": {
             "outlinewidth": 0,
             "ticks": ""
            },
            "type": "contourcarpet"
           }
          ],
          "heatmap": [
           {
            "colorbar": {
             "outlinewidth": 0,
             "ticks": ""
            },
            "colorscale": [
             [
              0,
              "#0d0887"
             ],
             [
              0.1111111111111111,
              "#46039f"
             ],
             [
              0.2222222222222222,
              "#7201a8"
             ],
             [
              0.3333333333333333,
              "#9c179e"
             ],
             [
              0.4444444444444444,
              "#bd3786"
             ],
             [
              0.5555555555555556,
              "#d8576b"
             ],
             [
              0.6666666666666666,
              "#ed7953"
             ],
             [
              0.7777777777777778,
              "#fb9f3a"
             ],
             [
              0.8888888888888888,
              "#fdca26"
             ],
             [
              1,
              "#f0f921"
             ]
            ],
            "type": "heatmap"
           }
          ],
          "heatmapgl": [
           {
            "colorbar": {
             "outlinewidth": 0,
             "ticks": ""
            },
            "colorscale": [
             [
              0,
              "#0d0887"
             ],
             [
              0.1111111111111111,
              "#46039f"
             ],
             [
              0.2222222222222222,
              "#7201a8"
             ],
             [
              0.3333333333333333,
              "#9c179e"
             ],
             [
              0.4444444444444444,
              "#bd3786"
             ],
             [
              0.5555555555555556,
              "#d8576b"
             ],
             [
              0.6666666666666666,
              "#ed7953"
             ],
             [
              0.7777777777777778,
              "#fb9f3a"
             ],
             [
              0.8888888888888888,
              "#fdca26"
             ],
             [
              1,
              "#f0f921"
             ]
            ],
            "type": "heatmapgl"
           }
          ],
          "histogram": [
           {
            "marker": {
             "pattern": {
              "fillmode": "overlay",
              "size": 10,
              "solidity": 0.2
             }
            },
            "type": "histogram"
           }
          ],
          "histogram2d": [
           {
            "colorbar": {
             "outlinewidth": 0,
             "ticks": ""
            },
            "colorscale": [
             [
              0,
              "#0d0887"
             ],
             [
              0.1111111111111111,
              "#46039f"
             ],
             [
              0.2222222222222222,
              "#7201a8"
             ],
             [
              0.3333333333333333,
              "#9c179e"
             ],
             [
              0.4444444444444444,
              "#bd3786"
             ],
             [
              0.5555555555555556,
              "#d8576b"
             ],
             [
              0.6666666666666666,
              "#ed7953"
             ],
             [
              0.7777777777777778,
              "#fb9f3a"
             ],
             [
              0.8888888888888888,
              "#fdca26"
             ],
             [
              1,
              "#f0f921"
             ]
            ],
            "type": "histogram2d"
           }
          ],
          "histogram2dcontour": [
           {
            "colorbar": {
             "outlinewidth": 0,
             "ticks": ""
            },
            "colorscale": [
             [
              0,
              "#0d0887"
             ],
             [
              0.1111111111111111,
              "#46039f"
             ],
             [
              0.2222222222222222,
              "#7201a8"
             ],
             [
              0.3333333333333333,
              "#9c179e"
             ],
             [
              0.4444444444444444,
              "#bd3786"
             ],
             [
              0.5555555555555556,
              "#d8576b"
             ],
             [
              0.6666666666666666,
              "#ed7953"
             ],
             [
              0.7777777777777778,
              "#fb9f3a"
             ],
             [
              0.8888888888888888,
              "#fdca26"
             ],
             [
              1,
              "#f0f921"
             ]
            ],
            "type": "histogram2dcontour"
           }
          ],
          "mesh3d": [
           {
            "colorbar": {
             "outlinewidth": 0,
             "ticks": ""
            },
            "type": "mesh3d"
           }
          ],
          "parcoords": [
           {
            "line": {
             "colorbar": {
              "outlinewidth": 0,
              "ticks": ""
             }
            },
            "type": "parcoords"
           }
          ],
          "pie": [
           {
            "automargin": true,
            "type": "pie"
           }
          ],
          "scatter": [
           {
            "fillpattern": {
             "fillmode": "overlay",
             "size": 10,
             "solidity": 0.2
            },
            "type": "scatter"
           }
          ],
          "scatter3d": [
           {
            "line": {
             "colorbar": {
              "outlinewidth": 0,
              "ticks": ""
             }
            },
            "marker": {
             "colorbar": {
              "outlinewidth": 0,
              "ticks": ""
             }
            },
            "type": "scatter3d"
           }
          ],
          "scattercarpet": [
           {
            "marker": {
             "colorbar": {
              "outlinewidth": 0,
              "ticks": ""
             }
            },
            "type": "scattercarpet"
           }
          ],
          "scattergeo": [
           {
            "marker": {
             "colorbar": {
              "outlinewidth": 0,
              "ticks": ""
             }
            },
            "type": "scattergeo"
           }
          ],
          "scattergl": [
           {
            "marker": {
             "colorbar": {
              "outlinewidth": 0,
              "ticks": ""
             }
            },
            "type": "scattergl"
           }
          ],
          "scattermapbox": [
           {
            "marker": {
             "colorbar": {
              "outlinewidth": 0,
              "ticks": ""
             }
            },
            "type": "scattermapbox"
           }
          ],
          "scatterpolar": [
           {
            "marker": {
             "colorbar": {
              "outlinewidth": 0,
              "ticks": ""
             }
            },
            "type": "scatterpolar"
           }
          ],
          "scatterpolargl": [
           {
            "marker": {
             "colorbar": {
              "outlinewidth": 0,
              "ticks": ""
             }
            },
            "type": "scatterpolargl"
           }
          ],
          "scatterternary": [
           {
            "marker": {
             "colorbar": {
              "outlinewidth": 0,
              "ticks": ""
             }
            },
            "type": "scatterternary"
           }
          ],
          "surface": [
           {
            "colorbar": {
             "outlinewidth": 0,
             "ticks": ""
            },
            "colorscale": [
             [
              0,
              "#0d0887"
             ],
             [
              0.1111111111111111,
              "#46039f"
             ],
             [
              0.2222222222222222,
              "#7201a8"
             ],
             [
              0.3333333333333333,
              "#9c179e"
             ],
             [
              0.4444444444444444,
              "#bd3786"
             ],
             [
              0.5555555555555556,
              "#d8576b"
             ],
             [
              0.6666666666666666,
              "#ed7953"
             ],
             [
              0.7777777777777778,
              "#fb9f3a"
             ],
             [
              0.8888888888888888,
              "#fdca26"
             ],
             [
              1,
              "#f0f921"
             ]
            ],
            "type": "surface"
           }
          ],
          "table": [
           {
            "cells": {
             "fill": {
              "color": "#EBF0F8"
             },
             "line": {
              "color": "white"
             }
            },
            "header": {
             "fill": {
              "color": "#C8D4E3"
             },
             "line": {
              "color": "white"
             }
            },
            "type": "table"
           }
          ]
         },
         "layout": {
          "annotationdefaults": {
           "arrowcolor": "#2a3f5f",
           "arrowhead": 0,
           "arrowwidth": 1
          },
          "autotypenumbers": "strict",
          "coloraxis": {
           "colorbar": {
            "outlinewidth": 0,
            "ticks": ""
           }
          },
          "colorscale": {
           "diverging": [
            [
             0,
             "#8e0152"
            ],
            [
             0.1,
             "#c51b7d"
            ],
            [
             0.2,
             "#de77ae"
            ],
            [
             0.3,
             "#f1b6da"
            ],
            [
             0.4,
             "#fde0ef"
            ],
            [
             0.5,
             "#f7f7f7"
            ],
            [
             0.6,
             "#e6f5d0"
            ],
            [
             0.7,
             "#b8e186"
            ],
            [
             0.8,
             "#7fbc41"
            ],
            [
             0.9,
             "#4d9221"
            ],
            [
             1,
             "#276419"
            ]
           ],
           "sequential": [
            [
             0,
             "#0d0887"
            ],
            [
             0.1111111111111111,
             "#46039f"
            ],
            [
             0.2222222222222222,
             "#7201a8"
            ],
            [
             0.3333333333333333,
             "#9c179e"
            ],
            [
             0.4444444444444444,
             "#bd3786"
            ],
            [
             0.5555555555555556,
             "#d8576b"
            ],
            [
             0.6666666666666666,
             "#ed7953"
            ],
            [
             0.7777777777777778,
             "#fb9f3a"
            ],
            [
             0.8888888888888888,
             "#fdca26"
            ],
            [
             1,
             "#f0f921"
            ]
           ],
           "sequentialminus": [
            [
             0,
             "#0d0887"
            ],
            [
             0.1111111111111111,
             "#46039f"
            ],
            [
             0.2222222222222222,
             "#7201a8"
            ],
            [
             0.3333333333333333,
             "#9c179e"
            ],
            [
             0.4444444444444444,
             "#bd3786"
            ],
            [
             0.5555555555555556,
             "#d8576b"
            ],
            [
             0.6666666666666666,
             "#ed7953"
            ],
            [
             0.7777777777777778,
             "#fb9f3a"
            ],
            [
             0.8888888888888888,
             "#fdca26"
            ],
            [
             1,
             "#f0f921"
            ]
           ]
          },
          "colorway": [
           "#636efa",
           "#EF553B",
           "#00cc96",
           "#ab63fa",
           "#FFA15A",
           "#19d3f3",
           "#FF6692",
           "#B6E880",
           "#FF97FF",
           "#FECB52"
          ],
          "font": {
           "color": "#2a3f5f"
          },
          "geo": {
           "bgcolor": "white",
           "lakecolor": "white",
           "landcolor": "#E5ECF6",
           "showlakes": true,
           "showland": true,
           "subunitcolor": "white"
          },
          "hoverlabel": {
           "align": "left"
          },
          "hovermode": "closest",
          "mapbox": {
           "style": "light"
          },
          "paper_bgcolor": "white",
          "plot_bgcolor": "#E5ECF6",
          "polar": {
           "angularaxis": {
            "gridcolor": "white",
            "linecolor": "white",
            "ticks": ""
           },
           "bgcolor": "#E5ECF6",
           "radialaxis": {
            "gridcolor": "white",
            "linecolor": "white",
            "ticks": ""
           }
          },
          "scene": {
           "xaxis": {
            "backgroundcolor": "#E5ECF6",
            "gridcolor": "white",
            "gridwidth": 2,
            "linecolor": "white",
            "showbackground": true,
            "ticks": "",
            "zerolinecolor": "white"
           },
           "yaxis": {
            "backgroundcolor": "#E5ECF6",
            "gridcolor": "white",
            "gridwidth": 2,
            "linecolor": "white",
            "showbackground": true,
            "ticks": "",
            "zerolinecolor": "white"
           },
           "zaxis": {
            "backgroundcolor": "#E5ECF6",
            "gridcolor": "white",
            "gridwidth": 2,
            "linecolor": "white",
            "showbackground": true,
            "ticks": "",
            "zerolinecolor": "white"
           }
          },
          "shapedefaults": {
           "line": {
            "color": "#2a3f5f"
           }
          },
          "ternary": {
           "aaxis": {
            "gridcolor": "white",
            "linecolor": "white",
            "ticks": ""
           },
           "baxis": {
            "gridcolor": "white",
            "linecolor": "white",
            "ticks": ""
           },
           "bgcolor": "#E5ECF6",
           "caxis": {
            "gridcolor": "white",
            "linecolor": "white",
            "ticks": ""
           }
          },
          "title": {
           "x": 0.05
          },
          "xaxis": {
           "automargin": true,
           "gridcolor": "white",
           "linecolor": "white",
           "ticks": "",
           "title": {
            "standoff": 15
           },
           "zerolinecolor": "white",
           "zerolinewidth": 2
          },
          "yaxis": {
           "automargin": true,
           "gridcolor": "white",
           "linecolor": "white",
           "ticks": "",
           "title": {
            "standoff": 15
           },
           "zerolinecolor": "white",
           "zerolinewidth": 2
          }
         }
        },
        "xaxis": {
         "anchor": "y",
         "constrain": "domain",
         "domain": [
          0,
          1
         ],
         "scaleanchor": "y",
         "title": {
          "text": "Day of the week"
         }
        },
        "yaxis": {
         "anchor": "x",
         "autorange": "reversed",
         "constrain": "domain",
         "domain": [
          0,
          1
         ],
         "title": {
          "text": "Traffic Situation"
         }
        }
       }
      }
     },
     "metadata": {},
     "output_type": "display_data"
    }
   ],
   "source": [
    "\n",
    "traffic_order = ['low', 'normal',\"high\",\"heavy\"]  \n",
    "day_order = [\"Monday\",\"Tuesday\",\"Wednesday\",\"Thursday\",\"Friday\",\"Saturday\",\"Sunday\"]\n",
    "heatmap_df = df.copy()\n",
    "\n",
    "heatmap_df['Day of the week'] = pd.Categorical(heatmap_df['Day of the week'], categories=day_order, ordered=True)\n",
    "heatmap_df['Traffic Situation'] = pd.Categorical(heatmap_df['Traffic Situation'], categories=traffic_order, ordered=True)\n",
    "heatmap_df = heatmap_df.sort_values(['Day of the week', 'Traffic Situation'])\n",
    "\n",
    "grouped = heatmap_df.groupby(['Traffic Situation', 'Day of the week']).size().unstack(fill_value=0)\n",
    "\n",
    "fig = px.imshow(grouped,\n",
    "                labels=dict(x=\"Day of the week\", y=\"Traffic Situation\", color=\"Count\"),\n",
    "                x=grouped.columns,\n",
    "                y=grouped.index,\n",
    "                color_continuous_scale='Viridis')\n",
    "\n",
    "fig.show()"
   ]
  },
  {
   "cell_type": "markdown",
   "metadata": {},
   "source": [
    "### Time evolution "
   ]
  },
  {
   "cell_type": "markdown",
   "metadata": {},
   "source": [
    "#### Month scope"
   ]
  },
  {
   "cell_type": "code",
   "execution_count": 77,
   "metadata": {},
   "outputs": [
    {
     "data": {
      "application/vnd.plotly.v1+json": {
       "config": {
        "plotlyServerURL": "https://plot.ly"
       },
       "data": [
        {
         "alignmentgroup": "True",
         "hovertemplate": "Date=%{x}<br>Traffic Situation=%{y}<extra></extra>",
         "legendgroup": "",
         "marker": {
          "color": "#636efa",
          "pattern": {
           "shape": ""
          }
         },
         "name": "",
         "offsetgroup": "",
         "orientation": "v",
         "showlegend": false,
         "textposition": "auto",
         "type": "bar",
         "x": [
          1,
          2,
          3,
          4,
          5,
          6,
          7,
          8,
          9,
          10,
          11,
          12,
          13,
          14,
          15,
          16,
          17,
          18,
          19,
          20,
          21,
          22,
          23,
          24,
          25,
          26,
          27,
          28,
          29,
          30,
          31
         ],
         "xaxis": "x",
         "y": [
          2.5625,
          2.4375,
          2.1979166666666665,
          2.59375,
          2.5625,
          2.53125,
          2.5729166666666665,
          2.5208333333333335,
          2.53125,
          2.40625,
          2.5104166666666665,
          2.5104166666666665,
          2.15625,
          2.3958333333333335,
          2.4895833333333335,
          2.4375,
          2.5416666666666665,
          2.5833333333333335,
          2.4791666666666665,
          2.1875,
          2.4479166666666665,
          2.53125,
          2.4479166666666665,
          2.53125,
          2.4375,
          2.5625,
          2.2291666666666665,
          2.4791666666666665,
          2.5416666666666665,
          2.5,
          2.46875
         ],
         "yaxis": "y"
        }
       ],
       "layout": {
        "barmode": "relative",
        "legend": {
         "tracegroupgap": 0
        },
        "template": {
         "data": {
          "bar": [
           {
            "error_x": {
             "color": "#2a3f5f"
            },
            "error_y": {
             "color": "#2a3f5f"
            },
            "marker": {
             "line": {
              "color": "#E5ECF6",
              "width": 0.5
             },
             "pattern": {
              "fillmode": "overlay",
              "size": 10,
              "solidity": 0.2
             }
            },
            "type": "bar"
           }
          ],
          "barpolar": [
           {
            "marker": {
             "line": {
              "color": "#E5ECF6",
              "width": 0.5
             },
             "pattern": {
              "fillmode": "overlay",
              "size": 10,
              "solidity": 0.2
             }
            },
            "type": "barpolar"
           }
          ],
          "carpet": [
           {
            "aaxis": {
             "endlinecolor": "#2a3f5f",
             "gridcolor": "white",
             "linecolor": "white",
             "minorgridcolor": "white",
             "startlinecolor": "#2a3f5f"
            },
            "baxis": {
             "endlinecolor": "#2a3f5f",
             "gridcolor": "white",
             "linecolor": "white",
             "minorgridcolor": "white",
             "startlinecolor": "#2a3f5f"
            },
            "type": "carpet"
           }
          ],
          "choropleth": [
           {
            "colorbar": {
             "outlinewidth": 0,
             "ticks": ""
            },
            "type": "choropleth"
           }
          ],
          "contour": [
           {
            "colorbar": {
             "outlinewidth": 0,
             "ticks": ""
            },
            "colorscale": [
             [
              0,
              "#0d0887"
             ],
             [
              0.1111111111111111,
              "#46039f"
             ],
             [
              0.2222222222222222,
              "#7201a8"
             ],
             [
              0.3333333333333333,
              "#9c179e"
             ],
             [
              0.4444444444444444,
              "#bd3786"
             ],
             [
              0.5555555555555556,
              "#d8576b"
             ],
             [
              0.6666666666666666,
              "#ed7953"
             ],
             [
              0.7777777777777778,
              "#fb9f3a"
             ],
             [
              0.8888888888888888,
              "#fdca26"
             ],
             [
              1,
              "#f0f921"
             ]
            ],
            "type": "contour"
           }
          ],
          "contourcarpet": [
           {
            "colorbar": {
             "outlinewidth": 0,
             "ticks": ""
            },
            "type": "contourcarpet"
           }
          ],
          "heatmap": [
           {
            "colorbar": {
             "outlinewidth": 0,
             "ticks": ""
            },
            "colorscale": [
             [
              0,
              "#0d0887"
             ],
             [
              0.1111111111111111,
              "#46039f"
             ],
             [
              0.2222222222222222,
              "#7201a8"
             ],
             [
              0.3333333333333333,
              "#9c179e"
             ],
             [
              0.4444444444444444,
              "#bd3786"
             ],
             [
              0.5555555555555556,
              "#d8576b"
             ],
             [
              0.6666666666666666,
              "#ed7953"
             ],
             [
              0.7777777777777778,
              "#fb9f3a"
             ],
             [
              0.8888888888888888,
              "#fdca26"
             ],
             [
              1,
              "#f0f921"
             ]
            ],
            "type": "heatmap"
           }
          ],
          "heatmapgl": [
           {
            "colorbar": {
             "outlinewidth": 0,
             "ticks": ""
            },
            "colorscale": [
             [
              0,
              "#0d0887"
             ],
             [
              0.1111111111111111,
              "#46039f"
             ],
             [
              0.2222222222222222,
              "#7201a8"
             ],
             [
              0.3333333333333333,
              "#9c179e"
             ],
             [
              0.4444444444444444,
              "#bd3786"
             ],
             [
              0.5555555555555556,
              "#d8576b"
             ],
             [
              0.6666666666666666,
              "#ed7953"
             ],
             [
              0.7777777777777778,
              "#fb9f3a"
             ],
             [
              0.8888888888888888,
              "#fdca26"
             ],
             [
              1,
              "#f0f921"
             ]
            ],
            "type": "heatmapgl"
           }
          ],
          "histogram": [
           {
            "marker": {
             "pattern": {
              "fillmode": "overlay",
              "size": 10,
              "solidity": 0.2
             }
            },
            "type": "histogram"
           }
          ],
          "histogram2d": [
           {
            "colorbar": {
             "outlinewidth": 0,
             "ticks": ""
            },
            "colorscale": [
             [
              0,
              "#0d0887"
             ],
             [
              0.1111111111111111,
              "#46039f"
             ],
             [
              0.2222222222222222,
              "#7201a8"
             ],
             [
              0.3333333333333333,
              "#9c179e"
             ],
             [
              0.4444444444444444,
              "#bd3786"
             ],
             [
              0.5555555555555556,
              "#d8576b"
             ],
             [
              0.6666666666666666,
              "#ed7953"
             ],
             [
              0.7777777777777778,
              "#fb9f3a"
             ],
             [
              0.8888888888888888,
              "#fdca26"
             ],
             [
              1,
              "#f0f921"
             ]
            ],
            "type": "histogram2d"
           }
          ],
          "histogram2dcontour": [
           {
            "colorbar": {
             "outlinewidth": 0,
             "ticks": ""
            },
            "colorscale": [
             [
              0,
              "#0d0887"
             ],
             [
              0.1111111111111111,
              "#46039f"
             ],
             [
              0.2222222222222222,
              "#7201a8"
             ],
             [
              0.3333333333333333,
              "#9c179e"
             ],
             [
              0.4444444444444444,
              "#bd3786"
             ],
             [
              0.5555555555555556,
              "#d8576b"
             ],
             [
              0.6666666666666666,
              "#ed7953"
             ],
             [
              0.7777777777777778,
              "#fb9f3a"
             ],
             [
              0.8888888888888888,
              "#fdca26"
             ],
             [
              1,
              "#f0f921"
             ]
            ],
            "type": "histogram2dcontour"
           }
          ],
          "mesh3d": [
           {
            "colorbar": {
             "outlinewidth": 0,
             "ticks": ""
            },
            "type": "mesh3d"
           }
          ],
          "parcoords": [
           {
            "line": {
             "colorbar": {
              "outlinewidth": 0,
              "ticks": ""
             }
            },
            "type": "parcoords"
           }
          ],
          "pie": [
           {
            "automargin": true,
            "type": "pie"
           }
          ],
          "scatter": [
           {
            "fillpattern": {
             "fillmode": "overlay",
             "size": 10,
             "solidity": 0.2
            },
            "type": "scatter"
           }
          ],
          "scatter3d": [
           {
            "line": {
             "colorbar": {
              "outlinewidth": 0,
              "ticks": ""
             }
            },
            "marker": {
             "colorbar": {
              "outlinewidth": 0,
              "ticks": ""
             }
            },
            "type": "scatter3d"
           }
          ],
          "scattercarpet": [
           {
            "marker": {
             "colorbar": {
              "outlinewidth": 0,
              "ticks": ""
             }
            },
            "type": "scattercarpet"
           }
          ],
          "scattergeo": [
           {
            "marker": {
             "colorbar": {
              "outlinewidth": 0,
              "ticks": ""
             }
            },
            "type": "scattergeo"
           }
          ],
          "scattergl": [
           {
            "marker": {
             "colorbar": {
              "outlinewidth": 0,
              "ticks": ""
             }
            },
            "type": "scattergl"
           }
          ],
          "scattermapbox": [
           {
            "marker": {
             "colorbar": {
              "outlinewidth": 0,
              "ticks": ""
             }
            },
            "type": "scattermapbox"
           }
          ],
          "scatterpolar": [
           {
            "marker": {
             "colorbar": {
              "outlinewidth": 0,
              "ticks": ""
             }
            },
            "type": "scatterpolar"
           }
          ],
          "scatterpolargl": [
           {
            "marker": {
             "colorbar": {
              "outlinewidth": 0,
              "ticks": ""
             }
            },
            "type": "scatterpolargl"
           }
          ],
          "scatterternary": [
           {
            "marker": {
             "colorbar": {
              "outlinewidth": 0,
              "ticks": ""
             }
            },
            "type": "scatterternary"
           }
          ],
          "surface": [
           {
            "colorbar": {
             "outlinewidth": 0,
             "ticks": ""
            },
            "colorscale": [
             [
              0,
              "#0d0887"
             ],
             [
              0.1111111111111111,
              "#46039f"
             ],
             [
              0.2222222222222222,
              "#7201a8"
             ],
             [
              0.3333333333333333,
              "#9c179e"
             ],
             [
              0.4444444444444444,
              "#bd3786"
             ],
             [
              0.5555555555555556,
              "#d8576b"
             ],
             [
              0.6666666666666666,
              "#ed7953"
             ],
             [
              0.7777777777777778,
              "#fb9f3a"
             ],
             [
              0.8888888888888888,
              "#fdca26"
             ],
             [
              1,
              "#f0f921"
             ]
            ],
            "type": "surface"
           }
          ],
          "table": [
           {
            "cells": {
             "fill": {
              "color": "#EBF0F8"
             },
             "line": {
              "color": "white"
             }
            },
            "header": {
             "fill": {
              "color": "#C8D4E3"
             },
             "line": {
              "color": "white"
             }
            },
            "type": "table"
           }
          ]
         },
         "layout": {
          "annotationdefaults": {
           "arrowcolor": "#2a3f5f",
           "arrowhead": 0,
           "arrowwidth": 1
          },
          "autotypenumbers": "strict",
          "coloraxis": {
           "colorbar": {
            "outlinewidth": 0,
            "ticks": ""
           }
          },
          "colorscale": {
           "diverging": [
            [
             0,
             "#8e0152"
            ],
            [
             0.1,
             "#c51b7d"
            ],
            [
             0.2,
             "#de77ae"
            ],
            [
             0.3,
             "#f1b6da"
            ],
            [
             0.4,
             "#fde0ef"
            ],
            [
             0.5,
             "#f7f7f7"
            ],
            [
             0.6,
             "#e6f5d0"
            ],
            [
             0.7,
             "#b8e186"
            ],
            [
             0.8,
             "#7fbc41"
            ],
            [
             0.9,
             "#4d9221"
            ],
            [
             1,
             "#276419"
            ]
           ],
           "sequential": [
            [
             0,
             "#0d0887"
            ],
            [
             0.1111111111111111,
             "#46039f"
            ],
            [
             0.2222222222222222,
             "#7201a8"
            ],
            [
             0.3333333333333333,
             "#9c179e"
            ],
            [
             0.4444444444444444,
             "#bd3786"
            ],
            [
             0.5555555555555556,
             "#d8576b"
            ],
            [
             0.6666666666666666,
             "#ed7953"
            ],
            [
             0.7777777777777778,
             "#fb9f3a"
            ],
            [
             0.8888888888888888,
             "#fdca26"
            ],
            [
             1,
             "#f0f921"
            ]
           ],
           "sequentialminus": [
            [
             0,
             "#0d0887"
            ],
            [
             0.1111111111111111,
             "#46039f"
            ],
            [
             0.2222222222222222,
             "#7201a8"
            ],
            [
             0.3333333333333333,
             "#9c179e"
            ],
            [
             0.4444444444444444,
             "#bd3786"
            ],
            [
             0.5555555555555556,
             "#d8576b"
            ],
            [
             0.6666666666666666,
             "#ed7953"
            ],
            [
             0.7777777777777778,
             "#fb9f3a"
            ],
            [
             0.8888888888888888,
             "#fdca26"
            ],
            [
             1,
             "#f0f921"
            ]
           ]
          },
          "colorway": [
           "#636efa",
           "#EF553B",
           "#00cc96",
           "#ab63fa",
           "#FFA15A",
           "#19d3f3",
           "#FF6692",
           "#B6E880",
           "#FF97FF",
           "#FECB52"
          ],
          "font": {
           "color": "#2a3f5f"
          },
          "geo": {
           "bgcolor": "white",
           "lakecolor": "white",
           "landcolor": "#E5ECF6",
           "showlakes": true,
           "showland": true,
           "subunitcolor": "white"
          },
          "hoverlabel": {
           "align": "left"
          },
          "hovermode": "closest",
          "mapbox": {
           "style": "light"
          },
          "paper_bgcolor": "white",
          "plot_bgcolor": "#E5ECF6",
          "polar": {
           "angularaxis": {
            "gridcolor": "white",
            "linecolor": "white",
            "ticks": ""
           },
           "bgcolor": "#E5ECF6",
           "radialaxis": {
            "gridcolor": "white",
            "linecolor": "white",
            "ticks": ""
           }
          },
          "scene": {
           "xaxis": {
            "backgroundcolor": "#E5ECF6",
            "gridcolor": "white",
            "gridwidth": 2,
            "linecolor": "white",
            "showbackground": true,
            "ticks": "",
            "zerolinecolor": "white"
           },
           "yaxis": {
            "backgroundcolor": "#E5ECF6",
            "gridcolor": "white",
            "gridwidth": 2,
            "linecolor": "white",
            "showbackground": true,
            "ticks": "",
            "zerolinecolor": "white"
           },
           "zaxis": {
            "backgroundcolor": "#E5ECF6",
            "gridcolor": "white",
            "gridwidth": 2,
            "linecolor": "white",
            "showbackground": true,
            "ticks": "",
            "zerolinecolor": "white"
           }
          },
          "shapedefaults": {
           "line": {
            "color": "#2a3f5f"
           }
          },
          "ternary": {
           "aaxis": {
            "gridcolor": "white",
            "linecolor": "white",
            "ticks": ""
           },
           "baxis": {
            "gridcolor": "white",
            "linecolor": "white",
            "ticks": ""
           },
           "bgcolor": "#E5ECF6",
           "caxis": {
            "gridcolor": "white",
            "linecolor": "white",
            "ticks": ""
           }
          },
          "title": {
           "x": 0.05
          },
          "xaxis": {
           "automargin": true,
           "gridcolor": "white",
           "linecolor": "white",
           "ticks": "",
           "title": {
            "standoff": 15
           },
           "zerolinecolor": "white",
           "zerolinewidth": 2
          },
          "yaxis": {
           "automargin": true,
           "gridcolor": "white",
           "linecolor": "white",
           "ticks": "",
           "title": {
            "standoff": 15
           },
           "zerolinecolor": "white",
           "zerolinewidth": 2
          }
         }
        },
        "title": {
         "text": "Average traffic daily"
        },
        "xaxis": {
         "anchor": "y",
         "domain": [
          0,
          1
         ],
         "title": {
          "text": "Date"
         }
        },
        "yaxis": {
         "anchor": "x",
         "domain": [
          0,
          1
         ],
         "title": {
          "text": "Traffic Situation"
         }
        }
       }
      }
     },
     "metadata": {},
     "output_type": "display_data"
    }
   ],
   "source": [
    "month_df_v2 = df.copy()\n",
    "\n",
    "month_df_v2['Traffic Situation'] = month_df_v2['Traffic Situation'].map(traffic_conversion_v2)\n",
    "\n",
    "month_df_v2['Traffic Situation'] = pd.to_numeric(month_df_v2['Traffic Situation'], errors='coerce')\n",
    "\n",
    "month_df_v2['Time'] = pd.to_datetime(month_df_v2['Time'])\n",
    "\n",
    "month_grouped_v2 = month_df_v2.groupby('Date')['Traffic Situation'].mean().reset_index()\n",
    "\n",
    "fig2 = px.bar(month_grouped_v2, x='Date', y='Traffic Situation', title='Average traffic daily')\n",
    "fig2.show()"
   ]
  },
  {
   "cell_type": "markdown",
   "metadata": {},
   "source": [
    "#### Average traffic by hour"
   ]
  },
  {
   "cell_type": "code",
   "execution_count": 78,
   "metadata": {},
   "outputs": [
    {
     "data": {
      "application/vnd.plotly.v1+json": {
       "config": {
        "plotlyServerURL": "https://plot.ly"
       },
       "data": [
        {
         "alignmentgroup": "True",
         "hovertemplate": "Time=%{x}<br>Traffic Situation=%{y}<extra></extra>",
         "legendgroup": "",
         "marker": {
          "color": "#636efa",
          "pattern": {
           "shape": ""
          }
         },
         "name": "",
         "offsetgroup": "",
         "orientation": "v",
         "showlegend": false,
         "textposition": "auto",
         "type": "bar",
         "x": [
          "2023-12-19T00:00:00",
          "2023-12-19T00:15:00",
          "2023-12-19T00:30:00",
          "2023-12-19T00:45:00",
          "2023-12-19T01:00:00",
          "2023-12-19T01:15:00",
          "2023-12-19T01:30:00",
          "2023-12-19T01:45:00",
          "2023-12-19T02:00:00",
          "2023-12-19T02:15:00",
          "2023-12-19T02:30:00",
          "2023-12-19T02:45:00",
          "2023-12-19T03:00:00",
          "2023-12-19T03:15:00",
          "2023-12-19T03:30:00",
          "2023-12-19T03:45:00",
          "2023-12-19T04:00:00",
          "2023-12-19T04:15:00",
          "2023-12-19T04:30:00",
          "2023-12-19T04:45:00",
          "2023-12-19T05:00:00",
          "2023-12-19T05:15:00",
          "2023-12-19T05:30:00",
          "2023-12-19T05:45:00",
          "2023-12-19T06:00:00",
          "2023-12-19T06:15:00",
          "2023-12-19T06:30:00",
          "2023-12-19T06:45:00",
          "2023-12-19T07:00:00",
          "2023-12-19T07:15:00",
          "2023-12-19T07:30:00",
          "2023-12-19T07:45:00",
          "2023-12-19T08:00:00",
          "2023-12-19T08:15:00",
          "2023-12-19T08:30:00",
          "2023-12-19T08:45:00",
          "2023-12-19T09:00:00",
          "2023-12-19T09:15:00",
          "2023-12-19T09:30:00",
          "2023-12-19T09:45:00",
          "2023-12-19T10:00:00",
          "2023-12-19T10:15:00",
          "2023-12-19T10:30:00",
          "2023-12-19T10:45:00",
          "2023-12-19T11:00:00",
          "2023-12-19T11:15:00",
          "2023-12-19T11:30:00",
          "2023-12-19T11:45:00",
          "2023-12-19T12:00:00",
          "2023-12-19T12:15:00",
          "2023-12-19T12:30:00",
          "2023-12-19T12:45:00",
          "2023-12-19T13:00:00",
          "2023-12-19T13:15:00",
          "2023-12-19T13:30:00",
          "2023-12-19T13:45:00",
          "2023-12-19T14:00:00",
          "2023-12-19T14:15:00",
          "2023-12-19T14:30:00",
          "2023-12-19T14:45:00",
          "2023-12-19T15:00:00",
          "2023-12-19T15:15:00",
          "2023-12-19T15:30:00",
          "2023-12-19T15:45:00",
          "2023-12-19T16:00:00",
          "2023-12-19T16:15:00",
          "2023-12-19T16:30:00",
          "2023-12-19T16:45:00",
          "2023-12-19T17:00:00",
          "2023-12-19T17:15:00",
          "2023-12-19T17:30:00",
          "2023-12-19T17:45:00",
          "2023-12-19T18:00:00",
          "2023-12-19T18:15:00",
          "2023-12-19T18:30:00",
          "2023-12-19T18:45:00",
          "2023-12-19T19:00:00",
          "2023-12-19T19:15:00",
          "2023-12-19T19:30:00",
          "2023-12-19T19:45:00",
          "2023-12-19T20:00:00",
          "2023-12-19T20:15:00",
          "2023-12-19T20:30:00",
          "2023-12-19T20:45:00",
          "2023-12-19T21:00:00",
          "2023-12-19T21:15:00",
          "2023-12-19T21:30:00",
          "2023-12-19T21:45:00",
          "2023-12-19T22:00:00",
          "2023-12-19T22:15:00",
          "2023-12-19T22:30:00",
          "2023-12-19T22:45:00",
          "2023-12-19T23:00:00",
          "2023-12-19T23:15:00",
          "2023-12-19T23:30:00",
          "2023-12-19T23:45:00"
         ],
         "xaxis": "x",
         "y": [
          1.903225806451613,
          1.8709677419354838,
          1.8064516129032258,
          1.903225806451613,
          1.7741935483870968,
          1.8709677419354838,
          1.8709677419354838,
          1.8064516129032258,
          1.8709677419354838,
          1.8709677419354838,
          1.903225806451613,
          1.7741935483870968,
          1.935483870967742,
          1.8709677419354838,
          1.967741935483871,
          2.032258064516129,
          1.903225806451613,
          1.7741935483870968,
          1.6129032258064515,
          1.903225806451613,
          1.7419354838709677,
          1.6774193548387097,
          1.7741935483870968,
          1.7419354838709677,
          3.3870967741935485,
          3.6129032258064515,
          3.5483870967741935,
          3.3548387096774195,
          3.3225806451612905,
          3.5806451612903225,
          3.3225806451612905,
          3.3225806451612905,
          3.4516129032258065,
          3.5161290322580645,
          3.2903225806451615,
          3.3870967741935485,
          3.5161290322580645,
          2.6774193548387095,
          2.3548387096774195,
          2.3870967741935485,
          2.4838709677419355,
          2.6129032258064515,
          2.5161290322580645,
          2.5161290322580645,
          2.2580645161290325,
          2.2580645161290325,
          2.2580645161290325,
          2.2580645161290325,
          2.2580645161290325,
          2.3225806451612905,
          2.2903225806451615,
          2.3548387096774195,
          2.2903225806451615,
          2.3548387096774195,
          2.6451612903225805,
          2.774193548387097,
          2.4838709677419355,
          2.3225806451612905,
          2.6451612903225805,
          2.5806451612903225,
          2.4838709677419355,
          2.3225806451612905,
          2.129032258064516,
          2.096774193548387,
          3.4516129032258065,
          3.4838709677419355,
          3.5483870967741935,
          3.4838709677419355,
          3.4516129032258065,
          3.4838709677419355,
          3.5161290322580645,
          3.5483870967741935,
          3.4838709677419355,
          3.5483870967741935,
          3.5483870967741935,
          2.4193548387096775,
          2.3225806451612905,
          2.225806451612903,
          2.161290322580645,
          2.2580645161290325,
          2.3225806451612905,
          1.935483870967742,
          2.225806451612903,
          2.096774193548387,
          2.2580645161290325,
          2.064516129032258,
          2.4838709677419355,
          2.4516129032258065,
          1.8709677419354838,
          1.8387096774193548,
          1.903225806451613,
          1.935483870967742,
          1.903225806451613,
          1.8387096774193548,
          1.903225806451613,
          1.8709677419354838
         ],
         "yaxis": "y"
        }
       ],
       "layout": {
        "barmode": "relative",
        "legend": {
         "tracegroupgap": 0
        },
        "template": {
         "data": {
          "bar": [
           {
            "error_x": {
             "color": "#2a3f5f"
            },
            "error_y": {
             "color": "#2a3f5f"
            },
            "marker": {
             "line": {
              "color": "#E5ECF6",
              "width": 0.5
             },
             "pattern": {
              "fillmode": "overlay",
              "size": 10,
              "solidity": 0.2
             }
            },
            "type": "bar"
           }
          ],
          "barpolar": [
           {
            "marker": {
             "line": {
              "color": "#E5ECF6",
              "width": 0.5
             },
             "pattern": {
              "fillmode": "overlay",
              "size": 10,
              "solidity": 0.2
             }
            },
            "type": "barpolar"
           }
          ],
          "carpet": [
           {
            "aaxis": {
             "endlinecolor": "#2a3f5f",
             "gridcolor": "white",
             "linecolor": "white",
             "minorgridcolor": "white",
             "startlinecolor": "#2a3f5f"
            },
            "baxis": {
             "endlinecolor": "#2a3f5f",
             "gridcolor": "white",
             "linecolor": "white",
             "minorgridcolor": "white",
             "startlinecolor": "#2a3f5f"
            },
            "type": "carpet"
           }
          ],
          "choropleth": [
           {
            "colorbar": {
             "outlinewidth": 0,
             "ticks": ""
            },
            "type": "choropleth"
           }
          ],
          "contour": [
           {
            "colorbar": {
             "outlinewidth": 0,
             "ticks": ""
            },
            "colorscale": [
             [
              0,
              "#0d0887"
             ],
             [
              0.1111111111111111,
              "#46039f"
             ],
             [
              0.2222222222222222,
              "#7201a8"
             ],
             [
              0.3333333333333333,
              "#9c179e"
             ],
             [
              0.4444444444444444,
              "#bd3786"
             ],
             [
              0.5555555555555556,
              "#d8576b"
             ],
             [
              0.6666666666666666,
              "#ed7953"
             ],
             [
              0.7777777777777778,
              "#fb9f3a"
             ],
             [
              0.8888888888888888,
              "#fdca26"
             ],
             [
              1,
              "#f0f921"
             ]
            ],
            "type": "contour"
           }
          ],
          "contourcarpet": [
           {
            "colorbar": {
             "outlinewidth": 0,
             "ticks": ""
            },
            "type": "contourcarpet"
           }
          ],
          "heatmap": [
           {
            "colorbar": {
             "outlinewidth": 0,
             "ticks": ""
            },
            "colorscale": [
             [
              0,
              "#0d0887"
             ],
             [
              0.1111111111111111,
              "#46039f"
             ],
             [
              0.2222222222222222,
              "#7201a8"
             ],
             [
              0.3333333333333333,
              "#9c179e"
             ],
             [
              0.4444444444444444,
              "#bd3786"
             ],
             [
              0.5555555555555556,
              "#d8576b"
             ],
             [
              0.6666666666666666,
              "#ed7953"
             ],
             [
              0.7777777777777778,
              "#fb9f3a"
             ],
             [
              0.8888888888888888,
              "#fdca26"
             ],
             [
              1,
              "#f0f921"
             ]
            ],
            "type": "heatmap"
           }
          ],
          "heatmapgl": [
           {
            "colorbar": {
             "outlinewidth": 0,
             "ticks": ""
            },
            "colorscale": [
             [
              0,
              "#0d0887"
             ],
             [
              0.1111111111111111,
              "#46039f"
             ],
             [
              0.2222222222222222,
              "#7201a8"
             ],
             [
              0.3333333333333333,
              "#9c179e"
             ],
             [
              0.4444444444444444,
              "#bd3786"
             ],
             [
              0.5555555555555556,
              "#d8576b"
             ],
             [
              0.6666666666666666,
              "#ed7953"
             ],
             [
              0.7777777777777778,
              "#fb9f3a"
             ],
             [
              0.8888888888888888,
              "#fdca26"
             ],
             [
              1,
              "#f0f921"
             ]
            ],
            "type": "heatmapgl"
           }
          ],
          "histogram": [
           {
            "marker": {
             "pattern": {
              "fillmode": "overlay",
              "size": 10,
              "solidity": 0.2
             }
            },
            "type": "histogram"
           }
          ],
          "histogram2d": [
           {
            "colorbar": {
             "outlinewidth": 0,
             "ticks": ""
            },
            "colorscale": [
             [
              0,
              "#0d0887"
             ],
             [
              0.1111111111111111,
              "#46039f"
             ],
             [
              0.2222222222222222,
              "#7201a8"
             ],
             [
              0.3333333333333333,
              "#9c179e"
             ],
             [
              0.4444444444444444,
              "#bd3786"
             ],
             [
              0.5555555555555556,
              "#d8576b"
             ],
             [
              0.6666666666666666,
              "#ed7953"
             ],
             [
              0.7777777777777778,
              "#fb9f3a"
             ],
             [
              0.8888888888888888,
              "#fdca26"
             ],
             [
              1,
              "#f0f921"
             ]
            ],
            "type": "histogram2d"
           }
          ],
          "histogram2dcontour": [
           {
            "colorbar": {
             "outlinewidth": 0,
             "ticks": ""
            },
            "colorscale": [
             [
              0,
              "#0d0887"
             ],
             [
              0.1111111111111111,
              "#46039f"
             ],
             [
              0.2222222222222222,
              "#7201a8"
             ],
             [
              0.3333333333333333,
              "#9c179e"
             ],
             [
              0.4444444444444444,
              "#bd3786"
             ],
             [
              0.5555555555555556,
              "#d8576b"
             ],
             [
              0.6666666666666666,
              "#ed7953"
             ],
             [
              0.7777777777777778,
              "#fb9f3a"
             ],
             [
              0.8888888888888888,
              "#fdca26"
             ],
             [
              1,
              "#f0f921"
             ]
            ],
            "type": "histogram2dcontour"
           }
          ],
          "mesh3d": [
           {
            "colorbar": {
             "outlinewidth": 0,
             "ticks": ""
            },
            "type": "mesh3d"
           }
          ],
          "parcoords": [
           {
            "line": {
             "colorbar": {
              "outlinewidth": 0,
              "ticks": ""
             }
            },
            "type": "parcoords"
           }
          ],
          "pie": [
           {
            "automargin": true,
            "type": "pie"
           }
          ],
          "scatter": [
           {
            "fillpattern": {
             "fillmode": "overlay",
             "size": 10,
             "solidity": 0.2
            },
            "type": "scatter"
           }
          ],
          "scatter3d": [
           {
            "line": {
             "colorbar": {
              "outlinewidth": 0,
              "ticks": ""
             }
            },
            "marker": {
             "colorbar": {
              "outlinewidth": 0,
              "ticks": ""
             }
            },
            "type": "scatter3d"
           }
          ],
          "scattercarpet": [
           {
            "marker": {
             "colorbar": {
              "outlinewidth": 0,
              "ticks": ""
             }
            },
            "type": "scattercarpet"
           }
          ],
          "scattergeo": [
           {
            "marker": {
             "colorbar": {
              "outlinewidth": 0,
              "ticks": ""
             }
            },
            "type": "scattergeo"
           }
          ],
          "scattergl": [
           {
            "marker": {
             "colorbar": {
              "outlinewidth": 0,
              "ticks": ""
             }
            },
            "type": "scattergl"
           }
          ],
          "scattermapbox": [
           {
            "marker": {
             "colorbar": {
              "outlinewidth": 0,
              "ticks": ""
             }
            },
            "type": "scattermapbox"
           }
          ],
          "scatterpolar": [
           {
            "marker": {
             "colorbar": {
              "outlinewidth": 0,
              "ticks": ""
             }
            },
            "type": "scatterpolar"
           }
          ],
          "scatterpolargl": [
           {
            "marker": {
             "colorbar": {
              "outlinewidth": 0,
              "ticks": ""
             }
            },
            "type": "scatterpolargl"
           }
          ],
          "scatterternary": [
           {
            "marker": {
             "colorbar": {
              "outlinewidth": 0,
              "ticks": ""
             }
            },
            "type": "scatterternary"
           }
          ],
          "surface": [
           {
            "colorbar": {
             "outlinewidth": 0,
             "ticks": ""
            },
            "colorscale": [
             [
              0,
              "#0d0887"
             ],
             [
              0.1111111111111111,
              "#46039f"
             ],
             [
              0.2222222222222222,
              "#7201a8"
             ],
             [
              0.3333333333333333,
              "#9c179e"
             ],
             [
              0.4444444444444444,
              "#bd3786"
             ],
             [
              0.5555555555555556,
              "#d8576b"
             ],
             [
              0.6666666666666666,
              "#ed7953"
             ],
             [
              0.7777777777777778,
              "#fb9f3a"
             ],
             [
              0.8888888888888888,
              "#fdca26"
             ],
             [
              1,
              "#f0f921"
             ]
            ],
            "type": "surface"
           }
          ],
          "table": [
           {
            "cells": {
             "fill": {
              "color": "#EBF0F8"
             },
             "line": {
              "color": "white"
             }
            },
            "header": {
             "fill": {
              "color": "#C8D4E3"
             },
             "line": {
              "color": "white"
             }
            },
            "type": "table"
           }
          ]
         },
         "layout": {
          "annotationdefaults": {
           "arrowcolor": "#2a3f5f",
           "arrowhead": 0,
           "arrowwidth": 1
          },
          "autotypenumbers": "strict",
          "coloraxis": {
           "colorbar": {
            "outlinewidth": 0,
            "ticks": ""
           }
          },
          "colorscale": {
           "diverging": [
            [
             0,
             "#8e0152"
            ],
            [
             0.1,
             "#c51b7d"
            ],
            [
             0.2,
             "#de77ae"
            ],
            [
             0.3,
             "#f1b6da"
            ],
            [
             0.4,
             "#fde0ef"
            ],
            [
             0.5,
             "#f7f7f7"
            ],
            [
             0.6,
             "#e6f5d0"
            ],
            [
             0.7,
             "#b8e186"
            ],
            [
             0.8,
             "#7fbc41"
            ],
            [
             0.9,
             "#4d9221"
            ],
            [
             1,
             "#276419"
            ]
           ],
           "sequential": [
            [
             0,
             "#0d0887"
            ],
            [
             0.1111111111111111,
             "#46039f"
            ],
            [
             0.2222222222222222,
             "#7201a8"
            ],
            [
             0.3333333333333333,
             "#9c179e"
            ],
            [
             0.4444444444444444,
             "#bd3786"
            ],
            [
             0.5555555555555556,
             "#d8576b"
            ],
            [
             0.6666666666666666,
             "#ed7953"
            ],
            [
             0.7777777777777778,
             "#fb9f3a"
            ],
            [
             0.8888888888888888,
             "#fdca26"
            ],
            [
             1,
             "#f0f921"
            ]
           ],
           "sequentialminus": [
            [
             0,
             "#0d0887"
            ],
            [
             0.1111111111111111,
             "#46039f"
            ],
            [
             0.2222222222222222,
             "#7201a8"
            ],
            [
             0.3333333333333333,
             "#9c179e"
            ],
            [
             0.4444444444444444,
             "#bd3786"
            ],
            [
             0.5555555555555556,
             "#d8576b"
            ],
            [
             0.6666666666666666,
             "#ed7953"
            ],
            [
             0.7777777777777778,
             "#fb9f3a"
            ],
            [
             0.8888888888888888,
             "#fdca26"
            ],
            [
             1,
             "#f0f921"
            ]
           ]
          },
          "colorway": [
           "#636efa",
           "#EF553B",
           "#00cc96",
           "#ab63fa",
           "#FFA15A",
           "#19d3f3",
           "#FF6692",
           "#B6E880",
           "#FF97FF",
           "#FECB52"
          ],
          "font": {
           "color": "#2a3f5f"
          },
          "geo": {
           "bgcolor": "white",
           "lakecolor": "white",
           "landcolor": "#E5ECF6",
           "showlakes": true,
           "showland": true,
           "subunitcolor": "white"
          },
          "hoverlabel": {
           "align": "left"
          },
          "hovermode": "closest",
          "mapbox": {
           "style": "light"
          },
          "paper_bgcolor": "white",
          "plot_bgcolor": "#E5ECF6",
          "polar": {
           "angularaxis": {
            "gridcolor": "white",
            "linecolor": "white",
            "ticks": ""
           },
           "bgcolor": "#E5ECF6",
           "radialaxis": {
            "gridcolor": "white",
            "linecolor": "white",
            "ticks": ""
           }
          },
          "scene": {
           "xaxis": {
            "backgroundcolor": "#E5ECF6",
            "gridcolor": "white",
            "gridwidth": 2,
            "linecolor": "white",
            "showbackground": true,
            "ticks": "",
            "zerolinecolor": "white"
           },
           "yaxis": {
            "backgroundcolor": "#E5ECF6",
            "gridcolor": "white",
            "gridwidth": 2,
            "linecolor": "white",
            "showbackground": true,
            "ticks": "",
            "zerolinecolor": "white"
           },
           "zaxis": {
            "backgroundcolor": "#E5ECF6",
            "gridcolor": "white",
            "gridwidth": 2,
            "linecolor": "white",
            "showbackground": true,
            "ticks": "",
            "zerolinecolor": "white"
           }
          },
          "shapedefaults": {
           "line": {
            "color": "#2a3f5f"
           }
          },
          "ternary": {
           "aaxis": {
            "gridcolor": "white",
            "linecolor": "white",
            "ticks": ""
           },
           "baxis": {
            "gridcolor": "white",
            "linecolor": "white",
            "ticks": ""
           },
           "bgcolor": "#E5ECF6",
           "caxis": {
            "gridcolor": "white",
            "linecolor": "white",
            "ticks": ""
           }
          },
          "title": {
           "x": 0.05
          },
          "xaxis": {
           "automargin": true,
           "gridcolor": "white",
           "linecolor": "white",
           "ticks": "",
           "title": {
            "standoff": 15
           },
           "zerolinecolor": "white",
           "zerolinewidth": 2
          },
          "yaxis": {
           "automargin": true,
           "gridcolor": "white",
           "linecolor": "white",
           "ticks": "",
           "title": {
            "standoff": 15
           },
           "zerolinecolor": "white",
           "zerolinewidth": 2
          }
         }
        },
        "title": {
         "text": "Average traffic hourly"
        },
        "xaxis": {
         "anchor": "y",
         "domain": [
          0,
          1
         ],
         "title": {
          "text": "Time"
         }
        },
        "yaxis": {
         "anchor": "x",
         "domain": [
          0,
          1
         ],
         "title": {
          "text": "Traffic Situation"
         }
        }
       }
      }
     },
     "metadata": {},
     "output_type": "display_data"
    }
   ],
   "source": [
    "hourly_df = df.copy()\n",
    "hourly_df['Traffic Situation'] = hourly_df['Traffic Situation'].map(traffic_conversion_v2)\n",
    "hourly_df['Time'] = pd.to_datetime(hourly_df['Time'])\n",
    "hourly_df = hourly_df.groupby('Time')['Traffic Situation'].mean().reset_index()\n",
    "fig = px.bar(hourly_df, x='Time', y='Traffic Situation', title='Average traffic hourly')\n",
    "fig.show()"
   ]
  },
  {
   "cell_type": "markdown",
   "metadata": {},
   "source": [
    "### Vehicles impacts"
   ]
  },
  {
   "cell_type": "code",
   "execution_count": 79,
   "metadata": {},
   "outputs": [
    {
     "name": "stderr",
     "output_type": "stream",
     "text": [
      "C:\\Users\\mathy\\AppData\\Local\\Temp\\ipykernel_18528\\1453629159.py:4: FutureWarning:\n",
      "\n",
      "The default value of numeric_only in DataFrameGroupBy.mean is deprecated. In a future version, numeric_only will default to False. Either specify numeric_only or select only columns which should be valid for the function.\n",
      "\n"
     ]
    },
    {
     "data": {
      "application/vnd.plotly.v1+json": {
       "config": {
        "plotlyServerURL": "https://plot.ly"
       },
       "data": [
        {
         "alignmentgroup": "True",
         "hovertemplate": "Vehicule Type=CarCount<br>Date=%{x}<br>Mean=%{y}<extra></extra>",
         "legendgroup": "CarCount",
         "marker": {
          "color": "#636efa",
          "pattern": {
           "shape": ""
          }
         },
         "name": "CarCount",
         "offsetgroup": "CarCount",
         "orientation": "v",
         "showlegend": true,
         "textposition": "auto",
         "type": "bar",
         "x": [
          1,
          2,
          3,
          4,
          5,
          6,
          7,
          8,
          9,
          10,
          11,
          12,
          13,
          14,
          15,
          16,
          17,
          18,
          19,
          20,
          21,
          22,
          23,
          24,
          25,
          26,
          27,
          28,
          29,
          30,
          31
         ],
         "xaxis": "x",
         "y": [
          69.35416666666667,
          67.8125,
          67.70833333333333,
          69.91666666666667,
          72.75,
          68.28125,
          69.375,
          70.11458333333333,
          69.53125,
          75.15625,
          71.02083333333333,
          66.125,
          69.89583333333333,
          67.03125,
          66.48958333333333,
          66.5,
          66.54166666666667,
          69.25,
          68.32291666666667,
          70.07291666666667,
          67.0625,
          71.13541666666667,
          67.01041666666667,
          66.66666666666667,
          68.42708333333333,
          68.875,
          68.13541666666667,
          67.39583333333333,
          65.26041666666667,
          67.92708333333333,
          70.44791666666667
         ],
         "yaxis": "y"
        },
        {
         "alignmentgroup": "True",
         "hovertemplate": "Vehicule Type=BikeCount<br>Date=%{x}<br>Mean=%{y}<extra></extra>",
         "legendgroup": "BikeCount",
         "marker": {
          "color": "#EF553B",
          "pattern": {
           "shape": ""
          }
         },
         "name": "BikeCount",
         "offsetgroup": "BikeCount",
         "orientation": "v",
         "showlegend": true,
         "textposition": "auto",
         "type": "bar",
         "x": [
          1,
          2,
          3,
          4,
          5,
          6,
          7,
          8,
          9,
          10,
          11,
          12,
          13,
          14,
          15,
          16,
          17,
          18,
          19,
          20,
          21,
          22,
          23,
          24,
          25,
          26,
          27,
          28,
          29,
          30,
          31
         ],
         "xaxis": "x",
         "y": [
          13.958333333333334,
          13.895833333333334,
          22.03125,
          14.6875,
          13.53125,
          13.197916666666666,
          13.239583333333334,
          14.447916666666666,
          13.916666666666666,
          14.979166666666666,
          14.697916666666666,
          14.260416666666666,
          21.197916666666668,
          13.9375,
          13.958333333333334,
          12.9375,
          12.90625,
          13.895833333333334,
          13.78125,
          22.197916666666668,
          13.447916666666666,
          15.604166666666666,
          12.885416666666666,
          14.072916666666666,
          12.833333333333334,
          13.239583333333334,
          22.614583333333332,
          14.354166666666666,
          14.166666666666666,
          13.729166666666666,
          13.833333333333334
         ],
         "yaxis": "y"
        },
        {
         "alignmentgroup": "True",
         "hovertemplate": "Vehicule Type=BusCount<br>Date=%{x}<br>Mean=%{y}<extra></extra>",
         "legendgroup": "BusCount",
         "marker": {
          "color": "#00cc96",
          "pattern": {
           "shape": ""
          }
         },
         "name": "BusCount",
         "offsetgroup": "BusCount",
         "orientation": "v",
         "showlegend": true,
         "textposition": "auto",
         "type": "bar",
         "x": [
          1,
          2,
          3,
          4,
          5,
          6,
          7,
          8,
          9,
          10,
          11,
          12,
          13,
          14,
          15,
          16,
          17,
          18,
          19,
          20,
          21,
          22,
          23,
          24,
          25,
          26,
          27,
          28,
          29,
          30,
          31
         ],
         "xaxis": "x",
         "y": [
          16.5,
          16.395833333333332,
          8.197916666666666,
          17.229166666666668,
          15.28125,
          17.0625,
          17.0625,
          16.3125,
          16.5,
          17.635416666666668,
          16.78125,
          16.625,
          8.541666666666666,
          15.489583333333334,
          17.166666666666668,
          15.90625,
          15.677083333333334,
          17.104166666666668,
          17.145833333333332,
          7.708333333333333,
          15.78125,
          16.53125,
          15.5625,
          15.28125,
          16.041666666666668,
          16.947916666666668,
          8.40625,
          14.822916666666666,
          16.09375,
          16.114583333333332,
          15.760416666666666
         ],
         "yaxis": "y"
        },
        {
         "alignmentgroup": "True",
         "hovertemplate": "Vehicule Type=TruckCount<br>Date=%{x}<br>Mean=%{y}<extra></extra>",
         "legendgroup": "TruckCount",
         "marker": {
          "color": "#ab63fa",
          "pattern": {
           "shape": ""
          }
         },
         "name": "TruckCount",
         "offsetgroup": "TruckCount",
         "orientation": "v",
         "showlegend": true,
         "textposition": "auto",
         "type": "bar",
         "x": [
          1,
          2,
          3,
          4,
          5,
          6,
          7,
          8,
          9,
          10,
          11,
          12,
          13,
          14,
          15,
          16,
          17,
          18,
          19,
          20,
          21,
          22,
          23,
          24,
          25,
          26,
          27,
          28,
          29,
          30,
          31
         ],
         "xaxis": "x",
         "y": [
          15.8125,
          16.302083333333332,
          10.552083333333334,
          15.75,
          16.479166666666668,
          16.322916666666668,
          16.46875,
          15.458333333333334,
          15.854166666666666,
          12.635416666666666,
          15.666666666666666,
          15.697916666666666,
          9.520833333333334,
          15.729166666666666,
          16.302083333333332,
          16.25,
          16.145833333333332,
          17.40625,
          14.854166666666666,
          10.1875,
          16.666666666666668,
          16.677083333333332,
          15.75,
          16.677083333333332,
          16.729166666666668,
          16.729166666666668,
          10.322916666666666,
          17.104166666666668,
          16.989583333333332,
          16.395833333333332,
          15.635416666666666
         ],
         "yaxis": "y"
        }
       ],
       "layout": {
        "barmode": "relative",
        "legend": {
         "title": {
          "text": "Vehicule Type"
         },
         "tracegroupgap": 0
        },
        "template": {
         "data": {
          "bar": [
           {
            "error_x": {
             "color": "#2a3f5f"
            },
            "error_y": {
             "color": "#2a3f5f"
            },
            "marker": {
             "line": {
              "color": "#E5ECF6",
              "width": 0.5
             },
             "pattern": {
              "fillmode": "overlay",
              "size": 10,
              "solidity": 0.2
             }
            },
            "type": "bar"
           }
          ],
          "barpolar": [
           {
            "marker": {
             "line": {
              "color": "#E5ECF6",
              "width": 0.5
             },
             "pattern": {
              "fillmode": "overlay",
              "size": 10,
              "solidity": 0.2
             }
            },
            "type": "barpolar"
           }
          ],
          "carpet": [
           {
            "aaxis": {
             "endlinecolor": "#2a3f5f",
             "gridcolor": "white",
             "linecolor": "white",
             "minorgridcolor": "white",
             "startlinecolor": "#2a3f5f"
            },
            "baxis": {
             "endlinecolor": "#2a3f5f",
             "gridcolor": "white",
             "linecolor": "white",
             "minorgridcolor": "white",
             "startlinecolor": "#2a3f5f"
            },
            "type": "carpet"
           }
          ],
          "choropleth": [
           {
            "colorbar": {
             "outlinewidth": 0,
             "ticks": ""
            },
            "type": "choropleth"
           }
          ],
          "contour": [
           {
            "colorbar": {
             "outlinewidth": 0,
             "ticks": ""
            },
            "colorscale": [
             [
              0,
              "#0d0887"
             ],
             [
              0.1111111111111111,
              "#46039f"
             ],
             [
              0.2222222222222222,
              "#7201a8"
             ],
             [
              0.3333333333333333,
              "#9c179e"
             ],
             [
              0.4444444444444444,
              "#bd3786"
             ],
             [
              0.5555555555555556,
              "#d8576b"
             ],
             [
              0.6666666666666666,
              "#ed7953"
             ],
             [
              0.7777777777777778,
              "#fb9f3a"
             ],
             [
              0.8888888888888888,
              "#fdca26"
             ],
             [
              1,
              "#f0f921"
             ]
            ],
            "type": "contour"
           }
          ],
          "contourcarpet": [
           {
            "colorbar": {
             "outlinewidth": 0,
             "ticks": ""
            },
            "type": "contourcarpet"
           }
          ],
          "heatmap": [
           {
            "colorbar": {
             "outlinewidth": 0,
             "ticks": ""
            },
            "colorscale": [
             [
              0,
              "#0d0887"
             ],
             [
              0.1111111111111111,
              "#46039f"
             ],
             [
              0.2222222222222222,
              "#7201a8"
             ],
             [
              0.3333333333333333,
              "#9c179e"
             ],
             [
              0.4444444444444444,
              "#bd3786"
             ],
             [
              0.5555555555555556,
              "#d8576b"
             ],
             [
              0.6666666666666666,
              "#ed7953"
             ],
             [
              0.7777777777777778,
              "#fb9f3a"
             ],
             [
              0.8888888888888888,
              "#fdca26"
             ],
             [
              1,
              "#f0f921"
             ]
            ],
            "type": "heatmap"
           }
          ],
          "heatmapgl": [
           {
            "colorbar": {
             "outlinewidth": 0,
             "ticks": ""
            },
            "colorscale": [
             [
              0,
              "#0d0887"
             ],
             [
              0.1111111111111111,
              "#46039f"
             ],
             [
              0.2222222222222222,
              "#7201a8"
             ],
             [
              0.3333333333333333,
              "#9c179e"
             ],
             [
              0.4444444444444444,
              "#bd3786"
             ],
             [
              0.5555555555555556,
              "#d8576b"
             ],
             [
              0.6666666666666666,
              "#ed7953"
             ],
             [
              0.7777777777777778,
              "#fb9f3a"
             ],
             [
              0.8888888888888888,
              "#fdca26"
             ],
             [
              1,
              "#f0f921"
             ]
            ],
            "type": "heatmapgl"
           }
          ],
          "histogram": [
           {
            "marker": {
             "pattern": {
              "fillmode": "overlay",
              "size": 10,
              "solidity": 0.2
             }
            },
            "type": "histogram"
           }
          ],
          "histogram2d": [
           {
            "colorbar": {
             "outlinewidth": 0,
             "ticks": ""
            },
            "colorscale": [
             [
              0,
              "#0d0887"
             ],
             [
              0.1111111111111111,
              "#46039f"
             ],
             [
              0.2222222222222222,
              "#7201a8"
             ],
             [
              0.3333333333333333,
              "#9c179e"
             ],
             [
              0.4444444444444444,
              "#bd3786"
             ],
             [
              0.5555555555555556,
              "#d8576b"
             ],
             [
              0.6666666666666666,
              "#ed7953"
             ],
             [
              0.7777777777777778,
              "#fb9f3a"
             ],
             [
              0.8888888888888888,
              "#fdca26"
             ],
             [
              1,
              "#f0f921"
             ]
            ],
            "type": "histogram2d"
           }
          ],
          "histogram2dcontour": [
           {
            "colorbar": {
             "outlinewidth": 0,
             "ticks": ""
            },
            "colorscale": [
             [
              0,
              "#0d0887"
             ],
             [
              0.1111111111111111,
              "#46039f"
             ],
             [
              0.2222222222222222,
              "#7201a8"
             ],
             [
              0.3333333333333333,
              "#9c179e"
             ],
             [
              0.4444444444444444,
              "#bd3786"
             ],
             [
              0.5555555555555556,
              "#d8576b"
             ],
             [
              0.6666666666666666,
              "#ed7953"
             ],
             [
              0.7777777777777778,
              "#fb9f3a"
             ],
             [
              0.8888888888888888,
              "#fdca26"
             ],
             [
              1,
              "#f0f921"
             ]
            ],
            "type": "histogram2dcontour"
           }
          ],
          "mesh3d": [
           {
            "colorbar": {
             "outlinewidth": 0,
             "ticks": ""
            },
            "type": "mesh3d"
           }
          ],
          "parcoords": [
           {
            "line": {
             "colorbar": {
              "outlinewidth": 0,
              "ticks": ""
             }
            },
            "type": "parcoords"
           }
          ],
          "pie": [
           {
            "automargin": true,
            "type": "pie"
           }
          ],
          "scatter": [
           {
            "fillpattern": {
             "fillmode": "overlay",
             "size": 10,
             "solidity": 0.2
            },
            "type": "scatter"
           }
          ],
          "scatter3d": [
           {
            "line": {
             "colorbar": {
              "outlinewidth": 0,
              "ticks": ""
             }
            },
            "marker": {
             "colorbar": {
              "outlinewidth": 0,
              "ticks": ""
             }
            },
            "type": "scatter3d"
           }
          ],
          "scattercarpet": [
           {
            "marker": {
             "colorbar": {
              "outlinewidth": 0,
              "ticks": ""
             }
            },
            "type": "scattercarpet"
           }
          ],
          "scattergeo": [
           {
            "marker": {
             "colorbar": {
              "outlinewidth": 0,
              "ticks": ""
             }
            },
            "type": "scattergeo"
           }
          ],
          "scattergl": [
           {
            "marker": {
             "colorbar": {
              "outlinewidth": 0,
              "ticks": ""
             }
            },
            "type": "scattergl"
           }
          ],
          "scattermapbox": [
           {
            "marker": {
             "colorbar": {
              "outlinewidth": 0,
              "ticks": ""
             }
            },
            "type": "scattermapbox"
           }
          ],
          "scatterpolar": [
           {
            "marker": {
             "colorbar": {
              "outlinewidth": 0,
              "ticks": ""
             }
            },
            "type": "scatterpolar"
           }
          ],
          "scatterpolargl": [
           {
            "marker": {
             "colorbar": {
              "outlinewidth": 0,
              "ticks": ""
             }
            },
            "type": "scatterpolargl"
           }
          ],
          "scatterternary": [
           {
            "marker": {
             "colorbar": {
              "outlinewidth": 0,
              "ticks": ""
             }
            },
            "type": "scatterternary"
           }
          ],
          "surface": [
           {
            "colorbar": {
             "outlinewidth": 0,
             "ticks": ""
            },
            "colorscale": [
             [
              0,
              "#0d0887"
             ],
             [
              0.1111111111111111,
              "#46039f"
             ],
             [
              0.2222222222222222,
              "#7201a8"
             ],
             [
              0.3333333333333333,
              "#9c179e"
             ],
             [
              0.4444444444444444,
              "#bd3786"
             ],
             [
              0.5555555555555556,
              "#d8576b"
             ],
             [
              0.6666666666666666,
              "#ed7953"
             ],
             [
              0.7777777777777778,
              "#fb9f3a"
             ],
             [
              0.8888888888888888,
              "#fdca26"
             ],
             [
              1,
              "#f0f921"
             ]
            ],
            "type": "surface"
           }
          ],
          "table": [
           {
            "cells": {
             "fill": {
              "color": "#EBF0F8"
             },
             "line": {
              "color": "white"
             }
            },
            "header": {
             "fill": {
              "color": "#C8D4E3"
             },
             "line": {
              "color": "white"
             }
            },
            "type": "table"
           }
          ]
         },
         "layout": {
          "annotationdefaults": {
           "arrowcolor": "#2a3f5f",
           "arrowhead": 0,
           "arrowwidth": 1
          },
          "autotypenumbers": "strict",
          "coloraxis": {
           "colorbar": {
            "outlinewidth": 0,
            "ticks": ""
           }
          },
          "colorscale": {
           "diverging": [
            [
             0,
             "#8e0152"
            ],
            [
             0.1,
             "#c51b7d"
            ],
            [
             0.2,
             "#de77ae"
            ],
            [
             0.3,
             "#f1b6da"
            ],
            [
             0.4,
             "#fde0ef"
            ],
            [
             0.5,
             "#f7f7f7"
            ],
            [
             0.6,
             "#e6f5d0"
            ],
            [
             0.7,
             "#b8e186"
            ],
            [
             0.8,
             "#7fbc41"
            ],
            [
             0.9,
             "#4d9221"
            ],
            [
             1,
             "#276419"
            ]
           ],
           "sequential": [
            [
             0,
             "#0d0887"
            ],
            [
             0.1111111111111111,
             "#46039f"
            ],
            [
             0.2222222222222222,
             "#7201a8"
            ],
            [
             0.3333333333333333,
             "#9c179e"
            ],
            [
             0.4444444444444444,
             "#bd3786"
            ],
            [
             0.5555555555555556,
             "#d8576b"
            ],
            [
             0.6666666666666666,
             "#ed7953"
            ],
            [
             0.7777777777777778,
             "#fb9f3a"
            ],
            [
             0.8888888888888888,
             "#fdca26"
            ],
            [
             1,
             "#f0f921"
            ]
           ],
           "sequentialminus": [
            [
             0,
             "#0d0887"
            ],
            [
             0.1111111111111111,
             "#46039f"
            ],
            [
             0.2222222222222222,
             "#7201a8"
            ],
            [
             0.3333333333333333,
             "#9c179e"
            ],
            [
             0.4444444444444444,
             "#bd3786"
            ],
            [
             0.5555555555555556,
             "#d8576b"
            ],
            [
             0.6666666666666666,
             "#ed7953"
            ],
            [
             0.7777777777777778,
             "#fb9f3a"
            ],
            [
             0.8888888888888888,
             "#fdca26"
            ],
            [
             1,
             "#f0f921"
            ]
           ]
          },
          "colorway": [
           "#636efa",
           "#EF553B",
           "#00cc96",
           "#ab63fa",
           "#FFA15A",
           "#19d3f3",
           "#FF6692",
           "#B6E880",
           "#FF97FF",
           "#FECB52"
          ],
          "font": {
           "color": "#2a3f5f"
          },
          "geo": {
           "bgcolor": "white",
           "lakecolor": "white",
           "landcolor": "#E5ECF6",
           "showlakes": true,
           "showland": true,
           "subunitcolor": "white"
          },
          "hoverlabel": {
           "align": "left"
          },
          "hovermode": "closest",
          "mapbox": {
           "style": "light"
          },
          "paper_bgcolor": "white",
          "plot_bgcolor": "#E5ECF6",
          "polar": {
           "angularaxis": {
            "gridcolor": "white",
            "linecolor": "white",
            "ticks": ""
           },
           "bgcolor": "#E5ECF6",
           "radialaxis": {
            "gridcolor": "white",
            "linecolor": "white",
            "ticks": ""
           }
          },
          "scene": {
           "xaxis": {
            "backgroundcolor": "#E5ECF6",
            "gridcolor": "white",
            "gridwidth": 2,
            "linecolor": "white",
            "showbackground": true,
            "ticks": "",
            "zerolinecolor": "white"
           },
           "yaxis": {
            "backgroundcolor": "#E5ECF6",
            "gridcolor": "white",
            "gridwidth": 2,
            "linecolor": "white",
            "showbackground": true,
            "ticks": "",
            "zerolinecolor": "white"
           },
           "zaxis": {
            "backgroundcolor": "#E5ECF6",
            "gridcolor": "white",
            "gridwidth": 2,
            "linecolor": "white",
            "showbackground": true,
            "ticks": "",
            "zerolinecolor": "white"
           }
          },
          "shapedefaults": {
           "line": {
            "color": "#2a3f5f"
           }
          },
          "ternary": {
           "aaxis": {
            "gridcolor": "white",
            "linecolor": "white",
            "ticks": ""
           },
           "baxis": {
            "gridcolor": "white",
            "linecolor": "white",
            "ticks": ""
           },
           "bgcolor": "#E5ECF6",
           "caxis": {
            "gridcolor": "white",
            "linecolor": "white",
            "ticks": ""
           }
          },
          "title": {
           "x": 0.05
          },
          "xaxis": {
           "automargin": true,
           "gridcolor": "white",
           "linecolor": "white",
           "ticks": "",
           "title": {
            "standoff": 15
           },
           "zerolinecolor": "white",
           "zerolinewidth": 2
          },
          "yaxis": {
           "automargin": true,
           "gridcolor": "white",
           "linecolor": "white",
           "ticks": "",
           "title": {
            "standoff": 15
           },
           "zerolinecolor": "white",
           "zerolinewidth": 2
          }
         }
        },
        "title": {
         "text": "Average daily vehicle count"
        },
        "xaxis": {
         "anchor": "y",
         "domain": [
          0,
          1
         ],
         "title": {
          "text": "Date"
         }
        },
        "yaxis": {
         "anchor": "x",
         "domain": [
          0,
          1
         ],
         "title": {
          "text": "Mean"
         }
        }
       }
      }
     },
     "metadata": {},
     "output_type": "display_data"
    },
    {
     "data": {
      "application/vnd.plotly.v1+json": {
       "config": {
        "plotlyServerURL": "https://plot.ly"
       },
       "data": [
        {
         "hovertemplate": "Date=%{x}<br>Traffic Situation=%{y}<extra></extra>",
         "legendgroup": "",
         "line": {
          "color": "#636efa",
          "dash": "solid"
         },
         "marker": {
          "symbol": "circle"
         },
         "mode": "lines",
         "name": "",
         "orientation": "v",
         "showlegend": false,
         "type": "scatter",
         "x": [
          1,
          2,
          3,
          4,
          5,
          6,
          7,
          8,
          9,
          10,
          11,
          12,
          13,
          14,
          15,
          16,
          17,
          18,
          19,
          20,
          21,
          22,
          23,
          24,
          25,
          26,
          27,
          28,
          29,
          30,
          31
         ],
         "xaxis": "x",
         "y": [
          2.5625,
          2.4375,
          2.1979166666666665,
          2.59375,
          2.5625,
          2.53125,
          2.5729166666666665,
          2.5208333333333335,
          2.53125,
          2.40625,
          2.5104166666666665,
          2.5104166666666665,
          2.15625,
          2.3958333333333335,
          2.4895833333333335,
          2.4375,
          2.5416666666666665,
          2.5833333333333335,
          2.4791666666666665,
          2.1875,
          2.4479166666666665,
          2.53125,
          2.4479166666666665,
          2.53125,
          2.4375,
          2.5625,
          2.2291666666666665,
          2.4791666666666665,
          2.5416666666666665,
          2.5,
          2.46875
         ],
         "yaxis": "y"
        }
       ],
       "layout": {
        "legend": {
         "tracegroupgap": 0
        },
        "margin": {
         "t": 60
        },
        "template": {
         "data": {
          "bar": [
           {
            "error_x": {
             "color": "#2a3f5f"
            },
            "error_y": {
             "color": "#2a3f5f"
            },
            "marker": {
             "line": {
              "color": "#E5ECF6",
              "width": 0.5
             },
             "pattern": {
              "fillmode": "overlay",
              "size": 10,
              "solidity": 0.2
             }
            },
            "type": "bar"
           }
          ],
          "barpolar": [
           {
            "marker": {
             "line": {
              "color": "#E5ECF6",
              "width": 0.5
             },
             "pattern": {
              "fillmode": "overlay",
              "size": 10,
              "solidity": 0.2
             }
            },
            "type": "barpolar"
           }
          ],
          "carpet": [
           {
            "aaxis": {
             "endlinecolor": "#2a3f5f",
             "gridcolor": "white",
             "linecolor": "white",
             "minorgridcolor": "white",
             "startlinecolor": "#2a3f5f"
            },
            "baxis": {
             "endlinecolor": "#2a3f5f",
             "gridcolor": "white",
             "linecolor": "white",
             "minorgridcolor": "white",
             "startlinecolor": "#2a3f5f"
            },
            "type": "carpet"
           }
          ],
          "choropleth": [
           {
            "colorbar": {
             "outlinewidth": 0,
             "ticks": ""
            },
            "type": "choropleth"
           }
          ],
          "contour": [
           {
            "colorbar": {
             "outlinewidth": 0,
             "ticks": ""
            },
            "colorscale": [
             [
              0,
              "#0d0887"
             ],
             [
              0.1111111111111111,
              "#46039f"
             ],
             [
              0.2222222222222222,
              "#7201a8"
             ],
             [
              0.3333333333333333,
              "#9c179e"
             ],
             [
              0.4444444444444444,
              "#bd3786"
             ],
             [
              0.5555555555555556,
              "#d8576b"
             ],
             [
              0.6666666666666666,
              "#ed7953"
             ],
             [
              0.7777777777777778,
              "#fb9f3a"
             ],
             [
              0.8888888888888888,
              "#fdca26"
             ],
             [
              1,
              "#f0f921"
             ]
            ],
            "type": "contour"
           }
          ],
          "contourcarpet": [
           {
            "colorbar": {
             "outlinewidth": 0,
             "ticks": ""
            },
            "type": "contourcarpet"
           }
          ],
          "heatmap": [
           {
            "colorbar": {
             "outlinewidth": 0,
             "ticks": ""
            },
            "colorscale": [
             [
              0,
              "#0d0887"
             ],
             [
              0.1111111111111111,
              "#46039f"
             ],
             [
              0.2222222222222222,
              "#7201a8"
             ],
             [
              0.3333333333333333,
              "#9c179e"
             ],
             [
              0.4444444444444444,
              "#bd3786"
             ],
             [
              0.5555555555555556,
              "#d8576b"
             ],
             [
              0.6666666666666666,
              "#ed7953"
             ],
             [
              0.7777777777777778,
              "#fb9f3a"
             ],
             [
              0.8888888888888888,
              "#fdca26"
             ],
             [
              1,
              "#f0f921"
             ]
            ],
            "type": "heatmap"
           }
          ],
          "heatmapgl": [
           {
            "colorbar": {
             "outlinewidth": 0,
             "ticks": ""
            },
            "colorscale": [
             [
              0,
              "#0d0887"
             ],
             [
              0.1111111111111111,
              "#46039f"
             ],
             [
              0.2222222222222222,
              "#7201a8"
             ],
             [
              0.3333333333333333,
              "#9c179e"
             ],
             [
              0.4444444444444444,
              "#bd3786"
             ],
             [
              0.5555555555555556,
              "#d8576b"
             ],
             [
              0.6666666666666666,
              "#ed7953"
             ],
             [
              0.7777777777777778,
              "#fb9f3a"
             ],
             [
              0.8888888888888888,
              "#fdca26"
             ],
             [
              1,
              "#f0f921"
             ]
            ],
            "type": "heatmapgl"
           }
          ],
          "histogram": [
           {
            "marker": {
             "pattern": {
              "fillmode": "overlay",
              "size": 10,
              "solidity": 0.2
             }
            },
            "type": "histogram"
           }
          ],
          "histogram2d": [
           {
            "colorbar": {
             "outlinewidth": 0,
             "ticks": ""
            },
            "colorscale": [
             [
              0,
              "#0d0887"
             ],
             [
              0.1111111111111111,
              "#46039f"
             ],
             [
              0.2222222222222222,
              "#7201a8"
             ],
             [
              0.3333333333333333,
              "#9c179e"
             ],
             [
              0.4444444444444444,
              "#bd3786"
             ],
             [
              0.5555555555555556,
              "#d8576b"
             ],
             [
              0.6666666666666666,
              "#ed7953"
             ],
             [
              0.7777777777777778,
              "#fb9f3a"
             ],
             [
              0.8888888888888888,
              "#fdca26"
             ],
             [
              1,
              "#f0f921"
             ]
            ],
            "type": "histogram2d"
           }
          ],
          "histogram2dcontour": [
           {
            "colorbar": {
             "outlinewidth": 0,
             "ticks": ""
            },
            "colorscale": [
             [
              0,
              "#0d0887"
             ],
             [
              0.1111111111111111,
              "#46039f"
             ],
             [
              0.2222222222222222,
              "#7201a8"
             ],
             [
              0.3333333333333333,
              "#9c179e"
             ],
             [
              0.4444444444444444,
              "#bd3786"
             ],
             [
              0.5555555555555556,
              "#d8576b"
             ],
             [
              0.6666666666666666,
              "#ed7953"
             ],
             [
              0.7777777777777778,
              "#fb9f3a"
             ],
             [
              0.8888888888888888,
              "#fdca26"
             ],
             [
              1,
              "#f0f921"
             ]
            ],
            "type": "histogram2dcontour"
           }
          ],
          "mesh3d": [
           {
            "colorbar": {
             "outlinewidth": 0,
             "ticks": ""
            },
            "type": "mesh3d"
           }
          ],
          "parcoords": [
           {
            "line": {
             "colorbar": {
              "outlinewidth": 0,
              "ticks": ""
             }
            },
            "type": "parcoords"
           }
          ],
          "pie": [
           {
            "automargin": true,
            "type": "pie"
           }
          ],
          "scatter": [
           {
            "fillpattern": {
             "fillmode": "overlay",
             "size": 10,
             "solidity": 0.2
            },
            "type": "scatter"
           }
          ],
          "scatter3d": [
           {
            "line": {
             "colorbar": {
              "outlinewidth": 0,
              "ticks": ""
             }
            },
            "marker": {
             "colorbar": {
              "outlinewidth": 0,
              "ticks": ""
             }
            },
            "type": "scatter3d"
           }
          ],
          "scattercarpet": [
           {
            "marker": {
             "colorbar": {
              "outlinewidth": 0,
              "ticks": ""
             }
            },
            "type": "scattercarpet"
           }
          ],
          "scattergeo": [
           {
            "marker": {
             "colorbar": {
              "outlinewidth": 0,
              "ticks": ""
             }
            },
            "type": "scattergeo"
           }
          ],
          "scattergl": [
           {
            "marker": {
             "colorbar": {
              "outlinewidth": 0,
              "ticks": ""
             }
            },
            "type": "scattergl"
           }
          ],
          "scattermapbox": [
           {
            "marker": {
             "colorbar": {
              "outlinewidth": 0,
              "ticks": ""
             }
            },
            "type": "scattermapbox"
           }
          ],
          "scatterpolar": [
           {
            "marker": {
             "colorbar": {
              "outlinewidth": 0,
              "ticks": ""
             }
            },
            "type": "scatterpolar"
           }
          ],
          "scatterpolargl": [
           {
            "marker": {
             "colorbar": {
              "outlinewidth": 0,
              "ticks": ""
             }
            },
            "type": "scatterpolargl"
           }
          ],
          "scatterternary": [
           {
            "marker": {
             "colorbar": {
              "outlinewidth": 0,
              "ticks": ""
             }
            },
            "type": "scatterternary"
           }
          ],
          "surface": [
           {
            "colorbar": {
             "outlinewidth": 0,
             "ticks": ""
            },
            "colorscale": [
             [
              0,
              "#0d0887"
             ],
             [
              0.1111111111111111,
              "#46039f"
             ],
             [
              0.2222222222222222,
              "#7201a8"
             ],
             [
              0.3333333333333333,
              "#9c179e"
             ],
             [
              0.4444444444444444,
              "#bd3786"
             ],
             [
              0.5555555555555556,
              "#d8576b"
             ],
             [
              0.6666666666666666,
              "#ed7953"
             ],
             [
              0.7777777777777778,
              "#fb9f3a"
             ],
             [
              0.8888888888888888,
              "#fdca26"
             ],
             [
              1,
              "#f0f921"
             ]
            ],
            "type": "surface"
           }
          ],
          "table": [
           {
            "cells": {
             "fill": {
              "color": "#EBF0F8"
             },
             "line": {
              "color": "white"
             }
            },
            "header": {
             "fill": {
              "color": "#C8D4E3"
             },
             "line": {
              "color": "white"
             }
            },
            "type": "table"
           }
          ]
         },
         "layout": {
          "annotationdefaults": {
           "arrowcolor": "#2a3f5f",
           "arrowhead": 0,
           "arrowwidth": 1
          },
          "autotypenumbers": "strict",
          "coloraxis": {
           "colorbar": {
            "outlinewidth": 0,
            "ticks": ""
           }
          },
          "colorscale": {
           "diverging": [
            [
             0,
             "#8e0152"
            ],
            [
             0.1,
             "#c51b7d"
            ],
            [
             0.2,
             "#de77ae"
            ],
            [
             0.3,
             "#f1b6da"
            ],
            [
             0.4,
             "#fde0ef"
            ],
            [
             0.5,
             "#f7f7f7"
            ],
            [
             0.6,
             "#e6f5d0"
            ],
            [
             0.7,
             "#b8e186"
            ],
            [
             0.8,
             "#7fbc41"
            ],
            [
             0.9,
             "#4d9221"
            ],
            [
             1,
             "#276419"
            ]
           ],
           "sequential": [
            [
             0,
             "#0d0887"
            ],
            [
             0.1111111111111111,
             "#46039f"
            ],
            [
             0.2222222222222222,
             "#7201a8"
            ],
            [
             0.3333333333333333,
             "#9c179e"
            ],
            [
             0.4444444444444444,
             "#bd3786"
            ],
            [
             0.5555555555555556,
             "#d8576b"
            ],
            [
             0.6666666666666666,
             "#ed7953"
            ],
            [
             0.7777777777777778,
             "#fb9f3a"
            ],
            [
             0.8888888888888888,
             "#fdca26"
            ],
            [
             1,
             "#f0f921"
            ]
           ],
           "sequentialminus": [
            [
             0,
             "#0d0887"
            ],
            [
             0.1111111111111111,
             "#46039f"
            ],
            [
             0.2222222222222222,
             "#7201a8"
            ],
            [
             0.3333333333333333,
             "#9c179e"
            ],
            [
             0.4444444444444444,
             "#bd3786"
            ],
            [
             0.5555555555555556,
             "#d8576b"
            ],
            [
             0.6666666666666666,
             "#ed7953"
            ],
            [
             0.7777777777777778,
             "#fb9f3a"
            ],
            [
             0.8888888888888888,
             "#fdca26"
            ],
            [
             1,
             "#f0f921"
            ]
           ]
          },
          "colorway": [
           "#636efa",
           "#EF553B",
           "#00cc96",
           "#ab63fa",
           "#FFA15A",
           "#19d3f3",
           "#FF6692",
           "#B6E880",
           "#FF97FF",
           "#FECB52"
          ],
          "font": {
           "color": "#2a3f5f"
          },
          "geo": {
           "bgcolor": "white",
           "lakecolor": "white",
           "landcolor": "#E5ECF6",
           "showlakes": true,
           "showland": true,
           "subunitcolor": "white"
          },
          "hoverlabel": {
           "align": "left"
          },
          "hovermode": "closest",
          "mapbox": {
           "style": "light"
          },
          "paper_bgcolor": "white",
          "plot_bgcolor": "#E5ECF6",
          "polar": {
           "angularaxis": {
            "gridcolor": "white",
            "linecolor": "white",
            "ticks": ""
           },
           "bgcolor": "#E5ECF6",
           "radialaxis": {
            "gridcolor": "white",
            "linecolor": "white",
            "ticks": ""
           }
          },
          "scene": {
           "xaxis": {
            "backgroundcolor": "#E5ECF6",
            "gridcolor": "white",
            "gridwidth": 2,
            "linecolor": "white",
            "showbackground": true,
            "ticks": "",
            "zerolinecolor": "white"
           },
           "yaxis": {
            "backgroundcolor": "#E5ECF6",
            "gridcolor": "white",
            "gridwidth": 2,
            "linecolor": "white",
            "showbackground": true,
            "ticks": "",
            "zerolinecolor": "white"
           },
           "zaxis": {
            "backgroundcolor": "#E5ECF6",
            "gridcolor": "white",
            "gridwidth": 2,
            "linecolor": "white",
            "showbackground": true,
            "ticks": "",
            "zerolinecolor": "white"
           }
          },
          "shapedefaults": {
           "line": {
            "color": "#2a3f5f"
           }
          },
          "ternary": {
           "aaxis": {
            "gridcolor": "white",
            "linecolor": "white",
            "ticks": ""
           },
           "baxis": {
            "gridcolor": "white",
            "linecolor": "white",
            "ticks": ""
           },
           "bgcolor": "#E5ECF6",
           "caxis": {
            "gridcolor": "white",
            "linecolor": "white",
            "ticks": ""
           }
          },
          "title": {
           "x": 0.05
          },
          "xaxis": {
           "automargin": true,
           "gridcolor": "white",
           "linecolor": "white",
           "ticks": "",
           "title": {
            "standoff": 15
           },
           "zerolinecolor": "white",
           "zerolinewidth": 2
          },
          "yaxis": {
           "automargin": true,
           "gridcolor": "white",
           "linecolor": "white",
           "ticks": "",
           "title": {
            "standoff": 15
           },
           "zerolinecolor": "white",
           "zerolinewidth": 2
          }
         }
        },
        "xaxis": {
         "anchor": "y",
         "domain": [
          0,
          1
         ],
         "title": {
          "text": "Date"
         }
        },
        "yaxis": {
         "anchor": "x",
         "domain": [
          0,
          1
         ],
         "title": {
          "text": "Traffic Situation"
         }
        }
       }
      }
     },
     "metadata": {},
     "output_type": "display_data"
    }
   ],
   "source": [
    "vehicle_df = df.copy()\n",
    "\n",
    "\n",
    "daily_average = vehicle_df.groupby('Date').mean().reset_index()\n",
    "vehicle_df[\"Traffic Situation\"] = vehicle_df['Traffic Situation'].map(traffic_conversion_v2)\n",
    "columns_to_average = ['CarCount', 'BikeCount', 'BusCount', 'TruckCount', 'Total','Traffic Situation']\n",
    "daily_average_values = vehicle_df.groupby('Date')[columns_to_average].mean().reset_index()\n",
    "\n",
    "fig = px.bar(daily_average_values, x='Date', y=['CarCount', 'BikeCount', 'BusCount', 'TruckCount'],\n",
    "              title='Average daily vehicle count',\n",
    "              labels={'value': 'Mean', 'Date': 'Date', 'variable': 'Vehicule Type'},\n",
    "              )\n",
    "\n",
    "\n",
    "fig.show()\n",
    "\n",
    "fig2 = px.line(daily_average_values, x='Date', y=\"Traffic Situation\")\n",
    "fig2.show()"
   ]
  },
  {
   "cell_type": "markdown",
   "metadata": {},
   "source": [
    "##### Focus on Trucks "
   ]
  },
  {
   "cell_type": "code",
   "execution_count": 80,
   "metadata": {},
   "outputs": [
    {
     "data": {
      "application/vnd.plotly.v1+json": {
       "config": {
        "plotlyServerURL": "https://plot.ly"
       },
       "data": [
        {
         "alignmentgroup": "True",
         "hovertemplate": "Time=%{x}<br>TruckCount=%{y}<extra></extra>",
         "legendgroup": "",
         "marker": {
          "color": "#636efa",
          "pattern": {
           "shape": ""
          }
         },
         "name": "",
         "offsetgroup": "",
         "orientation": "v",
         "showlegend": false,
         "textposition": "auto",
         "type": "bar",
         "x": [
          "2023-12-19T00:00:00",
          "2023-12-19T00:15:00",
          "2023-12-19T00:30:00",
          "2023-12-19T00:45:00",
          "2023-12-19T01:00:00",
          "2023-12-19T01:15:00",
          "2023-12-19T01:30:00",
          "2023-12-19T01:45:00",
          "2023-12-19T02:00:00",
          "2023-12-19T02:15:00",
          "2023-12-19T02:30:00",
          "2023-12-19T02:45:00",
          "2023-12-19T03:00:00",
          "2023-12-19T03:15:00",
          "2023-12-19T03:30:00",
          "2023-12-19T03:45:00",
          "2023-12-19T04:00:00",
          "2023-12-19T04:15:00",
          "2023-12-19T04:30:00",
          "2023-12-19T04:45:00",
          "2023-12-19T05:00:00",
          "2023-12-19T05:15:00",
          "2023-12-19T05:30:00",
          "2023-12-19T05:45:00",
          "2023-12-19T06:00:00",
          "2023-12-19T06:15:00",
          "2023-12-19T06:30:00",
          "2023-12-19T06:45:00",
          "2023-12-19T07:00:00",
          "2023-12-19T07:15:00",
          "2023-12-19T07:30:00",
          "2023-12-19T07:45:00",
          "2023-12-19T08:00:00",
          "2023-12-19T08:15:00",
          "2023-12-19T08:30:00",
          "2023-12-19T08:45:00",
          "2023-12-19T09:00:00",
          "2023-12-19T09:15:00",
          "2023-12-19T09:30:00",
          "2023-12-19T09:45:00",
          "2023-12-19T10:00:00",
          "2023-12-19T10:15:00",
          "2023-12-19T10:30:00",
          "2023-12-19T10:45:00",
          "2023-12-19T11:00:00",
          "2023-12-19T11:15:00",
          "2023-12-19T11:30:00",
          "2023-12-19T11:45:00",
          "2023-12-19T12:00:00",
          "2023-12-19T12:15:00",
          "2023-12-19T12:30:00",
          "2023-12-19T12:45:00",
          "2023-12-19T13:00:00",
          "2023-12-19T13:15:00",
          "2023-12-19T13:30:00",
          "2023-12-19T13:45:00",
          "2023-12-19T14:00:00",
          "2023-12-19T14:15:00",
          "2023-12-19T14:30:00",
          "2023-12-19T14:45:00",
          "2023-12-19T15:00:00",
          "2023-12-19T15:15:00",
          "2023-12-19T15:30:00",
          "2023-12-19T15:45:00",
          "2023-12-19T16:00:00",
          "2023-12-19T16:15:00",
          "2023-12-19T16:30:00",
          "2023-12-19T16:45:00",
          "2023-12-19T17:00:00",
          "2023-12-19T17:15:00",
          "2023-12-19T17:30:00",
          "2023-12-19T17:45:00",
          "2023-12-19T18:00:00",
          "2023-12-19T18:15:00",
          "2023-12-19T18:30:00",
          "2023-12-19T18:45:00",
          "2023-12-19T19:00:00",
          "2023-12-19T19:15:00",
          "2023-12-19T19:30:00",
          "2023-12-19T19:45:00",
          "2023-12-19T20:00:00",
          "2023-12-19T20:15:00",
          "2023-12-19T20:30:00",
          "2023-12-19T20:45:00",
          "2023-12-19T21:00:00",
          "2023-12-19T21:15:00",
          "2023-12-19T21:30:00",
          "2023-12-19T21:45:00",
          "2023-12-19T22:00:00",
          "2023-12-19T22:15:00",
          "2023-12-19T22:30:00",
          "2023-12-19T22:45:00",
          "2023-12-19T23:00:00",
          "2023-12-19T23:15:00",
          "2023-12-19T23:30:00",
          "2023-12-19T23:45:00"
         ],
         "xaxis": "x",
         "y": [
          25.93548387096774,
          24.096774193548388,
          21.677419354838708,
          23.129032258064516,
          20.870967741935484,
          26,
          22.258064516129032,
          22.032258064516128,
          26.258064516129032,
          24.193548387096776,
          22.29032258064516,
          22.806451612903224,
          24.806451612903224,
          24.032258064516128,
          26.451612903225808,
          25.548387096774192,
          25.741935483870968,
          10.225806451612904,
          11.129032258064516,
          13.35483870967742,
          11.258064516129032,
          11.290322580645162,
          12.193548387096774,
          12.03225806451613,
          3.903225806451613,
          3.2903225806451615,
          4,
          3.4193548387096775,
          3.4838709677419355,
          3.5483870967741935,
          3.838709677419355,
          3.6129032258064515,
          4.032258064516129,
          3.2903225806451615,
          3.5161290322580645,
          3.6129032258064515,
          3.3548387096774195,
          16.967741935483872,
          16.225806451612904,
          15.419354838709678,
          15.258064516129032,
          17.129032258064516,
          16.29032258064516,
          15.03225806451613,
          21.93548387096774,
          21.838709677419356,
          22.096774193548388,
          20.838709677419356,
          20.838709677419356,
          22.838709677419356,
          21.516129032258064,
          22.322580645161292,
          21.838709677419356,
          11.838709677419354,
          11.516129032258064,
          12.161290322580646,
          10.67741935483871,
          11.193548387096774,
          11.935483870967742,
          10.064516129032258,
          10.67741935483871,
          9.67741935483871,
          10.838709677419354,
          10.838709677419354,
          6.741935483870968,
          6.064516129032258,
          6.580645161290323,
          6.67741935483871,
          6.548387096774194,
          6.870967741935484,
          6.32258064516129,
          6.645161290322581,
          6.870967741935484,
          6.354838709677419,
          6.580645161290323,
          18.70967741935484,
          17.580645161290324,
          17.93548387096774,
          15.483870967741936,
          19.548387096774192,
          20.387096774193548,
          14.67741935483871,
          18.419354838709676,
          16.096774193548388,
          18.258064516129032,
          16.741935483870968,
          20.129032258064516,
          21.161290322580644,
          23.29032258064516,
          26.677419354838708,
          23.774193548387096,
          26.35483870967742,
          26.129032258064516,
          21.870967741935484,
          25.677419354838708,
          23.70967741935484
         ],
         "yaxis": "y"
        }
       ],
       "layout": {
        "barmode": "relative",
        "legend": {
         "tracegroupgap": 0
        },
        "template": {
         "data": {
          "bar": [
           {
            "error_x": {
             "color": "#2a3f5f"
            },
            "error_y": {
             "color": "#2a3f5f"
            },
            "marker": {
             "line": {
              "color": "#E5ECF6",
              "width": 0.5
             },
             "pattern": {
              "fillmode": "overlay",
              "size": 10,
              "solidity": 0.2
             }
            },
            "type": "bar"
           }
          ],
          "barpolar": [
           {
            "marker": {
             "line": {
              "color": "#E5ECF6",
              "width": 0.5
             },
             "pattern": {
              "fillmode": "overlay",
              "size": 10,
              "solidity": 0.2
             }
            },
            "type": "barpolar"
           }
          ],
          "carpet": [
           {
            "aaxis": {
             "endlinecolor": "#2a3f5f",
             "gridcolor": "white",
             "linecolor": "white",
             "minorgridcolor": "white",
             "startlinecolor": "#2a3f5f"
            },
            "baxis": {
             "endlinecolor": "#2a3f5f",
             "gridcolor": "white",
             "linecolor": "white",
             "minorgridcolor": "white",
             "startlinecolor": "#2a3f5f"
            },
            "type": "carpet"
           }
          ],
          "choropleth": [
           {
            "colorbar": {
             "outlinewidth": 0,
             "ticks": ""
            },
            "type": "choropleth"
           }
          ],
          "contour": [
           {
            "colorbar": {
             "outlinewidth": 0,
             "ticks": ""
            },
            "colorscale": [
             [
              0,
              "#0d0887"
             ],
             [
              0.1111111111111111,
              "#46039f"
             ],
             [
              0.2222222222222222,
              "#7201a8"
             ],
             [
              0.3333333333333333,
              "#9c179e"
             ],
             [
              0.4444444444444444,
              "#bd3786"
             ],
             [
              0.5555555555555556,
              "#d8576b"
             ],
             [
              0.6666666666666666,
              "#ed7953"
             ],
             [
              0.7777777777777778,
              "#fb9f3a"
             ],
             [
              0.8888888888888888,
              "#fdca26"
             ],
             [
              1,
              "#f0f921"
             ]
            ],
            "type": "contour"
           }
          ],
          "contourcarpet": [
           {
            "colorbar": {
             "outlinewidth": 0,
             "ticks": ""
            },
            "type": "contourcarpet"
           }
          ],
          "heatmap": [
           {
            "colorbar": {
             "outlinewidth": 0,
             "ticks": ""
            },
            "colorscale": [
             [
              0,
              "#0d0887"
             ],
             [
              0.1111111111111111,
              "#46039f"
             ],
             [
              0.2222222222222222,
              "#7201a8"
             ],
             [
              0.3333333333333333,
              "#9c179e"
             ],
             [
              0.4444444444444444,
              "#bd3786"
             ],
             [
              0.5555555555555556,
              "#d8576b"
             ],
             [
              0.6666666666666666,
              "#ed7953"
             ],
             [
              0.7777777777777778,
              "#fb9f3a"
             ],
             [
              0.8888888888888888,
              "#fdca26"
             ],
             [
              1,
              "#f0f921"
             ]
            ],
            "type": "heatmap"
           }
          ],
          "heatmapgl": [
           {
            "colorbar": {
             "outlinewidth": 0,
             "ticks": ""
            },
            "colorscale": [
             [
              0,
              "#0d0887"
             ],
             [
              0.1111111111111111,
              "#46039f"
             ],
             [
              0.2222222222222222,
              "#7201a8"
             ],
             [
              0.3333333333333333,
              "#9c179e"
             ],
             [
              0.4444444444444444,
              "#bd3786"
             ],
             [
              0.5555555555555556,
              "#d8576b"
             ],
             [
              0.6666666666666666,
              "#ed7953"
             ],
             [
              0.7777777777777778,
              "#fb9f3a"
             ],
             [
              0.8888888888888888,
              "#fdca26"
             ],
             [
              1,
              "#f0f921"
             ]
            ],
            "type": "heatmapgl"
           }
          ],
          "histogram": [
           {
            "marker": {
             "pattern": {
              "fillmode": "overlay",
              "size": 10,
              "solidity": 0.2
             }
            },
            "type": "histogram"
           }
          ],
          "histogram2d": [
           {
            "colorbar": {
             "outlinewidth": 0,
             "ticks": ""
            },
            "colorscale": [
             [
              0,
              "#0d0887"
             ],
             [
              0.1111111111111111,
              "#46039f"
             ],
             [
              0.2222222222222222,
              "#7201a8"
             ],
             [
              0.3333333333333333,
              "#9c179e"
             ],
             [
              0.4444444444444444,
              "#bd3786"
             ],
             [
              0.5555555555555556,
              "#d8576b"
             ],
             [
              0.6666666666666666,
              "#ed7953"
             ],
             [
              0.7777777777777778,
              "#fb9f3a"
             ],
             [
              0.8888888888888888,
              "#fdca26"
             ],
             [
              1,
              "#f0f921"
             ]
            ],
            "type": "histogram2d"
           }
          ],
          "histogram2dcontour": [
           {
            "colorbar": {
             "outlinewidth": 0,
             "ticks": ""
            },
            "colorscale": [
             [
              0,
              "#0d0887"
             ],
             [
              0.1111111111111111,
              "#46039f"
             ],
             [
              0.2222222222222222,
              "#7201a8"
             ],
             [
              0.3333333333333333,
              "#9c179e"
             ],
             [
              0.4444444444444444,
              "#bd3786"
             ],
             [
              0.5555555555555556,
              "#d8576b"
             ],
             [
              0.6666666666666666,
              "#ed7953"
             ],
             [
              0.7777777777777778,
              "#fb9f3a"
             ],
             [
              0.8888888888888888,
              "#fdca26"
             ],
             [
              1,
              "#f0f921"
             ]
            ],
            "type": "histogram2dcontour"
           }
          ],
          "mesh3d": [
           {
            "colorbar": {
             "outlinewidth": 0,
             "ticks": ""
            },
            "type": "mesh3d"
           }
          ],
          "parcoords": [
           {
            "line": {
             "colorbar": {
              "outlinewidth": 0,
              "ticks": ""
             }
            },
            "type": "parcoords"
           }
          ],
          "pie": [
           {
            "automargin": true,
            "type": "pie"
           }
          ],
          "scatter": [
           {
            "fillpattern": {
             "fillmode": "overlay",
             "size": 10,
             "solidity": 0.2
            },
            "type": "scatter"
           }
          ],
          "scatter3d": [
           {
            "line": {
             "colorbar": {
              "outlinewidth": 0,
              "ticks": ""
             }
            },
            "marker": {
             "colorbar": {
              "outlinewidth": 0,
              "ticks": ""
             }
            },
            "type": "scatter3d"
           }
          ],
          "scattercarpet": [
           {
            "marker": {
             "colorbar": {
              "outlinewidth": 0,
              "ticks": ""
             }
            },
            "type": "scattercarpet"
           }
          ],
          "scattergeo": [
           {
            "marker": {
             "colorbar": {
              "outlinewidth": 0,
              "ticks": ""
             }
            },
            "type": "scattergeo"
           }
          ],
          "scattergl": [
           {
            "marker": {
             "colorbar": {
              "outlinewidth": 0,
              "ticks": ""
             }
            },
            "type": "scattergl"
           }
          ],
          "scattermapbox": [
           {
            "marker": {
             "colorbar": {
              "outlinewidth": 0,
              "ticks": ""
             }
            },
            "type": "scattermapbox"
           }
          ],
          "scatterpolar": [
           {
            "marker": {
             "colorbar": {
              "outlinewidth": 0,
              "ticks": ""
             }
            },
            "type": "scatterpolar"
           }
          ],
          "scatterpolargl": [
           {
            "marker": {
             "colorbar": {
              "outlinewidth": 0,
              "ticks": ""
             }
            },
            "type": "scatterpolargl"
           }
          ],
          "scatterternary": [
           {
            "marker": {
             "colorbar": {
              "outlinewidth": 0,
              "ticks": ""
             }
            },
            "type": "scatterternary"
           }
          ],
          "surface": [
           {
            "colorbar": {
             "outlinewidth": 0,
             "ticks": ""
            },
            "colorscale": [
             [
              0,
              "#0d0887"
             ],
             [
              0.1111111111111111,
              "#46039f"
             ],
             [
              0.2222222222222222,
              "#7201a8"
             ],
             [
              0.3333333333333333,
              "#9c179e"
             ],
             [
              0.4444444444444444,
              "#bd3786"
             ],
             [
              0.5555555555555556,
              "#d8576b"
             ],
             [
              0.6666666666666666,
              "#ed7953"
             ],
             [
              0.7777777777777778,
              "#fb9f3a"
             ],
             [
              0.8888888888888888,
              "#fdca26"
             ],
             [
              1,
              "#f0f921"
             ]
            ],
            "type": "surface"
           }
          ],
          "table": [
           {
            "cells": {
             "fill": {
              "color": "#EBF0F8"
             },
             "line": {
              "color": "white"
             }
            },
            "header": {
             "fill": {
              "color": "#C8D4E3"
             },
             "line": {
              "color": "white"
             }
            },
            "type": "table"
           }
          ]
         },
         "layout": {
          "annotationdefaults": {
           "arrowcolor": "#2a3f5f",
           "arrowhead": 0,
           "arrowwidth": 1
          },
          "autotypenumbers": "strict",
          "coloraxis": {
           "colorbar": {
            "outlinewidth": 0,
            "ticks": ""
           }
          },
          "colorscale": {
           "diverging": [
            [
             0,
             "#8e0152"
            ],
            [
             0.1,
             "#c51b7d"
            ],
            [
             0.2,
             "#de77ae"
            ],
            [
             0.3,
             "#f1b6da"
            ],
            [
             0.4,
             "#fde0ef"
            ],
            [
             0.5,
             "#f7f7f7"
            ],
            [
             0.6,
             "#e6f5d0"
            ],
            [
             0.7,
             "#b8e186"
            ],
            [
             0.8,
             "#7fbc41"
            ],
            [
             0.9,
             "#4d9221"
            ],
            [
             1,
             "#276419"
            ]
           ],
           "sequential": [
            [
             0,
             "#0d0887"
            ],
            [
             0.1111111111111111,
             "#46039f"
            ],
            [
             0.2222222222222222,
             "#7201a8"
            ],
            [
             0.3333333333333333,
             "#9c179e"
            ],
            [
             0.4444444444444444,
             "#bd3786"
            ],
            [
             0.5555555555555556,
             "#d8576b"
            ],
            [
             0.6666666666666666,
             "#ed7953"
            ],
            [
             0.7777777777777778,
             "#fb9f3a"
            ],
            [
             0.8888888888888888,
             "#fdca26"
            ],
            [
             1,
             "#f0f921"
            ]
           ],
           "sequentialminus": [
            [
             0,
             "#0d0887"
            ],
            [
             0.1111111111111111,
             "#46039f"
            ],
            [
             0.2222222222222222,
             "#7201a8"
            ],
            [
             0.3333333333333333,
             "#9c179e"
            ],
            [
             0.4444444444444444,
             "#bd3786"
            ],
            [
             0.5555555555555556,
             "#d8576b"
            ],
            [
             0.6666666666666666,
             "#ed7953"
            ],
            [
             0.7777777777777778,
             "#fb9f3a"
            ],
            [
             0.8888888888888888,
             "#fdca26"
            ],
            [
             1,
             "#f0f921"
            ]
           ]
          },
          "colorway": [
           "#636efa",
           "#EF553B",
           "#00cc96",
           "#ab63fa",
           "#FFA15A",
           "#19d3f3",
           "#FF6692",
           "#B6E880",
           "#FF97FF",
           "#FECB52"
          ],
          "font": {
           "color": "#2a3f5f"
          },
          "geo": {
           "bgcolor": "white",
           "lakecolor": "white",
           "landcolor": "#E5ECF6",
           "showlakes": true,
           "showland": true,
           "subunitcolor": "white"
          },
          "hoverlabel": {
           "align": "left"
          },
          "hovermode": "closest",
          "mapbox": {
           "style": "light"
          },
          "paper_bgcolor": "white",
          "plot_bgcolor": "#E5ECF6",
          "polar": {
           "angularaxis": {
            "gridcolor": "white",
            "linecolor": "white",
            "ticks": ""
           },
           "bgcolor": "#E5ECF6",
           "radialaxis": {
            "gridcolor": "white",
            "linecolor": "white",
            "ticks": ""
           }
          },
          "scene": {
           "xaxis": {
            "backgroundcolor": "#E5ECF6",
            "gridcolor": "white",
            "gridwidth": 2,
            "linecolor": "white",
            "showbackground": true,
            "ticks": "",
            "zerolinecolor": "white"
           },
           "yaxis": {
            "backgroundcolor": "#E5ECF6",
            "gridcolor": "white",
            "gridwidth": 2,
            "linecolor": "white",
            "showbackground": true,
            "ticks": "",
            "zerolinecolor": "white"
           },
           "zaxis": {
            "backgroundcolor": "#E5ECF6",
            "gridcolor": "white",
            "gridwidth": 2,
            "linecolor": "white",
            "showbackground": true,
            "ticks": "",
            "zerolinecolor": "white"
           }
          },
          "shapedefaults": {
           "line": {
            "color": "#2a3f5f"
           }
          },
          "ternary": {
           "aaxis": {
            "gridcolor": "white",
            "linecolor": "white",
            "ticks": ""
           },
           "baxis": {
            "gridcolor": "white",
            "linecolor": "white",
            "ticks": ""
           },
           "bgcolor": "#E5ECF6",
           "caxis": {
            "gridcolor": "white",
            "linecolor": "white",
            "ticks": ""
           }
          },
          "title": {
           "x": 0.05
          },
          "xaxis": {
           "automargin": true,
           "gridcolor": "white",
           "linecolor": "white",
           "ticks": "",
           "title": {
            "standoff": 15
           },
           "zerolinecolor": "white",
           "zerolinewidth": 2
          },
          "yaxis": {
           "automargin": true,
           "gridcolor": "white",
           "linecolor": "white",
           "ticks": "",
           "title": {
            "standoff": 15
           },
           "zerolinecolor": "white",
           "zerolinewidth": 2
          }
         }
        },
        "title": {
         "text": "Trucks means per hour"
        },
        "xaxis": {
         "anchor": "y",
         "domain": [
          0,
          1
         ],
         "title": {
          "text": "Time"
         }
        },
        "yaxis": {
         "anchor": "x",
         "domain": [
          0,
          1
         ],
         "title": {
          "text": "TruckCount"
         }
        }
       }
      }
     },
     "metadata": {},
     "output_type": "display_data"
    }
   ],
   "source": [
    "trucks_df = df.copy()\n",
    "trucks_df['Time'] = pd.to_datetime(trucks_df['Time'])\n",
    "trucks_df = trucks_df.groupby('Time')['TruckCount'].mean().reset_index()\n",
    "\n",
    "fig = px.bar(trucks_df, x='Time', y='TruckCount', title='Trucks means per hour')\n",
    "fig.show()"
   ]
  },
  {
   "cell_type": "markdown",
   "metadata": {},
   "source": [
    "## Some correlations with the output"
   ]
  },
  {
   "cell_type": "code",
   "execution_count": 81,
   "metadata": {},
   "outputs": [
    {
     "name": "stdout",
     "output_type": "stream",
     "text": [
      "La corrélation entre le traffic et CarCount  avec la méthode kendall est de 0.5539955223221965 \n",
      "La corrélation entre le traffic et CarCount  avec la méthode pearson est de 0.7462804547623046 \n",
      "La corrélation entre le traffic et CarCount  avec la méthode spearman est de 0.6911675414283132 \n",
      "La corrélation entre le traffic et BikeCount  avec la méthode kendall est de 0.4496208394590606 \n",
      "La corrélation entre le traffic et BikeCount  avec la méthode pearson est de 0.6092848399666767 \n",
      "La corrélation entre le traffic et BikeCount  avec la méthode spearman est de 0.5609309081145483 \n",
      "La corrélation entre le traffic et BusCount  avec la méthode kendall est de 0.5555610761332743 \n",
      "La corrélation entre le traffic et BusCount  avec la méthode pearson est de 0.7339146242435511 \n",
      "La corrélation entre le traffic et BusCount  avec la méthode spearman est de 0.6887718292772953 \n",
      "La corrélation entre le traffic et TruckCount  avec la méthode kendall est de -0.20817539711711971 \n",
      "La corrélation entre le traffic et TruckCount  avec la méthode pearson est de -0.32730875454080527 \n",
      "La corrélation entre le traffic et TruckCount  avec la méthode spearman est de -0.29670407326696446 \n",
      "La corrélation entre le traffic et Total  avec la méthode kendall est de 0.6430143694543629 \n",
      "La corrélation entre le traffic et Total  avec la méthode pearson est de 0.8157472713449615 \n",
      "La corrélation entre le traffic et Total  avec la méthode spearman est de 0.7769694636000531 \n",
      "=====================\n",
      "The correlation between traffic and Time  using the  kendall method is -0.2936143006829269 \n",
      "Method : pearson impossible\n",
      "The correlation between traffic and Time  using the  spearman method is -0.39147422693725825 \n",
      "The correlation between traffic and Date  using the  kendall method is 0.006761225510172983 \n",
      "Method : pearson impossible\n",
      "The correlation between traffic and Date  using the  spearman method is 0.008762254158185705 \n",
      "The correlation between traffic and Day of the week  using the  kendall method is 0.02419108356080775 \n",
      "Method : pearson impossible\n",
      "The correlation between traffic and Day of the week  using the  spearman method is 0.029536756446568994 \n"
     ]
    },
    {
     "name": "stderr",
     "output_type": "stream",
     "text": [
      "c:\\Users\\mathy\\AppData\\Local\\Programs\\Python\\Python310\\lib\\site-packages\\scipy\\stats\\_stats_py.py:110: RuntimeWarning:\n",
      "\n",
      "The input array could not be properly checked for nan values. nan values will be ignored.\n",
      "\n"
     ]
    }
   ],
   "source": [
    "corr_df = df.copy()\n",
    "corr_df[\"Traffic Situation\"] = corr_df['Traffic Situation'].map(traffic_conversion_v2)\n",
    "methods = [\"kendall\",\"pearson\",\"spearman\"]\n",
    "for column in corr_df.columns:\n",
    "    for method in methods:\n",
    "        if column not in [\"Unnamed: 0\",\"Time\",\"Traffic Situation\",\"Date\",\"Day of the week\"]:\n",
    "            new_df =corr_df[[column,\"Traffic Situation\"]]\n",
    "            value = corr_df[\"Traffic Situation\"].corr(corr_df[column],method=method)\n",
    "            print(f\"La corrélation entre le traffic et {column}  avec la méthode {method} est de {value} \")\n",
    "            \n",
    "        \n",
    "   \n",
    "print(\"=====================\")     \n",
    "corr_df_2 = df.copy()\n",
    "corr_df_2['Day of the week'] = pd.Categorical(df['Day of the week'], ordered=True)\n",
    "corr_df_2['Traffic Situation'] = pd.Categorical(df['Traffic Situation'], ordered=True)\n",
    "corr_df_2['Date'] = pd.Categorical(corr_df_2['Date'],ordered=True)\n",
    "corr_df_2['Time'] = pd.Categorical(corr_df_2['Time'],ordered=True)\n",
    "columns = [\"Time\",\"Date\",\"Day of the week\"]\n",
    "for column in columns:\n",
    "    for method in methods:\n",
    "        try:\n",
    "            value = corr_df_2[\"Traffic Situation\"].corr(corr_df_2[column],method=method)\n",
    "            print(f\"The correlation between traffic and {column}  using the  {method} method is {value} \")\n",
    "        except:\n",
    "            print(f\"Method : {method} impossible\")\n"
   ]
  },
  {
   "cell_type": "markdown",
   "metadata": {},
   "source": [
    "## Correlation with input (with eachother)"
   ]
  },
  {
   "cell_type": "code",
   "execution_count": 82,
   "metadata": {},
   "outputs": [
    {
     "data": {
      "application/vnd.plotly.v1+json": {
       "config": {
        "plotlyServerURL": "https://plot.ly"
       },
       "data": [
        {
         "coloraxis": "coloraxis",
         "hovertemplate": "Inputs: %{x}<br>Inputs: %{y}<br>Correlation: %{z}<extra></extra>",
         "name": "0",
         "type": "heatmap",
         "x": [
          "Time",
          "Date",
          "Day of the week",
          "CarCount",
          "BikeCount",
          "BusCount",
          "TruckCount",
          "Total"
         ],
         "xaxis": "x",
         "y": [
          "Time",
          "Date",
          "Day of the week",
          "CarCount",
          "BikeCount",
          "BusCount",
          "TruckCount",
          "Total"
         ],
         "yaxis": "y",
         "z": [
          [
           1,
           0,
           0,
           0.33741765623532727,
           0.2711659525521306,
           0.29155120312758454,
           -0.28640521474846803,
           0.3228167047667432
          ],
          [
           0,
           1,
           -0.0892107559816158,
           -0.007835779392997939,
           -0.0034610158057747525,
           -0.010458261011118701,
           0.015127668527939482,
           -0.006097578709614409
          ],
          [
           0,
           -0.08921075598161579,
           1,
           0.013884711639439272,
           -0.02469566304591694,
           0.08076189293744718,
           0.07931071608895356,
           0.0334745392672302
          ],
          [
           0.33741765623532727,
           -0.007835779392997939,
           0.013884711639439272,
           1,
           0.5641260716603531,
           0.5700026515602987,
           -0.4603446296779503,
           0.8292010951627042
          ],
          [
           0.2711659525521306,
           -0.0034610158057747525,
           -0.02469566304591694,
           0.5641260716603531,
           1,
           0.5413611844208457,
           -0.438366876983082,
           0.6304235814738867
          ],
          [
           0.29155120312758454,
           -0.010458261011118701,
           0.08076189293744719,
           0.5700026515602987,
           0.5413611844208457,
           1,
           -0.4003596037644086,
           0.6524255896647221
          ],
          [
           -0.2864052147484681,
           0.015127668527939482,
           0.07931071608895357,
           -0.46034462967795026,
           -0.4383668769830821,
           -0.4003596037644086,
           1,
           -0.3711574924500685
          ],
          [
           0.3228167047667431,
           -0.00609757870961441,
           0.0334745392672302,
           0.8292010951627042,
           0.6304235814738867,
           0.6524255896647221,
           -0.37115749245006846,
           1
          ]
         ]
        }
       ],
       "layout": {
        "coloraxis": {
         "colorbar": {
          "title": {
           "text": "Correlation"
          }
         },
         "colorscale": [
          [
           0,
           "#0d0887"
          ],
          [
           0.1111111111111111,
           "#46039f"
          ],
          [
           0.2222222222222222,
           "#7201a8"
          ],
          [
           0.3333333333333333,
           "#9c179e"
          ],
          [
           0.4444444444444444,
           "#bd3786"
          ],
          [
           0.5555555555555556,
           "#d8576b"
          ],
          [
           0.6666666666666666,
           "#ed7953"
          ],
          [
           0.7777777777777778,
           "#fb9f3a"
          ],
          [
           0.8888888888888888,
           "#fdca26"
          ],
          [
           1,
           "#f0f921"
          ]
         ]
        },
        "template": {
         "data": {
          "bar": [
           {
            "error_x": {
             "color": "#2a3f5f"
            },
            "error_y": {
             "color": "#2a3f5f"
            },
            "marker": {
             "line": {
              "color": "#E5ECF6",
              "width": 0.5
             },
             "pattern": {
              "fillmode": "overlay",
              "size": 10,
              "solidity": 0.2
             }
            },
            "type": "bar"
           }
          ],
          "barpolar": [
           {
            "marker": {
             "line": {
              "color": "#E5ECF6",
              "width": 0.5
             },
             "pattern": {
              "fillmode": "overlay",
              "size": 10,
              "solidity": 0.2
             }
            },
            "type": "barpolar"
           }
          ],
          "carpet": [
           {
            "aaxis": {
             "endlinecolor": "#2a3f5f",
             "gridcolor": "white",
             "linecolor": "white",
             "minorgridcolor": "white",
             "startlinecolor": "#2a3f5f"
            },
            "baxis": {
             "endlinecolor": "#2a3f5f",
             "gridcolor": "white",
             "linecolor": "white",
             "minorgridcolor": "white",
             "startlinecolor": "#2a3f5f"
            },
            "type": "carpet"
           }
          ],
          "choropleth": [
           {
            "colorbar": {
             "outlinewidth": 0,
             "ticks": ""
            },
            "type": "choropleth"
           }
          ],
          "contour": [
           {
            "colorbar": {
             "outlinewidth": 0,
             "ticks": ""
            },
            "colorscale": [
             [
              0,
              "#0d0887"
             ],
             [
              0.1111111111111111,
              "#46039f"
             ],
             [
              0.2222222222222222,
              "#7201a8"
             ],
             [
              0.3333333333333333,
              "#9c179e"
             ],
             [
              0.4444444444444444,
              "#bd3786"
             ],
             [
              0.5555555555555556,
              "#d8576b"
             ],
             [
              0.6666666666666666,
              "#ed7953"
             ],
             [
              0.7777777777777778,
              "#fb9f3a"
             ],
             [
              0.8888888888888888,
              "#fdca26"
             ],
             [
              1,
              "#f0f921"
             ]
            ],
            "type": "contour"
           }
          ],
          "contourcarpet": [
           {
            "colorbar": {
             "outlinewidth": 0,
             "ticks": ""
            },
            "type": "contourcarpet"
           }
          ],
          "heatmap": [
           {
            "colorbar": {
             "outlinewidth": 0,
             "ticks": ""
            },
            "colorscale": [
             [
              0,
              "#0d0887"
             ],
             [
              0.1111111111111111,
              "#46039f"
             ],
             [
              0.2222222222222222,
              "#7201a8"
             ],
             [
              0.3333333333333333,
              "#9c179e"
             ],
             [
              0.4444444444444444,
              "#bd3786"
             ],
             [
              0.5555555555555556,
              "#d8576b"
             ],
             [
              0.6666666666666666,
              "#ed7953"
             ],
             [
              0.7777777777777778,
              "#fb9f3a"
             ],
             [
              0.8888888888888888,
              "#fdca26"
             ],
             [
              1,
              "#f0f921"
             ]
            ],
            "type": "heatmap"
           }
          ],
          "heatmapgl": [
           {
            "colorbar": {
             "outlinewidth": 0,
             "ticks": ""
            },
            "colorscale": [
             [
              0,
              "#0d0887"
             ],
             [
              0.1111111111111111,
              "#46039f"
             ],
             [
              0.2222222222222222,
              "#7201a8"
             ],
             [
              0.3333333333333333,
              "#9c179e"
             ],
             [
              0.4444444444444444,
              "#bd3786"
             ],
             [
              0.5555555555555556,
              "#d8576b"
             ],
             [
              0.6666666666666666,
              "#ed7953"
             ],
             [
              0.7777777777777778,
              "#fb9f3a"
             ],
             [
              0.8888888888888888,
              "#fdca26"
             ],
             [
              1,
              "#f0f921"
             ]
            ],
            "type": "heatmapgl"
           }
          ],
          "histogram": [
           {
            "marker": {
             "pattern": {
              "fillmode": "overlay",
              "size": 10,
              "solidity": 0.2
             }
            },
            "type": "histogram"
           }
          ],
          "histogram2d": [
           {
            "colorbar": {
             "outlinewidth": 0,
             "ticks": ""
            },
            "colorscale": [
             [
              0,
              "#0d0887"
             ],
             [
              0.1111111111111111,
              "#46039f"
             ],
             [
              0.2222222222222222,
              "#7201a8"
             ],
             [
              0.3333333333333333,
              "#9c179e"
             ],
             [
              0.4444444444444444,
              "#bd3786"
             ],
             [
              0.5555555555555556,
              "#d8576b"
             ],
             [
              0.6666666666666666,
              "#ed7953"
             ],
             [
              0.7777777777777778,
              "#fb9f3a"
             ],
             [
              0.8888888888888888,
              "#fdca26"
             ],
             [
              1,
              "#f0f921"
             ]
            ],
            "type": "histogram2d"
           }
          ],
          "histogram2dcontour": [
           {
            "colorbar": {
             "outlinewidth": 0,
             "ticks": ""
            },
            "colorscale": [
             [
              0,
              "#0d0887"
             ],
             [
              0.1111111111111111,
              "#46039f"
             ],
             [
              0.2222222222222222,
              "#7201a8"
             ],
             [
              0.3333333333333333,
              "#9c179e"
             ],
             [
              0.4444444444444444,
              "#bd3786"
             ],
             [
              0.5555555555555556,
              "#d8576b"
             ],
             [
              0.6666666666666666,
              "#ed7953"
             ],
             [
              0.7777777777777778,
              "#fb9f3a"
             ],
             [
              0.8888888888888888,
              "#fdca26"
             ],
             [
              1,
              "#f0f921"
             ]
            ],
            "type": "histogram2dcontour"
           }
          ],
          "mesh3d": [
           {
            "colorbar": {
             "outlinewidth": 0,
             "ticks": ""
            },
            "type": "mesh3d"
           }
          ],
          "parcoords": [
           {
            "line": {
             "colorbar": {
              "outlinewidth": 0,
              "ticks": ""
             }
            },
            "type": "parcoords"
           }
          ],
          "pie": [
           {
            "automargin": true,
            "type": "pie"
           }
          ],
          "scatter": [
           {
            "fillpattern": {
             "fillmode": "overlay",
             "size": 10,
             "solidity": 0.2
            },
            "type": "scatter"
           }
          ],
          "scatter3d": [
           {
            "line": {
             "colorbar": {
              "outlinewidth": 0,
              "ticks": ""
             }
            },
            "marker": {
             "colorbar": {
              "outlinewidth": 0,
              "ticks": ""
             }
            },
            "type": "scatter3d"
           }
          ],
          "scattercarpet": [
           {
            "marker": {
             "colorbar": {
              "outlinewidth": 0,
              "ticks": ""
             }
            },
            "type": "scattercarpet"
           }
          ],
          "scattergeo": [
           {
            "marker": {
             "colorbar": {
              "outlinewidth": 0,
              "ticks": ""
             }
            },
            "type": "scattergeo"
           }
          ],
          "scattergl": [
           {
            "marker": {
             "colorbar": {
              "outlinewidth": 0,
              "ticks": ""
             }
            },
            "type": "scattergl"
           }
          ],
          "scattermapbox": [
           {
            "marker": {
             "colorbar": {
              "outlinewidth": 0,
              "ticks": ""
             }
            },
            "type": "scattermapbox"
           }
          ],
          "scatterpolar": [
           {
            "marker": {
             "colorbar": {
              "outlinewidth": 0,
              "ticks": ""
             }
            },
            "type": "scatterpolar"
           }
          ],
          "scatterpolargl": [
           {
            "marker": {
             "colorbar": {
              "outlinewidth": 0,
              "ticks": ""
             }
            },
            "type": "scatterpolargl"
           }
          ],
          "scatterternary": [
           {
            "marker": {
             "colorbar": {
              "outlinewidth": 0,
              "ticks": ""
             }
            },
            "type": "scatterternary"
           }
          ],
          "surface": [
           {
            "colorbar": {
             "outlinewidth": 0,
             "ticks": ""
            },
            "colorscale": [
             [
              0,
              "#0d0887"
             ],
             [
              0.1111111111111111,
              "#46039f"
             ],
             [
              0.2222222222222222,
              "#7201a8"
             ],
             [
              0.3333333333333333,
              "#9c179e"
             ],
             [
              0.4444444444444444,
              "#bd3786"
             ],
             [
              0.5555555555555556,
              "#d8576b"
             ],
             [
              0.6666666666666666,
              "#ed7953"
             ],
             [
              0.7777777777777778,
              "#fb9f3a"
             ],
             [
              0.8888888888888888,
              "#fdca26"
             ],
             [
              1,
              "#f0f921"
             ]
            ],
            "type": "surface"
           }
          ],
          "table": [
           {
            "cells": {
             "fill": {
              "color": "#EBF0F8"
             },
             "line": {
              "color": "white"
             }
            },
            "header": {
             "fill": {
              "color": "#C8D4E3"
             },
             "line": {
              "color": "white"
             }
            },
            "type": "table"
           }
          ]
         },
         "layout": {
          "annotationdefaults": {
           "arrowcolor": "#2a3f5f",
           "arrowhead": 0,
           "arrowwidth": 1
          },
          "autotypenumbers": "strict",
          "coloraxis": {
           "colorbar": {
            "outlinewidth": 0,
            "ticks": ""
           }
          },
          "colorscale": {
           "diverging": [
            [
             0,
             "#8e0152"
            ],
            [
             0.1,
             "#c51b7d"
            ],
            [
             0.2,
             "#de77ae"
            ],
            [
             0.3,
             "#f1b6da"
            ],
            [
             0.4,
             "#fde0ef"
            ],
            [
             0.5,
             "#f7f7f7"
            ],
            [
             0.6,
             "#e6f5d0"
            ],
            [
             0.7,
             "#b8e186"
            ],
            [
             0.8,
             "#7fbc41"
            ],
            [
             0.9,
             "#4d9221"
            ],
            [
             1,
             "#276419"
            ]
           ],
           "sequential": [
            [
             0,
             "#0d0887"
            ],
            [
             0.1111111111111111,
             "#46039f"
            ],
            [
             0.2222222222222222,
             "#7201a8"
            ],
            [
             0.3333333333333333,
             "#9c179e"
            ],
            [
             0.4444444444444444,
             "#bd3786"
            ],
            [
             0.5555555555555556,
             "#d8576b"
            ],
            [
             0.6666666666666666,
             "#ed7953"
            ],
            [
             0.7777777777777778,
             "#fb9f3a"
            ],
            [
             0.8888888888888888,
             "#fdca26"
            ],
            [
             1,
             "#f0f921"
            ]
           ],
           "sequentialminus": [
            [
             0,
             "#0d0887"
            ],
            [
             0.1111111111111111,
             "#46039f"
            ],
            [
             0.2222222222222222,
             "#7201a8"
            ],
            [
             0.3333333333333333,
             "#9c179e"
            ],
            [
             0.4444444444444444,
             "#bd3786"
            ],
            [
             0.5555555555555556,
             "#d8576b"
            ],
            [
             0.6666666666666666,
             "#ed7953"
            ],
            [
             0.7777777777777778,
             "#fb9f3a"
            ],
            [
             0.8888888888888888,
             "#fdca26"
            ],
            [
             1,
             "#f0f921"
            ]
           ]
          },
          "colorway": [
           "#636efa",
           "#EF553B",
           "#00cc96",
           "#ab63fa",
           "#FFA15A",
           "#19d3f3",
           "#FF6692",
           "#B6E880",
           "#FF97FF",
           "#FECB52"
          ],
          "font": {
           "color": "#2a3f5f"
          },
          "geo": {
           "bgcolor": "white",
           "lakecolor": "white",
           "landcolor": "#E5ECF6",
           "showlakes": true,
           "showland": true,
           "subunitcolor": "white"
          },
          "hoverlabel": {
           "align": "left"
          },
          "hovermode": "closest",
          "mapbox": {
           "style": "light"
          },
          "paper_bgcolor": "white",
          "plot_bgcolor": "#E5ECF6",
          "polar": {
           "angularaxis": {
            "gridcolor": "white",
            "linecolor": "white",
            "ticks": ""
           },
           "bgcolor": "#E5ECF6",
           "radialaxis": {
            "gridcolor": "white",
            "linecolor": "white",
            "ticks": ""
           }
          },
          "scene": {
           "xaxis": {
            "backgroundcolor": "#E5ECF6",
            "gridcolor": "white",
            "gridwidth": 2,
            "linecolor": "white",
            "showbackground": true,
            "ticks": "",
            "zerolinecolor": "white"
           },
           "yaxis": {
            "backgroundcolor": "#E5ECF6",
            "gridcolor": "white",
            "gridwidth": 2,
            "linecolor": "white",
            "showbackground": true,
            "ticks": "",
            "zerolinecolor": "white"
           },
           "zaxis": {
            "backgroundcolor": "#E5ECF6",
            "gridcolor": "white",
            "gridwidth": 2,
            "linecolor": "white",
            "showbackground": true,
            "ticks": "",
            "zerolinecolor": "white"
           }
          },
          "shapedefaults": {
           "line": {
            "color": "#2a3f5f"
           }
          },
          "ternary": {
           "aaxis": {
            "gridcolor": "white",
            "linecolor": "white",
            "ticks": ""
           },
           "baxis": {
            "gridcolor": "white",
            "linecolor": "white",
            "ticks": ""
           },
           "bgcolor": "#E5ECF6",
           "caxis": {
            "gridcolor": "white",
            "linecolor": "white",
            "ticks": ""
           }
          },
          "title": {
           "x": 0.05
          },
          "xaxis": {
           "automargin": true,
           "gridcolor": "white",
           "linecolor": "white",
           "ticks": "",
           "title": {
            "standoff": 15
           },
           "zerolinecolor": "white",
           "zerolinewidth": 2
          },
          "yaxis": {
           "automargin": true,
           "gridcolor": "white",
           "linecolor": "white",
           "ticks": "",
           "title": {
            "standoff": 15
           },
           "zerolinecolor": "white",
           "zerolinewidth": 2
          }
         }
        },
        "title": {
         "text": "Correlation matrix for inputs with method: kendall"
        },
        "xaxis": {
         "anchor": "y",
         "constrain": "domain",
         "domain": [
          0,
          1
         ],
         "scaleanchor": "y",
         "title": {
          "text": "Inputs"
         }
        },
        "yaxis": {
         "anchor": "x",
         "autorange": "reversed",
         "constrain": "domain",
         "domain": [
          0,
          1
         ],
         "title": {
          "text": "Inputs"
         }
        }
       }
      }
     },
     "metadata": {},
     "output_type": "display_data"
    },
    {
     "data": {
      "application/vnd.plotly.v1+json": {
       "config": {
        "plotlyServerURL": "https://plot.ly"
       },
       "data": [
        {
         "coloraxis": "coloraxis",
         "hovertemplate": "Inputs: %{x}<br>Inputs: %{y}<br>Correlation: %{z}<extra></extra>",
         "name": "0",
         "type": "heatmap",
         "x": [
          "Time",
          "Date",
          "Day of the week",
          "CarCount",
          "BikeCount",
          "BusCount",
          "TruckCount",
          "Total"
         ],
         "xaxis": "x",
         "y": [
          "Time",
          "Date",
          "Day of the week",
          "CarCount",
          "BikeCount",
          "BusCount",
          "TruckCount",
          "Total"
         ],
         "yaxis": "y",
         "z": [
          [
           0,
           0,
           0,
           0,
           0,
           0,
           0,
           0
          ],
          [
           0,
           0.9999999999999998,
           0,
           -0.013452918060896291,
           -0.005088913649333982,
           -0.015536044210623514,
           0.024733615318278453,
           -0.010678608303553019
          ],
          [
           0,
           0,
           0,
           0,
           0,
           0,
           0,
           0
          ],
          [
           0,
           -0.01345291806089629,
           0,
           1,
           0.7225390237292142,
           0.6929936441804697,
           -0.6281569618532912,
           0.9704427823545738
          ],
          [
           0,
           -0.005088913649333982,
           0,
           0.7225390237292142,
           1,
           0.5663637322729332,
           -0.5753987420158205,
           0.7974294937982487
          ],
          [
           0,
           -0.015536044210623514,
           0,
           0.6929936441804697,
           0.5663637322729332,
           0.9999999999999999,
           -0.5469308496013134,
           0.790704998821898
          ],
          [
           0,
           0.024733615318278456,
           0,
           -0.6281569618532912,
           -0.5753987420158205,
           -0.5469308496013134,
           0.9999999999999998,
           -0.5554705251934107
          ],
          [
           0,
           -0.01067860830355302,
           0,
           0.9704427823545738,
           0.7974294937982487,
           0.7907049988218979,
           -0.5554705251934107,
           0.9999999999999999
          ]
         ]
        }
       ],
       "layout": {
        "coloraxis": {
         "colorbar": {
          "title": {
           "text": "Correlation"
          }
         },
         "colorscale": [
          [
           0,
           "#0d0887"
          ],
          [
           0.1111111111111111,
           "#46039f"
          ],
          [
           0.2222222222222222,
           "#7201a8"
          ],
          [
           0.3333333333333333,
           "#9c179e"
          ],
          [
           0.4444444444444444,
           "#bd3786"
          ],
          [
           0.5555555555555556,
           "#d8576b"
          ],
          [
           0.6666666666666666,
           "#ed7953"
          ],
          [
           0.7777777777777778,
           "#fb9f3a"
          ],
          [
           0.8888888888888888,
           "#fdca26"
          ],
          [
           1,
           "#f0f921"
          ]
         ]
        },
        "template": {
         "data": {
          "bar": [
           {
            "error_x": {
             "color": "#2a3f5f"
            },
            "error_y": {
             "color": "#2a3f5f"
            },
            "marker": {
             "line": {
              "color": "#E5ECF6",
              "width": 0.5
             },
             "pattern": {
              "fillmode": "overlay",
              "size": 10,
              "solidity": 0.2
             }
            },
            "type": "bar"
           }
          ],
          "barpolar": [
           {
            "marker": {
             "line": {
              "color": "#E5ECF6",
              "width": 0.5
             },
             "pattern": {
              "fillmode": "overlay",
              "size": 10,
              "solidity": 0.2
             }
            },
            "type": "barpolar"
           }
          ],
          "carpet": [
           {
            "aaxis": {
             "endlinecolor": "#2a3f5f",
             "gridcolor": "white",
             "linecolor": "white",
             "minorgridcolor": "white",
             "startlinecolor": "#2a3f5f"
            },
            "baxis": {
             "endlinecolor": "#2a3f5f",
             "gridcolor": "white",
             "linecolor": "white",
             "minorgridcolor": "white",
             "startlinecolor": "#2a3f5f"
            },
            "type": "carpet"
           }
          ],
          "choropleth": [
           {
            "colorbar": {
             "outlinewidth": 0,
             "ticks": ""
            },
            "type": "choropleth"
           }
          ],
          "contour": [
           {
            "colorbar": {
             "outlinewidth": 0,
             "ticks": ""
            },
            "colorscale": [
             [
              0,
              "#0d0887"
             ],
             [
              0.1111111111111111,
              "#46039f"
             ],
             [
              0.2222222222222222,
              "#7201a8"
             ],
             [
              0.3333333333333333,
              "#9c179e"
             ],
             [
              0.4444444444444444,
              "#bd3786"
             ],
             [
              0.5555555555555556,
              "#d8576b"
             ],
             [
              0.6666666666666666,
              "#ed7953"
             ],
             [
              0.7777777777777778,
              "#fb9f3a"
             ],
             [
              0.8888888888888888,
              "#fdca26"
             ],
             [
              1,
              "#f0f921"
             ]
            ],
            "type": "contour"
           }
          ],
          "contourcarpet": [
           {
            "colorbar": {
             "outlinewidth": 0,
             "ticks": ""
            },
            "type": "contourcarpet"
           }
          ],
          "heatmap": [
           {
            "colorbar": {
             "outlinewidth": 0,
             "ticks": ""
            },
            "colorscale": [
             [
              0,
              "#0d0887"
             ],
             [
              0.1111111111111111,
              "#46039f"
             ],
             [
              0.2222222222222222,
              "#7201a8"
             ],
             [
              0.3333333333333333,
              "#9c179e"
             ],
             [
              0.4444444444444444,
              "#bd3786"
             ],
             [
              0.5555555555555556,
              "#d8576b"
             ],
             [
              0.6666666666666666,
              "#ed7953"
             ],
             [
              0.7777777777777778,
              "#fb9f3a"
             ],
             [
              0.8888888888888888,
              "#fdca26"
             ],
             [
              1,
              "#f0f921"
             ]
            ],
            "type": "heatmap"
           }
          ],
          "heatmapgl": [
           {
            "colorbar": {
             "outlinewidth": 0,
             "ticks": ""
            },
            "colorscale": [
             [
              0,
              "#0d0887"
             ],
             [
              0.1111111111111111,
              "#46039f"
             ],
             [
              0.2222222222222222,
              "#7201a8"
             ],
             [
              0.3333333333333333,
              "#9c179e"
             ],
             [
              0.4444444444444444,
              "#bd3786"
             ],
             [
              0.5555555555555556,
              "#d8576b"
             ],
             [
              0.6666666666666666,
              "#ed7953"
             ],
             [
              0.7777777777777778,
              "#fb9f3a"
             ],
             [
              0.8888888888888888,
              "#fdca26"
             ],
             [
              1,
              "#f0f921"
             ]
            ],
            "type": "heatmapgl"
           }
          ],
          "histogram": [
           {
            "marker": {
             "pattern": {
              "fillmode": "overlay",
              "size": 10,
              "solidity": 0.2
             }
            },
            "type": "histogram"
           }
          ],
          "histogram2d": [
           {
            "colorbar": {
             "outlinewidth": 0,
             "ticks": ""
            },
            "colorscale": [
             [
              0,
              "#0d0887"
             ],
             [
              0.1111111111111111,
              "#46039f"
             ],
             [
              0.2222222222222222,
              "#7201a8"
             ],
             [
              0.3333333333333333,
              "#9c179e"
             ],
             [
              0.4444444444444444,
              "#bd3786"
             ],
             [
              0.5555555555555556,
              "#d8576b"
             ],
             [
              0.6666666666666666,
              "#ed7953"
             ],
             [
              0.7777777777777778,
              "#fb9f3a"
             ],
             [
              0.8888888888888888,
              "#fdca26"
             ],
             [
              1,
              "#f0f921"
             ]
            ],
            "type": "histogram2d"
           }
          ],
          "histogram2dcontour": [
           {
            "colorbar": {
             "outlinewidth": 0,
             "ticks": ""
            },
            "colorscale": [
             [
              0,
              "#0d0887"
             ],
             [
              0.1111111111111111,
              "#46039f"
             ],
             [
              0.2222222222222222,
              "#7201a8"
             ],
             [
              0.3333333333333333,
              "#9c179e"
             ],
             [
              0.4444444444444444,
              "#bd3786"
             ],
             [
              0.5555555555555556,
              "#d8576b"
             ],
             [
              0.6666666666666666,
              "#ed7953"
             ],
             [
              0.7777777777777778,
              "#fb9f3a"
             ],
             [
              0.8888888888888888,
              "#fdca26"
             ],
             [
              1,
              "#f0f921"
             ]
            ],
            "type": "histogram2dcontour"
           }
          ],
          "mesh3d": [
           {
            "colorbar": {
             "outlinewidth": 0,
             "ticks": ""
            },
            "type": "mesh3d"
           }
          ],
          "parcoords": [
           {
            "line": {
             "colorbar": {
              "outlinewidth": 0,
              "ticks": ""
             }
            },
            "type": "parcoords"
           }
          ],
          "pie": [
           {
            "automargin": true,
            "type": "pie"
           }
          ],
          "scatter": [
           {
            "fillpattern": {
             "fillmode": "overlay",
             "size": 10,
             "solidity": 0.2
            },
            "type": "scatter"
           }
          ],
          "scatter3d": [
           {
            "line": {
             "colorbar": {
              "outlinewidth": 0,
              "ticks": ""
             }
            },
            "marker": {
             "colorbar": {
              "outlinewidth": 0,
              "ticks": ""
             }
            },
            "type": "scatter3d"
           }
          ],
          "scattercarpet": [
           {
            "marker": {
             "colorbar": {
              "outlinewidth": 0,
              "ticks": ""
             }
            },
            "type": "scattercarpet"
           }
          ],
          "scattergeo": [
           {
            "marker": {
             "colorbar": {
              "outlinewidth": 0,
              "ticks": ""
             }
            },
            "type": "scattergeo"
           }
          ],
          "scattergl": [
           {
            "marker": {
             "colorbar": {
              "outlinewidth": 0,
              "ticks": ""
             }
            },
            "type": "scattergl"
           }
          ],
          "scattermapbox": [
           {
            "marker": {
             "colorbar": {
              "outlinewidth": 0,
              "ticks": ""
             }
            },
            "type": "scattermapbox"
           }
          ],
          "scatterpolar": [
           {
            "marker": {
             "colorbar": {
              "outlinewidth": 0,
              "ticks": ""
             }
            },
            "type": "scatterpolar"
           }
          ],
          "scatterpolargl": [
           {
            "marker": {
             "colorbar": {
              "outlinewidth": 0,
              "ticks": ""
             }
            },
            "type": "scatterpolargl"
           }
          ],
          "scatterternary": [
           {
            "marker": {
             "colorbar": {
              "outlinewidth": 0,
              "ticks": ""
             }
            },
            "type": "scatterternary"
           }
          ],
          "surface": [
           {
            "colorbar": {
             "outlinewidth": 0,
             "ticks": ""
            },
            "colorscale": [
             [
              0,
              "#0d0887"
             ],
             [
              0.1111111111111111,
              "#46039f"
             ],
             [
              0.2222222222222222,
              "#7201a8"
             ],
             [
              0.3333333333333333,
              "#9c179e"
             ],
             [
              0.4444444444444444,
              "#bd3786"
             ],
             [
              0.5555555555555556,
              "#d8576b"
             ],
             [
              0.6666666666666666,
              "#ed7953"
             ],
             [
              0.7777777777777778,
              "#fb9f3a"
             ],
             [
              0.8888888888888888,
              "#fdca26"
             ],
             [
              1,
              "#f0f921"
             ]
            ],
            "type": "surface"
           }
          ],
          "table": [
           {
            "cells": {
             "fill": {
              "color": "#EBF0F8"
             },
             "line": {
              "color": "white"
             }
            },
            "header": {
             "fill": {
              "color": "#C8D4E3"
             },
             "line": {
              "color": "white"
             }
            },
            "type": "table"
           }
          ]
         },
         "layout": {
          "annotationdefaults": {
           "arrowcolor": "#2a3f5f",
           "arrowhead": 0,
           "arrowwidth": 1
          },
          "autotypenumbers": "strict",
          "coloraxis": {
           "colorbar": {
            "outlinewidth": 0,
            "ticks": ""
           }
          },
          "colorscale": {
           "diverging": [
            [
             0,
             "#8e0152"
            ],
            [
             0.1,
             "#c51b7d"
            ],
            [
             0.2,
             "#de77ae"
            ],
            [
             0.3,
             "#f1b6da"
            ],
            [
             0.4,
             "#fde0ef"
            ],
            [
             0.5,
             "#f7f7f7"
            ],
            [
             0.6,
             "#e6f5d0"
            ],
            [
             0.7,
             "#b8e186"
            ],
            [
             0.8,
             "#7fbc41"
            ],
            [
             0.9,
             "#4d9221"
            ],
            [
             1,
             "#276419"
            ]
           ],
           "sequential": [
            [
             0,
             "#0d0887"
            ],
            [
             0.1111111111111111,
             "#46039f"
            ],
            [
             0.2222222222222222,
             "#7201a8"
            ],
            [
             0.3333333333333333,
             "#9c179e"
            ],
            [
             0.4444444444444444,
             "#bd3786"
            ],
            [
             0.5555555555555556,
             "#d8576b"
            ],
            [
             0.6666666666666666,
             "#ed7953"
            ],
            [
             0.7777777777777778,
             "#fb9f3a"
            ],
            [
             0.8888888888888888,
             "#fdca26"
            ],
            [
             1,
             "#f0f921"
            ]
           ],
           "sequentialminus": [
            [
             0,
             "#0d0887"
            ],
            [
             0.1111111111111111,
             "#46039f"
            ],
            [
             0.2222222222222222,
             "#7201a8"
            ],
            [
             0.3333333333333333,
             "#9c179e"
            ],
            [
             0.4444444444444444,
             "#bd3786"
            ],
            [
             0.5555555555555556,
             "#d8576b"
            ],
            [
             0.6666666666666666,
             "#ed7953"
            ],
            [
             0.7777777777777778,
             "#fb9f3a"
            ],
            [
             0.8888888888888888,
             "#fdca26"
            ],
            [
             1,
             "#f0f921"
            ]
           ]
          },
          "colorway": [
           "#636efa",
           "#EF553B",
           "#00cc96",
           "#ab63fa",
           "#FFA15A",
           "#19d3f3",
           "#FF6692",
           "#B6E880",
           "#FF97FF",
           "#FECB52"
          ],
          "font": {
           "color": "#2a3f5f"
          },
          "geo": {
           "bgcolor": "white",
           "lakecolor": "white",
           "landcolor": "#E5ECF6",
           "showlakes": true,
           "showland": true,
           "subunitcolor": "white"
          },
          "hoverlabel": {
           "align": "left"
          },
          "hovermode": "closest",
          "mapbox": {
           "style": "light"
          },
          "paper_bgcolor": "white",
          "plot_bgcolor": "#E5ECF6",
          "polar": {
           "angularaxis": {
            "gridcolor": "white",
            "linecolor": "white",
            "ticks": ""
           },
           "bgcolor": "#E5ECF6",
           "radialaxis": {
            "gridcolor": "white",
            "linecolor": "white",
            "ticks": ""
           }
          },
          "scene": {
           "xaxis": {
            "backgroundcolor": "#E5ECF6",
            "gridcolor": "white",
            "gridwidth": 2,
            "linecolor": "white",
            "showbackground": true,
            "ticks": "",
            "zerolinecolor": "white"
           },
           "yaxis": {
            "backgroundcolor": "#E5ECF6",
            "gridcolor": "white",
            "gridwidth": 2,
            "linecolor": "white",
            "showbackground": true,
            "ticks": "",
            "zerolinecolor": "white"
           },
           "zaxis": {
            "backgroundcolor": "#E5ECF6",
            "gridcolor": "white",
            "gridwidth": 2,
            "linecolor": "white",
            "showbackground": true,
            "ticks": "",
            "zerolinecolor": "white"
           }
          },
          "shapedefaults": {
           "line": {
            "color": "#2a3f5f"
           }
          },
          "ternary": {
           "aaxis": {
            "gridcolor": "white",
            "linecolor": "white",
            "ticks": ""
           },
           "baxis": {
            "gridcolor": "white",
            "linecolor": "white",
            "ticks": ""
           },
           "bgcolor": "#E5ECF6",
           "caxis": {
            "gridcolor": "white",
            "linecolor": "white",
            "ticks": ""
           }
          },
          "title": {
           "x": 0.05
          },
          "xaxis": {
           "automargin": true,
           "gridcolor": "white",
           "linecolor": "white",
           "ticks": "",
           "title": {
            "standoff": 15
           },
           "zerolinecolor": "white",
           "zerolinewidth": 2
          },
          "yaxis": {
           "automargin": true,
           "gridcolor": "white",
           "linecolor": "white",
           "ticks": "",
           "title": {
            "standoff": 15
           },
           "zerolinecolor": "white",
           "zerolinewidth": 2
          }
         }
        },
        "title": {
         "text": "Correlation matrix for inputs with method: pearson"
        },
        "xaxis": {
         "anchor": "y",
         "constrain": "domain",
         "domain": [
          0,
          1
         ],
         "scaleanchor": "y",
         "title": {
          "text": "Inputs"
         }
        },
        "yaxis": {
         "anchor": "x",
         "autorange": "reversed",
         "constrain": "domain",
         "domain": [
          0,
          1
         ],
         "title": {
          "text": "Inputs"
         }
        }
       }
      }
     },
     "metadata": {},
     "output_type": "display_data"
    },
    {
     "data": {
      "application/vnd.plotly.v1+json": {
       "config": {
        "plotlyServerURL": "https://plot.ly"
       },
       "data": [
        {
         "coloraxis": "coloraxis",
         "hovertemplate": "Inputs: %{x}<br>Inputs: %{y}<br>Correlation: %{z}<extra></extra>",
         "name": "0",
         "type": "heatmap",
         "x": [
          "Time",
          "Date",
          "Day of the week",
          "CarCount",
          "BikeCount",
          "BusCount",
          "TruckCount",
          "Total"
         ],
         "xaxis": "x",
         "y": [
          "Time",
          "Date",
          "Day of the week",
          "CarCount",
          "BikeCount",
          "BusCount",
          "TruckCount",
          "Total"
         ],
         "yaxis": "y",
         "z": [
          [
           1,
           0,
           0,
           0.5191495690398827,
           0.42070571845471627,
           0.43707764694047285,
           -0.39658826884713305,
           0.4941456802864326
          ],
          [
           0,
           1,
           -0.12505740086543185,
           -0.01138257547914344,
           -0.005270197001361424,
           -0.015112213198818862,
           0.02232373224417993,
           -0.008937869467090718
          ],
          [
           0,
           -0.12505740086543185,
           1,
           0.019178214126432298,
           -0.03437659724761429,
           0.11047409641776652,
           0.1101677736795471,
           0.046420648998686545
          ],
          [
           0.5191495690398827,
           -0.011382575479143441,
           0.019178214126432298,
           1,
           0.7495852642408896,
           0.7545868423131105,
           -0.6453078774188807,
           0.9603252563514153
          ],
          [
           0.42070571845471627,
           -0.005270197001361424,
           -0.03437659724761429,
           0.7495852642408897,
           1,
           0.7269200607233756,
           -0.6088647110660368,
           0.8188564159842667
          ],
          [
           0.43707764694047285,
           -0.015112213198818862,
           0.11047409641776652,
           0.7545868423131106,
           0.7269200607233756,
           1,
           -0.5686997518078392,
           0.8372823788091797
          ],
          [
           -0.39658826884713305,
           0.022323732244179925,
           0.1101677736795471,
           -0.6453078774188807,
           -0.6088647110660368,
           -0.5686997518078392,
           0.9999999999999999,
           -0.5526499798608333
          ],
          [
           0.4941456802864326,
           -0.008937869467090718,
           0.046420648998686545,
           0.9603252563514153,
           0.8188564159842667,
           0.8372823788091797,
           -0.5526499798608333,
           1
          ]
         ]
        }
       ],
       "layout": {
        "coloraxis": {
         "colorbar": {
          "title": {
           "text": "Correlation"
          }
         },
         "colorscale": [
          [
           0,
           "#0d0887"
          ],
          [
           0.1111111111111111,
           "#46039f"
          ],
          [
           0.2222222222222222,
           "#7201a8"
          ],
          [
           0.3333333333333333,
           "#9c179e"
          ],
          [
           0.4444444444444444,
           "#bd3786"
          ],
          [
           0.5555555555555556,
           "#d8576b"
          ],
          [
           0.6666666666666666,
           "#ed7953"
          ],
          [
           0.7777777777777778,
           "#fb9f3a"
          ],
          [
           0.8888888888888888,
           "#fdca26"
          ],
          [
           1,
           "#f0f921"
          ]
         ]
        },
        "template": {
         "data": {
          "bar": [
           {
            "error_x": {
             "color": "#2a3f5f"
            },
            "error_y": {
             "color": "#2a3f5f"
            },
            "marker": {
             "line": {
              "color": "#E5ECF6",
              "width": 0.5
             },
             "pattern": {
              "fillmode": "overlay",
              "size": 10,
              "solidity": 0.2
             }
            },
            "type": "bar"
           }
          ],
          "barpolar": [
           {
            "marker": {
             "line": {
              "color": "#E5ECF6",
              "width": 0.5
             },
             "pattern": {
              "fillmode": "overlay",
              "size": 10,
              "solidity": 0.2
             }
            },
            "type": "barpolar"
           }
          ],
          "carpet": [
           {
            "aaxis": {
             "endlinecolor": "#2a3f5f",
             "gridcolor": "white",
             "linecolor": "white",
             "minorgridcolor": "white",
             "startlinecolor": "#2a3f5f"
            },
            "baxis": {
             "endlinecolor": "#2a3f5f",
             "gridcolor": "white",
             "linecolor": "white",
             "minorgridcolor": "white",
             "startlinecolor": "#2a3f5f"
            },
            "type": "carpet"
           }
          ],
          "choropleth": [
           {
            "colorbar": {
             "outlinewidth": 0,
             "ticks": ""
            },
            "type": "choropleth"
           }
          ],
          "contour": [
           {
            "colorbar": {
             "outlinewidth": 0,
             "ticks": ""
            },
            "colorscale": [
             [
              0,
              "#0d0887"
             ],
             [
              0.1111111111111111,
              "#46039f"
             ],
             [
              0.2222222222222222,
              "#7201a8"
             ],
             [
              0.3333333333333333,
              "#9c179e"
             ],
             [
              0.4444444444444444,
              "#bd3786"
             ],
             [
              0.5555555555555556,
              "#d8576b"
             ],
             [
              0.6666666666666666,
              "#ed7953"
             ],
             [
              0.7777777777777778,
              "#fb9f3a"
             ],
             [
              0.8888888888888888,
              "#fdca26"
             ],
             [
              1,
              "#f0f921"
             ]
            ],
            "type": "contour"
           }
          ],
          "contourcarpet": [
           {
            "colorbar": {
             "outlinewidth": 0,
             "ticks": ""
            },
            "type": "contourcarpet"
           }
          ],
          "heatmap": [
           {
            "colorbar": {
             "outlinewidth": 0,
             "ticks": ""
            },
            "colorscale": [
             [
              0,
              "#0d0887"
             ],
             [
              0.1111111111111111,
              "#46039f"
             ],
             [
              0.2222222222222222,
              "#7201a8"
             ],
             [
              0.3333333333333333,
              "#9c179e"
             ],
             [
              0.4444444444444444,
              "#bd3786"
             ],
             [
              0.5555555555555556,
              "#d8576b"
             ],
             [
              0.6666666666666666,
              "#ed7953"
             ],
             [
              0.7777777777777778,
              "#fb9f3a"
             ],
             [
              0.8888888888888888,
              "#fdca26"
             ],
             [
              1,
              "#f0f921"
             ]
            ],
            "type": "heatmap"
           }
          ],
          "heatmapgl": [
           {
            "colorbar": {
             "outlinewidth": 0,
             "ticks": ""
            },
            "colorscale": [
             [
              0,
              "#0d0887"
             ],
             [
              0.1111111111111111,
              "#46039f"
             ],
             [
              0.2222222222222222,
              "#7201a8"
             ],
             [
              0.3333333333333333,
              "#9c179e"
             ],
             [
              0.4444444444444444,
              "#bd3786"
             ],
             [
              0.5555555555555556,
              "#d8576b"
             ],
             [
              0.6666666666666666,
              "#ed7953"
             ],
             [
              0.7777777777777778,
              "#fb9f3a"
             ],
             [
              0.8888888888888888,
              "#fdca26"
             ],
             [
              1,
              "#f0f921"
             ]
            ],
            "type": "heatmapgl"
           }
          ],
          "histogram": [
           {
            "marker": {
             "pattern": {
              "fillmode": "overlay",
              "size": 10,
              "solidity": 0.2
             }
            },
            "type": "histogram"
           }
          ],
          "histogram2d": [
           {
            "colorbar": {
             "outlinewidth": 0,
             "ticks": ""
            },
            "colorscale": [
             [
              0,
              "#0d0887"
             ],
             [
              0.1111111111111111,
              "#46039f"
             ],
             [
              0.2222222222222222,
              "#7201a8"
             ],
             [
              0.3333333333333333,
              "#9c179e"
             ],
             [
              0.4444444444444444,
              "#bd3786"
             ],
             [
              0.5555555555555556,
              "#d8576b"
             ],
             [
              0.6666666666666666,
              "#ed7953"
             ],
             [
              0.7777777777777778,
              "#fb9f3a"
             ],
             [
              0.8888888888888888,
              "#fdca26"
             ],
             [
              1,
              "#f0f921"
             ]
            ],
            "type": "histogram2d"
           }
          ],
          "histogram2dcontour": [
           {
            "colorbar": {
             "outlinewidth": 0,
             "ticks": ""
            },
            "colorscale": [
             [
              0,
              "#0d0887"
             ],
             [
              0.1111111111111111,
              "#46039f"
             ],
             [
              0.2222222222222222,
              "#7201a8"
             ],
             [
              0.3333333333333333,
              "#9c179e"
             ],
             [
              0.4444444444444444,
              "#bd3786"
             ],
             [
              0.5555555555555556,
              "#d8576b"
             ],
             [
              0.6666666666666666,
              "#ed7953"
             ],
             [
              0.7777777777777778,
              "#fb9f3a"
             ],
             [
              0.8888888888888888,
              "#fdca26"
             ],
             [
              1,
              "#f0f921"
             ]
            ],
            "type": "histogram2dcontour"
           }
          ],
          "mesh3d": [
           {
            "colorbar": {
             "outlinewidth": 0,
             "ticks": ""
            },
            "type": "mesh3d"
           }
          ],
          "parcoords": [
           {
            "line": {
             "colorbar": {
              "outlinewidth": 0,
              "ticks": ""
             }
            },
            "type": "parcoords"
           }
          ],
          "pie": [
           {
            "automargin": true,
            "type": "pie"
           }
          ],
          "scatter": [
           {
            "fillpattern": {
             "fillmode": "overlay",
             "size": 10,
             "solidity": 0.2
            },
            "type": "scatter"
           }
          ],
          "scatter3d": [
           {
            "line": {
             "colorbar": {
              "outlinewidth": 0,
              "ticks": ""
             }
            },
            "marker": {
             "colorbar": {
              "outlinewidth": 0,
              "ticks": ""
             }
            },
            "type": "scatter3d"
           }
          ],
          "scattercarpet": [
           {
            "marker": {
             "colorbar": {
              "outlinewidth": 0,
              "ticks": ""
             }
            },
            "type": "scattercarpet"
           }
          ],
          "scattergeo": [
           {
            "marker": {
             "colorbar": {
              "outlinewidth": 0,
              "ticks": ""
             }
            },
            "type": "scattergeo"
           }
          ],
          "scattergl": [
           {
            "marker": {
             "colorbar": {
              "outlinewidth": 0,
              "ticks": ""
             }
            },
            "type": "scattergl"
           }
          ],
          "scattermapbox": [
           {
            "marker": {
             "colorbar": {
              "outlinewidth": 0,
              "ticks": ""
             }
            },
            "type": "scattermapbox"
           }
          ],
          "scatterpolar": [
           {
            "marker": {
             "colorbar": {
              "outlinewidth": 0,
              "ticks": ""
             }
            },
            "type": "scatterpolar"
           }
          ],
          "scatterpolargl": [
           {
            "marker": {
             "colorbar": {
              "outlinewidth": 0,
              "ticks": ""
             }
            },
            "type": "scatterpolargl"
           }
          ],
          "scatterternary": [
           {
            "marker": {
             "colorbar": {
              "outlinewidth": 0,
              "ticks": ""
             }
            },
            "type": "scatterternary"
           }
          ],
          "surface": [
           {
            "colorbar": {
             "outlinewidth": 0,
             "ticks": ""
            },
            "colorscale": [
             [
              0,
              "#0d0887"
             ],
             [
              0.1111111111111111,
              "#46039f"
             ],
             [
              0.2222222222222222,
              "#7201a8"
             ],
             [
              0.3333333333333333,
              "#9c179e"
             ],
             [
              0.4444444444444444,
              "#bd3786"
             ],
             [
              0.5555555555555556,
              "#d8576b"
             ],
             [
              0.6666666666666666,
              "#ed7953"
             ],
             [
              0.7777777777777778,
              "#fb9f3a"
             ],
             [
              0.8888888888888888,
              "#fdca26"
             ],
             [
              1,
              "#f0f921"
             ]
            ],
            "type": "surface"
           }
          ],
          "table": [
           {
            "cells": {
             "fill": {
              "color": "#EBF0F8"
             },
             "line": {
              "color": "white"
             }
            },
            "header": {
             "fill": {
              "color": "#C8D4E3"
             },
             "line": {
              "color": "white"
             }
            },
            "type": "table"
           }
          ]
         },
         "layout": {
          "annotationdefaults": {
           "arrowcolor": "#2a3f5f",
           "arrowhead": 0,
           "arrowwidth": 1
          },
          "autotypenumbers": "strict",
          "coloraxis": {
           "colorbar": {
            "outlinewidth": 0,
            "ticks": ""
           }
          },
          "colorscale": {
           "diverging": [
            [
             0,
             "#8e0152"
            ],
            [
             0.1,
             "#c51b7d"
            ],
            [
             0.2,
             "#de77ae"
            ],
            [
             0.3,
             "#f1b6da"
            ],
            [
             0.4,
             "#fde0ef"
            ],
            [
             0.5,
             "#f7f7f7"
            ],
            [
             0.6,
             "#e6f5d0"
            ],
            [
             0.7,
             "#b8e186"
            ],
            [
             0.8,
             "#7fbc41"
            ],
            [
             0.9,
             "#4d9221"
            ],
            [
             1,
             "#276419"
            ]
           ],
           "sequential": [
            [
             0,
             "#0d0887"
            ],
            [
             0.1111111111111111,
             "#46039f"
            ],
            [
             0.2222222222222222,
             "#7201a8"
            ],
            [
             0.3333333333333333,
             "#9c179e"
            ],
            [
             0.4444444444444444,
             "#bd3786"
            ],
            [
             0.5555555555555556,
             "#d8576b"
            ],
            [
             0.6666666666666666,
             "#ed7953"
            ],
            [
             0.7777777777777778,
             "#fb9f3a"
            ],
            [
             0.8888888888888888,
             "#fdca26"
            ],
            [
             1,
             "#f0f921"
            ]
           ],
           "sequentialminus": [
            [
             0,
             "#0d0887"
            ],
            [
             0.1111111111111111,
             "#46039f"
            ],
            [
             0.2222222222222222,
             "#7201a8"
            ],
            [
             0.3333333333333333,
             "#9c179e"
            ],
            [
             0.4444444444444444,
             "#bd3786"
            ],
            [
             0.5555555555555556,
             "#d8576b"
            ],
            [
             0.6666666666666666,
             "#ed7953"
            ],
            [
             0.7777777777777778,
             "#fb9f3a"
            ],
            [
             0.8888888888888888,
             "#fdca26"
            ],
            [
             1,
             "#f0f921"
            ]
           ]
          },
          "colorway": [
           "#636efa",
           "#EF553B",
           "#00cc96",
           "#ab63fa",
           "#FFA15A",
           "#19d3f3",
           "#FF6692",
           "#B6E880",
           "#FF97FF",
           "#FECB52"
          ],
          "font": {
           "color": "#2a3f5f"
          },
          "geo": {
           "bgcolor": "white",
           "lakecolor": "white",
           "landcolor": "#E5ECF6",
           "showlakes": true,
           "showland": true,
           "subunitcolor": "white"
          },
          "hoverlabel": {
           "align": "left"
          },
          "hovermode": "closest",
          "mapbox": {
           "style": "light"
          },
          "paper_bgcolor": "white",
          "plot_bgcolor": "#E5ECF6",
          "polar": {
           "angularaxis": {
            "gridcolor": "white",
            "linecolor": "white",
            "ticks": ""
           },
           "bgcolor": "#E5ECF6",
           "radialaxis": {
            "gridcolor": "white",
            "linecolor": "white",
            "ticks": ""
           }
          },
          "scene": {
           "xaxis": {
            "backgroundcolor": "#E5ECF6",
            "gridcolor": "white",
            "gridwidth": 2,
            "linecolor": "white",
            "showbackground": true,
            "ticks": "",
            "zerolinecolor": "white"
           },
           "yaxis": {
            "backgroundcolor": "#E5ECF6",
            "gridcolor": "white",
            "gridwidth": 2,
            "linecolor": "white",
            "showbackground": true,
            "ticks": "",
            "zerolinecolor": "white"
           },
           "zaxis": {
            "backgroundcolor": "#E5ECF6",
            "gridcolor": "white",
            "gridwidth": 2,
            "linecolor": "white",
            "showbackground": true,
            "ticks": "",
            "zerolinecolor": "white"
           }
          },
          "shapedefaults": {
           "line": {
            "color": "#2a3f5f"
           }
          },
          "ternary": {
           "aaxis": {
            "gridcolor": "white",
            "linecolor": "white",
            "ticks": ""
           },
           "baxis": {
            "gridcolor": "white",
            "linecolor": "white",
            "ticks": ""
           },
           "bgcolor": "#E5ECF6",
           "caxis": {
            "gridcolor": "white",
            "linecolor": "white",
            "ticks": ""
           }
          },
          "title": {
           "x": 0.05
          },
          "xaxis": {
           "automargin": true,
           "gridcolor": "white",
           "linecolor": "white",
           "ticks": "",
           "title": {
            "standoff": 15
           },
           "zerolinecolor": "white",
           "zerolinewidth": 2
          },
          "yaxis": {
           "automargin": true,
           "gridcolor": "white",
           "linecolor": "white",
           "ticks": "",
           "title": {
            "standoff": 15
           },
           "zerolinecolor": "white",
           "zerolinewidth": 2
          }
         }
        },
        "title": {
         "text": "Correlation matrix for inputs with method: spearman"
        },
        "xaxis": {
         "anchor": "y",
         "constrain": "domain",
         "domain": [
          0,
          1
         ],
         "scaleanchor": "y",
         "title": {
          "text": "Inputs"
         }
        },
        "yaxis": {
         "anchor": "x",
         "autorange": "reversed",
         "constrain": "domain",
         "domain": [
          0,
          1
         ],
         "title": {
          "text": "Inputs"
         }
        }
       }
      }
     },
     "metadata": {},
     "output_type": "display_data"
    }
   ],
   "source": [
    "matrice_df = df.copy()\n",
    "\n",
    "liste_input = [\"Time\",\"Date\",\"Day of the week\",\"CarCount\",\"BikeCount\",\"BusCount\",\"TruckCount\",\"Total\"]\n",
    "methods = [\"kendall\",\"pearson\",\"spearman\"]\n",
    "dict_matrice = {}\n",
    "\n",
    "for method in methods:\n",
    "    dict_matrice[method] = np.zeros((8,8))\n",
    "    for i,input_i in enumerate(liste_input):\n",
    "        for j,input_j in enumerate(liste_input):\n",
    "            try:\n",
    "                dict_matrice[method][i][j] = matrice_df[input_i].corr(matrice_df[input_j],method=method)\n",
    "            except:\n",
    "                dict_matrice[method][i][j] = 0\n",
    "for method,matrice in dict_matrice.items():\n",
    "    fig = px.imshow(matrice,title=f\"Correlation matrix for inputs with method: {method}\",\n",
    "                    labels=dict(x=\"Inputs\", y=\"Inputs\", color=\"Correlation\"),\n",
    "                    x=liste_input,\n",
    "                    y=liste_input)\n",
    "    fig.show()\n",
    "    "
   ]
  },
  {
   "cell_type": "markdown",
   "metadata": {},
   "source": [
    "## Prediction"
   ]
  },
  {
   "cell_type": "markdown",
   "metadata": {},
   "source": [
    "##### Encoded data"
   ]
  },
  {
   "cell_type": "code",
   "execution_count": 83,
   "metadata": {},
   "outputs": [],
   "source": [
    "\n",
    "\n",
    "predict_df = pd.read_csv(\"sources/Traffic.csv\")\n",
    "\n",
    "# Colonne to change in numeric format\n",
    "categorical_columns = [\"Time\", \"Day of the week\"]\n",
    "\n",
    "# Encoded \n",
    "label_encoder = LabelEncoder()\n",
    "predict_df_encoded = predict_df.copy()  \n",
    "\n",
    "\n",
    "predict_df_encoded['Time'] = pd.to_datetime(predict_df['Time'])\n",
    "\n",
    "predict_df_encoded['Hour'] = predict_df_encoded['Time'].dt.hour  # extract hour\n",
    "predict_df_encoded['Minute'] = predict_df_encoded['Time'].dt.minute  # Extract minute\n",
    "\n",
    "# AM_PO\n",
    "predict_df_encoded['AM_PM'] = predict_df_encoded['Time'].dt.strftime('%p')\n",
    "predict_df_encoded['AM_PM'] = predict_df_encoded['AM_PM'].map({'AM': 0, 'PM': 1})\n",
    "\n",
    "\n",
    "predict_df_encoded[\"Day of the week\" + '_encoded'] = label_encoder.fit_transform(predict_df[\"Day of the week\"])\n",
    "\n",
    "\n",
    "selected_features = [\"CarCount\", \"BikeCount\", \"BusCount\", \"TruckCount\", \"Total\", \"Day of the week_encoded\",\"Hour\", \"Minute\", \"AM_PM\",\"Date\",\"Traffic Situation\"]\n",
    "# selected_features = [\"CarCount\", \"BikeCount\", \"BusCount\", \"TruckCount\", \"Total\", \"Day of the week_encoded\",\"Date\",\"Traffic Situation\"]\n",
    "# selected_features = [\"CarCount\", \"BikeCount\", \"BusCount\", \"TruckCount\", \"Total\",\"Traffic Situation\"]\n",
    "\n",
    "X = predict_df_encoded[selected_features]\n",
    "#Now, X add numeric caracteristic and encoded one for training"
   ]
  },
  {
   "cell_type": "markdown",
   "metadata": {},
   "source": [
    "#### Neuronal network"
   ]
  },
  {
   "cell_type": "code",
   "execution_count": 84,
   "metadata": {},
   "outputs": [
    {
     "name": "stdout",
     "output_type": "stream",
     "text": [
      "Epoch 1/200\n",
      "149/149 - 1s - loss: 1.2084 - accuracy: 0.5197 - val_loss: 0.8537 - val_accuracy: 0.7025 - 528ms/epoch - 4ms/step\n",
      "Epoch 2/200\n",
      "149/149 - 0s - loss: 0.9817 - accuracy: 0.6261 - val_loss: 0.7646 - val_accuracy: 0.7114 - 141ms/epoch - 946us/step\n",
      "Epoch 3/200\n",
      "149/149 - 0s - loss: 0.8582 - accuracy: 0.6706 - val_loss: 0.7057 - val_accuracy: 0.7226 - 135ms/epoch - 906us/step\n",
      "Epoch 4/200\n",
      "149/149 - 0s - loss: 0.7758 - accuracy: 0.6954 - val_loss: 0.6605 - val_accuracy: 0.7271 - 142ms/epoch - 953us/step\n",
      "Epoch 5/200\n",
      "149/149 - 0s - loss: 0.7143 - accuracy: 0.7130 - val_loss: 0.6259 - val_accuracy: 0.7405 - 144ms/epoch - 966us/step\n",
      "Epoch 6/200\n",
      "149/149 - 0s - loss: 0.6653 - accuracy: 0.7277 - val_loss: 0.5969 - val_accuracy: 0.7539 - 149ms/epoch - 1000us/step\n",
      "Epoch 7/200\n",
      "149/149 - 0s - loss: 0.6253 - accuracy: 0.7420 - val_loss: 0.5724 - val_accuracy: 0.7562 - 164ms/epoch - 1ms/step\n",
      "Epoch 8/200\n",
      "149/149 - 0s - loss: 0.5922 - accuracy: 0.7576 - val_loss: 0.5515 - val_accuracy: 0.7718 - 136ms/epoch - 913us/step\n",
      "Epoch 9/200\n",
      "149/149 - 0s - loss: 0.5647 - accuracy: 0.7693 - val_loss: 0.5338 - val_accuracy: 0.7808 - 153ms/epoch - 1ms/step\n",
      "Epoch 10/200\n",
      "149/149 - 0s - loss: 0.5414 - accuracy: 0.7794 - val_loss: 0.5171 - val_accuracy: 0.7897 - 152ms/epoch - 1ms/step\n",
      "Epoch 11/200\n",
      "149/149 - 0s - loss: 0.5215 - accuracy: 0.7861 - val_loss: 0.5024 - val_accuracy: 0.8031 - 144ms/epoch - 966us/step\n",
      "Epoch 12/200\n",
      "149/149 - 0s - loss: 0.5046 - accuracy: 0.7908 - val_loss: 0.4899 - val_accuracy: 0.8076 - 161ms/epoch - 1ms/step\n",
      "Epoch 13/200\n",
      "149/149 - 0s - loss: 0.4897 - accuracy: 0.7966 - val_loss: 0.4779 - val_accuracy: 0.8143 - 159ms/epoch - 1ms/step\n",
      "Epoch 14/200\n",
      "149/149 - 0s - loss: 0.4769 - accuracy: 0.8050 - val_loss: 0.4678 - val_accuracy: 0.8210 - 153ms/epoch - 1ms/step\n",
      "Epoch 15/200\n",
      "149/149 - 0s - loss: 0.4654 - accuracy: 0.8139 - val_loss: 0.4570 - val_accuracy: 0.8255 - 177ms/epoch - 1ms/step\n",
      "Epoch 16/200\n",
      "149/149 - 0s - loss: 0.4552 - accuracy: 0.8218 - val_loss: 0.4478 - val_accuracy: 0.8300 - 138ms/epoch - 926us/step\n",
      "Epoch 17/200\n",
      "149/149 - 0s - loss: 0.4459 - accuracy: 0.8273 - val_loss: 0.4398 - val_accuracy: 0.8434 - 138ms/epoch - 926us/step\n",
      "Epoch 18/200\n",
      "149/149 - 0s - loss: 0.4378 - accuracy: 0.8315 - val_loss: 0.4325 - val_accuracy: 0.8501 - 180ms/epoch - 1ms/step\n",
      "Epoch 19/200\n",
      "149/149 - 0s - loss: 0.4301 - accuracy: 0.8366 - val_loss: 0.4257 - val_accuracy: 0.8546 - 193ms/epoch - 1ms/step\n",
      "Epoch 20/200\n",
      "149/149 - 0s - loss: 0.4234 - accuracy: 0.8374 - val_loss: 0.4188 - val_accuracy: 0.8568 - 204ms/epoch - 1ms/step\n",
      "Epoch 21/200\n",
      "149/149 - 0s - loss: 0.4172 - accuracy: 0.8412 - val_loss: 0.4127 - val_accuracy: 0.8635 - 197ms/epoch - 1ms/step\n",
      "Epoch 22/200\n",
      "149/149 - 0s - loss: 0.4115 - accuracy: 0.8437 - val_loss: 0.4064 - val_accuracy: 0.8680 - 220ms/epoch - 1ms/step\n",
      "Epoch 23/200\n",
      "149/149 - 0s - loss: 0.4061 - accuracy: 0.8479 - val_loss: 0.4017 - val_accuracy: 0.8725 - 138ms/epoch - 926us/step\n",
      "Epoch 24/200\n",
      "149/149 - 0s - loss: 0.4013 - accuracy: 0.8500 - val_loss: 0.3962 - val_accuracy: 0.8747 - 145ms/epoch - 973us/step\n",
      "Epoch 25/200\n",
      "149/149 - 0s - loss: 0.3967 - accuracy: 0.8517 - val_loss: 0.3920 - val_accuracy: 0.8770 - 139ms/epoch - 933us/step\n",
      "Epoch 26/200\n",
      "149/149 - 0s - loss: 0.3923 - accuracy: 0.8529 - val_loss: 0.3873 - val_accuracy: 0.8837 - 135ms/epoch - 906us/step\n",
      "Epoch 27/200\n",
      "149/149 - 0s - loss: 0.3884 - accuracy: 0.8538 - val_loss: 0.3834 - val_accuracy: 0.8814 - 156ms/epoch - 1ms/step\n",
      "Epoch 28/200\n",
      "149/149 - 0s - loss: 0.3846 - accuracy: 0.8534 - val_loss: 0.3799 - val_accuracy: 0.8881 - 148ms/epoch - 993us/step\n",
      "Epoch 29/200\n",
      "149/149 - 0s - loss: 0.3812 - accuracy: 0.8571 - val_loss: 0.3766 - val_accuracy: 0.8926 - 135ms/epoch - 906us/step\n",
      "Epoch 30/200\n",
      "149/149 - 0s - loss: 0.3779 - accuracy: 0.8601 - val_loss: 0.3732 - val_accuracy: 0.8971 - 140ms/epoch - 940us/step\n",
      "Epoch 31/200\n",
      "149/149 - 0s - loss: 0.3749 - accuracy: 0.8601 - val_loss: 0.3696 - val_accuracy: 0.8971 - 138ms/epoch - 926us/step\n",
      "Epoch 32/200\n",
      "149/149 - 0s - loss: 0.3719 - accuracy: 0.8630 - val_loss: 0.3659 - val_accuracy: 0.8904 - 134ms/epoch - 899us/step\n",
      "Epoch 33/200\n",
      "149/149 - 0s - loss: 0.3694 - accuracy: 0.8576 - val_loss: 0.3638 - val_accuracy: 0.8993 - 144ms/epoch - 966us/step\n",
      "Epoch 34/200\n",
      "149/149 - 0s - loss: 0.3667 - accuracy: 0.8651 - val_loss: 0.3619 - val_accuracy: 0.8971 - 147ms/epoch - 987us/step\n",
      "Epoch 35/200\n",
      "149/149 - 0s - loss: 0.3644 - accuracy: 0.8647 - val_loss: 0.3589 - val_accuracy: 0.8971 - 145ms/epoch - 973us/step\n",
      "Epoch 36/200\n",
      "149/149 - 0s - loss: 0.3621 - accuracy: 0.8672 - val_loss: 0.3563 - val_accuracy: 0.8971 - 141ms/epoch - 946us/step\n",
      "Epoch 37/200\n",
      "149/149 - 0s - loss: 0.3599 - accuracy: 0.8664 - val_loss: 0.3538 - val_accuracy: 0.8971 - 140ms/epoch - 940us/step\n",
      "Epoch 38/200\n",
      "149/149 - 0s - loss: 0.3577 - accuracy: 0.8689 - val_loss: 0.3523 - val_accuracy: 0.8971 - 163ms/epoch - 1ms/step\n",
      "Epoch 39/200\n",
      "149/149 - 0s - loss: 0.3558 - accuracy: 0.8706 - val_loss: 0.3498 - val_accuracy: 0.8971 - 209ms/epoch - 1ms/step\n",
      "Epoch 40/200\n",
      "149/149 - 0s - loss: 0.3539 - accuracy: 0.8706 - val_loss: 0.3473 - val_accuracy: 0.8971 - 137ms/epoch - 919us/step\n",
      "Epoch 41/200\n",
      "149/149 - 0s - loss: 0.3522 - accuracy: 0.8706 - val_loss: 0.3451 - val_accuracy: 0.8993 - 216ms/epoch - 1ms/step\n",
      "Epoch 42/200\n",
      "149/149 - 0s - loss: 0.3504 - accuracy: 0.8693 - val_loss: 0.3436 - val_accuracy: 0.8993 - 139ms/epoch - 933us/step\n",
      "Epoch 43/200\n",
      "149/149 - 0s - loss: 0.3489 - accuracy: 0.8714 - val_loss: 0.3423 - val_accuracy: 0.8971 - 136ms/epoch - 913us/step\n",
      "Epoch 44/200\n",
      "149/149 - 0s - loss: 0.3473 - accuracy: 0.8731 - val_loss: 0.3408 - val_accuracy: 0.8993 - 162ms/epoch - 1ms/step\n",
      "Epoch 45/200\n",
      "149/149 - 0s - loss: 0.3458 - accuracy: 0.8718 - val_loss: 0.3390 - val_accuracy: 0.9016 - 161ms/epoch - 1ms/step\n",
      "Epoch 46/200\n",
      "149/149 - 0s - loss: 0.3444 - accuracy: 0.8735 - val_loss: 0.3377 - val_accuracy: 0.9038 - 160ms/epoch - 1ms/step\n",
      "Epoch 47/200\n",
      "149/149 - 0s - loss: 0.3430 - accuracy: 0.8727 - val_loss: 0.3358 - val_accuracy: 0.9016 - 180ms/epoch - 1ms/step\n",
      "Epoch 48/200\n",
      "149/149 - 0s - loss: 0.3417 - accuracy: 0.8752 - val_loss: 0.3343 - val_accuracy: 0.9016 - 157ms/epoch - 1ms/step\n",
      "Epoch 49/200\n",
      "149/149 - 0s - loss: 0.3403 - accuracy: 0.8752 - val_loss: 0.3329 - val_accuracy: 0.9016 - 166ms/epoch - 1ms/step\n",
      "Epoch 50/200\n",
      "149/149 - 0s - loss: 0.3394 - accuracy: 0.8773 - val_loss: 0.3316 - val_accuracy: 0.9038 - 181ms/epoch - 1ms/step\n",
      "Epoch 51/200\n",
      "149/149 - 0s - loss: 0.3383 - accuracy: 0.8756 - val_loss: 0.3302 - val_accuracy: 0.9016 - 191ms/epoch - 1ms/step\n",
      "Epoch 52/200\n",
      "149/149 - 0s - loss: 0.3371 - accuracy: 0.8769 - val_loss: 0.3293 - val_accuracy: 0.9016 - 168ms/epoch - 1ms/step\n",
      "Epoch 53/200\n",
      "149/149 - 0s - loss: 0.3360 - accuracy: 0.8777 - val_loss: 0.3284 - val_accuracy: 0.9016 - 149ms/epoch - 1ms/step\n",
      "Epoch 54/200\n",
      "149/149 - 0s - loss: 0.3350 - accuracy: 0.8769 - val_loss: 0.3272 - val_accuracy: 0.8993 - 147ms/epoch - 987us/step\n",
      "Epoch 55/200\n",
      "149/149 - 0s - loss: 0.3339 - accuracy: 0.8782 - val_loss: 0.3262 - val_accuracy: 0.8993 - 132ms/epoch - 886us/step\n",
      "Epoch 56/200\n",
      "149/149 - 0s - loss: 0.3329 - accuracy: 0.8790 - val_loss: 0.3255 - val_accuracy: 0.8993 - 133ms/epoch - 893us/step\n",
      "Epoch 57/200\n",
      "149/149 - 0s - loss: 0.3321 - accuracy: 0.8777 - val_loss: 0.3237 - val_accuracy: 0.9016 - 173ms/epoch - 1ms/step\n",
      "Epoch 58/200\n",
      "149/149 - 0s - loss: 0.3313 - accuracy: 0.8798 - val_loss: 0.3234 - val_accuracy: 0.9016 - 135ms/epoch - 906us/step\n",
      "Epoch 59/200\n",
      "149/149 - 0s - loss: 0.3303 - accuracy: 0.8782 - val_loss: 0.3218 - val_accuracy: 0.8993 - 174ms/epoch - 1ms/step\n",
      "Epoch 60/200\n",
      "149/149 - 0s - loss: 0.3294 - accuracy: 0.8803 - val_loss: 0.3209 - val_accuracy: 0.8993 - 173ms/epoch - 1ms/step\n",
      "Epoch 61/200\n",
      "149/149 - 0s - loss: 0.3287 - accuracy: 0.8794 - val_loss: 0.3199 - val_accuracy: 0.8993 - 157ms/epoch - 1ms/step\n",
      "Epoch 62/200\n",
      "149/149 - 0s - loss: 0.3278 - accuracy: 0.8794 - val_loss: 0.3193 - val_accuracy: 0.8993 - 153ms/epoch - 1ms/step\n",
      "Epoch 63/200\n",
      "149/149 - 0s - loss: 0.3271 - accuracy: 0.8790 - val_loss: 0.3190 - val_accuracy: 0.8993 - 136ms/epoch - 913us/step\n",
      "Epoch 64/200\n",
      "149/149 - 0s - loss: 0.3263 - accuracy: 0.8803 - val_loss: 0.3174 - val_accuracy: 0.8993 - 148ms/epoch - 993us/step\n",
      "Epoch 65/200\n",
      "149/149 - 0s - loss: 0.3256 - accuracy: 0.8798 - val_loss: 0.3171 - val_accuracy: 0.8993 - 164ms/epoch - 1ms/step\n",
      "Epoch 66/200\n",
      "149/149 - 0s - loss: 0.3250 - accuracy: 0.8803 - val_loss: 0.3160 - val_accuracy: 0.8993 - 166ms/epoch - 1ms/step\n",
      "Epoch 67/200\n",
      "149/149 - 0s - loss: 0.3243 - accuracy: 0.8811 - val_loss: 0.3157 - val_accuracy: 0.8993 - 153ms/epoch - 1ms/step\n",
      "Epoch 68/200\n",
      "149/149 - 0s - loss: 0.3236 - accuracy: 0.8807 - val_loss: 0.3149 - val_accuracy: 0.8993 - 158ms/epoch - 1ms/step\n",
      "Epoch 69/200\n",
      "149/149 - 0s - loss: 0.3230 - accuracy: 0.8807 - val_loss: 0.3142 - val_accuracy: 0.8993 - 160ms/epoch - 1ms/step\n",
      "Epoch 70/200\n",
      "149/149 - 0s - loss: 0.3225 - accuracy: 0.8811 - val_loss: 0.3135 - val_accuracy: 0.9016 - 148ms/epoch - 993us/step\n",
      "Epoch 71/200\n",
      "149/149 - 0s - loss: 0.3217 - accuracy: 0.8828 - val_loss: 0.3127 - val_accuracy: 0.9016 - 144ms/epoch - 966us/step\n",
      "Epoch 72/200\n",
      "149/149 - 0s - loss: 0.3212 - accuracy: 0.8824 - val_loss: 0.3118 - val_accuracy: 0.8993 - 139ms/epoch - 933us/step\n",
      "Epoch 73/200\n",
      "149/149 - 0s - loss: 0.3207 - accuracy: 0.8815 - val_loss: 0.3113 - val_accuracy: 0.9016 - 134ms/epoch - 899us/step\n",
      "Epoch 74/200\n",
      "149/149 - 0s - loss: 0.3201 - accuracy: 0.8807 - val_loss: 0.3108 - val_accuracy: 0.9016 - 131ms/epoch - 879us/step\n",
      "Epoch 75/200\n",
      "149/149 - 0s - loss: 0.3195 - accuracy: 0.8819 - val_loss: 0.3097 - val_accuracy: 0.9038 - 132ms/epoch - 886us/step\n",
      "Epoch 76/200\n",
      "149/149 - 0s - loss: 0.3191 - accuracy: 0.8811 - val_loss: 0.3089 - val_accuracy: 0.9038 - 131ms/epoch - 879us/step\n",
      "Epoch 77/200\n",
      "149/149 - 0s - loss: 0.3185 - accuracy: 0.8815 - val_loss: 0.3088 - val_accuracy: 0.9016 - 131ms/epoch - 879us/step\n",
      "Epoch 78/200\n",
      "149/149 - 0s - loss: 0.3180 - accuracy: 0.8819 - val_loss: 0.3081 - val_accuracy: 0.9016 - 154ms/epoch - 1ms/step\n",
      "Epoch 79/200\n",
      "149/149 - 0s - loss: 0.3175 - accuracy: 0.8819 - val_loss: 0.3076 - val_accuracy: 0.9060 - 133ms/epoch - 893us/step\n",
      "Epoch 80/200\n",
      "149/149 - 0s - loss: 0.3171 - accuracy: 0.8824 - val_loss: 0.3070 - val_accuracy: 0.9060 - 143ms/epoch - 960us/step\n",
      "Epoch 81/200\n",
      "149/149 - 0s - loss: 0.3167 - accuracy: 0.8815 - val_loss: 0.3066 - val_accuracy: 0.9038 - 283ms/epoch - 2ms/step\n",
      "Epoch 82/200\n",
      "149/149 - 0s - loss: 0.3162 - accuracy: 0.8815 - val_loss: 0.3059 - val_accuracy: 0.9038 - 356ms/epoch - 2ms/step\n",
      "Epoch 83/200\n",
      "149/149 - 0s - loss: 0.3157 - accuracy: 0.8828 - val_loss: 0.3055 - val_accuracy: 0.9060 - 280ms/epoch - 2ms/step\n",
      "Epoch 84/200\n",
      "149/149 - 0s - loss: 0.3153 - accuracy: 0.8845 - val_loss: 0.3051 - val_accuracy: 0.9038 - 241ms/epoch - 2ms/step\n",
      "Epoch 85/200\n",
      "149/149 - 0s - loss: 0.3149 - accuracy: 0.8836 - val_loss: 0.3043 - val_accuracy: 0.9060 - 236ms/epoch - 2ms/step\n",
      "Epoch 86/200\n",
      "149/149 - 0s - loss: 0.3145 - accuracy: 0.8840 - val_loss: 0.3038 - val_accuracy: 0.9060 - 246ms/epoch - 2ms/step\n",
      "Epoch 87/200\n",
      "149/149 - 0s - loss: 0.3141 - accuracy: 0.8828 - val_loss: 0.3031 - val_accuracy: 0.9083 - 245ms/epoch - 2ms/step\n",
      "Epoch 88/200\n",
      "149/149 - 0s - loss: 0.3137 - accuracy: 0.8836 - val_loss: 0.3032 - val_accuracy: 0.9060 - 186ms/epoch - 1ms/step\n",
      "Epoch 89/200\n",
      "149/149 - 0s - loss: 0.3133 - accuracy: 0.8832 - val_loss: 0.3030 - val_accuracy: 0.9060 - 156ms/epoch - 1ms/step\n",
      "Epoch 90/200\n",
      "149/149 - 0s - loss: 0.3129 - accuracy: 0.8824 - val_loss: 0.3022 - val_accuracy: 0.9060 - 219ms/epoch - 1ms/step\n",
      "Epoch 91/200\n",
      "149/149 - 0s - loss: 0.3126 - accuracy: 0.8836 - val_loss: 0.3015 - val_accuracy: 0.9060 - 215ms/epoch - 1ms/step\n",
      "Epoch 92/200\n",
      "149/149 - 0s - loss: 0.3123 - accuracy: 0.8845 - val_loss: 0.3010 - val_accuracy: 0.9083 - 174ms/epoch - 1ms/step\n",
      "Epoch 93/200\n",
      "149/149 - 0s - loss: 0.3119 - accuracy: 0.8840 - val_loss: 0.3012 - val_accuracy: 0.9083 - 144ms/epoch - 966us/step\n",
      "Epoch 94/200\n",
      "149/149 - 0s - loss: 0.3116 - accuracy: 0.8836 - val_loss: 0.3008 - val_accuracy: 0.9083 - 135ms/epoch - 906us/step\n",
      "Epoch 95/200\n",
      "149/149 - 0s - loss: 0.3111 - accuracy: 0.8845 - val_loss: 0.3003 - val_accuracy: 0.9083 - 174ms/epoch - 1ms/step\n",
      "Epoch 96/200\n",
      "149/149 - 0s - loss: 0.3108 - accuracy: 0.8845 - val_loss: 0.2999 - val_accuracy: 0.9083 - 137ms/epoch - 919us/step\n",
      "Epoch 97/200\n",
      "149/149 - 0s - loss: 0.3105 - accuracy: 0.8840 - val_loss: 0.2993 - val_accuracy: 0.9083 - 133ms/epoch - 893us/step\n",
      "Epoch 98/200\n",
      "149/149 - 0s - loss: 0.3104 - accuracy: 0.8849 - val_loss: 0.2989 - val_accuracy: 0.9083 - 155ms/epoch - 1ms/step\n",
      "Epoch 99/200\n",
      "149/149 - 0s - loss: 0.3099 - accuracy: 0.8840 - val_loss: 0.2986 - val_accuracy: 0.9083 - 157ms/epoch - 1ms/step\n",
      "Epoch 100/200\n",
      "149/149 - 0s - loss: 0.3096 - accuracy: 0.8840 - val_loss: 0.2983 - val_accuracy: 0.9083 - 145ms/epoch - 973us/step\n",
      "Epoch 101/200\n",
      "149/149 - 0s - loss: 0.3092 - accuracy: 0.8857 - val_loss: 0.2984 - val_accuracy: 0.9083 - 142ms/epoch - 953us/step\n",
      "Epoch 102/200\n",
      "149/149 - 0s - loss: 0.3090 - accuracy: 0.8849 - val_loss: 0.2977 - val_accuracy: 0.9105 - 149ms/epoch - 1ms/step\n",
      "Epoch 103/200\n",
      "149/149 - 0s - loss: 0.3087 - accuracy: 0.8840 - val_loss: 0.2975 - val_accuracy: 0.9105 - 148ms/epoch - 993us/step\n",
      "Epoch 104/200\n",
      "149/149 - 0s - loss: 0.3085 - accuracy: 0.8853 - val_loss: 0.2976 - val_accuracy: 0.9083 - 153ms/epoch - 1ms/step\n",
      "Epoch 105/200\n",
      "149/149 - 0s - loss: 0.3082 - accuracy: 0.8853 - val_loss: 0.2966 - val_accuracy: 0.9083 - 154ms/epoch - 1ms/step\n",
      "Epoch 106/200\n",
      "149/149 - 0s - loss: 0.3079 - accuracy: 0.8861 - val_loss: 0.2961 - val_accuracy: 0.9105 - 147ms/epoch - 987us/step\n",
      "Epoch 107/200\n",
      "149/149 - 0s - loss: 0.3077 - accuracy: 0.8840 - val_loss: 0.2963 - val_accuracy: 0.9083 - 144ms/epoch - 966us/step\n",
      "Epoch 108/200\n",
      "149/149 - 0s - loss: 0.3074 - accuracy: 0.8853 - val_loss: 0.2958 - val_accuracy: 0.9105 - 158ms/epoch - 1ms/step\n",
      "Epoch 109/200\n",
      "149/149 - 0s - loss: 0.3074 - accuracy: 0.8849 - val_loss: 0.2955 - val_accuracy: 0.9105 - 140ms/epoch - 940us/step\n",
      "Epoch 110/200\n",
      "149/149 - 0s - loss: 0.3069 - accuracy: 0.8857 - val_loss: 0.2951 - val_accuracy: 0.9083 - 152ms/epoch - 1ms/step\n",
      "Epoch 111/200\n",
      "149/149 - 0s - loss: 0.3067 - accuracy: 0.8853 - val_loss: 0.2952 - val_accuracy: 0.9083 - 167ms/epoch - 1ms/step\n",
      "Epoch 112/200\n",
      "149/149 - 0s - loss: 0.3063 - accuracy: 0.8861 - val_loss: 0.2947 - val_accuracy: 0.9105 - 307ms/epoch - 2ms/step\n",
      "Epoch 113/200\n",
      "149/149 - 0s - loss: 0.3062 - accuracy: 0.8849 - val_loss: 0.2946 - val_accuracy: 0.9105 - 485ms/epoch - 3ms/step\n",
      "Epoch 114/200\n",
      "149/149 - 0s - loss: 0.3060 - accuracy: 0.8853 - val_loss: 0.2945 - val_accuracy: 0.9105 - 411ms/epoch - 3ms/step\n",
      "Epoch 115/200\n",
      "149/149 - 0s - loss: 0.3058 - accuracy: 0.8857 - val_loss: 0.2938 - val_accuracy: 0.9105 - 308ms/epoch - 2ms/step\n",
      "Epoch 116/200\n",
      "149/149 - 0s - loss: 0.3056 - accuracy: 0.8853 - val_loss: 0.2934 - val_accuracy: 0.9105 - 216ms/epoch - 1ms/step\n",
      "Epoch 117/200\n",
      "149/149 - 0s - loss: 0.3054 - accuracy: 0.8853 - val_loss: 0.2932 - val_accuracy: 0.9105 - 217ms/epoch - 1ms/step\n",
      "Epoch 118/200\n",
      "149/149 - 0s - loss: 0.3051 - accuracy: 0.8861 - val_loss: 0.2928 - val_accuracy: 0.9105 - 177ms/epoch - 1ms/step\n",
      "Epoch 119/200\n",
      "149/149 - 0s - loss: 0.3049 - accuracy: 0.8857 - val_loss: 0.2925 - val_accuracy: 0.9105 - 152ms/epoch - 1ms/step\n",
      "Epoch 120/200\n",
      "149/149 - 0s - loss: 0.3047 - accuracy: 0.8866 - val_loss: 0.2927 - val_accuracy: 0.9105 - 160ms/epoch - 1ms/step\n",
      "Epoch 121/200\n",
      "149/149 - 0s - loss: 0.3046 - accuracy: 0.8857 - val_loss: 0.2924 - val_accuracy: 0.9105 - 192ms/epoch - 1ms/step\n",
      "Epoch 122/200\n",
      "149/149 - 0s - loss: 0.3043 - accuracy: 0.8853 - val_loss: 0.2926 - val_accuracy: 0.9105 - 162ms/epoch - 1ms/step\n",
      "Epoch 123/200\n",
      "149/149 - 0s - loss: 0.3041 - accuracy: 0.8866 - val_loss: 0.2916 - val_accuracy: 0.9105 - 138ms/epoch - 926us/step\n",
      "Epoch 124/200\n",
      "149/149 - 0s - loss: 0.3039 - accuracy: 0.8874 - val_loss: 0.2915 - val_accuracy: 0.9105 - 179ms/epoch - 1ms/step\n",
      "Epoch 125/200\n",
      "149/149 - 0s - loss: 0.3037 - accuracy: 0.8861 - val_loss: 0.2913 - val_accuracy: 0.9105 - 151ms/epoch - 1ms/step\n",
      "Epoch 126/200\n",
      "149/149 - 0s - loss: 0.3034 - accuracy: 0.8853 - val_loss: 0.2911 - val_accuracy: 0.9105 - 142ms/epoch - 953us/step\n",
      "Epoch 127/200\n",
      "149/149 - 0s - loss: 0.3034 - accuracy: 0.8874 - val_loss: 0.2907 - val_accuracy: 0.9105 - 133ms/epoch - 893us/step\n",
      "Epoch 128/200\n",
      "149/149 - 0s - loss: 0.3032 - accuracy: 0.8878 - val_loss: 0.2908 - val_accuracy: 0.9128 - 211ms/epoch - 1ms/step\n",
      "Epoch 129/200\n",
      "149/149 - 0s - loss: 0.3030 - accuracy: 0.8874 - val_loss: 0.2903 - val_accuracy: 0.9105 - 139ms/epoch - 933us/step\n",
      "Epoch 130/200\n",
      "149/149 - 0s - loss: 0.3028 - accuracy: 0.8861 - val_loss: 0.2899 - val_accuracy: 0.9105 - 128ms/epoch - 859us/step\n",
      "Epoch 131/200\n",
      "149/149 - 0s - loss: 0.3025 - accuracy: 0.8874 - val_loss: 0.2901 - val_accuracy: 0.9128 - 127ms/epoch - 852us/step\n",
      "Epoch 132/200\n",
      "149/149 - 0s - loss: 0.3024 - accuracy: 0.8874 - val_loss: 0.2900 - val_accuracy: 0.9128 - 183ms/epoch - 1ms/step\n",
      "Epoch 133/200\n",
      "149/149 - 0s - loss: 0.3023 - accuracy: 0.8870 - val_loss: 0.2900 - val_accuracy: 0.9128 - 138ms/epoch - 926us/step\n",
      "Epoch 134/200\n",
      "149/149 - 0s - loss: 0.3022 - accuracy: 0.8870 - val_loss: 0.2895 - val_accuracy: 0.9128 - 134ms/epoch - 899us/step\n",
      "Epoch 135/200\n",
      "149/149 - 0s - loss: 0.3020 - accuracy: 0.8878 - val_loss: 0.2894 - val_accuracy: 0.9128 - 136ms/epoch - 913us/step\n",
      "Epoch 136/200\n",
      "149/149 - 0s - loss: 0.3018 - accuracy: 0.8878 - val_loss: 0.2889 - val_accuracy: 0.9128 - 132ms/epoch - 886us/step\n",
      "Epoch 137/200\n",
      "149/149 - 0s - loss: 0.3017 - accuracy: 0.8866 - val_loss: 0.2888 - val_accuracy: 0.9128 - 131ms/epoch - 879us/step\n",
      "Epoch 138/200\n",
      "149/149 - 0s - loss: 0.3015 - accuracy: 0.8857 - val_loss: 0.2885 - val_accuracy: 0.9128 - 132ms/epoch - 886us/step\n",
      "Epoch 139/200\n",
      "149/149 - 0s - loss: 0.3015 - accuracy: 0.8870 - val_loss: 0.2887 - val_accuracy: 0.9128 - 127ms/epoch - 852us/step\n",
      "Epoch 140/200\n",
      "149/149 - 0s - loss: 0.3011 - accuracy: 0.8891 - val_loss: 0.2885 - val_accuracy: 0.9128 - 126ms/epoch - 846us/step\n",
      "Epoch 141/200\n",
      "149/149 - 0s - loss: 0.3014 - accuracy: 0.8887 - val_loss: 0.2883 - val_accuracy: 0.9128 - 129ms/epoch - 866us/step\n",
      "Epoch 142/200\n",
      "149/149 - 0s - loss: 0.3009 - accuracy: 0.8882 - val_loss: 0.2880 - val_accuracy: 0.9128 - 126ms/epoch - 846us/step\n",
      "Epoch 143/200\n",
      "149/149 - 0s - loss: 0.3009 - accuracy: 0.8887 - val_loss: 0.2876 - val_accuracy: 0.9128 - 132ms/epoch - 886us/step\n",
      "Epoch 144/200\n",
      "149/149 - 0s - loss: 0.3006 - accuracy: 0.8878 - val_loss: 0.2879 - val_accuracy: 0.9128 - 129ms/epoch - 866us/step\n",
      "Epoch 145/200\n",
      "149/149 - 0s - loss: 0.3005 - accuracy: 0.8882 - val_loss: 0.2874 - val_accuracy: 0.9128 - 130ms/epoch - 872us/step\n",
      "Epoch 146/200\n",
      "149/149 - 0s - loss: 0.3003 - accuracy: 0.8903 - val_loss: 0.2869 - val_accuracy: 0.9128 - 129ms/epoch - 866us/step\n",
      "Epoch 147/200\n",
      "149/149 - 0s - loss: 0.3003 - accuracy: 0.8882 - val_loss: 0.2875 - val_accuracy: 0.9128 - 128ms/epoch - 859us/step\n",
      "Epoch 148/200\n",
      "149/149 - 0s - loss: 0.3001 - accuracy: 0.8878 - val_loss: 0.2872 - val_accuracy: 0.9128 - 135ms/epoch - 906us/step\n",
      "Epoch 149/200\n",
      "149/149 - 0s - loss: 0.2999 - accuracy: 0.8895 - val_loss: 0.2870 - val_accuracy: 0.9128 - 131ms/epoch - 879us/step\n",
      "Epoch 150/200\n",
      "149/149 - 0s - loss: 0.3001 - accuracy: 0.8866 - val_loss: 0.2873 - val_accuracy: 0.9128 - 127ms/epoch - 852us/step\n",
      "Epoch 151/200\n",
      "149/149 - 0s - loss: 0.2997 - accuracy: 0.8887 - val_loss: 0.2863 - val_accuracy: 0.9128 - 129ms/epoch - 866us/step\n",
      "Epoch 152/200\n",
      "149/149 - 0s - loss: 0.2997 - accuracy: 0.8887 - val_loss: 0.2860 - val_accuracy: 0.9128 - 125ms/epoch - 839us/step\n",
      "Epoch 153/200\n",
      "149/149 - 0s - loss: 0.2995 - accuracy: 0.8895 - val_loss: 0.2857 - val_accuracy: 0.9128 - 129ms/epoch - 866us/step\n",
      "Epoch 154/200\n",
      "149/149 - 0s - loss: 0.2993 - accuracy: 0.8891 - val_loss: 0.2856 - val_accuracy: 0.9128 - 127ms/epoch - 852us/step\n",
      "Epoch 155/200\n",
      "149/149 - 0s - loss: 0.2992 - accuracy: 0.8899 - val_loss: 0.2855 - val_accuracy: 0.9128 - 128ms/epoch - 859us/step\n",
      "Epoch 156/200\n",
      "149/149 - 0s - loss: 0.2990 - accuracy: 0.8887 - val_loss: 0.2855 - val_accuracy: 0.9128 - 136ms/epoch - 913us/step\n",
      "Epoch 157/200\n",
      "149/149 - 0s - loss: 0.2990 - accuracy: 0.8887 - val_loss: 0.2854 - val_accuracy: 0.9128 - 144ms/epoch - 966us/step\n",
      "Epoch 158/200\n",
      "149/149 - 0s - loss: 0.2989 - accuracy: 0.8891 - val_loss: 0.2855 - val_accuracy: 0.9128 - 131ms/epoch - 879us/step\n",
      "Epoch 159/200\n",
      "149/149 - 0s - loss: 0.2988 - accuracy: 0.8903 - val_loss: 0.2856 - val_accuracy: 0.9128 - 127ms/epoch - 852us/step\n",
      "Epoch 160/200\n",
      "149/149 - 0s - loss: 0.2988 - accuracy: 0.8895 - val_loss: 0.2850 - val_accuracy: 0.9128 - 131ms/epoch - 879us/step\n",
      "Epoch 161/200\n",
      "149/149 - 0s - loss: 0.2986 - accuracy: 0.8903 - val_loss: 0.2853 - val_accuracy: 0.9128 - 130ms/epoch - 872us/step\n",
      "Epoch 162/200\n",
      "149/149 - 0s - loss: 0.2984 - accuracy: 0.8899 - val_loss: 0.2851 - val_accuracy: 0.9128 - 125ms/epoch - 839us/step\n",
      "Epoch 163/200\n",
      "149/149 - 0s - loss: 0.2983 - accuracy: 0.8899 - val_loss: 0.2846 - val_accuracy: 0.9128 - 129ms/epoch - 866us/step\n",
      "Epoch 164/200\n",
      "149/149 - 0s - loss: 0.2983 - accuracy: 0.8899 - val_loss: 0.2845 - val_accuracy: 0.9128 - 127ms/epoch - 852us/step\n",
      "Epoch 165/200\n",
      "149/149 - 0s - loss: 0.2981 - accuracy: 0.8882 - val_loss: 0.2841 - val_accuracy: 0.9128 - 128ms/epoch - 859us/step\n",
      "Epoch 166/200\n",
      "149/149 - 0s - loss: 0.2981 - accuracy: 0.8899 - val_loss: 0.2843 - val_accuracy: 0.9128 - 132ms/epoch - 886us/step\n",
      "Epoch 167/200\n",
      "149/149 - 0s - loss: 0.2979 - accuracy: 0.8912 - val_loss: 0.2843 - val_accuracy: 0.9128 - 130ms/epoch - 872us/step\n",
      "Epoch 168/200\n",
      "149/149 - 0s - loss: 0.2978 - accuracy: 0.8891 - val_loss: 0.2838 - val_accuracy: 0.9128 - 128ms/epoch - 859us/step\n",
      "Epoch 169/200\n",
      "149/149 - 0s - loss: 0.2977 - accuracy: 0.8899 - val_loss: 0.2835 - val_accuracy: 0.9128 - 126ms/epoch - 846us/step\n",
      "Epoch 170/200\n",
      "149/149 - 0s - loss: 0.2976 - accuracy: 0.8895 - val_loss: 0.2837 - val_accuracy: 0.9128 - 128ms/epoch - 859us/step\n",
      "Epoch 171/200\n",
      "149/149 - 0s - loss: 0.2976 - accuracy: 0.8899 - val_loss: 0.2836 - val_accuracy: 0.9128 - 132ms/epoch - 886us/step\n",
      "Epoch 172/200\n",
      "149/149 - 0s - loss: 0.2974 - accuracy: 0.8912 - val_loss: 0.2836 - val_accuracy: 0.9128 - 163ms/epoch - 1ms/step\n",
      "Epoch 173/200\n",
      "149/149 - 0s - loss: 0.2974 - accuracy: 0.8899 - val_loss: 0.2838 - val_accuracy: 0.9128 - 147ms/epoch - 987us/step\n",
      "Epoch 174/200\n",
      "149/149 - 0s - loss: 0.2972 - accuracy: 0.8912 - val_loss: 0.2834 - val_accuracy: 0.9128 - 139ms/epoch - 933us/step\n",
      "Epoch 175/200\n",
      "149/149 - 0s - loss: 0.2972 - accuracy: 0.8895 - val_loss: 0.2833 - val_accuracy: 0.9128 - 164ms/epoch - 1ms/step\n",
      "Epoch 176/200\n",
      "149/149 - 0s - loss: 0.2972 - accuracy: 0.8908 - val_loss: 0.2835 - val_accuracy: 0.9128 - 132ms/epoch - 886us/step\n",
      "Epoch 177/200\n",
      "149/149 - 0s - loss: 0.2970 - accuracy: 0.8903 - val_loss: 0.2831 - val_accuracy: 0.9128 - 131ms/epoch - 879us/step\n",
      "Epoch 178/200\n",
      "149/149 - 0s - loss: 0.2969 - accuracy: 0.8912 - val_loss: 0.2832 - val_accuracy: 0.9128 - 184ms/epoch - 1ms/step\n",
      "Epoch 179/200\n",
      "149/149 - 0s - loss: 0.2968 - accuracy: 0.8895 - val_loss: 0.2828 - val_accuracy: 0.9128 - 146ms/epoch - 980us/step\n",
      "Epoch 180/200\n",
      "149/149 - 0s - loss: 0.2967 - accuracy: 0.8916 - val_loss: 0.2828 - val_accuracy: 0.9128 - 208ms/epoch - 1ms/step\n",
      "Epoch 181/200\n",
      "149/149 - 0s - loss: 0.2966 - accuracy: 0.8903 - val_loss: 0.2827 - val_accuracy: 0.9128 - 153ms/epoch - 1ms/step\n",
      "Epoch 182/200\n",
      "149/149 - 0s - loss: 0.2965 - accuracy: 0.8908 - val_loss: 0.2826 - val_accuracy: 0.9128 - 170ms/epoch - 1ms/step\n",
      "Epoch 183/200\n",
      "149/149 - 0s - loss: 0.2964 - accuracy: 0.8912 - val_loss: 0.2828 - val_accuracy: 0.9128 - 147ms/epoch - 987us/step\n",
      "Epoch 184/200\n",
      "149/149 - 0s - loss: 0.2964 - accuracy: 0.8908 - val_loss: 0.2823 - val_accuracy: 0.9128 - 160ms/epoch - 1ms/step\n",
      "Epoch 185/200\n",
      "149/149 - 0s - loss: 0.2963 - accuracy: 0.8920 - val_loss: 0.2822 - val_accuracy: 0.9128 - 194ms/epoch - 1ms/step\n",
      "Epoch 186/200\n",
      "149/149 - 0s - loss: 0.2963 - accuracy: 0.8912 - val_loss: 0.2820 - val_accuracy: 0.9128 - 186ms/epoch - 1ms/step\n",
      "Epoch 187/200\n",
      "149/149 - 0s - loss: 0.2961 - accuracy: 0.8895 - val_loss: 0.2815 - val_accuracy: 0.9128 - 181ms/epoch - 1ms/step\n",
      "Epoch 188/200\n",
      "149/149 - 0s - loss: 0.2961 - accuracy: 0.8908 - val_loss: 0.2817 - val_accuracy: 0.9128 - 172ms/epoch - 1ms/step\n",
      "Epoch 189/200\n",
      "149/149 - 0s - loss: 0.2961 - accuracy: 0.8908 - val_loss: 0.2817 - val_accuracy: 0.9128 - 132ms/epoch - 886us/step\n",
      "Epoch 190/200\n",
      "149/149 - 0s - loss: 0.2959 - accuracy: 0.8908 - val_loss: 0.2818 - val_accuracy: 0.9128 - 171ms/epoch - 1ms/step\n",
      "Epoch 191/200\n",
      "149/149 - 0s - loss: 0.2960 - accuracy: 0.8899 - val_loss: 0.2816 - val_accuracy: 0.9105 - 215ms/epoch - 1ms/step\n",
      "Epoch 192/200\n",
      "149/149 - 0s - loss: 0.2957 - accuracy: 0.8912 - val_loss: 0.2816 - val_accuracy: 0.9150 - 194ms/epoch - 1ms/step\n",
      "Epoch 193/200\n",
      "149/149 - 0s - loss: 0.2957 - accuracy: 0.8903 - val_loss: 0.2813 - val_accuracy: 0.9105 - 158ms/epoch - 1ms/step\n",
      "Epoch 194/200\n",
      "149/149 - 0s - loss: 0.2958 - accuracy: 0.8908 - val_loss: 0.2813 - val_accuracy: 0.9105 - 183ms/epoch - 1ms/step\n",
      "Epoch 195/200\n",
      "149/149 - 0s - loss: 0.2956 - accuracy: 0.8916 - val_loss: 0.2815 - val_accuracy: 0.9150 - 198ms/epoch - 1ms/step\n",
      "Epoch 196/200\n",
      "149/149 - 0s - loss: 0.2955 - accuracy: 0.8903 - val_loss: 0.2810 - val_accuracy: 0.9083 - 202ms/epoch - 1ms/step\n",
      "Epoch 197/200\n",
      "149/149 - 0s - loss: 0.2954 - accuracy: 0.8924 - val_loss: 0.2814 - val_accuracy: 0.9128 - 234ms/epoch - 2ms/step\n",
      "Epoch 198/200\n",
      "149/149 - 0s - loss: 0.2955 - accuracy: 0.8920 - val_loss: 0.2816 - val_accuracy: 0.9150 - 143ms/epoch - 960us/step\n",
      "Epoch 199/200\n",
      "149/149 - 0s - loss: 0.2953 - accuracy: 0.8891 - val_loss: 0.2812 - val_accuracy: 0.9128 - 128ms/epoch - 859us/step\n",
      "Epoch 200/200\n",
      "149/149 - 0s - loss: 0.2953 - accuracy: 0.8912 - val_loss: 0.2809 - val_accuracy: 0.9105 - 126ms/epoch - 846us/step\n",
      "14/14 [==============================] - 0s 692us/step\n"
     ]
    },
    {
     "data": {
      "application/vnd.plotly.v1+json": {
       "config": {
        "plotlyServerURL": "https://plot.ly"
       },
       "data": [
        {
         "hovertemplate": "Epochs=%{x}<br>Loss=%{y}<extra></extra>",
         "legendgroup": "",
         "line": {
          "color": "#636efa",
          "dash": "solid"
         },
         "marker": {
          "symbol": "circle"
         },
         "mode": "lines",
         "name": "",
         "orientation": "v",
         "showlegend": false,
         "type": "scatter",
         "x": [
          1,
          2,
          3,
          4,
          5,
          6,
          7,
          8,
          9,
          10,
          11,
          12,
          13,
          14,
          15,
          16,
          17,
          18,
          19,
          20,
          21,
          22,
          23,
          24,
          25,
          26,
          27,
          28,
          29,
          30,
          31,
          32,
          33,
          34,
          35,
          36,
          37,
          38,
          39,
          40,
          41,
          42,
          43,
          44,
          45,
          46,
          47,
          48,
          49,
          50,
          51,
          52,
          53,
          54,
          55,
          56,
          57,
          58,
          59,
          60,
          61,
          62,
          63,
          64,
          65,
          66,
          67,
          68,
          69,
          70,
          71,
          72,
          73,
          74,
          75,
          76,
          77,
          78,
          79,
          80,
          81,
          82,
          83,
          84,
          85,
          86,
          87,
          88,
          89,
          90,
          91,
          92,
          93,
          94,
          95,
          96,
          97,
          98,
          99,
          100,
          101,
          102,
          103,
          104,
          105,
          106,
          107,
          108,
          109,
          110,
          111,
          112,
          113,
          114,
          115,
          116,
          117,
          118,
          119,
          120,
          121,
          122,
          123,
          124,
          125,
          126,
          127,
          128,
          129,
          130,
          131,
          132,
          133,
          134,
          135,
          136,
          137,
          138,
          139,
          140,
          141,
          142,
          143,
          144,
          145,
          146,
          147,
          148,
          149,
          150,
          151,
          152,
          153,
          154,
          155,
          156,
          157,
          158,
          159,
          160,
          161,
          162,
          163,
          164,
          165,
          166,
          167,
          168,
          169,
          170,
          171,
          172,
          173,
          174,
          175,
          176,
          177,
          178,
          179,
          180,
          181,
          182,
          183,
          184,
          185,
          186,
          187,
          188,
          189,
          190,
          191,
          192,
          193,
          194,
          195,
          196,
          197,
          198,
          199,
          200
         ],
         "xaxis": "x",
         "y": [
          1.2084189653396606,
          0.981660008430481,
          0.8582487106323242,
          0.7757539749145508,
          0.7142635583877563,
          0.6652688384056091,
          0.6252939105033875,
          0.5921815633773804,
          0.564659595489502,
          0.5414324998855591,
          0.5214587450027466,
          0.5046399235725403,
          0.4897330701351166,
          0.47692635655403137,
          0.4653589129447937,
          0.4552191197872162,
          0.4459117352962494,
          0.4377861022949219,
          0.4301152229309082,
          0.42335736751556396,
          0.41715574264526367,
          0.4114837944507599,
          0.406112402677536,
          0.40127286314964294,
          0.39667704701423645,
          0.3923187255859375,
          0.3883592486381531,
          0.38464784622192383,
          0.38124287128448486,
          0.3779352903366089,
          0.37491360306739807,
          0.3719404935836792,
          0.36939430236816406,
          0.3667243421077728,
          0.3644089102745056,
          0.36212241649627686,
          0.3599415123462677,
          0.35773351788520813,
          0.3558311462402344,
          0.35394614934921265,
          0.3522242605686188,
          0.35041549801826477,
          0.3489273488521576,
          0.34727373719215393,
          0.34580138325691223,
          0.34443506598472595,
          0.3430374562740326,
          0.3416803479194641,
          0.34033653140068054,
          0.3393513262271881,
          0.33825939893722534,
          0.3370976150035858,
          0.33603358268737793,
          0.335045725107193,
          0.3338824212551117,
          0.3329499363899231,
          0.3321422040462494,
          0.3312763273715973,
          0.33027181029319763,
          0.3294474482536316,
          0.32870957255363464,
          0.3278464078903198,
          0.3270503580570221,
          0.3263341784477234,
          0.3256327211856842,
          0.32501211762428284,
          0.3242686092853546,
          0.3236049711704254,
          0.32299208641052246,
          0.3224543035030365,
          0.32172760367393494,
          0.32121196389198303,
          0.3206961154937744,
          0.32012027502059937,
          0.3194573223590851,
          0.3191280961036682,
          0.31846368312835693,
          0.31799131631851196,
          0.31753915548324585,
          0.31711095571517944,
          0.31674012541770935,
          0.31618785858154297,
          0.31567949056625366,
          0.3153187930583954,
          0.31486284732818604,
          0.31454357504844666,
          0.3140503764152527,
          0.3137323558330536,
          0.31329667568206787,
          0.3128906488418579,
          0.31260937452316284,
          0.3122749626636505,
          0.3118702173233032,
          0.311552494764328,
          0.31106024980545044,
          0.31080636382102966,
          0.3105231821537018,
          0.3103756010532379,
          0.30989527702331543,
          0.3096320331096649,
          0.309219628572464,
          0.3089989721775055,
          0.3086761236190796,
          0.30851078033447266,
          0.30821850895881653,
          0.30788499116897583,
          0.30767959356307983,
          0.30738162994384766,
          0.30738937854766846,
          0.3069436550140381,
          0.3066786825656891,
          0.3063305914402008,
          0.3062107264995575,
          0.30603086948394775,
          0.3058246672153473,
          0.30556732416152954,
          0.3053710162639618,
          0.305057168006897,
          0.30486029386520386,
          0.3047155439853668,
          0.3045542538166046,
          0.30434781312942505,
          0.30407264828681946,
          0.30386272072792053,
          0.303654283285141,
          0.30344727635383606,
          0.30335187911987305,
          0.30323049426078796,
          0.3030257821083069,
          0.30282172560691833,
          0.3025079667568207,
          0.3024090826511383,
          0.3023050129413605,
          0.30217495560646057,
          0.30201858282089233,
          0.30182400345802307,
          0.3017239570617676,
          0.30152878165245056,
          0.3014920651912689,
          0.3011006712913513,
          0.30135074257850647,
          0.3009166121482849,
          0.3008922338485718,
          0.30062711238861084,
          0.3005121052265167,
          0.30033475160598755,
          0.3003025949001312,
          0.3001303970813751,
          0.29994094371795654,
          0.3000740706920624,
          0.29968082904815674,
          0.29967793822288513,
          0.29946210980415344,
          0.2993251085281372,
          0.2992396652698517,
          0.29902005195617676,
          0.29901501536369324,
          0.298939049243927,
          0.29882657527923584,
          0.2987789511680603,
          0.2985663414001465,
          0.29844167828559875,
          0.2983320355415344,
          0.29832392930984497,
          0.29807761311531067,
          0.298084020614624,
          0.29791420698165894,
          0.29775598645210266,
          0.2977009117603302,
          0.29755914211273193,
          0.29759129881858826,
          0.2973543703556061,
          0.2973528206348419,
          0.2971879839897156,
          0.29717350006103516,
          0.2972090244293213,
          0.29697027802467346,
          0.29692342877388,
          0.29680976271629333,
          0.296741783618927,
          0.2966465353965759,
          0.2964944541454315,
          0.296400785446167,
          0.29642751812934875,
          0.29629629850387573,
          0.29632213711738586,
          0.2961462736129761,
          0.29614701867103577,
          0.29608842730522156,
          0.2959218919277191,
          0.2960275709629059,
          0.2957465946674347,
          0.2957276701927185,
          0.29576200246810913,
          0.2956383526325226,
          0.2954879105091095,
          0.2953791916370392,
          0.2954505383968353,
          0.2953439950942993,
          0.2953339219093323
         ],
         "yaxis": "y"
        }
       ],
       "layout": {
        "legend": {
         "tracegroupgap": 0
        },
        "template": {
         "data": {
          "bar": [
           {
            "error_x": {
             "color": "#2a3f5f"
            },
            "error_y": {
             "color": "#2a3f5f"
            },
            "marker": {
             "line": {
              "color": "#E5ECF6",
              "width": 0.5
             },
             "pattern": {
              "fillmode": "overlay",
              "size": 10,
              "solidity": 0.2
             }
            },
            "type": "bar"
           }
          ],
          "barpolar": [
           {
            "marker": {
             "line": {
              "color": "#E5ECF6",
              "width": 0.5
             },
             "pattern": {
              "fillmode": "overlay",
              "size": 10,
              "solidity": 0.2
             }
            },
            "type": "barpolar"
           }
          ],
          "carpet": [
           {
            "aaxis": {
             "endlinecolor": "#2a3f5f",
             "gridcolor": "white",
             "linecolor": "white",
             "minorgridcolor": "white",
             "startlinecolor": "#2a3f5f"
            },
            "baxis": {
             "endlinecolor": "#2a3f5f",
             "gridcolor": "white",
             "linecolor": "white",
             "minorgridcolor": "white",
             "startlinecolor": "#2a3f5f"
            },
            "type": "carpet"
           }
          ],
          "choropleth": [
           {
            "colorbar": {
             "outlinewidth": 0,
             "ticks": ""
            },
            "type": "choropleth"
           }
          ],
          "contour": [
           {
            "colorbar": {
             "outlinewidth": 0,
             "ticks": ""
            },
            "colorscale": [
             [
              0,
              "#0d0887"
             ],
             [
              0.1111111111111111,
              "#46039f"
             ],
             [
              0.2222222222222222,
              "#7201a8"
             ],
             [
              0.3333333333333333,
              "#9c179e"
             ],
             [
              0.4444444444444444,
              "#bd3786"
             ],
             [
              0.5555555555555556,
              "#d8576b"
             ],
             [
              0.6666666666666666,
              "#ed7953"
             ],
             [
              0.7777777777777778,
              "#fb9f3a"
             ],
             [
              0.8888888888888888,
              "#fdca26"
             ],
             [
              1,
              "#f0f921"
             ]
            ],
            "type": "contour"
           }
          ],
          "contourcarpet": [
           {
            "colorbar": {
             "outlinewidth": 0,
             "ticks": ""
            },
            "type": "contourcarpet"
           }
          ],
          "heatmap": [
           {
            "colorbar": {
             "outlinewidth": 0,
             "ticks": ""
            },
            "colorscale": [
             [
              0,
              "#0d0887"
             ],
             [
              0.1111111111111111,
              "#46039f"
             ],
             [
              0.2222222222222222,
              "#7201a8"
             ],
             [
              0.3333333333333333,
              "#9c179e"
             ],
             [
              0.4444444444444444,
              "#bd3786"
             ],
             [
              0.5555555555555556,
              "#d8576b"
             ],
             [
              0.6666666666666666,
              "#ed7953"
             ],
             [
              0.7777777777777778,
              "#fb9f3a"
             ],
             [
              0.8888888888888888,
              "#fdca26"
             ],
             [
              1,
              "#f0f921"
             ]
            ],
            "type": "heatmap"
           }
          ],
          "heatmapgl": [
           {
            "colorbar": {
             "outlinewidth": 0,
             "ticks": ""
            },
            "colorscale": [
             [
              0,
              "#0d0887"
             ],
             [
              0.1111111111111111,
              "#46039f"
             ],
             [
              0.2222222222222222,
              "#7201a8"
             ],
             [
              0.3333333333333333,
              "#9c179e"
             ],
             [
              0.4444444444444444,
              "#bd3786"
             ],
             [
              0.5555555555555556,
              "#d8576b"
             ],
             [
              0.6666666666666666,
              "#ed7953"
             ],
             [
              0.7777777777777778,
              "#fb9f3a"
             ],
             [
              0.8888888888888888,
              "#fdca26"
             ],
             [
              1,
              "#f0f921"
             ]
            ],
            "type": "heatmapgl"
           }
          ],
          "histogram": [
           {
            "marker": {
             "pattern": {
              "fillmode": "overlay",
              "size": 10,
              "solidity": 0.2
             }
            },
            "type": "histogram"
           }
          ],
          "histogram2d": [
           {
            "colorbar": {
             "outlinewidth": 0,
             "ticks": ""
            },
            "colorscale": [
             [
              0,
              "#0d0887"
             ],
             [
              0.1111111111111111,
              "#46039f"
             ],
             [
              0.2222222222222222,
              "#7201a8"
             ],
             [
              0.3333333333333333,
              "#9c179e"
             ],
             [
              0.4444444444444444,
              "#bd3786"
             ],
             [
              0.5555555555555556,
              "#d8576b"
             ],
             [
              0.6666666666666666,
              "#ed7953"
             ],
             [
              0.7777777777777778,
              "#fb9f3a"
             ],
             [
              0.8888888888888888,
              "#fdca26"
             ],
             [
              1,
              "#f0f921"
             ]
            ],
            "type": "histogram2d"
           }
          ],
          "histogram2dcontour": [
           {
            "colorbar": {
             "outlinewidth": 0,
             "ticks": ""
            },
            "colorscale": [
             [
              0,
              "#0d0887"
             ],
             [
              0.1111111111111111,
              "#46039f"
             ],
             [
              0.2222222222222222,
              "#7201a8"
             ],
             [
              0.3333333333333333,
              "#9c179e"
             ],
             [
              0.4444444444444444,
              "#bd3786"
             ],
             [
              0.5555555555555556,
              "#d8576b"
             ],
             [
              0.6666666666666666,
              "#ed7953"
             ],
             [
              0.7777777777777778,
              "#fb9f3a"
             ],
             [
              0.8888888888888888,
              "#fdca26"
             ],
             [
              1,
              "#f0f921"
             ]
            ],
            "type": "histogram2dcontour"
           }
          ],
          "mesh3d": [
           {
            "colorbar": {
             "outlinewidth": 0,
             "ticks": ""
            },
            "type": "mesh3d"
           }
          ],
          "parcoords": [
           {
            "line": {
             "colorbar": {
              "outlinewidth": 0,
              "ticks": ""
             }
            },
            "type": "parcoords"
           }
          ],
          "pie": [
           {
            "automargin": true,
            "type": "pie"
           }
          ],
          "scatter": [
           {
            "fillpattern": {
             "fillmode": "overlay",
             "size": 10,
             "solidity": 0.2
            },
            "type": "scatter"
           }
          ],
          "scatter3d": [
           {
            "line": {
             "colorbar": {
              "outlinewidth": 0,
              "ticks": ""
             }
            },
            "marker": {
             "colorbar": {
              "outlinewidth": 0,
              "ticks": ""
             }
            },
            "type": "scatter3d"
           }
          ],
          "scattercarpet": [
           {
            "marker": {
             "colorbar": {
              "outlinewidth": 0,
              "ticks": ""
             }
            },
            "type": "scattercarpet"
           }
          ],
          "scattergeo": [
           {
            "marker": {
             "colorbar": {
              "outlinewidth": 0,
              "ticks": ""
             }
            },
            "type": "scattergeo"
           }
          ],
          "scattergl": [
           {
            "marker": {
             "colorbar": {
              "outlinewidth": 0,
              "ticks": ""
             }
            },
            "type": "scattergl"
           }
          ],
          "scattermapbox": [
           {
            "marker": {
             "colorbar": {
              "outlinewidth": 0,
              "ticks": ""
             }
            },
            "type": "scattermapbox"
           }
          ],
          "scatterpolar": [
           {
            "marker": {
             "colorbar": {
              "outlinewidth": 0,
              "ticks": ""
             }
            },
            "type": "scatterpolar"
           }
          ],
          "scatterpolargl": [
           {
            "marker": {
             "colorbar": {
              "outlinewidth": 0,
              "ticks": ""
             }
            },
            "type": "scatterpolargl"
           }
          ],
          "scatterternary": [
           {
            "marker": {
             "colorbar": {
              "outlinewidth": 0,
              "ticks": ""
             }
            },
            "type": "scatterternary"
           }
          ],
          "surface": [
           {
            "colorbar": {
             "outlinewidth": 0,
             "ticks": ""
            },
            "colorscale": [
             [
              0,
              "#0d0887"
             ],
             [
              0.1111111111111111,
              "#46039f"
             ],
             [
              0.2222222222222222,
              "#7201a8"
             ],
             [
              0.3333333333333333,
              "#9c179e"
             ],
             [
              0.4444444444444444,
              "#bd3786"
             ],
             [
              0.5555555555555556,
              "#d8576b"
             ],
             [
              0.6666666666666666,
              "#ed7953"
             ],
             [
              0.7777777777777778,
              "#fb9f3a"
             ],
             [
              0.8888888888888888,
              "#fdca26"
             ],
             [
              1,
              "#f0f921"
             ]
            ],
            "type": "surface"
           }
          ],
          "table": [
           {
            "cells": {
             "fill": {
              "color": "#EBF0F8"
             },
             "line": {
              "color": "white"
             }
            },
            "header": {
             "fill": {
              "color": "#C8D4E3"
             },
             "line": {
              "color": "white"
             }
            },
            "type": "table"
           }
          ]
         },
         "layout": {
          "annotationdefaults": {
           "arrowcolor": "#2a3f5f",
           "arrowhead": 0,
           "arrowwidth": 1
          },
          "autotypenumbers": "strict",
          "coloraxis": {
           "colorbar": {
            "outlinewidth": 0,
            "ticks": ""
           }
          },
          "colorscale": {
           "diverging": [
            [
             0,
             "#8e0152"
            ],
            [
             0.1,
             "#c51b7d"
            ],
            [
             0.2,
             "#de77ae"
            ],
            [
             0.3,
             "#f1b6da"
            ],
            [
             0.4,
             "#fde0ef"
            ],
            [
             0.5,
             "#f7f7f7"
            ],
            [
             0.6,
             "#e6f5d0"
            ],
            [
             0.7,
             "#b8e186"
            ],
            [
             0.8,
             "#7fbc41"
            ],
            [
             0.9,
             "#4d9221"
            ],
            [
             1,
             "#276419"
            ]
           ],
           "sequential": [
            [
             0,
             "#0d0887"
            ],
            [
             0.1111111111111111,
             "#46039f"
            ],
            [
             0.2222222222222222,
             "#7201a8"
            ],
            [
             0.3333333333333333,
             "#9c179e"
            ],
            [
             0.4444444444444444,
             "#bd3786"
            ],
            [
             0.5555555555555556,
             "#d8576b"
            ],
            [
             0.6666666666666666,
             "#ed7953"
            ],
            [
             0.7777777777777778,
             "#fb9f3a"
            ],
            [
             0.8888888888888888,
             "#fdca26"
            ],
            [
             1,
             "#f0f921"
            ]
           ],
           "sequentialminus": [
            [
             0,
             "#0d0887"
            ],
            [
             0.1111111111111111,
             "#46039f"
            ],
            [
             0.2222222222222222,
             "#7201a8"
            ],
            [
             0.3333333333333333,
             "#9c179e"
            ],
            [
             0.4444444444444444,
             "#bd3786"
            ],
            [
             0.5555555555555556,
             "#d8576b"
            ],
            [
             0.6666666666666666,
             "#ed7953"
            ],
            [
             0.7777777777777778,
             "#fb9f3a"
            ],
            [
             0.8888888888888888,
             "#fdca26"
            ],
            [
             1,
             "#f0f921"
            ]
           ]
          },
          "colorway": [
           "#636efa",
           "#EF553B",
           "#00cc96",
           "#ab63fa",
           "#FFA15A",
           "#19d3f3",
           "#FF6692",
           "#B6E880",
           "#FF97FF",
           "#FECB52"
          ],
          "font": {
           "color": "#2a3f5f"
          },
          "geo": {
           "bgcolor": "white",
           "lakecolor": "white",
           "landcolor": "#E5ECF6",
           "showlakes": true,
           "showland": true,
           "subunitcolor": "white"
          },
          "hoverlabel": {
           "align": "left"
          },
          "hovermode": "closest",
          "mapbox": {
           "style": "light"
          },
          "paper_bgcolor": "white",
          "plot_bgcolor": "#E5ECF6",
          "polar": {
           "angularaxis": {
            "gridcolor": "white",
            "linecolor": "white",
            "ticks": ""
           },
           "bgcolor": "#E5ECF6",
           "radialaxis": {
            "gridcolor": "white",
            "linecolor": "white",
            "ticks": ""
           }
          },
          "scene": {
           "xaxis": {
            "backgroundcolor": "#E5ECF6",
            "gridcolor": "white",
            "gridwidth": 2,
            "linecolor": "white",
            "showbackground": true,
            "ticks": "",
            "zerolinecolor": "white"
           },
           "yaxis": {
            "backgroundcolor": "#E5ECF6",
            "gridcolor": "white",
            "gridwidth": 2,
            "linecolor": "white",
            "showbackground": true,
            "ticks": "",
            "zerolinecolor": "white"
           },
           "zaxis": {
            "backgroundcolor": "#E5ECF6",
            "gridcolor": "white",
            "gridwidth": 2,
            "linecolor": "white",
            "showbackground": true,
            "ticks": "",
            "zerolinecolor": "white"
           }
          },
          "shapedefaults": {
           "line": {
            "color": "#2a3f5f"
           }
          },
          "ternary": {
           "aaxis": {
            "gridcolor": "white",
            "linecolor": "white",
            "ticks": ""
           },
           "baxis": {
            "gridcolor": "white",
            "linecolor": "white",
            "ticks": ""
           },
           "bgcolor": "#E5ECF6",
           "caxis": {
            "gridcolor": "white",
            "linecolor": "white",
            "ticks": ""
           }
          },
          "title": {
           "x": 0.05
          },
          "xaxis": {
           "automargin": true,
           "gridcolor": "white",
           "linecolor": "white",
           "ticks": "",
           "title": {
            "standoff": 15
           },
           "zerolinecolor": "white",
           "zerolinewidth": 2
          },
          "yaxis": {
           "automargin": true,
           "gridcolor": "white",
           "linecolor": "white",
           "ticks": "",
           "title": {
            "standoff": 15
           },
           "zerolinecolor": "white",
           "zerolinewidth": 2
          }
         }
        },
        "title": {
         "text": "Loss function over epochs"
        },
        "xaxis": {
         "anchor": "y",
         "domain": [
          0,
          1
         ],
         "title": {
          "text": "Epochs"
         }
        },
        "yaxis": {
         "anchor": "x",
         "domain": [
          0,
          1
         ],
         "title": {
          "text": "Loss"
         }
        }
       }
      }
     },
     "metadata": {},
     "output_type": "display_data"
    },
    {
     "data": {
      "application/vnd.plotly.v1+json": {
       "config": {
        "plotlyServerURL": "https://plot.ly"
       },
       "data": [
        {
         "hovertemplate": "Sample Index=%{x}<br>Difference (Prediction - Real)=%{y}<extra></extra>",
         "legendgroup": "",
         "line": {
          "color": "#636efa",
          "dash": "solid"
         },
         "marker": {
          "symbol": "circle"
         },
         "mode": "lines",
         "name": "",
         "orientation": "v",
         "showlegend": false,
         "type": "scatter",
         "x": [
          0,
          1,
          2,
          3,
          4,
          5,
          6,
          7,
          8,
          9,
          10,
          11,
          12,
          13,
          14,
          15,
          16,
          17,
          18,
          19,
          20,
          21,
          22,
          23,
          24,
          25,
          26,
          27,
          28,
          29,
          30,
          31,
          32,
          33,
          34,
          35,
          36,
          37,
          38,
          39,
          40,
          41,
          42,
          43,
          44,
          45,
          46,
          47,
          48,
          49,
          50,
          51,
          52,
          53,
          54,
          55,
          56,
          57,
          58,
          59,
          60,
          61,
          62,
          63,
          64,
          65,
          66,
          67,
          68,
          69,
          70,
          71,
          72,
          73,
          74,
          75,
          76,
          77,
          78,
          79,
          80,
          81,
          82,
          83,
          84,
          85,
          86,
          87,
          88,
          89,
          90,
          91,
          92,
          93,
          94,
          95,
          96,
          97,
          98,
          99,
          100,
          101,
          102,
          103,
          104,
          105,
          106,
          107,
          108,
          109,
          110,
          111,
          112,
          113,
          114,
          115,
          116,
          117,
          118,
          119,
          120,
          121,
          122,
          123,
          124,
          125,
          126,
          127,
          128,
          129,
          130,
          131,
          132,
          133,
          134,
          135,
          136,
          137,
          138,
          139,
          140,
          141,
          142,
          143,
          144,
          145,
          146,
          147,
          148,
          149,
          150,
          151,
          152,
          153,
          154,
          155,
          156,
          157,
          158,
          159,
          160,
          161,
          162,
          163,
          164,
          165,
          166,
          167,
          168,
          169,
          170,
          171,
          172,
          173,
          174,
          175,
          176,
          177,
          178,
          179,
          180,
          181,
          182,
          183,
          184,
          185,
          186,
          187,
          188,
          189,
          190,
          191,
          192,
          193,
          194,
          195,
          196,
          197,
          198,
          199,
          200,
          201,
          202,
          203,
          204,
          205,
          206,
          207,
          208,
          209,
          210,
          211,
          212,
          213,
          214,
          215,
          216,
          217,
          218,
          219,
          220,
          221,
          222,
          223,
          224,
          225,
          226,
          227,
          228,
          229,
          230,
          231,
          232,
          233,
          234,
          235,
          236,
          237,
          238,
          239,
          240,
          241,
          242,
          243,
          244,
          245,
          246,
          247,
          248,
          249,
          250,
          251,
          252,
          253,
          254,
          255,
          256,
          257,
          258,
          259,
          260,
          261,
          262,
          263,
          264,
          265,
          266,
          267,
          268,
          269,
          270,
          271,
          272,
          273,
          274,
          275,
          276,
          277,
          278,
          279,
          280,
          281,
          282,
          283,
          284,
          285,
          286,
          287,
          288,
          289,
          290,
          291,
          292,
          293,
          294,
          295,
          296,
          297,
          298,
          299,
          300,
          301,
          302,
          303,
          304,
          305,
          306,
          307,
          308,
          309,
          310,
          311,
          312,
          313,
          314,
          315,
          316,
          317,
          318,
          319,
          320,
          321,
          322,
          323,
          324,
          325,
          326,
          327,
          328,
          329,
          330,
          331,
          332,
          333,
          334,
          335,
          336,
          337,
          338,
          339,
          340,
          341,
          342,
          343,
          344,
          345,
          346,
          347,
          348,
          349,
          350,
          351,
          352,
          353,
          354,
          355,
          356,
          357,
          358,
          359,
          360,
          361,
          362,
          363,
          364,
          365,
          366,
          367,
          368,
          369,
          370,
          371,
          372,
          373,
          374,
          375,
          376,
          377,
          378,
          379,
          380,
          381,
          382,
          383,
          384,
          385,
          386,
          387,
          388,
          389,
          390,
          391,
          392,
          393,
          394,
          395,
          396,
          397,
          398,
          399,
          400,
          401,
          402,
          403,
          404,
          405,
          406,
          407,
          408,
          409,
          410,
          411,
          412,
          413,
          414,
          415,
          416,
          417,
          418,
          419,
          420,
          421,
          422,
          423,
          424,
          425,
          426,
          427,
          428,
          429,
          430,
          431,
          432,
          433,
          434,
          435,
          436,
          437,
          438,
          439,
          440,
          441,
          442,
          443,
          444,
          445,
          446
         ],
         "xaxis": "x",
         "y": [
          -1,
          0,
          0,
          0,
          0,
          0,
          0,
          0,
          0,
          0,
          -1,
          0,
          0,
          0,
          0,
          0,
          0,
          0,
          0,
          0,
          0,
          0,
          0,
          0,
          0,
          0,
          0,
          0,
          0,
          0,
          0,
          0,
          0,
          0,
          0,
          0,
          0,
          0,
          0,
          0,
          0,
          0,
          0,
          -1,
          0,
          0,
          0,
          0,
          0,
          0,
          0,
          0,
          0,
          2,
          0,
          0,
          0,
          0,
          0,
          0,
          0,
          -2,
          0,
          2,
          0,
          0,
          0,
          0,
          0,
          0,
          0,
          0,
          0,
          2,
          0,
          0,
          0,
          0,
          0,
          0,
          0,
          0,
          0,
          0,
          0,
          0,
          0,
          0,
          0,
          0,
          0,
          0,
          0,
          0,
          0,
          0,
          0,
          0,
          0,
          0,
          0,
          0,
          0,
          0,
          2,
          0,
          2,
          -2,
          0,
          0,
          0,
          0,
          0,
          0,
          0,
          0,
          0,
          0,
          0,
          0,
          0,
          0,
          0,
          0,
          0,
          0,
          0,
          0,
          0,
          0,
          0,
          0,
          0,
          0,
          0,
          0,
          0,
          0,
          0,
          0,
          0,
          0,
          0,
          0,
          0,
          2,
          0,
          0,
          0,
          0,
          0,
          0,
          0,
          0,
          0,
          0,
          0,
          0,
          2,
          0,
          0,
          0,
          0,
          0,
          0,
          0,
          0,
          0,
          0,
          0,
          -1,
          0,
          0,
          0,
          0,
          0,
          0,
          0,
          2,
          1,
          0,
          0,
          0,
          0,
          0,
          0,
          0,
          -1,
          0,
          0,
          0,
          0,
          0,
          0,
          -3,
          0,
          0,
          0,
          0,
          0,
          0,
          0,
          0,
          0,
          0,
          0,
          0,
          0,
          0,
          0,
          0,
          0,
          0,
          0,
          0,
          0,
          0,
          0,
          0,
          0,
          0,
          0,
          0,
          0,
          0,
          0,
          0,
          0,
          0,
          -1,
          0,
          0,
          0,
          0,
          0,
          1,
          0,
          0,
          0,
          0,
          0,
          0,
          0,
          0,
          0,
          0,
          0,
          0,
          0,
          0,
          2,
          0,
          0,
          1,
          0,
          -2,
          0,
          0,
          0,
          0,
          0,
          0,
          0,
          0,
          0,
          0,
          0,
          0,
          0,
          0,
          0,
          0,
          0,
          0,
          0,
          0,
          0,
          0,
          0,
          0,
          0,
          0,
          0,
          0,
          0,
          0,
          0,
          0,
          0,
          0,
          0,
          1,
          1,
          1,
          0,
          0,
          0,
          0,
          0,
          0,
          0,
          0,
          0,
          0,
          0,
          0,
          0,
          0,
          0,
          0,
          0,
          0,
          0,
          0,
          0,
          0,
          0,
          0,
          0,
          0,
          0,
          0,
          0,
          0,
          0,
          0,
          0,
          0,
          0,
          0,
          0,
          0,
          0,
          0,
          0,
          0,
          0,
          0,
          0,
          0,
          -3,
          0,
          -1,
          -3,
          0,
          0,
          0,
          0,
          2,
          -2,
          0,
          0,
          0,
          0,
          0,
          0,
          0,
          0,
          0,
          0,
          0,
          0,
          0,
          0,
          0,
          2,
          0,
          0,
          0,
          0,
          0,
          0,
          0,
          0,
          0,
          0,
          0,
          0,
          0,
          0,
          0,
          -1,
          0,
          0,
          0,
          0,
          0,
          0,
          0,
          2,
          1,
          0,
          0,
          0,
          0,
          0,
          0,
          0,
          0,
          0,
          0,
          0,
          0,
          0,
          0,
          0,
          0,
          0,
          0,
          0,
          0,
          0,
          0,
          0,
          0,
          0,
          0,
          0,
          0,
          0,
          0,
          0,
          1,
          0,
          0,
          1,
          0,
          0,
          0,
          0,
          -1,
          0,
          0,
          -1,
          0,
          0,
          0,
          0,
          -1,
          0,
          0,
          0,
          0,
          0,
          2,
          0,
          0
         ],
         "yaxis": "y"
        }
       ],
       "layout": {
        "legend": {
         "tracegroupgap": 0
        },
        "template": {
         "data": {
          "bar": [
           {
            "error_x": {
             "color": "#2a3f5f"
            },
            "error_y": {
             "color": "#2a3f5f"
            },
            "marker": {
             "line": {
              "color": "#E5ECF6",
              "width": 0.5
             },
             "pattern": {
              "fillmode": "overlay",
              "size": 10,
              "solidity": 0.2
             }
            },
            "type": "bar"
           }
          ],
          "barpolar": [
           {
            "marker": {
             "line": {
              "color": "#E5ECF6",
              "width": 0.5
             },
             "pattern": {
              "fillmode": "overlay",
              "size": 10,
              "solidity": 0.2
             }
            },
            "type": "barpolar"
           }
          ],
          "carpet": [
           {
            "aaxis": {
             "endlinecolor": "#2a3f5f",
             "gridcolor": "white",
             "linecolor": "white",
             "minorgridcolor": "white",
             "startlinecolor": "#2a3f5f"
            },
            "baxis": {
             "endlinecolor": "#2a3f5f",
             "gridcolor": "white",
             "linecolor": "white",
             "minorgridcolor": "white",
             "startlinecolor": "#2a3f5f"
            },
            "type": "carpet"
           }
          ],
          "choropleth": [
           {
            "colorbar": {
             "outlinewidth": 0,
             "ticks": ""
            },
            "type": "choropleth"
           }
          ],
          "contour": [
           {
            "colorbar": {
             "outlinewidth": 0,
             "ticks": ""
            },
            "colorscale": [
             [
              0,
              "#0d0887"
             ],
             [
              0.1111111111111111,
              "#46039f"
             ],
             [
              0.2222222222222222,
              "#7201a8"
             ],
             [
              0.3333333333333333,
              "#9c179e"
             ],
             [
              0.4444444444444444,
              "#bd3786"
             ],
             [
              0.5555555555555556,
              "#d8576b"
             ],
             [
              0.6666666666666666,
              "#ed7953"
             ],
             [
              0.7777777777777778,
              "#fb9f3a"
             ],
             [
              0.8888888888888888,
              "#fdca26"
             ],
             [
              1,
              "#f0f921"
             ]
            ],
            "type": "contour"
           }
          ],
          "contourcarpet": [
           {
            "colorbar": {
             "outlinewidth": 0,
             "ticks": ""
            },
            "type": "contourcarpet"
           }
          ],
          "heatmap": [
           {
            "colorbar": {
             "outlinewidth": 0,
             "ticks": ""
            },
            "colorscale": [
             [
              0,
              "#0d0887"
             ],
             [
              0.1111111111111111,
              "#46039f"
             ],
             [
              0.2222222222222222,
              "#7201a8"
             ],
             [
              0.3333333333333333,
              "#9c179e"
             ],
             [
              0.4444444444444444,
              "#bd3786"
             ],
             [
              0.5555555555555556,
              "#d8576b"
             ],
             [
              0.6666666666666666,
              "#ed7953"
             ],
             [
              0.7777777777777778,
              "#fb9f3a"
             ],
             [
              0.8888888888888888,
              "#fdca26"
             ],
             [
              1,
              "#f0f921"
             ]
            ],
            "type": "heatmap"
           }
          ],
          "heatmapgl": [
           {
            "colorbar": {
             "outlinewidth": 0,
             "ticks": ""
            },
            "colorscale": [
             [
              0,
              "#0d0887"
             ],
             [
              0.1111111111111111,
              "#46039f"
             ],
             [
              0.2222222222222222,
              "#7201a8"
             ],
             [
              0.3333333333333333,
              "#9c179e"
             ],
             [
              0.4444444444444444,
              "#bd3786"
             ],
             [
              0.5555555555555556,
              "#d8576b"
             ],
             [
              0.6666666666666666,
              "#ed7953"
             ],
             [
              0.7777777777777778,
              "#fb9f3a"
             ],
             [
              0.8888888888888888,
              "#fdca26"
             ],
             [
              1,
              "#f0f921"
             ]
            ],
            "type": "heatmapgl"
           }
          ],
          "histogram": [
           {
            "marker": {
             "pattern": {
              "fillmode": "overlay",
              "size": 10,
              "solidity": 0.2
             }
            },
            "type": "histogram"
           }
          ],
          "histogram2d": [
           {
            "colorbar": {
             "outlinewidth": 0,
             "ticks": ""
            },
            "colorscale": [
             [
              0,
              "#0d0887"
             ],
             [
              0.1111111111111111,
              "#46039f"
             ],
             [
              0.2222222222222222,
              "#7201a8"
             ],
             [
              0.3333333333333333,
              "#9c179e"
             ],
             [
              0.4444444444444444,
              "#bd3786"
             ],
             [
              0.5555555555555556,
              "#d8576b"
             ],
             [
              0.6666666666666666,
              "#ed7953"
             ],
             [
              0.7777777777777778,
              "#fb9f3a"
             ],
             [
              0.8888888888888888,
              "#fdca26"
             ],
             [
              1,
              "#f0f921"
             ]
            ],
            "type": "histogram2d"
           }
          ],
          "histogram2dcontour": [
           {
            "colorbar": {
             "outlinewidth": 0,
             "ticks": ""
            },
            "colorscale": [
             [
              0,
              "#0d0887"
             ],
             [
              0.1111111111111111,
              "#46039f"
             ],
             [
              0.2222222222222222,
              "#7201a8"
             ],
             [
              0.3333333333333333,
              "#9c179e"
             ],
             [
              0.4444444444444444,
              "#bd3786"
             ],
             [
              0.5555555555555556,
              "#d8576b"
             ],
             [
              0.6666666666666666,
              "#ed7953"
             ],
             [
              0.7777777777777778,
              "#fb9f3a"
             ],
             [
              0.8888888888888888,
              "#fdca26"
             ],
             [
              1,
              "#f0f921"
             ]
            ],
            "type": "histogram2dcontour"
           }
          ],
          "mesh3d": [
           {
            "colorbar": {
             "outlinewidth": 0,
             "ticks": ""
            },
            "type": "mesh3d"
           }
          ],
          "parcoords": [
           {
            "line": {
             "colorbar": {
              "outlinewidth": 0,
              "ticks": ""
             }
            },
            "type": "parcoords"
           }
          ],
          "pie": [
           {
            "automargin": true,
            "type": "pie"
           }
          ],
          "scatter": [
           {
            "fillpattern": {
             "fillmode": "overlay",
             "size": 10,
             "solidity": 0.2
            },
            "type": "scatter"
           }
          ],
          "scatter3d": [
           {
            "line": {
             "colorbar": {
              "outlinewidth": 0,
              "ticks": ""
             }
            },
            "marker": {
             "colorbar": {
              "outlinewidth": 0,
              "ticks": ""
             }
            },
            "type": "scatter3d"
           }
          ],
          "scattercarpet": [
           {
            "marker": {
             "colorbar": {
              "outlinewidth": 0,
              "ticks": ""
             }
            },
            "type": "scattercarpet"
           }
          ],
          "scattergeo": [
           {
            "marker": {
             "colorbar": {
              "outlinewidth": 0,
              "ticks": ""
             }
            },
            "type": "scattergeo"
           }
          ],
          "scattergl": [
           {
            "marker": {
             "colorbar": {
              "outlinewidth": 0,
              "ticks": ""
             }
            },
            "type": "scattergl"
           }
          ],
          "scattermapbox": [
           {
            "marker": {
             "colorbar": {
              "outlinewidth": 0,
              "ticks": ""
             }
            },
            "type": "scattermapbox"
           }
          ],
          "scatterpolar": [
           {
            "marker": {
             "colorbar": {
              "outlinewidth": 0,
              "ticks": ""
             }
            },
            "type": "scatterpolar"
           }
          ],
          "scatterpolargl": [
           {
            "marker": {
             "colorbar": {
              "outlinewidth": 0,
              "ticks": ""
             }
            },
            "type": "scatterpolargl"
           }
          ],
          "scatterternary": [
           {
            "marker": {
             "colorbar": {
              "outlinewidth": 0,
              "ticks": ""
             }
            },
            "type": "scatterternary"
           }
          ],
          "surface": [
           {
            "colorbar": {
             "outlinewidth": 0,
             "ticks": ""
            },
            "colorscale": [
             [
              0,
              "#0d0887"
             ],
             [
              0.1111111111111111,
              "#46039f"
             ],
             [
              0.2222222222222222,
              "#7201a8"
             ],
             [
              0.3333333333333333,
              "#9c179e"
             ],
             [
              0.4444444444444444,
              "#bd3786"
             ],
             [
              0.5555555555555556,
              "#d8576b"
             ],
             [
              0.6666666666666666,
              "#ed7953"
             ],
             [
              0.7777777777777778,
              "#fb9f3a"
             ],
             [
              0.8888888888888888,
              "#fdca26"
             ],
             [
              1,
              "#f0f921"
             ]
            ],
            "type": "surface"
           }
          ],
          "table": [
           {
            "cells": {
             "fill": {
              "color": "#EBF0F8"
             },
             "line": {
              "color": "white"
             }
            },
            "header": {
             "fill": {
              "color": "#C8D4E3"
             },
             "line": {
              "color": "white"
             }
            },
            "type": "table"
           }
          ]
         },
         "layout": {
          "annotationdefaults": {
           "arrowcolor": "#2a3f5f",
           "arrowhead": 0,
           "arrowwidth": 1
          },
          "autotypenumbers": "strict",
          "coloraxis": {
           "colorbar": {
            "outlinewidth": 0,
            "ticks": ""
           }
          },
          "colorscale": {
           "diverging": [
            [
             0,
             "#8e0152"
            ],
            [
             0.1,
             "#c51b7d"
            ],
            [
             0.2,
             "#de77ae"
            ],
            [
             0.3,
             "#f1b6da"
            ],
            [
             0.4,
             "#fde0ef"
            ],
            [
             0.5,
             "#f7f7f7"
            ],
            [
             0.6,
             "#e6f5d0"
            ],
            [
             0.7,
             "#b8e186"
            ],
            [
             0.8,
             "#7fbc41"
            ],
            [
             0.9,
             "#4d9221"
            ],
            [
             1,
             "#276419"
            ]
           ],
           "sequential": [
            [
             0,
             "#0d0887"
            ],
            [
             0.1111111111111111,
             "#46039f"
            ],
            [
             0.2222222222222222,
             "#7201a8"
            ],
            [
             0.3333333333333333,
             "#9c179e"
            ],
            [
             0.4444444444444444,
             "#bd3786"
            ],
            [
             0.5555555555555556,
             "#d8576b"
            ],
            [
             0.6666666666666666,
             "#ed7953"
            ],
            [
             0.7777777777777778,
             "#fb9f3a"
            ],
            [
             0.8888888888888888,
             "#fdca26"
            ],
            [
             1,
             "#f0f921"
            ]
           ],
           "sequentialminus": [
            [
             0,
             "#0d0887"
            ],
            [
             0.1111111111111111,
             "#46039f"
            ],
            [
             0.2222222222222222,
             "#7201a8"
            ],
            [
             0.3333333333333333,
             "#9c179e"
            ],
            [
             0.4444444444444444,
             "#bd3786"
            ],
            [
             0.5555555555555556,
             "#d8576b"
            ],
            [
             0.6666666666666666,
             "#ed7953"
            ],
            [
             0.7777777777777778,
             "#fb9f3a"
            ],
            [
             0.8888888888888888,
             "#fdca26"
            ],
            [
             1,
             "#f0f921"
            ]
           ]
          },
          "colorway": [
           "#636efa",
           "#EF553B",
           "#00cc96",
           "#ab63fa",
           "#FFA15A",
           "#19d3f3",
           "#FF6692",
           "#B6E880",
           "#FF97FF",
           "#FECB52"
          ],
          "font": {
           "color": "#2a3f5f"
          },
          "geo": {
           "bgcolor": "white",
           "lakecolor": "white",
           "landcolor": "#E5ECF6",
           "showlakes": true,
           "showland": true,
           "subunitcolor": "white"
          },
          "hoverlabel": {
           "align": "left"
          },
          "hovermode": "closest",
          "mapbox": {
           "style": "light"
          },
          "paper_bgcolor": "white",
          "plot_bgcolor": "#E5ECF6",
          "polar": {
           "angularaxis": {
            "gridcolor": "white",
            "linecolor": "white",
            "ticks": ""
           },
           "bgcolor": "#E5ECF6",
           "radialaxis": {
            "gridcolor": "white",
            "linecolor": "white",
            "ticks": ""
           }
          },
          "scene": {
           "xaxis": {
            "backgroundcolor": "#E5ECF6",
            "gridcolor": "white",
            "gridwidth": 2,
            "linecolor": "white",
            "showbackground": true,
            "ticks": "",
            "zerolinecolor": "white"
           },
           "yaxis": {
            "backgroundcolor": "#E5ECF6",
            "gridcolor": "white",
            "gridwidth": 2,
            "linecolor": "white",
            "showbackground": true,
            "ticks": "",
            "zerolinecolor": "white"
           },
           "zaxis": {
            "backgroundcolor": "#E5ECF6",
            "gridcolor": "white",
            "gridwidth": 2,
            "linecolor": "white",
            "showbackground": true,
            "ticks": "",
            "zerolinecolor": "white"
           }
          },
          "shapedefaults": {
           "line": {
            "color": "#2a3f5f"
           }
          },
          "ternary": {
           "aaxis": {
            "gridcolor": "white",
            "linecolor": "white",
            "ticks": ""
           },
           "baxis": {
            "gridcolor": "white",
            "linecolor": "white",
            "ticks": ""
           },
           "bgcolor": "#E5ECF6",
           "caxis": {
            "gridcolor": "white",
            "linecolor": "white",
            "ticks": ""
           }
          },
          "title": {
           "x": 0.05
          },
          "xaxis": {
           "automargin": true,
           "gridcolor": "white",
           "linecolor": "white",
           "ticks": "",
           "title": {
            "standoff": 15
           },
           "zerolinecolor": "white",
           "zerolinewidth": 2
          },
          "yaxis": {
           "automargin": true,
           "gridcolor": "white",
           "linecolor": "white",
           "ticks": "",
           "title": {
            "standoff": 15
           },
           "zerolinecolor": "white",
           "zerolinewidth": 2
          }
         }
        },
        "title": {
         "text": "Difference between predictions and true values over time"
        },
        "xaxis": {
         "anchor": "y",
         "domain": [
          0,
          1
         ],
         "title": {
          "text": "Sample Index"
         }
        },
        "yaxis": {
         "anchor": "x",
         "domain": [
          0,
          1
         ],
         "title": {
          "text": "Difference (Prediction - Real)"
         }
        }
       }
      }
     },
     "metadata": {},
     "output_type": "display_data"
    },
    {
     "name": "stdout",
     "output_type": "stream",
     "text": [
      "14/14 [==============================] - 0s 846us/step - loss: 0.2809 - accuracy: 0.9105\n"
     ]
    }
   ],
   "source": [
    "# Splitting the data into training, testing, and evaluation sets\n",
    "\n",
    "train_data = X[:int(0.8 * len(X))] \n",
    "test_data = X[int(0.8 * len(X)):int(0.95 * len(X))]  \n",
    "eval_data = X[int(0.95 * len(X)):]  \n",
    "\n",
    "X_train = train_data.drop('Traffic Situation', axis=1).values\n",
    "y_train_encoded = label_encoder.fit_transform(train_data['Traffic Situation'])\n",
    "\n",
    "X_test = test_data.drop('Traffic Situation', axis=1).values\n",
    "y_test_encoded = label_encoder.transform(test_data['Traffic Situation'])\n",
    "\n",
    "y_train_one_hot = tf.keras.utils.to_categorical(y_train_encoded)\n",
    "y_test_one_hot = tf.keras.utils.to_categorical(y_test_encoded)\n",
    "\n",
    "# Normalize data\n",
    "scaler = StandardScaler()\n",
    "X_train_scaled = scaler.fit_transform(X_train)\n",
    "X_test_scaled = scaler.transform(X_test)\n",
    "\n",
    "# Create a simple perceptron model\n",
    "model = tf.keras.Sequential([\n",
    "    tf.keras.layers.Dense(4, activation='softmax', input_shape=(X_train_scaled.shape[1],)),\n",
    "])\n",
    "\n",
    "# Model compilation\n",
    "model.compile(optimizer='adam', loss='categorical_crossentropy', metrics=['accuracy'])\n",
    "\n",
    "# Model training\n",
    "history = model.fit(X_train_scaled, y_train_one_hot, epochs=200, batch_size=16, validation_data=(X_test_scaled, y_test_one_hot), verbose=2)\n",
    "\n",
    "# Prediction on testing set\n",
    "y_pred = model.predict(X_test_scaled)\n",
    "\n",
    "# Calculate the difference between predictions and true values\n",
    "diff = np.argmax(y_pred, axis=1) - np.argmax(y_test_one_hot, axis=1)\n",
    "\n",
    "# Display the loss function over epochs\n",
    "fig_loss = px.line(\n",
    "    x=np.arange(1, len(history.history['loss']) + 1),\n",
    "    y=history.history['loss'],\n",
    "    labels={'x': 'Epochs', 'y': 'Loss'},\n",
    "    title='Loss function over epochs'\n",
    ")\n",
    "fig_loss.show()\n",
    "\n",
    "# Display the difference between predictions and true values over time\n",
    "fig_diff = px.line(\n",
    "    x=np.arange(len(diff)),\n",
    "    y=diff,\n",
    "    labels={'x': 'Sample Index', 'y': 'Difference (Prediction - Real)'},\n",
    "    title='Difference between predictions and true values over time'\n",
    ")\n",
    "fig_diff.show()\n",
    "loss, accuracy = model.evaluate(X_test_scaled, y_test_one_hot)\n",
    "\n",
    "\n",
    "\n",
    "\n"
   ]
  },
  {
   "cell_type": "code",
   "execution_count": 85,
   "metadata": {},
   "outputs": [
    {
     "name": "stdout",
     "output_type": "stream",
     "text": [
      "Evaluation of the model on evaluation data (different from training and test data)\n"
     ]
    },
    {
     "name": "stderr",
     "output_type": "stream",
     "text": [
      "c:\\Users\\mathy\\AppData\\Local\\Programs\\Python\\Python310\\lib\\site-packages\\sklearn\\base.py:458: UserWarning:\n",
      "\n",
      "X has feature names, but StandardScaler was fitted without feature names\n",
      "\n",
      "c:\\Users\\mathy\\AppData\\Local\\Programs\\Python\\Python310\\lib\\site-packages\\sklearn\\base.py:458: UserWarning:\n",
      "\n",
      "X has feature names, but StandardScaler was fitted without feature names\n",
      "\n",
      "c:\\Users\\mathy\\AppData\\Local\\Programs\\Python\\Python310\\lib\\site-packages\\sklearn\\base.py:458: UserWarning:\n",
      "\n",
      "X has feature names, but StandardScaler was fitted without feature names\n",
      "\n",
      "c:\\Users\\mathy\\AppData\\Local\\Programs\\Python\\Python310\\lib\\site-packages\\sklearn\\base.py:458: UserWarning:\n",
      "\n",
      "X has feature names, but StandardScaler was fitted without feature names\n",
      "\n",
      "c:\\Users\\mathy\\AppData\\Local\\Programs\\Python\\Python310\\lib\\site-packages\\sklearn\\base.py:458: UserWarning:\n",
      "\n",
      "X has feature names, but StandardScaler was fitted without feature names\n",
      "\n",
      "c:\\Users\\mathy\\AppData\\Local\\Programs\\Python\\Python310\\lib\\site-packages\\sklearn\\base.py:458: UserWarning:\n",
      "\n",
      "X has feature names, but StandardScaler was fitted without feature names\n",
      "\n",
      "c:\\Users\\mathy\\AppData\\Local\\Programs\\Python\\Python310\\lib\\site-packages\\sklearn\\base.py:458: UserWarning:\n",
      "\n",
      "X has feature names, but StandardScaler was fitted without feature names\n",
      "\n",
      "c:\\Users\\mathy\\AppData\\Local\\Programs\\Python\\Python310\\lib\\site-packages\\sklearn\\base.py:458: UserWarning:\n",
      "\n",
      "X has feature names, but StandardScaler was fitted without feature names\n",
      "\n",
      "c:\\Users\\mathy\\AppData\\Local\\Programs\\Python\\Python310\\lib\\site-packages\\sklearn\\base.py:458: UserWarning:\n",
      "\n",
      "X has feature names, but StandardScaler was fitted without feature names\n",
      "\n",
      "c:\\Users\\mathy\\AppData\\Local\\Programs\\Python\\Python310\\lib\\site-packages\\sklearn\\base.py:458: UserWarning:\n",
      "\n",
      "X has feature names, but StandardScaler was fitted without feature names\n",
      "\n",
      "c:\\Users\\mathy\\AppData\\Local\\Programs\\Python\\Python310\\lib\\site-packages\\sklearn\\base.py:458: UserWarning:\n",
      "\n",
      "X has feature names, but StandardScaler was fitted without feature names\n",
      "\n",
      "c:\\Users\\mathy\\AppData\\Local\\Programs\\Python\\Python310\\lib\\site-packages\\sklearn\\base.py:458: UserWarning:\n",
      "\n",
      "X has feature names, but StandardScaler was fitted without feature names\n",
      "\n",
      "c:\\Users\\mathy\\AppData\\Local\\Programs\\Python\\Python310\\lib\\site-packages\\sklearn\\base.py:458: UserWarning:\n",
      "\n",
      "X has feature names, but StandardScaler was fitted without feature names\n",
      "\n",
      "c:\\Users\\mathy\\AppData\\Local\\Programs\\Python\\Python310\\lib\\site-packages\\sklearn\\base.py:458: UserWarning:\n",
      "\n",
      "X has feature names, but StandardScaler was fitted without feature names\n",
      "\n",
      "c:\\Users\\mathy\\AppData\\Local\\Programs\\Python\\Python310\\lib\\site-packages\\sklearn\\base.py:458: UserWarning:\n",
      "\n",
      "X has feature names, but StandardScaler was fitted without feature names\n",
      "\n",
      "c:\\Users\\mathy\\AppData\\Local\\Programs\\Python\\Python310\\lib\\site-packages\\sklearn\\base.py:458: UserWarning:\n",
      "\n",
      "X has feature names, but StandardScaler was fitted without feature names\n",
      "\n",
      "c:\\Users\\mathy\\AppData\\Local\\Programs\\Python\\Python310\\lib\\site-packages\\sklearn\\base.py:458: UserWarning:\n",
      "\n",
      "X has feature names, but StandardScaler was fitted without feature names\n",
      "\n",
      "c:\\Users\\mathy\\AppData\\Local\\Programs\\Python\\Python310\\lib\\site-packages\\sklearn\\base.py:458: UserWarning:\n",
      "\n",
      "X has feature names, but StandardScaler was fitted without feature names\n",
      "\n",
      "c:\\Users\\mathy\\AppData\\Local\\Programs\\Python\\Python310\\lib\\site-packages\\sklearn\\base.py:458: UserWarning:\n",
      "\n",
      "X has feature names, but StandardScaler was fitted without feature names\n",
      "\n",
      "c:\\Users\\mathy\\AppData\\Local\\Programs\\Python\\Python310\\lib\\site-packages\\sklearn\\base.py:458: UserWarning:\n",
      "\n",
      "X has feature names, but StandardScaler was fitted without feature names\n",
      "\n",
      "c:\\Users\\mathy\\AppData\\Local\\Programs\\Python\\Python310\\lib\\site-packages\\sklearn\\base.py:458: UserWarning:\n",
      "\n",
      "X has feature names, but StandardScaler was fitted without feature names\n",
      "\n",
      "c:\\Users\\mathy\\AppData\\Local\\Programs\\Python\\Python310\\lib\\site-packages\\sklearn\\base.py:458: UserWarning:\n",
      "\n",
      "X has feature names, but StandardScaler was fitted without feature names\n",
      "\n",
      "c:\\Users\\mathy\\AppData\\Local\\Programs\\Python\\Python310\\lib\\site-packages\\sklearn\\base.py:458: UserWarning:\n",
      "\n",
      "X has feature names, but StandardScaler was fitted without feature names\n",
      "\n",
      "c:\\Users\\mathy\\AppData\\Local\\Programs\\Python\\Python310\\lib\\site-packages\\sklearn\\base.py:458: UserWarning:\n",
      "\n",
      "X has feature names, but StandardScaler was fitted without feature names\n",
      "\n",
      "c:\\Users\\mathy\\AppData\\Local\\Programs\\Python\\Python310\\lib\\site-packages\\sklearn\\base.py:458: UserWarning:\n",
      "\n",
      "X has feature names, but StandardScaler was fitted without feature names\n",
      "\n",
      "c:\\Users\\mathy\\AppData\\Local\\Programs\\Python\\Python310\\lib\\site-packages\\sklearn\\base.py:458: UserWarning:\n",
      "\n",
      "X has feature names, but StandardScaler was fitted without feature names\n",
      "\n",
      "c:\\Users\\mathy\\AppData\\Local\\Programs\\Python\\Python310\\lib\\site-packages\\sklearn\\base.py:458: UserWarning:\n",
      "\n",
      "X has feature names, but StandardScaler was fitted without feature names\n",
      "\n",
      "c:\\Users\\mathy\\AppData\\Local\\Programs\\Python\\Python310\\lib\\site-packages\\sklearn\\base.py:458: UserWarning:\n",
      "\n",
      "X has feature names, but StandardScaler was fitted without feature names\n",
      "\n",
      "c:\\Users\\mathy\\AppData\\Local\\Programs\\Python\\Python310\\lib\\site-packages\\sklearn\\base.py:458: UserWarning:\n",
      "\n",
      "X has feature names, but StandardScaler was fitted without feature names\n",
      "\n",
      "c:\\Users\\mathy\\AppData\\Local\\Programs\\Python\\Python310\\lib\\site-packages\\sklearn\\base.py:458: UserWarning:\n",
      "\n",
      "X has feature names, but StandardScaler was fitted without feature names\n",
      "\n",
      "c:\\Users\\mathy\\AppData\\Local\\Programs\\Python\\Python310\\lib\\site-packages\\sklearn\\base.py:458: UserWarning:\n",
      "\n",
      "X has feature names, but StandardScaler was fitted without feature names\n",
      "\n",
      "c:\\Users\\mathy\\AppData\\Local\\Programs\\Python\\Python310\\lib\\site-packages\\sklearn\\base.py:458: UserWarning:\n",
      "\n",
      "X has feature names, but StandardScaler was fitted without feature names\n",
      "\n",
      "c:\\Users\\mathy\\AppData\\Local\\Programs\\Python\\Python310\\lib\\site-packages\\sklearn\\base.py:458: UserWarning:\n",
      "\n",
      "X has feature names, but StandardScaler was fitted without feature names\n",
      "\n",
      "c:\\Users\\mathy\\AppData\\Local\\Programs\\Python\\Python310\\lib\\site-packages\\sklearn\\base.py:458: UserWarning:\n",
      "\n",
      "X has feature names, but StandardScaler was fitted without feature names\n",
      "\n",
      "c:\\Users\\mathy\\AppData\\Local\\Programs\\Python\\Python310\\lib\\site-packages\\sklearn\\base.py:458: UserWarning:\n",
      "\n",
      "X has feature names, but StandardScaler was fitted without feature names\n",
      "\n",
      "c:\\Users\\mathy\\AppData\\Local\\Programs\\Python\\Python310\\lib\\site-packages\\sklearn\\base.py:458: UserWarning:\n",
      "\n",
      "X has feature names, but StandardScaler was fitted without feature names\n",
      "\n",
      "c:\\Users\\mathy\\AppData\\Local\\Programs\\Python\\Python310\\lib\\site-packages\\sklearn\\base.py:458: UserWarning:\n",
      "\n",
      "X has feature names, but StandardScaler was fitted without feature names\n",
      "\n",
      "c:\\Users\\mathy\\AppData\\Local\\Programs\\Python\\Python310\\lib\\site-packages\\sklearn\\base.py:458: UserWarning:\n",
      "\n",
      "X has feature names, but StandardScaler was fitted without feature names\n",
      "\n",
      "c:\\Users\\mathy\\AppData\\Local\\Programs\\Python\\Python310\\lib\\site-packages\\sklearn\\base.py:458: UserWarning:\n",
      "\n",
      "X has feature names, but StandardScaler was fitted without feature names\n",
      "\n",
      "c:\\Users\\mathy\\AppData\\Local\\Programs\\Python\\Python310\\lib\\site-packages\\sklearn\\base.py:458: UserWarning:\n",
      "\n",
      "X has feature names, but StandardScaler was fitted without feature names\n",
      "\n",
      "c:\\Users\\mathy\\AppData\\Local\\Programs\\Python\\Python310\\lib\\site-packages\\sklearn\\base.py:458: UserWarning:\n",
      "\n",
      "X has feature names, but StandardScaler was fitted without feature names\n",
      "\n",
      "c:\\Users\\mathy\\AppData\\Local\\Programs\\Python\\Python310\\lib\\site-packages\\sklearn\\base.py:458: UserWarning:\n",
      "\n",
      "X has feature names, but StandardScaler was fitted without feature names\n",
      "\n",
      "c:\\Users\\mathy\\AppData\\Local\\Programs\\Python\\Python310\\lib\\site-packages\\sklearn\\base.py:458: UserWarning:\n",
      "\n",
      "X has feature names, but StandardScaler was fitted without feature names\n",
      "\n",
      "c:\\Users\\mathy\\AppData\\Local\\Programs\\Python\\Python310\\lib\\site-packages\\sklearn\\base.py:458: UserWarning:\n",
      "\n",
      "X has feature names, but StandardScaler was fitted without feature names\n",
      "\n",
      "c:\\Users\\mathy\\AppData\\Local\\Programs\\Python\\Python310\\lib\\site-packages\\sklearn\\base.py:458: UserWarning:\n",
      "\n",
      "X has feature names, but StandardScaler was fitted without feature names\n",
      "\n",
      "c:\\Users\\mathy\\AppData\\Local\\Programs\\Python\\Python310\\lib\\site-packages\\sklearn\\base.py:458: UserWarning:\n",
      "\n",
      "X has feature names, but StandardScaler was fitted without feature names\n",
      "\n",
      "c:\\Users\\mathy\\AppData\\Local\\Programs\\Python\\Python310\\lib\\site-packages\\sklearn\\base.py:458: UserWarning:\n",
      "\n",
      "X has feature names, but StandardScaler was fitted without feature names\n",
      "\n",
      "c:\\Users\\mathy\\AppData\\Local\\Programs\\Python\\Python310\\lib\\site-packages\\sklearn\\base.py:458: UserWarning:\n",
      "\n",
      "X has feature names, but StandardScaler was fitted without feature names\n",
      "\n",
      "c:\\Users\\mathy\\AppData\\Local\\Programs\\Python\\Python310\\lib\\site-packages\\sklearn\\base.py:458: UserWarning:\n",
      "\n",
      "X has feature names, but StandardScaler was fitted without feature names\n",
      "\n",
      "c:\\Users\\mathy\\AppData\\Local\\Programs\\Python\\Python310\\lib\\site-packages\\sklearn\\base.py:458: UserWarning:\n",
      "\n",
      "X has feature names, but StandardScaler was fitted without feature names\n",
      "\n",
      "c:\\Users\\mathy\\AppData\\Local\\Programs\\Python\\Python310\\lib\\site-packages\\sklearn\\base.py:458: UserWarning:\n",
      "\n",
      "X has feature names, but StandardScaler was fitted without feature names\n",
      "\n",
      "c:\\Users\\mathy\\AppData\\Local\\Programs\\Python\\Python310\\lib\\site-packages\\sklearn\\base.py:458: UserWarning:\n",
      "\n",
      "X has feature names, but StandardScaler was fitted without feature names\n",
      "\n",
      "c:\\Users\\mathy\\AppData\\Local\\Programs\\Python\\Python310\\lib\\site-packages\\sklearn\\base.py:458: UserWarning:\n",
      "\n",
      "X has feature names, but StandardScaler was fitted without feature names\n",
      "\n",
      "c:\\Users\\mathy\\AppData\\Local\\Programs\\Python\\Python310\\lib\\site-packages\\sklearn\\base.py:458: UserWarning:\n",
      "\n",
      "X has feature names, but StandardScaler was fitted without feature names\n",
      "\n",
      "c:\\Users\\mathy\\AppData\\Local\\Programs\\Python\\Python310\\lib\\site-packages\\sklearn\\base.py:458: UserWarning:\n",
      "\n",
      "X has feature names, but StandardScaler was fitted without feature names\n",
      "\n",
      "c:\\Users\\mathy\\AppData\\Local\\Programs\\Python\\Python310\\lib\\site-packages\\sklearn\\base.py:458: UserWarning:\n",
      "\n",
      "X has feature names, but StandardScaler was fitted without feature names\n",
      "\n",
      "c:\\Users\\mathy\\AppData\\Local\\Programs\\Python\\Python310\\lib\\site-packages\\sklearn\\base.py:458: UserWarning:\n",
      "\n",
      "X has feature names, but StandardScaler was fitted without feature names\n",
      "\n",
      "c:\\Users\\mathy\\AppData\\Local\\Programs\\Python\\Python310\\lib\\site-packages\\sklearn\\base.py:458: UserWarning:\n",
      "\n",
      "X has feature names, but StandardScaler was fitted without feature names\n",
      "\n",
      "c:\\Users\\mathy\\AppData\\Local\\Programs\\Python\\Python310\\lib\\site-packages\\sklearn\\base.py:458: UserWarning:\n",
      "\n",
      "X has feature names, but StandardScaler was fitted without feature names\n",
      "\n",
      "c:\\Users\\mathy\\AppData\\Local\\Programs\\Python\\Python310\\lib\\site-packages\\sklearn\\base.py:458: UserWarning:\n",
      "\n",
      "X has feature names, but StandardScaler was fitted without feature names\n",
      "\n",
      "c:\\Users\\mathy\\AppData\\Local\\Programs\\Python\\Python310\\lib\\site-packages\\sklearn\\base.py:458: UserWarning:\n",
      "\n",
      "X has feature names, but StandardScaler was fitted without feature names\n",
      "\n",
      "c:\\Users\\mathy\\AppData\\Local\\Programs\\Python\\Python310\\lib\\site-packages\\sklearn\\base.py:458: UserWarning:\n",
      "\n",
      "X has feature names, but StandardScaler was fitted without feature names\n",
      "\n",
      "c:\\Users\\mathy\\AppData\\Local\\Programs\\Python\\Python310\\lib\\site-packages\\sklearn\\base.py:458: UserWarning:\n",
      "\n",
      "X has feature names, but StandardScaler was fitted without feature names\n",
      "\n",
      "c:\\Users\\mathy\\AppData\\Local\\Programs\\Python\\Python310\\lib\\site-packages\\sklearn\\base.py:458: UserWarning:\n",
      "\n",
      "X has feature names, but StandardScaler was fitted without feature names\n",
      "\n",
      "c:\\Users\\mathy\\AppData\\Local\\Programs\\Python\\Python310\\lib\\site-packages\\sklearn\\base.py:458: UserWarning:\n",
      "\n",
      "X has feature names, but StandardScaler was fitted without feature names\n",
      "\n",
      "c:\\Users\\mathy\\AppData\\Local\\Programs\\Python\\Python310\\lib\\site-packages\\sklearn\\base.py:458: UserWarning:\n",
      "\n",
      "X has feature names, but StandardScaler was fitted without feature names\n",
      "\n",
      "c:\\Users\\mathy\\AppData\\Local\\Programs\\Python\\Python310\\lib\\site-packages\\sklearn\\base.py:458: UserWarning:\n",
      "\n",
      "X has feature names, but StandardScaler was fitted without feature names\n",
      "\n",
      "c:\\Users\\mathy\\AppData\\Local\\Programs\\Python\\Python310\\lib\\site-packages\\sklearn\\base.py:458: UserWarning:\n",
      "\n",
      "X has feature names, but StandardScaler was fitted without feature names\n",
      "\n",
      "c:\\Users\\mathy\\AppData\\Local\\Programs\\Python\\Python310\\lib\\site-packages\\sklearn\\base.py:458: UserWarning:\n",
      "\n",
      "X has feature names, but StandardScaler was fitted without feature names\n",
      "\n",
      "c:\\Users\\mathy\\AppData\\Local\\Programs\\Python\\Python310\\lib\\site-packages\\sklearn\\base.py:458: UserWarning:\n",
      "\n",
      "X has feature names, but StandardScaler was fitted without feature names\n",
      "\n",
      "c:\\Users\\mathy\\AppData\\Local\\Programs\\Python\\Python310\\lib\\site-packages\\sklearn\\base.py:458: UserWarning:\n",
      "\n",
      "X has feature names, but StandardScaler was fitted without feature names\n",
      "\n",
      "c:\\Users\\mathy\\AppData\\Local\\Programs\\Python\\Python310\\lib\\site-packages\\sklearn\\base.py:458: UserWarning:\n",
      "\n",
      "X has feature names, but StandardScaler was fitted without feature names\n",
      "\n",
      "c:\\Users\\mathy\\AppData\\Local\\Programs\\Python\\Python310\\lib\\site-packages\\sklearn\\base.py:458: UserWarning:\n",
      "\n",
      "X has feature names, but StandardScaler was fitted without feature names\n",
      "\n",
      "c:\\Users\\mathy\\AppData\\Local\\Programs\\Python\\Python310\\lib\\site-packages\\sklearn\\base.py:458: UserWarning:\n",
      "\n",
      "X has feature names, but StandardScaler was fitted without feature names\n",
      "\n",
      "c:\\Users\\mathy\\AppData\\Local\\Programs\\Python\\Python310\\lib\\site-packages\\sklearn\\base.py:458: UserWarning:\n",
      "\n",
      "X has feature names, but StandardScaler was fitted without feature names\n",
      "\n",
      "c:\\Users\\mathy\\AppData\\Local\\Programs\\Python\\Python310\\lib\\site-packages\\sklearn\\base.py:458: UserWarning:\n",
      "\n",
      "X has feature names, but StandardScaler was fitted without feature names\n",
      "\n",
      "c:\\Users\\mathy\\AppData\\Local\\Programs\\Python\\Python310\\lib\\site-packages\\sklearn\\base.py:458: UserWarning:\n",
      "\n",
      "X has feature names, but StandardScaler was fitted without feature names\n",
      "\n",
      "c:\\Users\\mathy\\AppData\\Local\\Programs\\Python\\Python310\\lib\\site-packages\\sklearn\\base.py:458: UserWarning:\n",
      "\n",
      "X has feature names, but StandardScaler was fitted without feature names\n",
      "\n",
      "c:\\Users\\mathy\\AppData\\Local\\Programs\\Python\\Python310\\lib\\site-packages\\sklearn\\base.py:458: UserWarning:\n",
      "\n",
      "X has feature names, but StandardScaler was fitted without feature names\n",
      "\n",
      "c:\\Users\\mathy\\AppData\\Local\\Programs\\Python\\Python310\\lib\\site-packages\\sklearn\\base.py:458: UserWarning:\n",
      "\n",
      "X has feature names, but StandardScaler was fitted without feature names\n",
      "\n",
      "c:\\Users\\mathy\\AppData\\Local\\Programs\\Python\\Python310\\lib\\site-packages\\sklearn\\base.py:458: UserWarning:\n",
      "\n",
      "X has feature names, but StandardScaler was fitted without feature names\n",
      "\n",
      "c:\\Users\\mathy\\AppData\\Local\\Programs\\Python\\Python310\\lib\\site-packages\\sklearn\\base.py:458: UserWarning:\n",
      "\n",
      "X has feature names, but StandardScaler was fitted without feature names\n",
      "\n",
      "c:\\Users\\mathy\\AppData\\Local\\Programs\\Python\\Python310\\lib\\site-packages\\sklearn\\base.py:458: UserWarning:\n",
      "\n",
      "X has feature names, but StandardScaler was fitted without feature names\n",
      "\n",
      "c:\\Users\\mathy\\AppData\\Local\\Programs\\Python\\Python310\\lib\\site-packages\\sklearn\\base.py:458: UserWarning:\n",
      "\n",
      "X has feature names, but StandardScaler was fitted without feature names\n",
      "\n",
      "c:\\Users\\mathy\\AppData\\Local\\Programs\\Python\\Python310\\lib\\site-packages\\sklearn\\base.py:458: UserWarning:\n",
      "\n",
      "X has feature names, but StandardScaler was fitted without feature names\n",
      "\n",
      "c:\\Users\\mathy\\AppData\\Local\\Programs\\Python\\Python310\\lib\\site-packages\\sklearn\\base.py:458: UserWarning:\n",
      "\n",
      "X has feature names, but StandardScaler was fitted without feature names\n",
      "\n",
      "c:\\Users\\mathy\\AppData\\Local\\Programs\\Python\\Python310\\lib\\site-packages\\sklearn\\base.py:458: UserWarning:\n",
      "\n",
      "X has feature names, but StandardScaler was fitted without feature names\n",
      "\n",
      "c:\\Users\\mathy\\AppData\\Local\\Programs\\Python\\Python310\\lib\\site-packages\\sklearn\\base.py:458: UserWarning:\n",
      "\n",
      "X has feature names, but StandardScaler was fitted without feature names\n",
      "\n",
      "c:\\Users\\mathy\\AppData\\Local\\Programs\\Python\\Python310\\lib\\site-packages\\sklearn\\base.py:458: UserWarning:\n",
      "\n",
      "X has feature names, but StandardScaler was fitted without feature names\n",
      "\n",
      "c:\\Users\\mathy\\AppData\\Local\\Programs\\Python\\Python310\\lib\\site-packages\\sklearn\\base.py:458: UserWarning:\n",
      "\n",
      "X has feature names, but StandardScaler was fitted without feature names\n",
      "\n",
      "c:\\Users\\mathy\\AppData\\Local\\Programs\\Python\\Python310\\lib\\site-packages\\sklearn\\base.py:458: UserWarning:\n",
      "\n",
      "X has feature names, but StandardScaler was fitted without feature names\n",
      "\n",
      "c:\\Users\\mathy\\AppData\\Local\\Programs\\Python\\Python310\\lib\\site-packages\\sklearn\\base.py:458: UserWarning:\n",
      "\n",
      "X has feature names, but StandardScaler was fitted without feature names\n",
      "\n",
      "c:\\Users\\mathy\\AppData\\Local\\Programs\\Python\\Python310\\lib\\site-packages\\sklearn\\base.py:458: UserWarning:\n",
      "\n",
      "X has feature names, but StandardScaler was fitted without feature names\n",
      "\n",
      "c:\\Users\\mathy\\AppData\\Local\\Programs\\Python\\Python310\\lib\\site-packages\\sklearn\\base.py:458: UserWarning:\n",
      "\n",
      "X has feature names, but StandardScaler was fitted without feature names\n",
      "\n",
      "c:\\Users\\mathy\\AppData\\Local\\Programs\\Python\\Python310\\lib\\site-packages\\sklearn\\base.py:458: UserWarning:\n",
      "\n",
      "X has feature names, but StandardScaler was fitted without feature names\n",
      "\n",
      "c:\\Users\\mathy\\AppData\\Local\\Programs\\Python\\Python310\\lib\\site-packages\\sklearn\\base.py:458: UserWarning:\n",
      "\n",
      "X has feature names, but StandardScaler was fitted without feature names\n",
      "\n",
      "c:\\Users\\mathy\\AppData\\Local\\Programs\\Python\\Python310\\lib\\site-packages\\sklearn\\base.py:458: UserWarning:\n",
      "\n",
      "X has feature names, but StandardScaler was fitted without feature names\n",
      "\n",
      "c:\\Users\\mathy\\AppData\\Local\\Programs\\Python\\Python310\\lib\\site-packages\\sklearn\\base.py:458: UserWarning:\n",
      "\n",
      "X has feature names, but StandardScaler was fitted without feature names\n",
      "\n",
      "c:\\Users\\mathy\\AppData\\Local\\Programs\\Python\\Python310\\lib\\site-packages\\sklearn\\base.py:458: UserWarning:\n",
      "\n",
      "X has feature names, but StandardScaler was fitted without feature names\n",
      "\n",
      "c:\\Users\\mathy\\AppData\\Local\\Programs\\Python\\Python310\\lib\\site-packages\\sklearn\\base.py:458: UserWarning:\n",
      "\n",
      "X has feature names, but StandardScaler was fitted without feature names\n",
      "\n",
      "c:\\Users\\mathy\\AppData\\Local\\Programs\\Python\\Python310\\lib\\site-packages\\sklearn\\base.py:458: UserWarning:\n",
      "\n",
      "X has feature names, but StandardScaler was fitted without feature names\n",
      "\n",
      "c:\\Users\\mathy\\AppData\\Local\\Programs\\Python\\Python310\\lib\\site-packages\\sklearn\\base.py:458: UserWarning:\n",
      "\n",
      "X has feature names, but StandardScaler was fitted without feature names\n",
      "\n",
      "c:\\Users\\mathy\\AppData\\Local\\Programs\\Python\\Python310\\lib\\site-packages\\sklearn\\base.py:458: UserWarning:\n",
      "\n",
      "X has feature names, but StandardScaler was fitted without feature names\n",
      "\n",
      "c:\\Users\\mathy\\AppData\\Local\\Programs\\Python\\Python310\\lib\\site-packages\\sklearn\\base.py:458: UserWarning:\n",
      "\n",
      "X has feature names, but StandardScaler was fitted without feature names\n",
      "\n",
      "c:\\Users\\mathy\\AppData\\Local\\Programs\\Python\\Python310\\lib\\site-packages\\sklearn\\base.py:458: UserWarning:\n",
      "\n",
      "X has feature names, but StandardScaler was fitted without feature names\n",
      "\n",
      "c:\\Users\\mathy\\AppData\\Local\\Programs\\Python\\Python310\\lib\\site-packages\\sklearn\\base.py:458: UserWarning:\n",
      "\n",
      "X has feature names, but StandardScaler was fitted without feature names\n",
      "\n",
      "c:\\Users\\mathy\\AppData\\Local\\Programs\\Python\\Python310\\lib\\site-packages\\sklearn\\base.py:458: UserWarning:\n",
      "\n",
      "X has feature names, but StandardScaler was fitted without feature names\n",
      "\n",
      "c:\\Users\\mathy\\AppData\\Local\\Programs\\Python\\Python310\\lib\\site-packages\\sklearn\\base.py:458: UserWarning:\n",
      "\n",
      "X has feature names, but StandardScaler was fitted without feature names\n",
      "\n",
      "c:\\Users\\mathy\\AppData\\Local\\Programs\\Python\\Python310\\lib\\site-packages\\sklearn\\base.py:458: UserWarning:\n",
      "\n",
      "X has feature names, but StandardScaler was fitted without feature names\n",
      "\n",
      "c:\\Users\\mathy\\AppData\\Local\\Programs\\Python\\Python310\\lib\\site-packages\\sklearn\\base.py:458: UserWarning:\n",
      "\n",
      "X has feature names, but StandardScaler was fitted without feature names\n",
      "\n",
      "c:\\Users\\mathy\\AppData\\Local\\Programs\\Python\\Python310\\lib\\site-packages\\sklearn\\base.py:458: UserWarning:\n",
      "\n",
      "X has feature names, but StandardScaler was fitted without feature names\n",
      "\n",
      "c:\\Users\\mathy\\AppData\\Local\\Programs\\Python\\Python310\\lib\\site-packages\\sklearn\\base.py:458: UserWarning:\n",
      "\n",
      "X has feature names, but StandardScaler was fitted without feature names\n",
      "\n",
      "c:\\Users\\mathy\\AppData\\Local\\Programs\\Python\\Python310\\lib\\site-packages\\sklearn\\base.py:458: UserWarning:\n",
      "\n",
      "X has feature names, but StandardScaler was fitted without feature names\n",
      "\n",
      "c:\\Users\\mathy\\AppData\\Local\\Programs\\Python\\Python310\\lib\\site-packages\\sklearn\\base.py:458: UserWarning:\n",
      "\n",
      "X has feature names, but StandardScaler was fitted without feature names\n",
      "\n",
      "c:\\Users\\mathy\\AppData\\Local\\Programs\\Python\\Python310\\lib\\site-packages\\sklearn\\base.py:458: UserWarning:\n",
      "\n",
      "X has feature names, but StandardScaler was fitted without feature names\n",
      "\n",
      "c:\\Users\\mathy\\AppData\\Local\\Programs\\Python\\Python310\\lib\\site-packages\\sklearn\\base.py:458: UserWarning:\n",
      "\n",
      "X has feature names, but StandardScaler was fitted without feature names\n",
      "\n",
      "c:\\Users\\mathy\\AppData\\Local\\Programs\\Python\\Python310\\lib\\site-packages\\sklearn\\base.py:458: UserWarning:\n",
      "\n",
      "X has feature names, but StandardScaler was fitted without feature names\n",
      "\n",
      "c:\\Users\\mathy\\AppData\\Local\\Programs\\Python\\Python310\\lib\\site-packages\\sklearn\\base.py:458: UserWarning:\n",
      "\n",
      "X has feature names, but StandardScaler was fitted without feature names\n",
      "\n",
      "c:\\Users\\mathy\\AppData\\Local\\Programs\\Python\\Python310\\lib\\site-packages\\sklearn\\base.py:458: UserWarning:\n",
      "\n",
      "X has feature names, but StandardScaler was fitted without feature names\n",
      "\n",
      "c:\\Users\\mathy\\AppData\\Local\\Programs\\Python\\Python310\\lib\\site-packages\\sklearn\\base.py:458: UserWarning:\n",
      "\n",
      "X has feature names, but StandardScaler was fitted without feature names\n",
      "\n",
      "c:\\Users\\mathy\\AppData\\Local\\Programs\\Python\\Python310\\lib\\site-packages\\sklearn\\base.py:458: UserWarning:\n",
      "\n",
      "X has feature names, but StandardScaler was fitted without feature names\n",
      "\n",
      "c:\\Users\\mathy\\AppData\\Local\\Programs\\Python\\Python310\\lib\\site-packages\\sklearn\\base.py:458: UserWarning:\n",
      "\n",
      "X has feature names, but StandardScaler was fitted without feature names\n",
      "\n",
      "c:\\Users\\mathy\\AppData\\Local\\Programs\\Python\\Python310\\lib\\site-packages\\sklearn\\base.py:458: UserWarning:\n",
      "\n",
      "X has feature names, but StandardScaler was fitted without feature names\n",
      "\n",
      "c:\\Users\\mathy\\AppData\\Local\\Programs\\Python\\Python310\\lib\\site-packages\\sklearn\\base.py:458: UserWarning:\n",
      "\n",
      "X has feature names, but StandardScaler was fitted without feature names\n",
      "\n",
      "c:\\Users\\mathy\\AppData\\Local\\Programs\\Python\\Python310\\lib\\site-packages\\sklearn\\base.py:458: UserWarning:\n",
      "\n",
      "X has feature names, but StandardScaler was fitted without feature names\n",
      "\n",
      "c:\\Users\\mathy\\AppData\\Local\\Programs\\Python\\Python310\\lib\\site-packages\\sklearn\\base.py:458: UserWarning:\n",
      "\n",
      "X has feature names, but StandardScaler was fitted without feature names\n",
      "\n",
      "c:\\Users\\mathy\\AppData\\Local\\Programs\\Python\\Python310\\lib\\site-packages\\sklearn\\base.py:458: UserWarning:\n",
      "\n",
      "X has feature names, but StandardScaler was fitted without feature names\n",
      "\n",
      "c:\\Users\\mathy\\AppData\\Local\\Programs\\Python\\Python310\\lib\\site-packages\\sklearn\\base.py:458: UserWarning:\n",
      "\n",
      "X has feature names, but StandardScaler was fitted without feature names\n",
      "\n",
      "c:\\Users\\mathy\\AppData\\Local\\Programs\\Python\\Python310\\lib\\site-packages\\sklearn\\base.py:458: UserWarning:\n",
      "\n",
      "X has feature names, but StandardScaler was fitted without feature names\n",
      "\n",
      "c:\\Users\\mathy\\AppData\\Local\\Programs\\Python\\Python310\\lib\\site-packages\\sklearn\\base.py:458: UserWarning:\n",
      "\n",
      "X has feature names, but StandardScaler was fitted without feature names\n",
      "\n",
      "c:\\Users\\mathy\\AppData\\Local\\Programs\\Python\\Python310\\lib\\site-packages\\sklearn\\base.py:458: UserWarning:\n",
      "\n",
      "X has feature names, but StandardScaler was fitted without feature names\n",
      "\n",
      "c:\\Users\\mathy\\AppData\\Local\\Programs\\Python\\Python310\\lib\\site-packages\\sklearn\\base.py:458: UserWarning:\n",
      "\n",
      "X has feature names, but StandardScaler was fitted without feature names\n",
      "\n",
      "c:\\Users\\mathy\\AppData\\Local\\Programs\\Python\\Python310\\lib\\site-packages\\sklearn\\base.py:458: UserWarning:\n",
      "\n",
      "X has feature names, but StandardScaler was fitted without feature names\n",
      "\n",
      "c:\\Users\\mathy\\AppData\\Local\\Programs\\Python\\Python310\\lib\\site-packages\\sklearn\\base.py:458: UserWarning:\n",
      "\n",
      "X has feature names, but StandardScaler was fitted without feature names\n",
      "\n",
      "c:\\Users\\mathy\\AppData\\Local\\Programs\\Python\\Python310\\lib\\site-packages\\sklearn\\base.py:458: UserWarning:\n",
      "\n",
      "X has feature names, but StandardScaler was fitted without feature names\n",
      "\n",
      "c:\\Users\\mathy\\AppData\\Local\\Programs\\Python\\Python310\\lib\\site-packages\\sklearn\\base.py:458: UserWarning:\n",
      "\n",
      "X has feature names, but StandardScaler was fitted without feature names\n",
      "\n",
      "c:\\Users\\mathy\\AppData\\Local\\Programs\\Python\\Python310\\lib\\site-packages\\sklearn\\base.py:458: UserWarning:\n",
      "\n",
      "X has feature names, but StandardScaler was fitted without feature names\n",
      "\n",
      "c:\\Users\\mathy\\AppData\\Local\\Programs\\Python\\Python310\\lib\\site-packages\\sklearn\\base.py:458: UserWarning:\n",
      "\n",
      "X has feature names, but StandardScaler was fitted without feature names\n",
      "\n",
      "c:\\Users\\mathy\\AppData\\Local\\Programs\\Python\\Python310\\lib\\site-packages\\sklearn\\base.py:458: UserWarning:\n",
      "\n",
      "X has feature names, but StandardScaler was fitted without feature names\n",
      "\n",
      "c:\\Users\\mathy\\AppData\\Local\\Programs\\Python\\Python310\\lib\\site-packages\\sklearn\\base.py:458: UserWarning:\n",
      "\n",
      "X has feature names, but StandardScaler was fitted without feature names\n",
      "\n",
      "c:\\Users\\mathy\\AppData\\Local\\Programs\\Python\\Python310\\lib\\site-packages\\sklearn\\base.py:458: UserWarning:\n",
      "\n",
      "X has feature names, but StandardScaler was fitted without feature names\n",
      "\n",
      "c:\\Users\\mathy\\AppData\\Local\\Programs\\Python\\Python310\\lib\\site-packages\\sklearn\\base.py:458: UserWarning:\n",
      "\n",
      "X has feature names, but StandardScaler was fitted without feature names\n",
      "\n",
      "c:\\Users\\mathy\\AppData\\Local\\Programs\\Python\\Python310\\lib\\site-packages\\sklearn\\base.py:458: UserWarning:\n",
      "\n",
      "X has feature names, but StandardScaler was fitted without feature names\n",
      "\n",
      "c:\\Users\\mathy\\AppData\\Local\\Programs\\Python\\Python310\\lib\\site-packages\\sklearn\\base.py:458: UserWarning:\n",
      "\n",
      "X has feature names, but StandardScaler was fitted without feature names\n",
      "\n",
      "c:\\Users\\mathy\\AppData\\Local\\Programs\\Python\\Python310\\lib\\site-packages\\sklearn\\base.py:458: UserWarning:\n",
      "\n",
      "X has feature names, but StandardScaler was fitted without feature names\n",
      "\n",
      "c:\\Users\\mathy\\AppData\\Local\\Programs\\Python\\Python310\\lib\\site-packages\\sklearn\\base.py:458: UserWarning:\n",
      "\n",
      "X has feature names, but StandardScaler was fitted without feature names\n",
      "\n",
      "c:\\Users\\mathy\\AppData\\Local\\Programs\\Python\\Python310\\lib\\site-packages\\sklearn\\base.py:458: UserWarning:\n",
      "\n",
      "X has feature names, but StandardScaler was fitted without feature names\n",
      "\n",
      "c:\\Users\\mathy\\AppData\\Local\\Programs\\Python\\Python310\\lib\\site-packages\\sklearn\\base.py:458: UserWarning:\n",
      "\n",
      "X has feature names, but StandardScaler was fitted without feature names\n",
      "\n",
      "c:\\Users\\mathy\\AppData\\Local\\Programs\\Python\\Python310\\lib\\site-packages\\sklearn\\base.py:458: UserWarning:\n",
      "\n",
      "X has feature names, but StandardScaler was fitted without feature names\n",
      "\n"
     ]
    },
    {
     "name": "stdout",
     "output_type": "stream",
     "text": [
      "The accuracy rate is : 88.59060402684564% with 132 correct results out of 149 tests conducted.\n"
     ]
    }
   ],
   "source": [
    "def test_model(car,bike,bus,truck,total,day,hour,minute,am_pm,date):\n",
    "    manual_test_data = pd.DataFrame({\n",
    "    \"CarCount\": [car],\n",
    "    \"BikeCount\": [bike],\n",
    "    \"BusCount\": [bus],\n",
    "    \"TruckCount\": [truck],\n",
    "    \"Total\": [total],\n",
    "    \"Day of the week_encoded\": [day],  \n",
    "    \"Hour\": [hour],\n",
    "    \"Minute\": [minute],\n",
    "    \"AM_PM\": [am_pm],  \n",
    "    \"Date\": [date]   \n",
    "    })\n",
    "\n",
    "    manual_test_data_scaled = scaler.transform(manual_test_data)\n",
    "\n",
    "    predictions_manual = model.predict(manual_test_data_scaled,verbose=0)\n",
    "    if np.argmax(predictions_manual,axis=1)[0] == 0:\n",
    "        return(\"heavy\")\n",
    "    elif np.argmax(predictions_manual,axis=1)[0] == 1:\n",
    "        return(\"high\")\n",
    "    elif np.argmax(predictions_manual,axis=1)[0] == 2:\n",
    "        return(\"low\")\n",
    "    elif np.argmax(predictions_manual,axis=1)[0] == 3:\n",
    "        return(\"normal\")   \n",
    "\n",
    "cpt = 0\n",
    "correct = 0\n",
    "print(\"Evaluation of the model on evaluation data (different from training and test data)\")\n",
    "\n",
    "for index, row in eval_data.iterrows():\n",
    "    real = row[\"Traffic Situation\"]\n",
    "    theo = test_model(row[\"CarCount\"],row[\"BikeCount\"],row[\"BusCount\"],row[\"TruckCount\"],\n",
    "                      row[\"Total\"],row[\"Day of the week_encoded\"],row[\"Hour\"],row[\"Minute\"],row[\"AM_PM\"],\n",
    "                      row[\"Date\"])\n",
    "    if real == theo:\n",
    "        correct+=1\n",
    "    cpt+=1\n",
    "    pourcentage = correct/cpt*100\n",
    "print(f\"The accuracy rate is : {pourcentage}% with {correct} correct results out of {cpt} tests conducted.\")"
   ]
  }
 ],
 "metadata": {
  "kernelspec": {
   "display_name": "Python 3",
   "language": "python",
   "name": "python3"
  },
  "language_info": {
   "codemirror_mode": {
    "name": "ipython",
    "version": 3
   },
   "file_extension": ".py",
   "mimetype": "text/x-python",
   "name": "python",
   "nbconvert_exporter": "python",
   "pygments_lexer": "ipython3",
   "version": "3.10.9"
  }
 },
 "nbformat": 4,
 "nbformat_minor": 2
}
