{
 "cells": [
  {
   "cell_type": "markdown",
   "metadata": {},
   "source": [
    "### Open and devide the csvfile for training, evaluation and testing"
   ]
  },
  {
   "cell_type": "markdown",
   "metadata": {},
   "source": [
    "Imports"
   ]
  },
  {
   "cell_type": "code",
   "execution_count": 5,
   "metadata": {},
   "outputs": [],
   "source": [
    "import pandas as pd\n"
   ]
  },
  {
   "cell_type": "code",
   "execution_count": 6,
   "metadata": {},
   "outputs": [],
   "source": [
    "filepath = \"sources/Traffic.csv\"\n",
    "data = pd.read_csv(filepath)\n",
    "df_random = data.sample(frac=1).reset_index(drop=True)"
   ]
  },
  {
   "cell_type": "markdown",
   "metadata": {},
   "source": [
    "Division en trois parties et créations des fichiers csv"
   ]
  },
  {
   "cell_type": "code",
   "execution_count": 7,
   "metadata": {},
   "outputs": [
    {
     "name": "stdout",
     "output_type": "stream",
     "text": [
      "             Time  Date Day of the week  CarCount  BikeCount  BusCount  \\\n",
      "0      9:45:00 AM    17         Tuesday        92         19        15   \n",
      "1     11:15:00 PM    27          Friday        19          4         0   \n",
      "2      7:45:00 PM    14        Saturday        56          7        12   \n",
      "3      6:30:00 AM    16          Monday       118         40        40   \n",
      "4      1:15:00 AM    27          Friday        15          5         0   \n",
      "...           ...   ...             ...       ...        ...       ...   \n",
      "2375   6:15:00 PM    31         Tuesday       124         30        44   \n",
      "2376   1:30:00 PM    12        Thursday        14         21         7   \n",
      "2377   2:30:00 AM     8       Wednesday        19          0         1   \n",
      "2378  12:15:00 AM    31         Tuesday        19          3         0   \n",
      "2379   6:45:00 AM    30          Monday       125         11        24   \n",
      "\n",
      "      TruckCount  Total Traffic Situation  \n",
      "0              7    133            normal  \n",
      "1             12     35               low  \n",
      "2             12     87               low  \n",
      "3              3    201             heavy  \n",
      "4             27     47            normal  \n",
      "...          ...    ...               ...  \n",
      "2375          10    208             heavy  \n",
      "2376          18     60            normal  \n",
      "2377          13     33            normal  \n",
      "2378          18     40            normal  \n",
      "2379           0    160            normal  \n",
      "\n",
      "[2380 rows x 9 columns]\n",
      "             Time  Date Day of the week  CarCount  BikeCount  BusCount  \\\n",
      "2381  11:30:00 PM    30          Monday        19          0         0   \n",
      "2382   6:30:00 AM    19        Thursday       145         13        33   \n",
      "2383   3:45:00 PM    23          Monday        66         12        27   \n",
      "2384   7:45:00 AM    27          Friday        50         19         4   \n",
      "2385  10:45:00 PM     5          Sunday        10          0         1   \n",
      "...           ...   ...             ...       ...        ...       ...   \n",
      "2822   6:15:00 PM    20          Friday        62         20        17   \n",
      "2823   8:00:00 PM    31         Tuesday       100         18        16   \n",
      "2824   9:15:00 AM    10         Tuesday        77         16        39   \n",
      "2825   7:15:00 AM    31         Tuesday       109         25        24   \n",
      "2826   7:00:00 PM    30          Monday       104          5        16   \n",
      "\n",
      "      TruckCount  Total Traffic Situation  \n",
      "2381          37     56            normal  \n",
      "2382           3    194             heavy  \n",
      "2383           6    111            normal  \n",
      "2384          10     83               low  \n",
      "2385          34     45            normal  \n",
      "...          ...    ...               ...  \n",
      "2822           0     99            normal  \n",
      "2823          34    168             heavy  \n",
      "2824          29    161              high  \n",
      "2825           0    158            normal  \n",
      "2826          16    141            normal  \n",
      "\n",
      "[446 rows x 9 columns]\n",
      "             Time  Date Day of the week  CarCount  BikeCount  BusCount  \\\n",
      "2828  11:00:00 AM    19        Thursday        64          9        14   \n",
      "2829   8:00:00 PM    12        Thursday        62         12        11   \n",
      "2830   6:15:00 AM    17         Tuesday       105         32        47   \n",
      "2831   4:15:00 PM    22        Saturday       149         14        50   \n",
      "2832   9:00:00 AM    16          Monday       117         11        45   \n",
      "...           ...   ...             ...       ...        ...       ...   \n",
      "2971  11:45:00 PM    18       Wednesday        14          1         1   \n",
      "2972   1:15:00 PM    10         Tuesday        79         15        36   \n",
      "2973   2:00:00 AM    23          Monday        11          1         0   \n",
      "2974  10:00:00 PM    20          Friday        19          1         0   \n",
      "2975   4:15:00 PM    10         Tuesday       120         25        28   \n",
      "\n",
      "      TruckCount  Total Traffic Situation  \n",
      "2828          20    107            normal  \n",
      "2829          18    103            normal  \n",
      "2830           4    188             heavy  \n",
      "2831           5    218             heavy  \n",
      "2832           0    173             heavy  \n",
      "...          ...    ...               ...  \n",
      "2971          27     43            normal  \n",
      "2972          18    148              high  \n",
      "2973          22     34            normal  \n",
      "2974          11     31               low  \n",
      "2975           5    178             heavy  \n",
      "\n",
      "[148 rows x 9 columns]\n"
     ]
    }
   ],
   "source": [
    "training_df = df_random.iloc[:2380]\n",
    "evaluated_df = df_random.iloc[2381:2827]\n",
    "test_df = df_random.iloc[2828:]\n",
    "print(training_df)\n",
    "print(evaluated_df)\n",
    "print(test_df)\n",
    "\n",
    "training_df.to_csv(\"sources/traffic_training_data.csv\")\n",
    "evaluated_df.to_csv(\"sources/traffic_evaluated_data.csv\")\n",
    "test_df.to_csv(\"sources/trafic_test_data.csv\")\n",
    "        "
   ]
  }
 ],
 "metadata": {
  "kernelspec": {
   "display_name": "Python 3",
   "language": "python",
   "name": "python3"
  },
  "language_info": {
   "codemirror_mode": {
    "name": "ipython",
    "version": 3
   },
   "file_extension": ".py",
   "mimetype": "text/x-python",
   "name": "python",
   "nbconvert_exporter": "python",
   "pygments_lexer": "ipython3",
   "version": "3.10.9"
  }
 },
 "nbformat": 4,
 "nbformat_minor": 2
}
