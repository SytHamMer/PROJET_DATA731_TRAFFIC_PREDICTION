{
 "cells": [
  {
   "cell_type": "markdown",
   "metadata": {},
   "source": [
    "### Open and devide the csvfile for training, evaluation and testing"
   ]
  },
  {
   "cell_type": "markdown",
   "metadata": {},
   "source": [
    "Imports"
   ]
  },
  {
   "cell_type": "code",
   "execution_count": 8,
   "metadata": {},
   "outputs": [],
   "source": [
    "import pandas as pd\n"
   ]
  },
  {
   "cell_type": "code",
   "execution_count": 11,
   "metadata": {},
   "outputs": [],
   "source": [
    "filepath = \"sources/hair_loss.csv\"\n",
    "data = pd.read_csv(filepath)\n"
   ]
  },
  {
   "cell_type": "markdown",
   "metadata": {},
   "source": [
    "Division en trois parties et créations des fichiers csv"
   ]
  },
  {
   "cell_type": "code",
   "execution_count": 13,
   "metadata": {},
   "outputs": [
    {
     "name": "stdout",
     "output_type": "stream",
     "text": [
      "       total_protein  total_keratine  hair_texture  vitamin  manganese  iron  \\\n",
      "0                312             100            14      249         87    55   \n",
      "1                 52             207             3      425        387     1   \n",
      "2                170             197            11      140        199    91   \n",
      "3                256             334            19      358        120     3   \n",
      "4                309             185            58      207        329   301   \n",
      "...              ...             ...           ...      ...        ...   ...   \n",
      "79995             80             445            42      178        435   418   \n",
      "79996            295             324            52       72        130    59   \n",
      "79997            264             395            20      209        413    39   \n",
      "79998            263             156            50      297        486   460   \n",
      "79999            100             335            22       32        307   405   \n",
      "\n",
      "       calcium  body_water_content  stress_level  liver_data  hair_fall  \n",
      "0          333                  44            41         368          4  \n",
      "1          182                  26            65          41          1  \n",
      "2          414                  30            54          90          4  \n",
      "3           35                  48            45          65          2  \n",
      "4          345                  23            90         346          4  \n",
      "...        ...                 ...           ...         ...        ...  \n",
      "79995      364                  16             6         109          4  \n",
      "79996      183                  20            92         419          3  \n",
      "79997      393                  13            43         394          4  \n",
      "79998      264                  31             3         491          5  \n",
      "79999      494                  64            62         196          1  \n",
      "\n",
      "[80000 rows x 11 columns]\n",
      "       total_protein  total_keratine  hair_texture  vitamin  manganese  iron  \\\n",
      "80001            109             351            33      191        343   211   \n",
      "80002            151             332             2      178        352   435   \n",
      "80003            157             261             1      415        112   143   \n",
      "80004            136             205            65       22        263    65   \n",
      "80005            190             425            75      162        363    56   \n",
      "...              ...             ...           ...      ...        ...   ...   \n",
      "94995            439              69            29      389        333   422   \n",
      "94996             77             130            54      339        482   216   \n",
      "94997             96              77            85      446        202   185   \n",
      "94998            257             496            56      136        245    26   \n",
      "94999            283             424            20      109        364   183   \n",
      "\n",
      "       calcium  body_water_content  stress_level  liver_data  hair_fall  \n",
      "80001      255                  81            52         316          5  \n",
      "80002      199                  36            27         462          1  \n",
      "80003      343                  22            21         302          3  \n",
      "80004      191                  46            80         438          3  \n",
      "80005      103                  73            65         421          4  \n",
      "...        ...                 ...           ...         ...        ...  \n",
      "94995       24                  27             3         157          3  \n",
      "94996      319                   5            31         365          1  \n",
      "94997      369                  57            80         462          4  \n",
      "94998      250                  79            70         108          2  \n",
      "94999       21                  19            22         398          5  \n",
      "\n",
      "[14999 rows x 11 columns]\n",
      "       total_protein  total_keratine  hair_texture  vitamin  manganese  iron  \\\n",
      "95001            427              98            87       70        441   328   \n",
      "95002            291             452            45      133        383   234   \n",
      "95003            363             423            81       75        295   463   \n",
      "95004            258             112            58      321         42   371   \n",
      "95005             74             426            98      495        224   248   \n",
      "...              ...             ...           ...      ...        ...   ...   \n",
      "99995            440              20            63      209        473   260   \n",
      "99996            311             233            37      352        194   159   \n",
      "99997             27             210            10      185        376   278   \n",
      "99998            450              18            35      250        287   157   \n",
      "99999            464             487            15      440        110   164   \n",
      "\n",
      "       calcium  body_water_content  stress_level  liver_data  hair_fall  \n",
      "95001      343                  97            51         129          1  \n",
      "95002      167                  21            95         266          1  \n",
      "95003      254                  74            52         442          5  \n",
      "95004      162                  77            76          91          0  \n",
      "95005      163                  47            13         442          5  \n",
      "...        ...                 ...           ...         ...        ...  \n",
      "99995       12                  86             7         281          5  \n",
      "99996      391                  57            76          30          5  \n",
      "99997       96                  40            49         110          3  \n",
      "99998       81                  31             2         156          1  \n",
      "99999      356                  33            93          12          0  \n",
      "\n",
      "[4999 rows x 11 columns]\n"
     ]
    }
   ],
   "source": [
    "training_df = data.iloc[:80000]\n",
    "evaluated_df = data.iloc[80001:95000]\n",
    "test_df = data.iloc[95001:]\n",
    "print(training_df)\n",
    "print(evaluated_df)\n",
    "print(test_df)\n",
    "\n",
    "training_df.to_csv(\"sources/training_data.csv\")\n",
    "evaluated_df.to_csv(\"sources/evaluated_data.csv\")\n",
    "test_df.to_csv(\"sources/test_data.csv\")\n",
    "        "
   ]
  }
 ],
 "metadata": {
  "kernelspec": {
   "display_name": "Python 3",
   "language": "python",
   "name": "python3"
  },
  "language_info": {
   "codemirror_mode": {
    "name": "ipython",
    "version": 3
   },
   "file_extension": ".py",
   "mimetype": "text/x-python",
   "name": "python",
   "nbconvert_exporter": "python",
   "pygments_lexer": "ipython3",
   "version": "3.10.9"
  }
 },
 "nbformat": 4,
 "nbformat_minor": 2
}
