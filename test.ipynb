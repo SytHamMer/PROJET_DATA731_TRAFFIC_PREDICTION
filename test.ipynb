{
 "cells": [
  {
   "cell_type": "code",
   "execution_count": 2,
   "metadata": {},
   "outputs": [],
   "source": [
    "import pandas as pd"
   ]
  },
  {
   "cell_type": "code",
   "execution_count": 17,
   "metadata": {},
   "outputs": [
    {
     "name": "stdout",
     "output_type": "stream",
     "text": [
      "La corrélation entre la perte de cheveux et total_protein est de 0.003005472493930598\n",
      "La corrélation entre la perte de cheveux et total_keratine est de -0.0034948358807555956\n",
      "La corrélation entre la perte de cheveux et hair_texture est de 1.8873739125993303e-05\n",
      "La corrélation entre la perte de cheveux et vitamin est de -0.004322765821902844\n",
      "La corrélation entre la perte de cheveux et manganese est de -0.004653850635224024\n",
      "La corrélation entre la perte de cheveux et iron est de -0.0021646656474243495\n",
      "La corrélation entre la perte de cheveux et calcium est de 0.0036812303511468657\n",
      "La corrélation entre la perte de cheveux et body_water_content est de -0.005724577987707094\n",
      "La corrélation entre la perte de cheveux et stress_level est de 0.005753464216884933\n",
      "La corrélation entre la perte de cheveux et liver_data est de -0.0032221741736835926\n",
      "La corrélation entre la perte de cheveux et hair_fall est de            hair_fall  hair_fall\n",
      "hair_fall        1.0        1.0\n",
      "hair_fall        1.0        1.0\n"
     ]
    }
   ],
   "source": [
    "df = pd.read_csv(\"sources/training_data.csv\")\n",
    "\n",
    "\n",
    "for column in df.columns:\n",
    "\n",
    "    if column != \"Unnamed: 0\":\n",
    "        new_df = df[[column,\"hair_fall\"]]\n",
    "        value = new_df.corr(\"pearson\").loc[column,'hair_fall']\n",
    "        print(f\"La corrélation entre la perte de cheveux et {column} est de {value}\")\n",
    "\n",
    "    \n",
    "    "
   ]
  }
 ],
 "metadata": {
  "kernelspec": {
   "display_name": "Python 3",
   "language": "python",
   "name": "python3"
  },
  "language_info": {
   "codemirror_mode": {
    "name": "ipython",
    "version": 3
   },
   "file_extension": ".py",
   "mimetype": "text/x-python",
   "name": "python",
   "nbconvert_exporter": "python",
   "pygments_lexer": "ipython3",
   "version": "3.10.9"
  }
 },
 "nbformat": 4,
 "nbformat_minor": 2
}
